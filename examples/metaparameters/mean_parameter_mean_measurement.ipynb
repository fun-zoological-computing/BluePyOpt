{
 "cells": [
  {
   "cell_type": "code",
   "execution_count": 1,
   "metadata": {},
   "outputs": [
    {
     "name": "stderr",
     "output_type": "stream",
     "text": [
      "/home/user/anaconda3/lib/python3.7/site-packages/airspeed/__init__.py:505: FutureWarning: Possible nested set at position 8\n",
      "  KEYVALSEP = re.compile(r'[ \\t]*:[[ \\t]*(.*)$', re.S)\n"
     ]
    }
   ],
   "source": [
    "\n",
    "import bluepyopt as bpop\n",
    "import bluepyopt.ephys as ephys\n",
    "import pickle\n",
    "from sciunit.scores import ZScore\n",
    "from sciunit import TestSuite\n",
    "from sciunit.scores.collections import ScoreArray\n",
    "import sciunit\n",
    "import numpy as np\n",
    "from neuronunit.optimisation.optimization_management import dtc_to_rheo, switch_logic,active_values\n",
    "from neuronunit.tests.base import AMPL, DELAY, DURATION\n",
    "\n",
    "import quantities as pq\n",
    "PASSIVE_DURATION = 500.0*pq.ms\n",
    "PASSIVE_DELAY = 200.0*pq.ms\n",
    "import matplotlib.pyplot as plt\n",
    "from bluepyopt.ephys.models import ReducedCellModel\n",
    "import numpy\n",
    "from neuronunit.optimisation.optimization_management import test_all_objective_test\n",
    "from neuronunit.optimisation.optimization_management import check_binary_match, three_step_protocol,inject_and_plot_passive_model\n",
    "from neuronunit.optimisation.model_parameters import MODEL_PARAMS\n",
    "from neuronunit.optimisation.data_transport_container import DataTC\n",
    "dtc = DataTC()\n",
    "\n",
    "import numpy as np\n",
    "\n",
    "import copy \n",
    "from collections import OrderedDict\n",
    "import numpy as np\n",
    "import matplotlib.pyplot as plt\n",
    "from collections import Iterable\n",
    "\n",
    "from sciunit.scores import ZScore\n",
    "tests = pickle.load(open(\"processed_multicellular_constraints.p\",\"rb\"))\n",
    "nu_tests = tests['Hippocampus CA1 pyramidal cell'].tests\n",
    "nu_tests[0].score_type = ZScore"
   ]
  },
  {
   "cell_type": "markdown",
   "metadata": {
    "lines_to_next_cell": 0
   },
   "source": [
    "# Create Two Random points in hypervolume.\n",
    "Make sure points are sufficiently far apart\n",
    "Instance two models with those parameters.\n",
    "\n",
    "The function `test_all_objective_test` makes random models, and tests whose observations where measurements that are taken from these random models\n",
    "\n",
    "`dist` = distance"
   ]
  },
  {
   "cell_type": "code",
   "execution_count": 2,
   "metadata": {},
   "outputs": [],
   "source": [
    "model = \"IZHI\""
   ]
  },
  {
   "cell_type": "code",
   "execution_count": 3,
   "metadata": {
    "lines_to_next_cell": 2
   },
   "outputs": [],
   "source": [
    "\n",
    "%%capture\n",
    "dist = 0\n",
    "while dist<110:\n",
    "    nu_tests0, OM, target0 = test_all_objective_test(MODEL_PARAMS[model],\n",
    "                                                   model_type=model,\n",
    "                                                   protocol={'allen':False,'elephant':True})\n",
    "\n",
    "\n",
    "\n",
    "\n",
    "\n",
    "\n",
    "    nu_tests1, OM, target1 = test_all_objective_test(MODEL_PARAMS[model]\n",
    "                                                   ,model_type=model,\n",
    "                                                   protocol={'allen':False,'elephant':True})\n",
    "\n",
    "    #target0.attrs.pop('dt',None)\n",
    "    #target0.attrs.pop('Iext',None)\n",
    "    #target1.attrs.pop('dt',None)\n",
    "    #target1.attrs.pop('Iext',None)\n",
    "\n",
    "    a = np.array(list(target0.attrs.values()))\n",
    "    b = np.array(list(target1.attrs.values()))\n",
    "    dist = numpy.linalg.norm(a-b)\n",
    "    print(a,b)\n",
    "    #if type(dist) is type(Iterable):\n",
    "    try:\n",
    "        dist = dist[0]\n",
    "    except:\n",
    "        pass\n",
    "    print(dist,'dist \\n\\n\\n')"
   ]
  },
  {
   "cell_type": "markdown",
   "metadata": {},
   "source": [
    "Build point cloud \"constellations\" these are two cell model populations focused on either one of each of the two random points."
   ]
  },
  {
   "cell_type": "code",
   "execution_count": 4,
   "metadata": {
    "lines_to_next_cell": 2
   },
   "outputs": [
    {
     "data": {
      "text/plain": [
       "'\\n%%capture\\ndef random_p(backend,target):\\n    ranges = MODEL_PARAMS[backend]\\n    import numpy, time\\n    date_int = int(time.time())\\n    numpy.random.seed(date_int)\\n\\n    random_param1 = {} # randomly sample a point in the viable parameter space.\\n    for k in ranges.keys():\\n        mean = target.attrs[k]\\n        var = np.var(ranges[k])\\n        std = np.sqrt(var)\\n        sample = numpy.random.normal(loc=mean, scale=std/10, size=1)[0]\\n        random_param1[k] = sample\\n    return random_param1\\npopa = []\\npopb = []\\nbackend=\"IZHI\"\\nfor i in range(0,14):\\n    aa = random_p(backend,target0)\\n    dtc = DataTC(backend=backend)\\n    dtc.attrs = aa\\n    dtc.tests = nu_tests0\\n    dtc.self_evaluate()\\n    popa.append(dtc)\\n    \\n    \\n    bb = random_p(backend,target1)\\n    dtc = DataTC(backend=backend)\\n    dtc.attrs = bb\\n    dtc.tests = nu_tests0\\n    dtc.self_evaluate()\\n    popb.append(dtc)\\n    \\nall_neurons = popa \\nall_neurons.extend(popb)\\n'"
      ]
     },
     "execution_count": 4,
     "metadata": {},
     "output_type": "execute_result"
    }
   ],
   "source": []
  },
  {
   "cell_type": "markdown",
   "metadata": {},
   "source": [
    "# optionally confirm things \n",
    "are as you would expect"
   ]
  },
  {
   "cell_type": "code",
   "execution_count": 5,
   "metadata": {
    "lines_to_end_of_cell_marker": 2
   },
   "outputs": [],
   "source": [
    "target1.attrs;"
   ]
  },
  {
   "cell_type": "code",
   "execution_count": 6,
   "metadata": {},
   "outputs": [
    {
     "data": {
      "text/plain": [
       "'\\nmean_parametersb = {}\\nfor k,v in dtc.attrs.items():\\n    mean_parametersb[k] = np.mean([n.attrs[k] for n in popb])\\nmean_parametersb;\\n'"
      ]
     },
     "execution_count": 6,
     "metadata": {},
     "output_type": "execute_result"
    }
   ],
   "source": []
  },
  {
   "cell_type": "code",
   "execution_count": 7,
   "metadata": {
    "lines_to_next_cell": 2
   },
   "outputs": [],
   "source": [
    "target0.attrs;"
   ]
  },
  {
   "cell_type": "code",
   "execution_count": 8,
   "metadata": {},
   "outputs": [
    {
     "data": {
      "text/plain": [
       "'\\nmean_parametersa = {}\\n\\nfor k,v in dtc.attrs.items():\\n    mean_parametersa[k] = np.mean([n.attrs[k] for n in popa])\\nmean_parametersa;\\n'"
      ]
     },
     "execution_count": 8,
     "metadata": {},
     "output_type": "execute_result"
    }
   ],
   "source": []
  },
  {
   "cell_type": "code",
   "execution_count": 9,
   "metadata": {},
   "outputs": [
    {
     "data": {
      "text/plain": [
       "\"\\nmean_measurements = {}\\nmean_parameters = {}\\ncontainers = {}\\nfor i,tt in enumerate(dtc.tests):\\n    containers[tt.name] = []\\n    for dtc_local in all_neurons:\\n        try:\\n            containers[tt.name].append(dtc_local.tests[i].prediction['value'])\\n        except:\\n            containers[tt.name].append(dtc_local.tests[i].prediction['mean'])\\n    mean_measurements[tt.name] = np.mean(containers[tt.name])\\n    \\n    \\nfor k,v in dtc.attrs.items():\\n    mean_parameters[k] = np.mean([n.attrs[k] for n in all_neurons])\\n    \\nmean_parameters;\\n\""
      ]
     },
     "execution_count": 9,
     "metadata": {},
     "output_type": "execute_result"
    }
   ],
   "source": []
  },
  {
   "cell_type": "code",
   "execution_count": 10,
   "metadata": {
    "lines_to_next_cell": 2
   },
   "outputs": [],
   "source": [
    "#mean_measurements;"
   ]
  },
  {
   "cell_type": "code",
   "execution_count": 11,
   "metadata": {},
   "outputs": [
    {
     "data": {
      "text/plain": [
       "\"\\n#mean_model = dtc\\nmean_model = DataTC(backend=model)\\n#mean_model.attrs = mean_a_dict\\n\\nmean_model.attrs = mean_parameters\\nprint(mean_model)\\nmean_model.tests = nu_tests0\\nmean_model.self_evaluate()\\nstore_mean_model_tests = {}\\nfor t in mean_model.tests:\\n    try:\\n        print(t.name,t.prediction['mean'])\\n        store_mean_model_tests[t.name] = t.prediction['mean']\\n    except:\\n        print(t.name,t.prediction['value'])\\n        store_mean_model_tests[t.name] = t.prediction['value']\\nstore_mean_model_tests\\n\""
      ]
     },
     "execution_count": 11,
     "metadata": {},
     "output_type": "execute_result"
    }
   ],
   "source": []
  },
  {
   "cell_type": "code",
   "execution_count": 12,
   "metadata": {
    "lines_to_next_cell": 0
   },
   "outputs": [
    {
     "data": {
      "text/html": [
       "<div>\n",
       "<style scoped>\n",
       "    .dataframe tbody tr th:only-of-type {\n",
       "        vertical-align: middle;\n",
       "    }\n",
       "\n",
       "    .dataframe tbody tr th {\n",
       "        vertical-align: top;\n",
       "    }\n",
       "\n",
       "    .dataframe thead th {\n",
       "        text-align: right;\n",
       "    }\n",
       "</style>\n",
       "<table border=\"1\" class=\"dataframe\">\n",
       "  <thead>\n",
       "    <tr style=\"text-align: right;\">\n",
       "      <th></th>\n",
       "      <th>C</th>\n",
       "      <th>a</th>\n",
       "      <th>b</th>\n",
       "      <th>c</th>\n",
       "      <th>d</th>\n",
       "      <th>k</th>\n",
       "      <th>vPeak</th>\n",
       "      <th>vr</th>\n",
       "      <th>vt</th>\n",
       "    </tr>\n",
       "  </thead>\n",
       "  <tbody>\n",
       "    <tr>\n",
       "      <th>0</th>\n",
       "      <td>95.726065</td>\n",
       "      <td>0.023597</td>\n",
       "      <td>-0.755973</td>\n",
       "      <td>-56.451649</td>\n",
       "      <td>92.474689</td>\n",
       "      <td>1.213002</td>\n",
       "      <td>45.417825</td>\n",
       "      <td>-65.165883</td>\n",
       "      <td>-44.004882</td>\n",
       "    </tr>\n",
       "    <tr>\n",
       "      <th>1</th>\n",
       "      <td>184.074171</td>\n",
       "      <td>0.011468</td>\n",
       "      <td>14.454218</td>\n",
       "      <td>-54.128168</td>\n",
       "      <td>19.956228</td>\n",
       "      <td>1.558646</td>\n",
       "      <td>43.629241</td>\n",
       "      <td>-65.600149</td>\n",
       "      <td>-42.904657</td>\n",
       "    </tr>\n",
       "  </tbody>\n",
       "</table>\n",
       "</div>"
      ],
      "text/plain": [
       "            C         a          b          c          d         k      vPeak  \\\n",
       "0   95.726065  0.023597  -0.755973 -56.451649  92.474689  1.213002  45.417825   \n",
       "1  184.074171  0.011468  14.454218 -54.128168  19.956228  1.558646  43.629241   \n",
       "\n",
       "          vr         vt  \n",
       "0 -65.165883 -44.004882  \n",
       "1 -65.600149 -42.904657  "
      ]
     },
     "execution_count": 12,
     "metadata": {},
     "output_type": "execute_result"
    },
    {
     "data": {
      "text/plain": [
       "<Figure size 432x288 with 0 Axes>"
      ]
     },
     "metadata": {},
     "output_type": "display_data"
    }
   ],
   "source": []
  },
  {
   "cell_type": "code",
   "execution_count": 13,
   "metadata": {
    "lines_to_next_cell": 2
   },
   "outputs": [
    {
     "data": {
      "image/png": "[encoded data removed]",
      "text/plain": [
       "<Figure size 432x288 with 1 Axes>"
      ]
     },
     "metadata": {
      "needs_background": "light"
     },
     "output_type": "display_data"
    },
    {
     "data": {
      "text/html": [
       "<div>\n",
       "<style scoped>\n",
       "    .dataframe tbody tr th:only-of-type {\n",
       "        vertical-align: middle;\n",
       "    }\n",
       "\n",
       "    .dataframe tbody tr th {\n",
       "        vertical-align: top;\n",
       "    }\n",
       "\n",
       "    .dataframe thead th {\n",
       "        text-align: right;\n",
       "    }\n",
       "</style>\n",
       "<table border=\"1\" class=\"dataframe\">\n",
       "  <thead>\n",
       "    <tr style=\"text-align: right;\">\n",
       "      <th></th>\n",
       "      <th>C</th>\n",
       "      <th>a</th>\n",
       "      <th>b</th>\n",
       "      <th>c</th>\n",
       "      <th>d</th>\n",
       "      <th>k</th>\n",
       "      <th>vPeak</th>\n",
       "      <th>vr</th>\n",
       "      <th>vt</th>\n",
       "    </tr>\n",
       "  </thead>\n",
       "  <tbody>\n",
       "    <tr>\n",
       "      <th>0</th>\n",
       "      <td>95.726065</td>\n",
       "      <td>0.023597</td>\n",
       "      <td>-0.755973</td>\n",
       "      <td>-56.451649</td>\n",
       "      <td>92.474689</td>\n",
       "      <td>1.213002</td>\n",
       "      <td>45.417825</td>\n",
       "      <td>-65.165883</td>\n",
       "      <td>-44.004882</td>\n",
       "    </tr>\n",
       "    <tr>\n",
       "      <th>1</th>\n",
       "      <td>184.074171</td>\n",
       "      <td>0.011468</td>\n",
       "      <td>14.454218</td>\n",
       "      <td>-54.128168</td>\n",
       "      <td>19.956228</td>\n",
       "      <td>1.558646</td>\n",
       "      <td>43.629241</td>\n",
       "      <td>-65.600149</td>\n",
       "      <td>-42.904657</td>\n",
       "    </tr>\n",
       "  </tbody>\n",
       "</table>\n",
       "</div>"
      ],
      "text/plain": [
       "            C         a          b          c          d         k      vPeak  \\\n",
       "0   95.726065  0.023597  -0.755973 -56.451649  92.474689  1.213002  45.417825   \n",
       "1  184.074171  0.011468  14.454218 -54.128168  19.956228  1.558646  43.629241   \n",
       "\n",
       "          vr         vt  \n",
       "0 -65.165883 -44.004882  \n",
       "1 -65.600149 -42.904657  "
      ]
     },
     "execution_count": 13,
     "metadata": {},
     "output_type": "execute_result"
    }
   ],
   "source": []
  },
  {
   "cell_type": "code",
   "execution_count": 14,
   "metadata": {},
   "outputs": [
    {
     "data": {
      "text/plain": [
       "{'C': 139.9001176200584,\n",
       " 'a': 0.01753206670724202,\n",
       " 'b': 6.849122282364991,\n",
       " 'c': -55.289908198334466,\n",
       " 'd': 56.215458403210704,\n",
       " 'k': 1.3858238213638587,\n",
       " 'vPeak': 44.523533140232914,\n",
       " 'vr': -65.38301631301397,\n",
       " 'vt': -43.45476978965512}"
      ]
     },
     "execution_count": 14,
     "metadata": {},
     "output_type": "execute_result"
    }
   ],
   "source": [
    "\n",
    "nu_tests1 = list(nu_tests1.values())\n",
    "nu_tests0 = list(nu_tests0.values())\n",
    "\n",
    "mean_o_dict={}\n",
    "for o0,o1 in zip(nu_tests0,nu_tests1):\n",
    "    mean_o_dict[o1.name] = np.mean([o0.observation['mean'],o1.observation['mean']])*o0.observation['mean'].units\n",
    "mean_o_dict    \n",
    "new_tests = copy.copy(nu_tests0)\n",
    "\n",
    "for t0 in new_tests:\n",
    "    t0.observation = {}\n",
    "    t0.observation['mean'] = mean_o_dict[t0.name]\n",
    "\n",
    "mean_a_dict={}\n",
    "for k,v in target0.attrs.items():\n",
    "    mean_a_dict[k] = np.mean([v,target1.attrs[k]])\n",
    "mean_a_dict; \n"
   ]
  },
  {
   "cell_type": "code",
   "execution_count": 28,
   "metadata": {},
   "outputs": [
    {
     "data": {
      "text/html": [
       "<div>\n",
       "<style scoped>\n",
       "    .dataframe tbody tr th:only-of-type {\n",
       "        vertical-align: middle;\n",
       "    }\n",
       "\n",
       "    .dataframe tbody tr th {\n",
       "        vertical-align: top;\n",
       "    }\n",
       "\n",
       "    .dataframe thead th {\n",
       "        text-align: right;\n",
       "    }\n",
       "</style>\n",
       "<table border=\"1\" class=\"dataframe\">\n",
       "  <thead>\n",
       "    <tr style=\"text-align: right;\">\n",
       "      <th></th>\n",
       "      <th>C</th>\n",
       "      <th>a</th>\n",
       "      <th>b</th>\n",
       "      <th>c</th>\n",
       "      <th>d</th>\n",
       "      <th>k</th>\n",
       "      <th>vPeak</th>\n",
       "      <th>vr</th>\n",
       "      <th>vt</th>\n",
       "    </tr>\n",
       "  </thead>\n",
       "  <tbody>\n",
       "    <tr>\n",
       "      <th>a</th>\n",
       "      <td>95.726065</td>\n",
       "      <td>0.023597</td>\n",
       "      <td>-0.755973</td>\n",
       "      <td>-56.451649</td>\n",
       "      <td>92.474689</td>\n",
       "      <td>1.213002</td>\n",
       "      <td>45.417825</td>\n",
       "      <td>-65.165883</td>\n",
       "      <td>-44.004882</td>\n",
       "    </tr>\n",
       "    <tr>\n",
       "      <th>b</th>\n",
       "      <td>184.074171</td>\n",
       "      <td>0.011468</td>\n",
       "      <td>14.454218</td>\n",
       "      <td>-54.128168</td>\n",
       "      <td>19.956228</td>\n",
       "      <td>1.558646</td>\n",
       "      <td>43.629241</td>\n",
       "      <td>-65.600149</td>\n",
       "      <td>-42.904657</td>\n",
       "    </tr>\n",
       "    <tr>\n",
       "      <th>mean_of_a_b</th>\n",
       "      <td>139.900118</td>\n",
       "      <td>0.017532</td>\n",
       "      <td>6.849122</td>\n",
       "      <td>-55.289908</td>\n",
       "      <td>56.215458</td>\n",
       "      <td>1.385824</td>\n",
       "      <td>44.523533</td>\n",
       "      <td>-65.383016</td>\n",
       "      <td>-43.454770</td>\n",
       "    </tr>\n",
       "  </tbody>\n",
       "</table>\n",
       "</div>"
      ],
      "text/plain": [
       "                      C         a          b          c          d         k  \\\n",
       "a             95.726065  0.023597  -0.755973 -56.451649  92.474689  1.213002   \n",
       "b            184.074171  0.011468  14.454218 -54.128168  19.956228  1.558646   \n",
       "mean_of_a_b  139.900118  0.017532   6.849122 -55.289908  56.215458  1.385824   \n",
       "\n",
       "                 vPeak         vr         vt  \n",
       "a            45.417825 -65.165883 -44.004882  \n",
       "b            43.629241 -65.600149 -42.904657  \n",
       "mean_of_a_b  44.523533 -65.383016 -43.454770  "
      ]
     },
     "execution_count": 28,
     "metadata": {},
     "output_type": "execute_result"
    },
    {
     "data": {
      "image/png": "[encoded data removed]",
      "text/plain": [
       "<Figure size 432x288 with 1 Axes>"
      ]
     },
     "metadata": {
      "needs_background": "light"
     },
     "output_type": "display_data"
    }
   ],
   "source": [
    "plt.figure()\n",
    "import pandas as pd\n",
    "\n",
    "df = pd.DataFrame([target0.attrs,target1.attrs,mean_a_dict],index=['a','b','mean_of_a_b'])\n",
    "df.rename(index={'2': 'mean of 0 and 1'},inplace= True)\n",
    "df\n",
    "\n",
    "\n",
    "import matplotlib.pyplot as plt\n",
    "from pandas.plotting import parallel_coordinates\n",
    "first = list(df.columns)\n",
    "parallel_coordinates(df,'a')\n",
    "#plt.semilogy()\n",
    "df"
   ]
  },
  {
   "cell_type": "code",
   "execution_count": null,
   "metadata": {},
   "outputs": [],
   "source": []
  },
  {
   "cell_type": "code",
   "execution_count": 15,
   "metadata": {},
   "outputs": [],
   "source": [
    "mean_o_dict;"
   ]
  },
  {
   "cell_type": "code",
   "execution_count": 16,
   "metadata": {},
   "outputs": [
    {
     "data": {
      "text/plain": [
       "<neuronunit.optimisation.data_transport_container.DataTC at 0x7f9cb6260650>"
      ]
     },
     "execution_count": 16,
     "metadata": {},
     "output_type": "execute_result"
    }
   ],
   "source": [
    "dtc = DataTC(backend=model)\n",
    "dtc.attrs = mean_a_dict\n",
    "dtc.tests = new_tests\n",
    "dtc.attrs\n",
    "target0"
   ]
  },
  {
   "cell_type": "code",
   "execution_count": 18,
   "metadata": {},
   "outputs": [
    {
     "data": {
      "text/plain": [
       "'\\nfor k,v in preds.items():\\n    if v==None:\\n        key = k\\n        #return key\\n        break\\nif key:\\n    preds.pop(key,None)\\n'"
      ]
     },
     "execution_count": 18,
     "metadata": {},
     "output_type": "execute_result"
    }
   ],
   "source": [
    "\n",
    "m = dtc.dtc_to_model()\n",
    "\n",
    "preds = OrderedDict()\n",
    "for t in new_tests:\n",
    "    try:\n",
    "        preds[t.name] = t.generate_prediction(m)['mean']\n",
    "    except:\n",
    "        try:\n",
    "            preds[t.name] = t.generate_prediction(m)['value']\n",
    "        except:\n",
    "            pass\n",
    "preds\n",
    "'''\n",
    "for k,v in preds.items():\n",
    "    if v==None:\n",
    "        key = k\n",
    "        #return key\n",
    "        break\n",
    "if key:\n",
    "    preds.pop(key,None)\n",
    "'''"
   ]
  },
  {
   "cell_type": "code",
   "execution_count": 19,
   "metadata": {},
   "outputs": [
    {
     "data": {
      "text/plain": [
       "\"\\nimport numpy as np\\nimport matplotlib.pyplot as plt\\n\\n\\nwidth = 0.35       \\nmean_o_dict = { k:mean_o_dict[k] for k in preds.keys() }\\nmeasure0 = list(mean_o_dict.values())\\nN = len(measure0)\\nind = np.arange(N)    # the x locations for the groups\\n\\nmeasure1 = list(preds.values())\\n\\n\\nplt.bar(ind,measure0, width)\\n#plt.bar(ind,measure1, width)\\nplt.semilogy()\\n\\n\\nplt.ylabel('Measurements')\\nplt.title('Measurements grouped by test')\\nplt.xticks(ind, (list(preds.keys())))\\nplt.xticks(rotation=90)\\nplt.show()\\n\""
      ]
     },
     "execution_count": 19,
     "metadata": {},
     "output_type": "execute_result"
    }
   ],
   "source": [
    "'''\n",
    "import numpy as np\n",
    "import matplotlib.pyplot as plt\n",
    "\n",
    "\n",
    "width = 0.35       \n",
    "mean_o_dict = { k:mean_o_dict[k] for k in preds.keys() }\n",
    "measure0 = list(mean_o_dict.values())\n",
    "N = len(measure0)\n",
    "ind = np.arange(N)    # the x locations for the groups\n",
    "\n",
    "measure1 = list(preds.values())\n",
    "\n",
    "\n",
    "plt.bar(ind,measure0, width)\n",
    "#plt.bar(ind,measure1, width)\n",
    "plt.semilogy()\n",
    "\n",
    "\n",
    "plt.ylabel('Measurements')\n",
    "plt.title('Measurements grouped by test')\n",
    "plt.xticks(ind, (list(preds.keys())))\n",
    "plt.xticks(rotation=90)\n",
    "plt.show()\n",
    "'''"
   ]
  },
  {
   "cell_type": "code",
   "execution_count": 20,
   "metadata": {},
   "outputs": [],
   "source": [
    "new_tests;"
   ]
  },
  {
   "cell_type": "code",
   "execution_count": 29,
   "metadata": {},
   "outputs": [
    {
     "data": {
      "image/png": "[encoded data removed]",
      "text/plain": [
       "<Figure size 432x288 with 1 Axes>"
      ]
     },
     "metadata": {
      "needs_background": "light"
     },
     "output_type": "display_data"
    },
    {
     "name": "stdout",
     "output_type": "stream",
     "text": [
      "three coordinates that lead to this where\n"
     ]
    }
   ],
   "source": [
    "\n",
    "\n",
    "width = 0.35       \n",
    "mean_o_dict = { k:mean_o_dict[k] for k in preds.keys() }\n",
    "measure0 = list(mean_o_dict.values())\n",
    "N = len(measure0)\n",
    "ind = np.arange(N)    # the x locations for the groups\n",
    "\n",
    "measure1 = list(preds.values())\n",
    "#mport numpy as np\n",
    "#mport matplotlib.pyplot as plt\n",
    "#rom sklearn.preprocessing import StandardScaler\n",
    "#caler = StandardScaler()\n",
    "#caler.fit(np.array([measure0,measure1]))\n",
    "#easure = scaler.transform(np.array([measure0,measure1]))\n",
    "#measure0 = scaler.transform([measure0,measure1])\n",
    "\n",
    "plt.bar(ind,measure0, width)\n",
    "plt.bar(ind,measure1, width)\n",
    "plt.semilogy()\n",
    "\n",
    "\n",
    "plt.ylabel('Measurements')\n",
    "plt.title('Measurements grouped by test')\n",
    "plt.xticks(ind, (list(preds.keys())))\n",
    "plt.xticks(rotation=90)\n",
    "plt.show()\n",
    "#measure1\n",
    "#int(measure[1])\n",
    "#measure[0]\n",
    "print('three coordinates that lead to this where')\n"
   ]
  },
  {
   "cell_type": "markdown",
   "metadata": {},
   "source": [
    "Depending on the random models made\n",
    "Time constant test, capacitance test, and AP amplitude don't agree.\n",
    "\n",
    "Now we can find if the reason is we created model populations with bimodal distributions in these measurements."
   ]
  },
  {
   "cell_type": "code",
   "execution_count": 35,
   "metadata": {},
   "outputs": [
    {
     "name": "stdout",
     "output_type": "stream",
     "text": [
      "{'C': 103.01337465200291, 'k': 1.1258132431781898, 'vr': -66.03800908496375, 'vt': -43.890749932084375, 'vPeak': 47.93504422074863, 'a': 0.024236726776487368, 'b': -1.435774653508638, 'c': -57.16566380705174, 'd': 100.94983330180908}\n",
      "time taken on block 0.0014002323150634766 \n",
      "{'C': 191.36148066530924, 'k': 1.4714575385349098, 'vr': -66.47227541673227, 'vt': -42.79052526277531, 'vPeak': 46.14646067534163, 'a': 0.012107803004032794, 'b': 13.774416397162874, 'c': -54.84218294034527, 'd': 28.43137287282952}\n",
      "time taken on block 0.0012638568878173828 \n",
      "{'C': 103.01337465200291, 'k': 1.1258132431781898, 'vr': -66.03800908496375, 'vt': -43.890749932084375, 'vPeak': 47.93504422074863, 'a': 0.024236726776487368, 'b': -1.435774653508638, 'c': -57.16566380705174, 'd': 100.94983330180908}\n",
      "time taken on block 0.0014574527740478516 \n",
      "{'C': 189.60569001275655, 'k': 1.6355072704778448, 'vr': -64.56539853740806, 'vt': -44.07948966127371, 'vPeak': 45.65363988633885, 'a': 0.011029884565811153, 'b': 14.258380158959888, 'c': -54.56235307014565, 'd': 17.470957013063217}\n",
      "time taken on block 0.0014233589172363281 \n",
      "{'C': 101.25758399945023, 'k': 1.2898629751211248, 'vr': -64.13113220563953, 'vt': -45.179714330582776, 'vPeak': 47.442223431745845, 'a': 0.02315880833826573, 'b': -0.9518108917116236, 'c': -56.88583393685212, 'd': 89.98941744204276}\n",
      "time taken on block 0.0013246536254882812 \n",
      "{'C': 187.8711615492869, 'k': 1.5544429929735932, 'vr': -66.1402558183443, 'vt': -42.87313360515971, 'vPeak': 43.980144155412, 'a': 0.01157660601338941, 'b': 15.301621235320574, 'c': -54.50428084495802, 'd': 34.96262589249914}\n",
      "time taken on block 0.0013000965118408203 \n",
      "{'C': 99.5230555359806, 'k': 1.2087986976168732, 'vr': -65.70598948657577, 'vt': -43.97335827446877, 'vPeak': 45.768727700819, 'a': 0.023705529785843987, 'b': 0.09143018464906416, 'c': -56.82776171166449, 'd': 107.4810863214787}\n",
      "time taken on block 0.0013151168823242188 \n",
      "{'C': 186.0929651531581, 'k': 1.5100965534712563, 'vr': -65.77986193904755, 'vt': -42.976065286002964, 'vPeak': 43.92382996345768, 'a': 0.009167635998172226, 'b': 14.202423032624024, 'c': -54.74800673053393, 'd': 29.668329685623213}\n",
      "time taken on block 0.0012826919555664062 \n",
      "{'C': 97.74485913985178, 'k': 1.1644522581145362, 'vr': -65.34559560727902, 'vt': -44.07628995531203, 'vPeak': 45.71241350886468, 'a': 0.0212965597706268, 'b': -1.0077680180474877, 'c': -57.071487597240406, 'd': 102.18679011460277}\n",
      "time taken on block 0.0012962818145751953 \n",
      "{'C': 171.4873030124488, 'k': 1.533197337985399, 'vr': -63.49634067200273, 'vt': -42.67047186699502, 'vPeak': 41.20032564719516, 'a': 0.012583223558630185, 'b': 13.265964640498778, 'c': -53.96909394269487, 'd': 7.301577382447249}\n",
      "time taken on block 0.0012633800506591797 \n",
      "{'C': 83.13919699914248, 'k': 1.187553042628679, 'vr': -63.062074340234204, 'vt': -43.77069653630409, 'vPeak': 42.98890919260216, 'a': 0.02471214733108476, 'b': -1.9442264101727338, 'c': -56.292574809401344, 'd': 79.8200378114268}\n",
      "time taken on block 0.0014836788177490234 \n",
      "{'C': 189.072412835034, 'k': 1.6479557536535516, 'vr': -66.49070452674881, 'vt': -42.74004821726623, 'vPeak': 41.79092221802298, 'a': 0.009335628821568251, 'b': 14.948085632875861, 'c': -54.340709397868906, 'd': 35.011372387745176}\n",
      "time taken on block 0.0012710094451904297 \n",
      "{'C': 100.72430682172765, 'k': 1.3023114582968316, 'vr': -66.05643819498029, 'vt': -43.84027288657529, 'vPeak': 43.57950576342998, 'a': 0.021464552594022825, 'b': -0.2621054177956501, 'c': -56.66419026457538, 'd': 107.52983281672473}\n",
      "time taken on block 0.0016770362854003906 \n",
      "{'C': 174.295972935761, 'k': 1.6185069479882856, 'vr': -65.2179847287537, 'vt': -44.09872606655408, 'vPeak': 44.02846069324423, 'a': 0.010366591005558212, 'b': 15.15365140981441, 'c': -54.55183235343028, 'd': 18.061159599691607}\n",
      "time taken on block 0.0013110637664794922 \n",
      "{'C': 85.9478669224547, 'k': 1.2728626526315656, 'vr': -64.78371839698518, 'vt': -45.19895073586314, 'vPeak': 45.81704423865123, 'a': 0.022495514778012787, 'b': -0.05653964085710139, 'c': -56.87531322013675, 'd': 90.57962002867116}\n",
      "time taken on block 0.0013165473937988281 \n",
      "{'C': 178.55296073769998, 'k': 1.576191630695692, 'vr': -65.34702706033634, 'vt': -43.276815696550194, 'vPeak': 42.80035620478902, 'a': 0.011047328337189063, 'b': 14.776018392544678, 'c': -54.273874038094725, 'd': 22.958653423836434}\n",
      "time taken on block 0.0012784004211425781 \n",
      "{'C': 90.20485472439364, 'k': 1.230547335338972, 'vr': -64.91276072856782, 'vt': -44.37704036585926, 'vPeak': 44.58893975019602, 'a': 0.02317625210964364, 'b': -0.43417265812683364, 'c': -56.5973549048012, 'd': 95.47711385281599}\n",
      "time taken on block 0.001270294189453125 \n",
      "{'C': 181.9913474436284, 'k': 1.5398929164085933, 'vr': -65.91543939182623, 'vt': -42.435632532705554, 'vPeak': 42.17512360103407, 'a': 0.011976308622245278, 'b': 14.135043957806275, 'c': -53.35151320398617, 'd': 25.98516549044479}\n",
      "time taken on block 0.0012862682342529297 \n",
      "{'C': 93.64324143032208, 'k': 1.1942486210518732, 'vr': -65.4811730600577, 'vt': -43.53585720201462, 'vPeak': 43.963707146441074, 'a': 0.024105232394699853, 'b': -1.0751470928652358, 'c': -55.67499407069265, 'd': 98.50362591942435}\n",
      "time taken on block 0.001283884048461914 \n",
      "{'C': 181.9913474436284, 'k': 1.5398929164085933, 'vr': -65.91543939182623, 'vt': -42.435632532705554, 'vPeak': 42.17512360103407, 'a': 0.011976308622245278, 'b': 14.135043957806275, 'c': -53.35151320398617, 'd': 25.98516549044479}\n",
      "time taken on block 0.001287698745727539 \n",
      "{'C': 88.69683226390107, 'k': 1.2226594283123307, 'vr': -64.36611171475764, 'vt': -42.99330380446567, 'vPeak': 46.33274045764567, 'a': 0.02475572649012077, 'b': -1.4825609037238014, 'c': -57.44853501705427, 'd': 99.64504483366844}\n",
      "time taken on block 0.0012843608856201172 \n",
      "{'C': 177.0449382772074, 'k': 1.5683037236690507, 'vr': -64.80037804652616, 'vt': -41.893079135156604, 'vPeak': 44.54415691223867, 'a': 0.012626802717666195, 'b': 13.72763014694771, 'c': -55.12505415034779, 'd': 27.126584404688884}\n",
      "time taken on block 0.0012929439544677734 \n",
      "{'C': 97.29148551718211, 'k': 1.1766239357623065, 'vr': -66.0371951653259, 'vt': -43.79241540144126, 'vPeak': 43.88559746277021, 'a': 0.023825097959625556, 'b': -0.25748480094909715, 'c': -55.608753806175535, 'd': 91.97289519001097}\n",
      "time taken on block 0.001272439956665039 \n",
      "{'C': 185.63959153048845, 'k': 1.5222682311190265, 'vr': -66.47146149709442, 'vt': -42.6921907321322, 'vPeak': 42.09701391736321, 'a': 0.01169617418717098, 'b': 14.952706249722414, 'c': -53.28527293946906, 'd': 19.454434761031422}\n",
      "time taken on block 0.0013124942779541016 \n",
      "{'C': 97.29148551718211, 'k': 1.1766239357623065, 'vr': -66.0371951653259, 'vt': -43.79241540144126, 'vPeak': 43.88559746277021, 'a': 0.023825097959625556, 'b': -0.25748480094909715, 'c': -55.608753806175535, 'd': 91.97289519001097}\n",
      "time taken on block 0.0012857913970947266 \n",
      "{'C': 172.62364793807268, 'k': 1.5045932480753377, 'vr': -67.6470068582627, 'vt': -43.784410328961116, 'vPeak': 42.81772038499146, 'a': 0.012127155642770471, 'b': 14.337310541990467, 'c': -54.83596460609595, 'd': 14.013442827412351}\n",
      "time taken on block 0.0013909339904785156 \n",
      "{'C': 84.27554192476636, 'k': 1.1589489527186176, 'vr': -67.21274052649417, 'vt': -44.88463499827018, 'vPeak': 44.60630393039846, 'a': 0.024256079415225045, 'b': -0.872880508681044, 'c': -57.159445472802425, 'd': 86.5319032563919}\n",
      "time taken on block 0.001285552978515625 \n",
      "{'C': 187.25402144768893, 'k': 1.5017463310276946, 'vr': -67.67243624708684, 'vt': -43.43390090465867, 'vPeak': 44.81466191114622, 'a': 0.010485859421329291, 'b': 13.33452790961195, 'c': -54.326835510607964, 'd': 25.56353602566474}\n",
      "time taken on block 0.001268148422241211 \n",
      "{'C': 103.01337465200291, 'k': 1.1258132431781898, 'vr': -66.03800908496375, 'vt': -43.890749932084375, 'vPeak': 47.93504422074863, 'a': 0.024236726776487368, 'b': -1.435774653508638, 'c': -57.16566380705174, 'd': 100.94983330180908}\n",
      "time taken on block 0.0012984275817871094 \n",
      "{'C': 103.01337465200291, 'k': 1.1258132431781898, 'vr': -66.03800908496375, 'vt': -43.890749932084375, 'vPeak': 47.93504422074863, 'a': 0.024236726776487368, 'b': -1.435774653508638, 'c': -57.16566380705174, 'd': 100.94983330180908}\n",
      "time taken on block 0.001287221908569336 \n"
     ]
    },
    {
     "name": "stdout",
     "output_type": "stream",
     "text": [
      "{'C': 101.25758399945023, 'k': 1.2898629751211248, 'vr': -64.13113220563953, 'vt': -45.179714330582776, 'vPeak': 47.442223431745845, 'a': 0.02315880833826573, 'b': -0.9518108917116236, 'c': -56.88583393685212, 'd': 89.98941744204276}\n",
      "time taken on block 0.0014116764068603516 \n",
      "{'C': 99.5230555359806, 'k': 1.2087986976168732, 'vr': -65.70598948657577, 'vt': -43.97335827446877, 'vPeak': 45.768727700819, 'a': 0.023705529785843987, 'b': 0.09143018464906416, 'c': -56.82776171166449, 'd': 107.4810863214787}\n",
      "time taken on block 0.0012791156768798828 \n",
      "{'C': 97.74485913985178, 'k': 1.1644522581145362, 'vr': -65.34559560727902, 'vt': -44.07628995531203, 'vPeak': 45.71241350886468, 'a': 0.0212965597706268, 'b': -1.0077680180474877, 'c': -57.071487597240406, 'd': 102.18679011460277}\n",
      "time taken on block 0.0012974739074707031 \n",
      "{'C': 83.13919699914248, 'k': 1.187553042628679, 'vr': -63.062074340234204, 'vt': -43.77069653630409, 'vPeak': 42.98890919260216, 'a': 0.02471214733108476, 'b': -1.9442264101727338, 'c': -56.292574809401344, 'd': 79.8200378114268}\n",
      "time taken on block 0.0021789073944091797 \n",
      "{'C': 100.72430682172765, 'k': 1.3023114582968316, 'vr': -66.05643819498029, 'vt': -43.84027288657529, 'vPeak': 43.57950576342998, 'a': 0.021464552594022825, 'b': -0.2621054177956501, 'c': -56.66419026457538, 'd': 107.52983281672473}\n",
      "time taken on block 0.0016472339630126953 \n",
      "{'C': 85.9478669224547, 'k': 1.2728626526315656, 'vr': -64.78371839698518, 'vt': -45.19895073586314, 'vPeak': 45.81704423865123, 'a': 0.022495514778012787, 'b': -0.05653964085710139, 'c': -56.87531322013675, 'd': 90.57962002867116}\n",
      "time taken on block 0.002954721450805664 \n",
      "{'C': 90.20485472439364, 'k': 1.230547335338972, 'vr': -64.91276072856782, 'vt': -44.37704036585926, 'vPeak': 44.58893975019602, 'a': 0.02317625210964364, 'b': -0.43417265812683364, 'c': -56.5973549048012, 'd': 95.47711385281599}\n",
      "time taken on block 0.0012781620025634766 \n",
      "{'C': 93.64324143032208, 'k': 1.1942486210518732, 'vr': -65.4811730600577, 'vt': -43.53585720201462, 'vPeak': 43.963707146441074, 'a': 0.024105232394699853, 'b': -1.0751470928652358, 'c': -55.67499407069265, 'd': 98.50362591942435}\n",
      "time taken on block 0.0019345283508300781 \n",
      "{'C': 88.69683226390107, 'k': 1.2226594283123307, 'vr': -64.36611171475764, 'vt': -42.99330380446567, 'vPeak': 46.33274045764567, 'a': 0.02475572649012077, 'b': -1.4825609037238014, 'c': -57.44853501705427, 'd': 99.64504483366844}\n",
      "time taken on block 0.0014231204986572266 \n",
      "{'C': 97.29148551718211, 'k': 1.1766239357623065, 'vr': -66.0371951653259, 'vt': -43.79241540144126, 'vPeak': 43.88559746277021, 'a': 0.023825097959625556, 'b': -0.25748480094909715, 'c': -55.608753806175535, 'd': 91.97289519001097}\n",
      "time taken on block 0.0012850761413574219 \n",
      "{'C': 97.29148551718211, 'k': 1.1766239357623065, 'vr': -66.0371951653259, 'vt': -43.79241540144126, 'vPeak': 43.88559746277021, 'a': 0.023825097959625556, 'b': -0.25748480094909715, 'c': -55.608753806175535, 'd': 91.97289519001097}\n",
      "time taken on block 0.0013263225555419922 \n",
      "{'C': 84.27554192476636, 'k': 1.1589489527186176, 'vr': -67.21274052649417, 'vt': -44.88463499827018, 'vPeak': 44.60630393039846, 'a': 0.024256079415225045, 'b': -0.872880508681044, 'c': -57.159445472802425, 'd': 86.5319032563919}\n",
      "time taken on block 0.001348733901977539 \n",
      "{'C': 191.36148066530924, 'k': 1.4714575385349098, 'vr': -66.47227541673227, 'vt': -42.79052526277531, 'vPeak': 46.14646067534163, 'a': 0.012107803004032794, 'b': 13.774416397162874, 'c': -54.84218294034527, 'd': 28.43137287282952}\n",
      "time taken on block 0.0013356208801269531 \n",
      "{'C': 189.60569001275655, 'k': 1.6355072704778448, 'vr': -64.56539853740806, 'vt': -44.07948966127371, 'vPeak': 45.65363988633885, 'a': 0.011029884565811153, 'b': 14.258380158959888, 'c': -54.56235307014565, 'd': 17.470957013063217}\n",
      "time taken on block 0.001287221908569336 \n",
      "{'C': 187.8711615492869, 'k': 1.5544429929735932, 'vr': -66.1402558183443, 'vt': -42.87313360515971, 'vPeak': 43.980144155412, 'a': 0.01157660601338941, 'b': 15.301621235320574, 'c': -54.50428084495802, 'd': 34.96262589249914}\n",
      "time taken on block 0.001352071762084961 \n",
      "{'C': 186.0929651531581, 'k': 1.5100965534712563, 'vr': -65.77986193904755, 'vt': -42.976065286002964, 'vPeak': 43.92382996345768, 'a': 0.009167635998172226, 'b': 14.202423032624024, 'c': -54.74800673053393, 'd': 29.668329685623213}\n",
      "time taken on block 0.0013170242309570312 \n",
      "{'C': 171.4873030124488, 'k': 1.533197337985399, 'vr': -63.49634067200273, 'vt': -42.67047186699502, 'vPeak': 41.20032564719516, 'a': 0.012583223558630185, 'b': 13.265964640498778, 'c': -53.96909394269487, 'd': 7.301577382447249}\n",
      "time taken on block 0.003319263458251953 \n",
      "{'C': 189.072412835034, 'k': 1.6479557536535516, 'vr': -66.49070452674881, 'vt': -42.74004821726623, 'vPeak': 41.79092221802298, 'a': 0.009335628821568251, 'b': 14.948085632875861, 'c': -54.340709397868906, 'd': 35.011372387745176}\n",
      "time taken on block 0.0012996196746826172 \n",
      "{'C': 174.295972935761, 'k': 1.6185069479882856, 'vr': -65.2179847287537, 'vt': -44.09872606655408, 'vPeak': 44.02846069324423, 'a': 0.010366591005558212, 'b': 15.15365140981441, 'c': -54.55183235343028, 'd': 18.061159599691607}\n",
      "time taken on block 0.0012857913970947266 \n",
      "{'C': 178.55296073769998, 'k': 1.576191630695692, 'vr': -65.34702706033634, 'vt': -43.276815696550194, 'vPeak': 42.80035620478902, 'a': 0.011047328337189063, 'b': 14.776018392544678, 'c': -54.273874038094725, 'd': 22.958653423836434}\n",
      "time taken on block 0.0012798309326171875 \n",
      "{'C': 181.9913474436284, 'k': 1.5398929164085933, 'vr': -65.91543939182623, 'vt': -42.435632532705554, 'vPeak': 42.17512360103407, 'a': 0.011976308622245278, 'b': 14.135043957806275, 'c': -53.35151320398617, 'd': 25.98516549044479}\n",
      "time taken on block 0.0013210773468017578 \n",
      "{'C': 181.9913474436284, 'k': 1.5398929164085933, 'vr': -65.91543939182623, 'vt': -42.435632532705554, 'vPeak': 42.17512360103407, 'a': 0.011976308622245278, 'b': 14.135043957806275, 'c': -53.35151320398617, 'd': 25.98516549044479}\n",
      "time taken on block 0.0012998580932617188 \n",
      "{'C': 177.0449382772074, 'k': 1.5683037236690507, 'vr': -64.80037804652616, 'vt': -41.893079135156604, 'vPeak': 44.54415691223867, 'a': 0.012626802717666195, 'b': 13.72763014694771, 'c': -55.12505415034779, 'd': 27.126584404688884}\n",
      "time taken on block 0.0012814998626708984 \n",
      "{'C': 185.63959153048845, 'k': 1.5222682311190265, 'vr': -66.47146149709442, 'vt': -42.6921907321322, 'vPeak': 42.09701391736321, 'a': 0.01169617418717098, 'b': 14.952706249722414, 'c': -53.28527293946906, 'd': 19.454434761031422}\n",
      "time taken on block 0.0013155937194824219 \n",
      "{'C': 172.62364793807268, 'k': 1.5045932480753377, 'vr': -67.6470068582627, 'vt': -43.784410328961116, 'vPeak': 42.81772038499146, 'a': 0.012127155642770471, 'b': 14.337310541990467, 'c': -54.83596460609595, 'd': 14.013442827412351}\n",
      "time taken on block 0.001336812973022461 \n",
      "{'C': 187.25402144768893, 'k': 1.5017463310276946, 'vr': -67.67243624708684, 'vt': -43.43390090465867, 'vPeak': 44.81466191114622, 'a': 0.010485859421329291, 'b': 13.33452790961195, 'c': -54.326835510607964, 'd': 25.56353602566474}\n",
      "time taken on block 0.0013015270233154297 \n",
      "{'C': 103.01337465200291, 'k': 1.1258132431781898, 'vr': -66.03800908496375, 'vt': -43.890749932084375, 'vPeak': 47.93504422074863, 'a': 0.024236726776487368, 'b': -1.435774653508638, 'c': -57.16566380705174, 'd': 100.94983330180908}\n",
      "time taken on block 0.0013248920440673828 \n",
      "{'C': 103.01337465200291, 'k': 1.1258132431781898, 'vr': -66.03800908496375, 'vt': -43.890749932084375, 'vPeak': 47.93504422074863, 'a': 0.024236726776487368, 'b': -1.435774653508638, 'c': -57.16566380705174, 'd': 100.94983330180908}\n",
      "time taken on block 0.0013129711151123047 \n",
      "{'C': 101.25758399945023, 'k': 1.2898629751211248, 'vr': -64.13113220563953, 'vt': -45.179714330582776, 'vPeak': 47.442223431745845, 'a': 0.02315880833826573, 'b': -0.9518108917116236, 'c': -56.88583393685212, 'd': 89.98941744204276}\n",
      "time taken on block 0.0013484954833984375 \n",
      "{'C': 99.5230555359806, 'k': 1.2087986976168732, 'vr': -65.70598948657577, 'vt': -43.97335827446877, 'vPeak': 45.768727700819, 'a': 0.023705529785843987, 'b': 0.09143018464906416, 'c': -56.82776171166449, 'd': 107.4810863214787}\n",
      "time taken on block 0.0014722347259521484 \n"
     ]
    },
    {
     "name": "stdout",
     "output_type": "stream",
     "text": [
      "{'C': 97.74485913985178, 'k': 1.1644522581145362, 'vr': -65.34559560727902, 'vt': -44.07628995531203, 'vPeak': 45.71241350886468, 'a': 0.0212965597706268, 'b': -1.0077680180474877, 'c': -57.071487597240406, 'd': 102.18679011460277}\n",
      "time taken on block 0.0014717578887939453 \n",
      "{'C': 83.13919699914248, 'k': 1.187553042628679, 'vr': -63.062074340234204, 'vt': -43.77069653630409, 'vPeak': 42.98890919260216, 'a': 0.02471214733108476, 'b': -1.9442264101727338, 'c': -56.292574809401344, 'd': 79.8200378114268}\n",
      "time taken on block 0.001355886459350586 \n",
      "{'C': 100.72430682172765, 'k': 1.3023114582968316, 'vr': -66.05643819498029, 'vt': -43.84027288657529, 'vPeak': 43.57950576342998, 'a': 0.021464552594022825, 'b': -0.2621054177956501, 'c': -56.66419026457538, 'd': 107.52983281672473}\n",
      "time taken on block 0.0013267993927001953 \n",
      "{'C': 85.9478669224547, 'k': 1.2728626526315656, 'vr': -64.78371839698518, 'vt': -45.19895073586314, 'vPeak': 45.81704423865123, 'a': 0.022495514778012787, 'b': -0.05653964085710139, 'c': -56.87531322013675, 'd': 90.57962002867116}\n",
      "time taken on block 0.0013005733489990234 \n",
      "{'C': 90.20485472439364, 'k': 1.230547335338972, 'vr': -64.91276072856782, 'vt': -44.37704036585926, 'vPeak': 44.58893975019602, 'a': 0.02317625210964364, 'b': -0.43417265812683364, 'c': -56.5973549048012, 'd': 95.47711385281599}\n",
      "time taken on block 0.0014507770538330078 \n",
      "{'C': 93.64324143032208, 'k': 1.1942486210518732, 'vr': -65.4811730600577, 'vt': -43.53585720201462, 'vPeak': 43.963707146441074, 'a': 0.024105232394699853, 'b': -1.0751470928652358, 'c': -55.67499407069265, 'd': 98.50362591942435}\n",
      "time taken on block 0.0012886524200439453 \n",
      "{'C': 88.69683226390107, 'k': 1.2226594283123307, 'vr': -64.36611171475764, 'vt': -42.99330380446567, 'vPeak': 46.33274045764567, 'a': 0.02475572649012077, 'b': -1.4825609037238014, 'c': -57.44853501705427, 'd': 99.64504483366844}\n",
      "time taken on block 0.001300811767578125 \n",
      "{'C': 97.29148551718211, 'k': 1.1766239357623065, 'vr': -66.0371951653259, 'vt': -43.79241540144126, 'vPeak': 43.88559746277021, 'a': 0.023825097959625556, 'b': -0.25748480094909715, 'c': -55.608753806175535, 'd': 91.97289519001097}\n",
      "time taken on block 0.0012903213500976562 \n",
      "{'C': 97.29148551718211, 'k': 1.1766239357623065, 'vr': -66.0371951653259, 'vt': -43.79241540144126, 'vPeak': 43.88559746277021, 'a': 0.023825097959625556, 'b': -0.25748480094909715, 'c': -55.608753806175535, 'd': 91.97289519001097}\n",
      "time taken on block 0.0013918876647949219 \n",
      "{'C': 84.27554192476636, 'k': 1.1589489527186176, 'vr': -67.21274052649417, 'vt': -44.88463499827018, 'vPeak': 44.60630393039846, 'a': 0.024256079415225045, 'b': -0.872880508681044, 'c': -57.159445472802425, 'd': 86.5319032563919}\n",
      "time taken on block 0.0013992786407470703 \n",
      "{'C': 191.36148066530924, 'k': 1.4714575385349098, 'vr': -66.47227541673227, 'vt': -42.79052526277531, 'vPeak': 46.14646067534163, 'a': 0.012107803004032794, 'b': 13.774416397162874, 'c': -54.84218294034527, 'd': 28.43137287282952}\n",
      "time taken on block 0.001291513442993164 \n",
      "{'C': 189.60569001275655, 'k': 1.6355072704778448, 'vr': -64.56539853740806, 'vt': -44.07948966127371, 'vPeak': 45.65363988633885, 'a': 0.011029884565811153, 'b': 14.258380158959888, 'c': -54.56235307014565, 'd': 17.470957013063217}\n",
      "time taken on block 0.0012943744659423828 \n",
      "{'C': 187.8711615492869, 'k': 1.5544429929735932, 'vr': -66.1402558183443, 'vt': -42.87313360515971, 'vPeak': 43.980144155412, 'a': 0.01157660601338941, 'b': 15.301621235320574, 'c': -54.50428084495802, 'd': 34.96262589249914}\n",
      "time taken on block 0.0013036727905273438 \n",
      "{'C': 186.0929651531581, 'k': 1.5100965534712563, 'vr': -65.77986193904755, 'vt': -42.976065286002964, 'vPeak': 43.92382996345768, 'a': 0.009167635998172226, 'b': 14.202423032624024, 'c': -54.74800673053393, 'd': 29.668329685623213}\n",
      "time taken on block 0.001298666000366211 \n",
      "{'C': 171.4873030124488, 'k': 1.533197337985399, 'vr': -63.49634067200273, 'vt': -42.67047186699502, 'vPeak': 41.20032564719516, 'a': 0.012583223558630185, 'b': 13.265964640498778, 'c': -53.96909394269487, 'd': 7.301577382447249}\n",
      "time taken on block 0.0013058185577392578 \n",
      "{'C': 189.072412835034, 'k': 1.6479557536535516, 'vr': -66.49070452674881, 'vt': -42.74004821726623, 'vPeak': 41.79092221802298, 'a': 0.009335628821568251, 'b': 14.948085632875861, 'c': -54.340709397868906, 'd': 35.011372387745176}\n",
      "time taken on block 0.001291036605834961 \n",
      "{'C': 174.295972935761, 'k': 1.6185069479882856, 'vr': -65.2179847287537, 'vt': -44.09872606655408, 'vPeak': 44.02846069324423, 'a': 0.010366591005558212, 'b': 15.15365140981441, 'c': -54.55183235343028, 'd': 18.061159599691607}\n",
      "time taken on block 0.001306772232055664 \n",
      "{'C': 178.55296073769998, 'k': 1.576191630695692, 'vr': -65.34702706033634, 'vt': -43.276815696550194, 'vPeak': 42.80035620478902, 'a': 0.011047328337189063, 'b': 14.776018392544678, 'c': -54.273874038094725, 'd': 22.958653423836434}\n",
      "time taken on block 0.0013167858123779297 \n",
      "{'C': 181.9913474436284, 'k': 1.5398929164085933, 'vr': -65.91543939182623, 'vt': -42.435632532705554, 'vPeak': 42.17512360103407, 'a': 0.011976308622245278, 'b': 14.135043957806275, 'c': -53.35151320398617, 'd': 25.98516549044479}\n",
      "time taken on block 0.0013267993927001953 \n",
      "{'C': 181.9913474436284, 'k': 1.5398929164085933, 'vr': -65.91543939182623, 'vt': -42.435632532705554, 'vPeak': 42.17512360103407, 'a': 0.011976308622245278, 'b': 14.135043957806275, 'c': -53.35151320398617, 'd': 25.98516549044479}\n",
      "time taken on block 0.001287221908569336 \n",
      "{'C': 177.0449382772074, 'k': 1.5683037236690507, 'vr': -64.80037804652616, 'vt': -41.893079135156604, 'vPeak': 44.54415691223867, 'a': 0.012626802717666195, 'b': 13.72763014694771, 'c': -55.12505415034779, 'd': 27.126584404688884}\n",
      "time taken on block 0.0013065338134765625 \n",
      "{'C': 185.63959153048845, 'k': 1.5222682311190265, 'vr': -66.47146149709442, 'vt': -42.6921907321322, 'vPeak': 42.09701391736321, 'a': 0.01169617418717098, 'b': 14.952706249722414, 'c': -53.28527293946906, 'd': 19.454434761031422}\n",
      "time taken on block 0.0012917518615722656 \n",
      "{'C': 172.62364793807268, 'k': 1.5045932480753377, 'vr': -67.6470068582627, 'vt': -43.784410328961116, 'vPeak': 42.81772038499146, 'a': 0.012127155642770471, 'b': 14.337310541990467, 'c': -54.83596460609595, 'd': 14.013442827412351}\n",
      "time taken on block 0.0013034343719482422 \n",
      "{'C': 187.25402144768893, 'k': 1.5017463310276946, 'vr': -67.67243624708684, 'vt': -43.43390090465867, 'vPeak': 44.81466191114622, 'a': 0.010485859421329291, 'b': 13.33452790961195, 'c': -54.326835510607964, 'd': 25.56353602566474}\n",
      "time taken on block 0.0013110637664794922 \n",
      "{'C': 103.01337465200291, 'k': 1.1258132431781898, 'vr': -66.03800908496375, 'vt': -43.890749932084375, 'vPeak': 47.93504422074863, 'a': 0.024236726776487368, 'b': -1.435774653508638, 'c': -57.16566380705174, 'd': 100.94983330180908}\n",
      "time taken on block 0.0013222694396972656 \n",
      "{'C': 103.01337465200291, 'k': 1.1258132431781898, 'vr': -66.03800908496375, 'vt': -43.890749932084375, 'vPeak': 47.93504422074863, 'a': 0.024236726776487368, 'b': -1.435774653508638, 'c': -57.16566380705174, 'd': 100.94983330180908}\n",
      "time taken on block 0.0013070106506347656 \n",
      "{'C': 101.25758399945023, 'k': 1.2898629751211248, 'vr': -64.13113220563953, 'vt': -45.179714330582776, 'vPeak': 47.442223431745845, 'a': 0.02315880833826573, 'b': -0.9518108917116236, 'c': -56.88583393685212, 'd': 89.98941744204276}\n",
      "time taken on block 0.0012857913970947266 \n",
      "{'C': 99.5230555359806, 'k': 1.2087986976168732, 'vr': -65.70598948657577, 'vt': -43.97335827446877, 'vPeak': 45.768727700819, 'a': 0.023705529785843987, 'b': 0.09143018464906416, 'c': -56.82776171166449, 'd': 107.4810863214787}\n",
      "time taken on block 0.0013005733489990234 \n",
      "{'C': 97.74485913985178, 'k': 1.1644522581145362, 'vr': -65.34559560727902, 'vt': -44.07628995531203, 'vPeak': 45.71241350886468, 'a': 0.0212965597706268, 'b': -1.0077680180474877, 'c': -57.071487597240406, 'd': 102.18679011460277}\n",
      "time taken on block 0.0012722015380859375 \n",
      "{'C': 83.13919699914248, 'k': 1.187553042628679, 'vr': -63.062074340234204, 'vt': -43.77069653630409, 'vPeak': 42.98890919260216, 'a': 0.02471214733108476, 'b': -1.9442264101727338, 'c': -56.292574809401344, 'd': 79.8200378114268}\n",
      "time taken on block 0.0012826919555664062 \n"
     ]
    },
    {
     "name": "stdout",
     "output_type": "stream",
     "text": [
      "{'C': 100.72430682172765, 'k': 1.3023114582968316, 'vr': -66.05643819498029, 'vt': -43.84027288657529, 'vPeak': 43.57950576342998, 'a': 0.021464552594022825, 'b': -0.2621054177956501, 'c': -56.66419026457538, 'd': 107.52983281672473}\n",
      "time taken on block 0.0012905597686767578 \n",
      "{'C': 85.9478669224547, 'k': 1.2728626526315656, 'vr': -64.78371839698518, 'vt': -45.19895073586314, 'vPeak': 45.81704423865123, 'a': 0.022495514778012787, 'b': -0.05653964085710139, 'c': -56.87531322013675, 'd': 90.57962002867116}\n",
      "time taken on block 0.001277923583984375 \n",
      "{'C': 90.20485472439364, 'k': 1.230547335338972, 'vr': -64.91276072856782, 'vt': -44.37704036585926, 'vPeak': 44.58893975019602, 'a': 0.02317625210964364, 'b': -0.43417265812683364, 'c': -56.5973549048012, 'd': 95.47711385281599}\n",
      "time taken on block 0.001264333724975586 \n",
      "{'C': 93.64324143032208, 'k': 1.1942486210518732, 'vr': -65.4811730600577, 'vt': -43.53585720201462, 'vPeak': 43.963707146441074, 'a': 0.024105232394699853, 'b': -1.0751470928652358, 'c': -55.67499407069265, 'd': 98.50362591942435}\n",
      "time taken on block 0.0013074874877929688 \n",
      "{'C': 88.69683226390107, 'k': 1.2226594283123307, 'vr': -64.36611171475764, 'vt': -42.99330380446567, 'vPeak': 46.33274045764567, 'a': 0.02475572649012077, 'b': -1.4825609037238014, 'c': -57.44853501705427, 'd': 99.64504483366844}\n",
      "time taken on block 0.0013010501861572266 \n",
      "{'C': 97.29148551718211, 'k': 1.1766239357623065, 'vr': -66.0371951653259, 'vt': -43.79241540144126, 'vPeak': 43.88559746277021, 'a': 0.023825097959625556, 'b': -0.25748480094909715, 'c': -55.608753806175535, 'd': 91.97289519001097}\n",
      "time taken on block 0.0012640953063964844 \n",
      "{'C': 97.29148551718211, 'k': 1.1766239357623065, 'vr': -66.0371951653259, 'vt': -43.79241540144126, 'vPeak': 43.88559746277021, 'a': 0.023825097959625556, 'b': -0.25748480094909715, 'c': -55.608753806175535, 'd': 91.97289519001097}\n",
      "time taken on block 0.0012760162353515625 \n",
      "{'C': 84.27554192476636, 'k': 1.1589489527186176, 'vr': -67.21274052649417, 'vt': -44.88463499827018, 'vPeak': 44.60630393039846, 'a': 0.024256079415225045, 'b': -0.872880508681044, 'c': -57.159445472802425, 'd': 86.5319032563919}\n",
      "time taken on block 0.0012824535369873047 \n",
      "{'C': 191.36148066530924, 'k': 1.4714575385349098, 'vr': -66.47227541673227, 'vt': -42.79052526277531, 'vPeak': 46.14646067534163, 'a': 0.012107803004032794, 'b': 13.774416397162874, 'c': -54.84218294034527, 'd': 28.43137287282952}\n",
      "time taken on block 0.0012760162353515625 \n",
      "{'C': 189.60569001275655, 'k': 1.6355072704778448, 'vr': -64.56539853740806, 'vt': -44.07948966127371, 'vPeak': 45.65363988633885, 'a': 0.011029884565811153, 'b': 14.258380158959888, 'c': -54.56235307014565, 'd': 17.470957013063217}\n",
      "time taken on block 0.0014684200286865234 \n",
      "{'C': 187.8711615492869, 'k': 1.5544429929735932, 'vr': -66.1402558183443, 'vt': -42.87313360515971, 'vPeak': 43.980144155412, 'a': 0.01157660601338941, 'b': 15.301621235320574, 'c': -54.50428084495802, 'd': 34.96262589249914}\n",
      "time taken on block 0.001308441162109375 \n",
      "{'C': 186.0929651531581, 'k': 1.5100965534712563, 'vr': -65.77986193904755, 'vt': -42.976065286002964, 'vPeak': 43.92382996345768, 'a': 0.009167635998172226, 'b': 14.202423032624024, 'c': -54.74800673053393, 'd': 29.668329685623213}\n",
      "time taken on block 0.0013225078582763672 \n",
      "{'C': 171.4873030124488, 'k': 1.533197337985399, 'vr': -63.49634067200273, 'vt': -42.67047186699502, 'vPeak': 41.20032564719516, 'a': 0.012583223558630185, 'b': 13.265964640498778, 'c': -53.96909394269487, 'd': 7.301577382447249}\n",
      "time taken on block 0.001268148422241211 \n",
      "{'C': 189.072412835034, 'k': 1.6479557536535516, 'vr': -66.49070452674881, 'vt': -42.74004821726623, 'vPeak': 41.79092221802298, 'a': 0.009335628821568251, 'b': 14.948085632875861, 'c': -54.340709397868906, 'd': 35.011372387745176}\n",
      "time taken on block 0.0013141632080078125 \n",
      "{'C': 174.295972935761, 'k': 1.6185069479882856, 'vr': -65.2179847287537, 'vt': -44.09872606655408, 'vPeak': 44.02846069324423, 'a': 0.010366591005558212, 'b': 15.15365140981441, 'c': -54.55183235343028, 'd': 18.061159599691607}\n",
      "time taken on block 0.0012850761413574219 \n",
      "{'C': 178.55296073769998, 'k': 1.576191630695692, 'vr': -65.34702706033634, 'vt': -43.276815696550194, 'vPeak': 42.80035620478902, 'a': 0.011047328337189063, 'b': 14.776018392544678, 'c': -54.273874038094725, 'd': 22.958653423836434}\n",
      "time taken on block 0.0013213157653808594 \n",
      "{'C': 181.9913474436284, 'k': 1.5398929164085933, 'vr': -65.91543939182623, 'vt': -42.435632532705554, 'vPeak': 42.17512360103407, 'a': 0.011976308622245278, 'b': 14.135043957806275, 'c': -53.35151320398617, 'd': 25.98516549044479}\n",
      "time taken on block 0.0013210773468017578 \n",
      "{'C': 181.9913474436284, 'k': 1.5398929164085933, 'vr': -65.91543939182623, 'vt': -42.435632532705554, 'vPeak': 42.17512360103407, 'a': 0.011976308622245278, 'b': 14.135043957806275, 'c': -53.35151320398617, 'd': 25.98516549044479}\n",
      "time taken on block 0.0014455318450927734 \n",
      "{'C': 177.0449382772074, 'k': 1.5683037236690507, 'vr': -64.80037804652616, 'vt': -41.893079135156604, 'vPeak': 44.54415691223867, 'a': 0.012626802717666195, 'b': 13.72763014694771, 'c': -55.12505415034779, 'd': 27.126584404688884}\n",
      "time taken on block 0.0013120174407958984 \n",
      "{'C': 185.63959153048845, 'k': 1.5222682311190265, 'vr': -66.47146149709442, 'vt': -42.6921907321322, 'vPeak': 42.09701391736321, 'a': 0.01169617418717098, 'b': 14.952706249722414, 'c': -53.28527293946906, 'd': 19.454434761031422}\n",
      "time taken on block 0.0012874603271484375 \n",
      "{'C': 172.62364793807268, 'k': 1.5045932480753377, 'vr': -67.6470068582627, 'vt': -43.784410328961116, 'vPeak': 42.81772038499146, 'a': 0.012127155642770471, 'b': 14.337310541990467, 'c': -54.83596460609595, 'd': 14.013442827412351}\n",
      "time taken on block 0.001291036605834961 \n",
      "{'C': 187.25402144768893, 'k': 1.5017463310276946, 'vr': -67.67243624708684, 'vt': -43.43390090465867, 'vPeak': 44.81466191114622, 'a': 0.010485859421329291, 'b': 13.33452790961195, 'c': -54.326835510607964, 'd': 25.56353602566474}\n",
      "time taken on block 0.0013055801391601562 \n",
      "{'C': 103.01337465200291, 'k': 1.1258132431781898, 'vr': -66.03800908496375, 'vt': -43.890749932084375, 'vPeak': 47.93504422074863, 'a': 0.024236726776487368, 'b': -1.435774653508638, 'c': -57.16566380705174, 'd': 100.94983330180908}\n",
      "time taken on block 0.0014331340789794922 \n",
      "{'C': 103.01337465200291, 'k': 1.1258132431781898, 'vr': -66.03800908496375, 'vt': -43.890749932084375, 'vPeak': 47.93504422074863, 'a': 0.024236726776487368, 'b': -1.435774653508638, 'c': -57.16566380705174, 'd': 100.94983330180908}\n",
      "time taken on block 0.0013234615325927734 \n",
      "{'C': 101.25758399945023, 'k': 1.2898629751211248, 'vr': -64.13113220563953, 'vt': -45.179714330582776, 'vPeak': 47.442223431745845, 'a': 0.02315880833826573, 'b': -0.9518108917116236, 'c': -56.88583393685212, 'd': 89.98941744204276}\n",
      "time taken on block 0.0012698173522949219 \n",
      "{'C': 99.5230555359806, 'k': 1.2087986976168732, 'vr': -65.70598948657577, 'vt': -43.97335827446877, 'vPeak': 45.768727700819, 'a': 0.023705529785843987, 'b': 0.09143018464906416, 'c': -56.82776171166449, 'd': 107.4810863214787}\n",
      "time taken on block 0.001285552978515625 \n",
      "{'C': 97.74485913985178, 'k': 1.1644522581145362, 'vr': -65.34559560727902, 'vt': -44.07628995531203, 'vPeak': 45.71241350886468, 'a': 0.0212965597706268, 'b': -1.0077680180474877, 'c': -57.071487597240406, 'd': 102.18679011460277}\n",
      "time taken on block 0.001268625259399414 \n",
      "{'C': 83.13919699914248, 'k': 1.187553042628679, 'vr': -63.062074340234204, 'vt': -43.77069653630409, 'vPeak': 42.98890919260216, 'a': 0.02471214733108476, 'b': -1.9442264101727338, 'c': -56.292574809401344, 'd': 79.8200378114268}\n",
      "time taken on block 0.0013070106506347656 \n",
      "{'C': 100.72430682172765, 'k': 1.3023114582968316, 'vr': -66.05643819498029, 'vt': -43.84027288657529, 'vPeak': 43.57950576342998, 'a': 0.021464552594022825, 'b': -0.2621054177956501, 'c': -56.66419026457538, 'd': 107.52983281672473}\n",
      "time taken on block 0.0012814998626708984 \n",
      "{'C': 85.9478669224547, 'k': 1.2728626526315656, 'vr': -64.78371839698518, 'vt': -45.19895073586314, 'vPeak': 45.81704423865123, 'a': 0.022495514778012787, 'b': -0.05653964085710139, 'c': -56.87531322013675, 'd': 90.57962002867116}\n",
      "time taken on block 0.0013086795806884766 \n"
     ]
    },
    {
     "name": "stdout",
     "output_type": "stream",
     "text": [
      "{'C': 90.20485472439364, 'k': 1.230547335338972, 'vr': -64.91276072856782, 'vt': -44.37704036585926, 'vPeak': 44.58893975019602, 'a': 0.02317625210964364, 'b': -0.43417265812683364, 'c': -56.5973549048012, 'd': 95.47711385281599}\n",
      "time taken on block 0.0012843608856201172 \n",
      "{'C': 93.64324143032208, 'k': 1.1942486210518732, 'vr': -65.4811730600577, 'vt': -43.53585720201462, 'vPeak': 43.963707146441074, 'a': 0.024105232394699853, 'b': -1.0751470928652358, 'c': -55.67499407069265, 'd': 98.50362591942435}\n",
      "time taken on block 0.0013127326965332031 \n",
      "{'C': 88.69683226390107, 'k': 1.2226594283123307, 'vr': -64.36611171475764, 'vt': -42.99330380446567, 'vPeak': 46.33274045764567, 'a': 0.02475572649012077, 'b': -1.4825609037238014, 'c': -57.44853501705427, 'd': 99.64504483366844}\n",
      "time taken on block 0.001323699951171875 \n",
      "{'C': 97.29148551718211, 'k': 1.1766239357623065, 'vr': -66.0371951653259, 'vt': -43.79241540144126, 'vPeak': 43.88559746277021, 'a': 0.023825097959625556, 'b': -0.25748480094909715, 'c': -55.608753806175535, 'd': 91.97289519001097}\n",
      "time taken on block 0.001291513442993164 \n",
      "{'C': 97.29148551718211, 'k': 1.1766239357623065, 'vr': -66.0371951653259, 'vt': -43.79241540144126, 'vPeak': 43.88559746277021, 'a': 0.023825097959625556, 'b': -0.25748480094909715, 'c': -55.608753806175535, 'd': 91.97289519001097}\n",
      "time taken on block 0.0012843608856201172 \n",
      "{'C': 84.27554192476636, 'k': 1.1589489527186176, 'vr': -67.21274052649417, 'vt': -44.88463499827018, 'vPeak': 44.60630393039846, 'a': 0.024256079415225045, 'b': -0.872880508681044, 'c': -57.159445472802425, 'd': 86.5319032563919}\n",
      "time taken on block 0.0012745857238769531 \n",
      "{'C': 191.36148066530924, 'k': 1.4714575385349098, 'vr': -66.47227541673227, 'vt': -42.79052526277531, 'vPeak': 46.14646067534163, 'a': 0.012107803004032794, 'b': 13.774416397162874, 'c': -54.84218294034527, 'd': 28.43137287282952}\n",
      "time taken on block 0.0012793540954589844 \n",
      "{'C': 189.60569001275655, 'k': 1.6355072704778448, 'vr': -64.56539853740806, 'vt': -44.07948966127371, 'vPeak': 45.65363988633885, 'a': 0.011029884565811153, 'b': 14.258380158959888, 'c': -54.56235307014565, 'd': 17.470957013063217}\n",
      "time taken on block 0.002235889434814453 \n",
      "{'C': 187.8711615492869, 'k': 1.5544429929735932, 'vr': -66.1402558183443, 'vt': -42.87313360515971, 'vPeak': 43.980144155412, 'a': 0.01157660601338941, 'b': 15.301621235320574, 'c': -54.50428084495802, 'd': 34.96262589249914}\n",
      "time taken on block 0.0013060569763183594 \n",
      "{'C': 186.0929651531581, 'k': 1.5100965534712563, 'vr': -65.77986193904755, 'vt': -42.976065286002964, 'vPeak': 43.92382996345768, 'a': 0.009167635998172226, 'b': 14.202423032624024, 'c': -54.74800673053393, 'd': 29.668329685623213}\n",
      "time taken on block 0.0013003349304199219 \n",
      "{'C': 171.4873030124488, 'k': 1.533197337985399, 'vr': -63.49634067200273, 'vt': -42.67047186699502, 'vPeak': 41.20032564719516, 'a': 0.012583223558630185, 'b': 13.265964640498778, 'c': -53.96909394269487, 'd': 7.301577382447249}\n",
      "time taken on block 0.0012726783752441406 \n",
      "{'C': 189.072412835034, 'k': 1.6479557536535516, 'vr': -66.49070452674881, 'vt': -42.74004821726623, 'vPeak': 41.79092221802298, 'a': 0.009335628821568251, 'b': 14.948085632875861, 'c': -54.340709397868906, 'd': 35.011372387745176}\n",
      "time taken on block 0.0012819766998291016 \n",
      "{'C': 174.295972935761, 'k': 1.6185069479882856, 'vr': -65.2179847287537, 'vt': -44.09872606655408, 'vPeak': 44.02846069324423, 'a': 0.010366591005558212, 'b': 15.15365140981441, 'c': -54.55183235343028, 'd': 18.061159599691607}\n",
      "time taken on block 0.0013461112976074219 \n",
      "{'C': 178.55296073769998, 'k': 1.576191630695692, 'vr': -65.34702706033634, 'vt': -43.276815696550194, 'vPeak': 42.80035620478902, 'a': 0.011047328337189063, 'b': 14.776018392544678, 'c': -54.273874038094725, 'd': 22.958653423836434}\n",
      "time taken on block 0.0013301372528076172 \n",
      "{'C': 181.9913474436284, 'k': 1.5398929164085933, 'vr': -65.91543939182623, 'vt': -42.435632532705554, 'vPeak': 42.17512360103407, 'a': 0.011976308622245278, 'b': 14.135043957806275, 'c': -53.35151320398617, 'd': 25.98516549044479}\n",
      "time taken on block 0.0012829303741455078 \n",
      "{'C': 181.9913474436284, 'k': 1.5398929164085933, 'vr': -65.91543939182623, 'vt': -42.435632532705554, 'vPeak': 42.17512360103407, 'a': 0.011976308622245278, 'b': 14.135043957806275, 'c': -53.35151320398617, 'd': 25.98516549044479}\n",
      "time taken on block 0.001308441162109375 \n",
      "{'C': 177.0449382772074, 'k': 1.5683037236690507, 'vr': -64.80037804652616, 'vt': -41.893079135156604, 'vPeak': 44.54415691223867, 'a': 0.012626802717666195, 'b': 13.72763014694771, 'c': -55.12505415034779, 'd': 27.126584404688884}\n",
      "time taken on block 0.0027992725372314453 \n",
      "{'C': 185.63959153048845, 'k': 1.5222682311190265, 'vr': -66.47146149709442, 'vt': -42.6921907321322, 'vPeak': 42.09701391736321, 'a': 0.01169617418717098, 'b': 14.952706249722414, 'c': -53.28527293946906, 'd': 19.454434761031422}\n",
      "time taken on block 0.001283884048461914 \n",
      "{'C': 172.62364793807268, 'k': 1.5045932480753377, 'vr': -67.6470068582627, 'vt': -43.784410328961116, 'vPeak': 42.81772038499146, 'a': 0.012127155642770471, 'b': 14.337310541990467, 'c': -54.83596460609595, 'd': 14.013442827412351}\n",
      "time taken on block 0.001308441162109375 \n",
      "{'C': 187.25402144768893, 'k': 1.5017463310276946, 'vr': -67.67243624708684, 'vt': -43.43390090465867, 'vPeak': 44.81466191114622, 'a': 0.010485859421329291, 'b': 13.33452790961195, 'c': -54.326835510607964, 'd': 25.56353602566474}\n",
      "time taken on block 0.001295328140258789 \n",
      "{'C': 103.01337465200291, 'k': 1.1258132431781898, 'vr': -66.03800908496375, 'vt': -43.890749932084375, 'vPeak': 47.93504422074863, 'a': 0.024236726776487368, 'b': -1.435774653508638, 'c': -57.16566380705174, 'd': 100.94983330180908}\n",
      "time taken on block 0.0026636123657226562 \n",
      "{'C': 103.01337465200291, 'k': 1.1258132431781898, 'vr': -66.03800908496375, 'vt': -43.890749932084375, 'vPeak': 47.93504422074863, 'a': 0.024236726776487368, 'b': -1.435774653508638, 'c': -57.16566380705174, 'd': 100.94983330180908}\n",
      "time taken on block 0.0013282299041748047 \n",
      "{'C': 101.25758399945023, 'k': 1.2898629751211248, 'vr': -64.13113220563953, 'vt': -45.179714330582776, 'vPeak': 47.442223431745845, 'a': 0.02315880833826573, 'b': -0.9518108917116236, 'c': -56.88583393685212, 'd': 89.98941744204276}\n",
      "time taken on block 0.001300811767578125 \n",
      "{'C': 99.5230555359806, 'k': 1.2087986976168732, 'vr': -65.70598948657577, 'vt': -43.97335827446877, 'vPeak': 45.768727700819, 'a': 0.023705529785843987, 'b': 0.09143018464906416, 'c': -56.82776171166449, 'd': 107.4810863214787}\n",
      "time taken on block 0.00130462646484375 \n",
      "{'C': 97.74485913985178, 'k': 1.1644522581145362, 'vr': -65.34559560727902, 'vt': -44.07628995531203, 'vPeak': 45.71241350886468, 'a': 0.0212965597706268, 'b': -1.0077680180474877, 'c': -57.071487597240406, 'd': 102.18679011460277}\n",
      "time taken on block 0.0012819766998291016 \n",
      "{'C': 83.13919699914248, 'k': 1.187553042628679, 'vr': -63.062074340234204, 'vt': -43.77069653630409, 'vPeak': 42.98890919260216, 'a': 0.02471214733108476, 'b': -1.9442264101727338, 'c': -56.292574809401344, 'd': 79.8200378114268}\n",
      "time taken on block 0.0012831687927246094 \n",
      "{'C': 100.72430682172765, 'k': 1.3023114582968316, 'vr': -66.05643819498029, 'vt': -43.84027288657529, 'vPeak': 43.57950576342998, 'a': 0.021464552594022825, 'b': -0.2621054177956501, 'c': -56.66419026457538, 'd': 107.52983281672473}\n",
      "time taken on block 0.0012769699096679688 \n",
      "{'C': 85.9478669224547, 'k': 1.2728626526315656, 'vr': -64.78371839698518, 'vt': -45.19895073586314, 'vPeak': 45.81704423865123, 'a': 0.022495514778012787, 'b': -0.05653964085710139, 'c': -56.87531322013675, 'd': 90.57962002867116}\n",
      "time taken on block 0.0012691020965576172 \n",
      "{'C': 90.20485472439364, 'k': 1.230547335338972, 'vr': -64.91276072856782, 'vt': -44.37704036585926, 'vPeak': 44.58893975019602, 'a': 0.02317625210964364, 'b': -0.43417265812683364, 'c': -56.5973549048012, 'd': 95.47711385281599}\n",
      "time taken on block 0.0012924671173095703 \n",
      "{'C': 93.64324143032208, 'k': 1.1942486210518732, 'vr': -65.4811730600577, 'vt': -43.53585720201462, 'vPeak': 43.963707146441074, 'a': 0.024105232394699853, 'b': -1.0751470928652358, 'c': -55.67499407069265, 'd': 98.50362591942435}\n",
      "time taken on block 0.0012984275817871094 \n"
     ]
    },
    {
     "name": "stdout",
     "output_type": "stream",
     "text": [
      "{'C': 88.69683226390107, 'k': 1.2226594283123307, 'vr': -64.36611171475764, 'vt': -42.99330380446567, 'vPeak': 46.33274045764567, 'a': 0.02475572649012077, 'b': -1.4825609037238014, 'c': -57.44853501705427, 'd': 99.64504483366844}\n",
      "time taken on block 0.001443624496459961 \n",
      "{'C': 97.29148551718211, 'k': 1.1766239357623065, 'vr': -66.0371951653259, 'vt': -43.79241540144126, 'vPeak': 43.88559746277021, 'a': 0.023825097959625556, 'b': -0.25748480094909715, 'c': -55.608753806175535, 'd': 91.97289519001097}\n",
      "time taken on block 0.0013003349304199219 \n",
      "{'C': 97.29148551718211, 'k': 1.1766239357623065, 'vr': -66.0371951653259, 'vt': -43.79241540144126, 'vPeak': 43.88559746277021, 'a': 0.023825097959625556, 'b': -0.25748480094909715, 'c': -55.608753806175535, 'd': 91.97289519001097}\n",
      "time taken on block 0.001306295394897461 \n",
      "{'C': 84.27554192476636, 'k': 1.1589489527186176, 'vr': -67.21274052649417, 'vt': -44.88463499827018, 'vPeak': 44.60630393039846, 'a': 0.024256079415225045, 'b': -0.872880508681044, 'c': -57.159445472802425, 'd': 86.5319032563919}\n",
      "time taken on block 0.0012927055358886719 \n",
      "{'C': 191.36148066530924, 'k': 1.4714575385349098, 'vr': -66.47227541673227, 'vt': -42.79052526277531, 'vPeak': 46.14646067534163, 'a': 0.012107803004032794, 'b': 13.774416397162874, 'c': -54.84218294034527, 'd': 28.43137287282952}\n",
      "time taken on block 0.0014164447784423828 \n",
      "{'C': 189.60569001275655, 'k': 1.6355072704778448, 'vr': -64.56539853740806, 'vt': -44.07948966127371, 'vPeak': 45.65363988633885, 'a': 0.011029884565811153, 'b': 14.258380158959888, 'c': -54.56235307014565, 'd': 17.470957013063217}\n",
      "time taken on block 0.0012969970703125 \n",
      "{'C': 187.8711615492869, 'k': 1.5544429929735932, 'vr': -66.1402558183443, 'vt': -42.87313360515971, 'vPeak': 43.980144155412, 'a': 0.01157660601338941, 'b': 15.301621235320574, 'c': -54.50428084495802, 'd': 34.96262589249914}\n",
      "time taken on block 0.0013072490692138672 \n",
      "{'C': 186.0929651531581, 'k': 1.5100965534712563, 'vr': -65.77986193904755, 'vt': -42.976065286002964, 'vPeak': 43.92382996345768, 'a': 0.009167635998172226, 'b': 14.202423032624024, 'c': -54.74800673053393, 'd': 29.668329685623213}\n",
      "time taken on block 0.0012996196746826172 \n",
      "{'C': 171.4873030124488, 'k': 1.533197337985399, 'vr': -63.49634067200273, 'vt': -42.67047186699502, 'vPeak': 41.20032564719516, 'a': 0.012583223558630185, 'b': 13.265964640498778, 'c': -53.96909394269487, 'd': 7.301577382447249}\n",
      "time taken on block 0.0013017654418945312 \n",
      "{'C': 189.072412835034, 'k': 1.6479557536535516, 'vr': -66.49070452674881, 'vt': -42.74004821726623, 'vPeak': 41.79092221802298, 'a': 0.009335628821568251, 'b': 14.948085632875861, 'c': -54.340709397868906, 'd': 35.011372387745176}\n",
      "time taken on block 0.0030379295349121094 \n",
      "{'C': 174.295972935761, 'k': 1.6185069479882856, 'vr': -65.2179847287537, 'vt': -44.09872606655408, 'vPeak': 44.02846069324423, 'a': 0.010366591005558212, 'b': 15.15365140981441, 'c': -54.55183235343028, 'd': 18.061159599691607}\n",
      "time taken on block 0.0013022422790527344 \n",
      "{'C': 178.55296073769998, 'k': 1.576191630695692, 'vr': -65.34702706033634, 'vt': -43.276815696550194, 'vPeak': 42.80035620478902, 'a': 0.011047328337189063, 'b': 14.776018392544678, 'c': -54.273874038094725, 'd': 22.958653423836434}\n",
      "time taken on block 0.0013120174407958984 \n",
      "{'C': 181.9913474436284, 'k': 1.5398929164085933, 'vr': -65.91543939182623, 'vt': -42.435632532705554, 'vPeak': 42.17512360103407, 'a': 0.011976308622245278, 'b': 14.135043957806275, 'c': -53.35151320398617, 'd': 25.98516549044479}\n",
      "time taken on block 0.0013051033020019531 \n",
      "{'C': 181.9913474436284, 'k': 1.5398929164085933, 'vr': -65.91543939182623, 'vt': -42.435632532705554, 'vPeak': 42.17512360103407, 'a': 0.011976308622245278, 'b': 14.135043957806275, 'c': -53.35151320398617, 'd': 25.98516549044479}\n",
      "time taken on block 0.001277923583984375 \n",
      "{'C': 177.0449382772074, 'k': 1.5683037236690507, 'vr': -64.80037804652616, 'vt': -41.893079135156604, 'vPeak': 44.54415691223867, 'a': 0.012626802717666195, 'b': 13.72763014694771, 'c': -55.12505415034779, 'd': 27.126584404688884}\n",
      "time taken on block 0.0013642311096191406 \n",
      "{'C': 185.63959153048845, 'k': 1.5222682311190265, 'vr': -66.47146149709442, 'vt': -42.6921907321322, 'vPeak': 42.09701391736321, 'a': 0.01169617418717098, 'b': 14.952706249722414, 'c': -53.28527293946906, 'd': 19.454434761031422}\n",
      "time taken on block 0.0013003349304199219 \n",
      "{'C': 172.62364793807268, 'k': 1.5045932480753377, 'vr': -67.6470068582627, 'vt': -43.784410328961116, 'vPeak': 42.81772038499146, 'a': 0.012127155642770471, 'b': 14.337310541990467, 'c': -54.83596460609595, 'd': 14.013442827412351}\n",
      "time taken on block 0.0012750625610351562 \n",
      "{'C': 187.25402144768893, 'k': 1.5017463310276946, 'vr': -67.67243624708684, 'vt': -43.43390090465867, 'vPeak': 44.81466191114622, 'a': 0.010485859421329291, 'b': 13.33452790961195, 'c': -54.326835510607964, 'd': 25.56353602566474}\n",
      "time taken on block 0.0012929439544677734 \n",
      "{'C': 103.01337465200291, 'k': 1.1258132431781898, 'vr': -66.03800908496375, 'vt': -43.890749932084375, 'vPeak': 47.93504422074863, 'a': 0.024236726776487368, 'b': -1.435774653508638, 'c': -57.16566380705174, 'd': 100.94983330180908}\n",
      "time taken on block 0.0016231536865234375 \n",
      "{'C': 103.01337465200291, 'k': 1.1258132431781898, 'vr': -66.03800908496375, 'vt': -43.890749932084375, 'vPeak': 47.93504422074863, 'a': 0.024236726776487368, 'b': -1.435774653508638, 'c': -57.16566380705174, 'd': 100.94983330180908}\n",
      "time taken on block 0.0012843608856201172 \n",
      "{'C': 101.25758399945023, 'k': 1.2898629751211248, 'vr': -64.13113220563953, 'vt': -45.179714330582776, 'vPeak': 47.442223431745845, 'a': 0.02315880833826573, 'b': -0.9518108917116236, 'c': -56.88583393685212, 'd': 89.98941744204276}\n",
      "time taken on block 0.0012731552124023438 \n",
      "{'C': 99.5230555359806, 'k': 1.2087986976168732, 'vr': -65.70598948657577, 'vt': -43.97335827446877, 'vPeak': 45.768727700819, 'a': 0.023705529785843987, 'b': 0.09143018464906416, 'c': -56.82776171166449, 'd': 107.4810863214787}\n",
      "time taken on block 0.0012731552124023438 \n",
      "{'C': 97.74485913985178, 'k': 1.1644522581145362, 'vr': -65.34559560727902, 'vt': -44.07628995531203, 'vPeak': 45.71241350886468, 'a': 0.0212965597706268, 'b': -1.0077680180474877, 'c': -57.071487597240406, 'd': 102.18679011460277}\n",
      "time taken on block 0.0013053417205810547 \n",
      "{'C': 83.13919699914248, 'k': 1.187553042628679, 'vr': -63.062074340234204, 'vt': -43.77069653630409, 'vPeak': 42.98890919260216, 'a': 0.02471214733108476, 'b': -1.9442264101727338, 'c': -56.292574809401344, 'd': 79.8200378114268}\n",
      "time taken on block 0.001287698745727539 \n",
      "{'C': 100.72430682172765, 'k': 1.3023114582968316, 'vr': -66.05643819498029, 'vt': -43.84027288657529, 'vPeak': 43.57950576342998, 'a': 0.021464552594022825, 'b': -0.2621054177956501, 'c': -56.66419026457538, 'd': 107.52983281672473}\n",
      "time taken on block 0.001313924789428711 \n",
      "{'C': 85.9478669224547, 'k': 1.2728626526315656, 'vr': -64.78371839698518, 'vt': -45.19895073586314, 'vPeak': 45.81704423865123, 'a': 0.022495514778012787, 'b': -0.05653964085710139, 'c': -56.87531322013675, 'd': 90.57962002867116}\n",
      "time taken on block 0.0012886524200439453 \n",
      "{'C': 90.20485472439364, 'k': 1.230547335338972, 'vr': -64.91276072856782, 'vt': -44.37704036585926, 'vPeak': 44.58893975019602, 'a': 0.02317625210964364, 'b': -0.43417265812683364, 'c': -56.5973549048012, 'd': 95.47711385281599}\n",
      "time taken on block 0.0012857913970947266 \n",
      "{'C': 93.64324143032208, 'k': 1.1942486210518732, 'vr': -65.4811730600577, 'vt': -43.53585720201462, 'vPeak': 43.963707146441074, 'a': 0.024105232394699853, 'b': -1.0751470928652358, 'c': -55.67499407069265, 'd': 98.50362591942435}\n",
      "time taken on block 0.0012903213500976562 \n",
      "{'C': 88.69683226390107, 'k': 1.2226594283123307, 'vr': -64.36611171475764, 'vt': -42.99330380446567, 'vPeak': 46.33274045764567, 'a': 0.02475572649012077, 'b': -1.4825609037238014, 'c': -57.44853501705427, 'd': 99.64504483366844}\n",
      "time taken on block 0.001354217529296875 \n",
      "{'C': 97.29148551718211, 'k': 1.1766239357623065, 'vr': -66.0371951653259, 'vt': -43.79241540144126, 'vPeak': 43.88559746277021, 'a': 0.023825097959625556, 'b': -0.25748480094909715, 'c': -55.608753806175535, 'd': 91.97289519001097}\n",
      "time taken on block 0.0013115406036376953 \n"
     ]
    },
    {
     "name": "stdout",
     "output_type": "stream",
     "text": [
      "{'C': 97.29148551718211, 'k': 1.1766239357623065, 'vr': -66.0371951653259, 'vt': -43.79241540144126, 'vPeak': 43.88559746277021, 'a': 0.023825097959625556, 'b': -0.25748480094909715, 'c': -55.608753806175535, 'd': 91.97289519001097}\n",
      "time taken on block 0.001279592514038086 \n",
      "{'C': 84.27554192476636, 'k': 1.1589489527186176, 'vr': -67.21274052649417, 'vt': -44.88463499827018, 'vPeak': 44.60630393039846, 'a': 0.024256079415225045, 'b': -0.872880508681044, 'c': -57.159445472802425, 'd': 86.5319032563919}\n",
      "time taken on block 0.0013079643249511719 \n",
      "{'C': 191.36148066530924, 'k': 1.4714575385349098, 'vr': -66.47227541673227, 'vt': -42.79052526277531, 'vPeak': 46.14646067534163, 'a': 0.012107803004032794, 'b': 13.774416397162874, 'c': -54.84218294034527, 'd': 28.43137287282952}\n",
      "time taken on block 0.0013659000396728516 \n",
      "{'C': 189.60569001275655, 'k': 1.6355072704778448, 'vr': -64.56539853740806, 'vt': -44.07948966127371, 'vPeak': 45.65363988633885, 'a': 0.011029884565811153, 'b': 14.258380158959888, 'c': -54.56235307014565, 'd': 17.470957013063217}\n",
      "time taken on block 0.002306222915649414 \n",
      "{'C': 187.8711615492869, 'k': 1.5544429929735932, 'vr': -66.1402558183443, 'vt': -42.87313360515971, 'vPeak': 43.980144155412, 'a': 0.01157660601338941, 'b': 15.301621235320574, 'c': -54.50428084495802, 'd': 34.96262589249914}\n",
      "time taken on block 0.001280069351196289 \n",
      "{'C': 186.0929651531581, 'k': 1.5100965534712563, 'vr': -65.77986193904755, 'vt': -42.976065286002964, 'vPeak': 43.92382996345768, 'a': 0.009167635998172226, 'b': 14.202423032624024, 'c': -54.74800673053393, 'd': 29.668329685623213}\n",
      "time taken on block 0.001306772232055664 \n",
      "{'C': 171.4873030124488, 'k': 1.533197337985399, 'vr': -63.49634067200273, 'vt': -42.67047186699502, 'vPeak': 41.20032564719516, 'a': 0.012583223558630185, 'b': 13.265964640498778, 'c': -53.96909394269487, 'd': 7.301577382447249}\n",
      "time taken on block 0.0012791156768798828 \n",
      "{'C': 189.072412835034, 'k': 1.6479557536535516, 'vr': -66.49070452674881, 'vt': -42.74004821726623, 'vPeak': 41.79092221802298, 'a': 0.009335628821568251, 'b': 14.948085632875861, 'c': -54.340709397868906, 'd': 35.011372387745176}\n",
      "time taken on block 0.0012691020965576172 \n",
      "{'C': 174.295972935761, 'k': 1.6185069479882856, 'vr': -65.2179847287537, 'vt': -44.09872606655408, 'vPeak': 44.02846069324423, 'a': 0.010366591005558212, 'b': 15.15365140981441, 'c': -54.55183235343028, 'd': 18.061159599691607}\n",
      "time taken on block 0.0013346672058105469 \n",
      "{'C': 178.55296073769998, 'k': 1.576191630695692, 'vr': -65.34702706033634, 'vt': -43.276815696550194, 'vPeak': 42.80035620478902, 'a': 0.011047328337189063, 'b': 14.776018392544678, 'c': -54.273874038094725, 'd': 22.958653423836434}\n",
      "time taken on block 0.001299142837524414 \n",
      "{'C': 181.9913474436284, 'k': 1.5398929164085933, 'vr': -65.91543939182623, 'vt': -42.435632532705554, 'vPeak': 42.17512360103407, 'a': 0.011976308622245278, 'b': 14.135043957806275, 'c': -53.35151320398617, 'd': 25.98516549044479}\n",
      "time taken on block 0.0013098716735839844 \n",
      "{'C': 181.9913474436284, 'k': 1.5398929164085933, 'vr': -65.91543939182623, 'vt': -42.435632532705554, 'vPeak': 42.17512360103407, 'a': 0.011976308622245278, 'b': 14.135043957806275, 'c': -53.35151320398617, 'd': 25.98516549044479}\n",
      "time taken on block 0.0012843608856201172 \n",
      "{'C': 177.0449382772074, 'k': 1.5683037236690507, 'vr': -64.80037804652616, 'vt': -41.893079135156604, 'vPeak': 44.54415691223867, 'a': 0.012626802717666195, 'b': 13.72763014694771, 'c': -55.12505415034779, 'd': 27.126584404688884}\n",
      "time taken on block 0.0012919902801513672 \n",
      "{'C': 185.63959153048845, 'k': 1.5222682311190265, 'vr': -66.47146149709442, 'vt': -42.6921907321322, 'vPeak': 42.09701391736321, 'a': 0.01169617418717098, 'b': 14.952706249722414, 'c': -53.28527293946906, 'd': 19.454434761031422}\n",
      "time taken on block 0.0013098716735839844 \n",
      "{'C': 172.62364793807268, 'k': 1.5045932480753377, 'vr': -67.6470068582627, 'vt': -43.784410328961116, 'vPeak': 42.81772038499146, 'a': 0.012127155642770471, 'b': 14.337310541990467, 'c': -54.83596460609595, 'd': 14.013442827412351}\n",
      "time taken on block 0.00128173828125 \n",
      "{'C': 187.25402144768893, 'k': 1.5017463310276946, 'vr': -67.67243624708684, 'vt': -43.43390090465867, 'vPeak': 44.81466191114622, 'a': 0.010485859421329291, 'b': 13.33452790961195, 'c': -54.326835510607964, 'd': 25.56353602566474}\n",
      "time taken on block 0.0012772083282470703 \n",
      "{'C': 103.01337465200291, 'k': 1.1258132431781898, 'vr': -66.03800908496375, 'vt': -43.890749932084375, 'vPeak': 47.93504422074863, 'a': 0.024236726776487368, 'b': -1.435774653508638, 'c': -57.16566380705174, 'd': 100.94983330180908}\n",
      "time taken on block 0.0012903213500976562 \n",
      "{'C': 103.01337465200291, 'k': 1.1258132431781898, 'vr': -66.03800908496375, 'vt': -43.890749932084375, 'vPeak': 47.93504422074863, 'a': 0.024236726776487368, 'b': -1.435774653508638, 'c': -57.16566380705174, 'd': 100.94983330180908}\n",
      "time taken on block 0.0013172626495361328 \n",
      "{'C': 101.25758399945023, 'k': 1.2898629751211248, 'vr': -64.13113220563953, 'vt': -45.179714330582776, 'vPeak': 47.442223431745845, 'a': 0.02315880833826573, 'b': -0.9518108917116236, 'c': -56.88583393685212, 'd': 89.98941744204276}\n",
      "time taken on block 0.0012888908386230469 \n",
      "{'C': 99.5230555359806, 'k': 1.2087986976168732, 'vr': -65.70598948657577, 'vt': -43.97335827446877, 'vPeak': 45.768727700819, 'a': 0.023705529785843987, 'b': 0.09143018464906416, 'c': -56.82776171166449, 'd': 107.4810863214787}\n",
      "time taken on block 0.001276254653930664 \n",
      "{'C': 97.74485913985178, 'k': 1.1644522581145362, 'vr': -65.34559560727902, 'vt': -44.07628995531203, 'vPeak': 45.71241350886468, 'a': 0.0212965597706268, 'b': -1.0077680180474877, 'c': -57.071487597240406, 'd': 102.18679011460277}\n",
      "time taken on block 0.0012717247009277344 \n",
      "{'C': 83.13919699914248, 'k': 1.187553042628679, 'vr': -63.062074340234204, 'vt': -43.77069653630409, 'vPeak': 42.98890919260216, 'a': 0.02471214733108476, 'b': -1.9442264101727338, 'c': -56.292574809401344, 'd': 79.8200378114268}\n",
      "time taken on block 0.0014047622680664062 \n",
      "{'C': 100.72430682172765, 'k': 1.3023114582968316, 'vr': -66.05643819498029, 'vt': -43.84027288657529, 'vPeak': 43.57950576342998, 'a': 0.021464552594022825, 'b': -0.2621054177956501, 'c': -56.66419026457538, 'd': 107.52983281672473}\n",
      "time taken on block 0.0013158321380615234 \n",
      "{'C': 85.9478669224547, 'k': 1.2728626526315656, 'vr': -64.78371839698518, 'vt': -45.19895073586314, 'vPeak': 45.81704423865123, 'a': 0.022495514778012787, 'b': -0.05653964085710139, 'c': -56.87531322013675, 'd': 90.57962002867116}\n",
      "time taken on block 0.0012965202331542969 \n",
      "{'C': 90.20485472439364, 'k': 1.230547335338972, 'vr': -64.91276072856782, 'vt': -44.37704036585926, 'vPeak': 44.58893975019602, 'a': 0.02317625210964364, 'b': -0.43417265812683364, 'c': -56.5973549048012, 'd': 95.47711385281599}\n",
      "time taken on block 0.0013496875762939453 \n",
      "{'C': 93.64324143032208, 'k': 1.1942486210518732, 'vr': -65.4811730600577, 'vt': -43.53585720201462, 'vPeak': 43.963707146441074, 'a': 0.024105232394699853, 'b': -1.0751470928652358, 'c': -55.67499407069265, 'd': 98.50362591942435}\n",
      "time taken on block 0.001293182373046875 \n",
      "{'C': 88.69683226390107, 'k': 1.2226594283123307, 'vr': -64.36611171475764, 'vt': -42.99330380446567, 'vPeak': 46.33274045764567, 'a': 0.02475572649012077, 'b': -1.4825609037238014, 'c': -57.44853501705427, 'd': 99.64504483366844}\n",
      "time taken on block 0.0014047622680664062 \n",
      "{'C': 97.29148551718211, 'k': 1.1766239357623065, 'vr': -66.0371951653259, 'vt': -43.79241540144126, 'vPeak': 43.88559746277021, 'a': 0.023825097959625556, 'b': -0.25748480094909715, 'c': -55.608753806175535, 'd': 91.97289519001097}\n",
      "time taken on block 0.0014853477478027344 \n",
      "{'C': 97.29148551718211, 'k': 1.1766239357623065, 'vr': -66.0371951653259, 'vt': -43.79241540144126, 'vPeak': 43.88559746277021, 'a': 0.023825097959625556, 'b': -0.25748480094909715, 'c': -55.608753806175535, 'd': 91.97289519001097}\n",
      "time taken on block 0.0012977123260498047 \n",
      "{'C': 84.27554192476636, 'k': 1.1589489527186176, 'vr': -67.21274052649417, 'vt': -44.88463499827018, 'vPeak': 44.60630393039846, 'a': 0.024256079415225045, 'b': -0.872880508681044, 'c': -57.159445472802425, 'd': 86.5319032563919}\n",
      "time taken on block 0.0012967586517333984 \n"
     ]
    },
    {
     "name": "stdout",
     "output_type": "stream",
     "text": [
      "{'C': 191.36148066530924, 'k': 1.4714575385349098, 'vr': -66.47227541673227, 'vt': -42.79052526277531, 'vPeak': 46.14646067534163, 'a': 0.012107803004032794, 'b': 13.774416397162874, 'c': -54.84218294034527, 'd': 28.43137287282952}\n",
      "time taken on block 0.0012667179107666016 \n",
      "{'C': 189.60569001275655, 'k': 1.6355072704778448, 'vr': -64.56539853740806, 'vt': -44.07948966127371, 'vPeak': 45.65363988633885, 'a': 0.011029884565811153, 'b': 14.258380158959888, 'c': -54.56235307014565, 'd': 17.470957013063217}\n",
      "time taken on block 0.0012753009796142578 \n",
      "{'C': 187.8711615492869, 'k': 1.5544429929735932, 'vr': -66.1402558183443, 'vt': -42.87313360515971, 'vPeak': 43.980144155412, 'a': 0.01157660601338941, 'b': 15.301621235320574, 'c': -54.50428084495802, 'd': 34.96262589249914}\n",
      "time taken on block 0.0014388561248779297 \n",
      "{'C': 186.0929651531581, 'k': 1.5100965534712563, 'vr': -65.77986193904755, 'vt': -42.976065286002964, 'vPeak': 43.92382996345768, 'a': 0.009167635998172226, 'b': 14.202423032624024, 'c': -54.74800673053393, 'd': 29.668329685623213}\n",
      "time taken on block 0.001294851303100586 \n",
      "{'C': 171.4873030124488, 'k': 1.533197337985399, 'vr': -63.49634067200273, 'vt': -42.67047186699502, 'vPeak': 41.20032564719516, 'a': 0.012583223558630185, 'b': 13.265964640498778, 'c': -53.96909394269487, 'd': 7.301577382447249}\n",
      "time taken on block 0.0012907981872558594 \n",
      "{'C': 189.072412835034, 'k': 1.6479557536535516, 'vr': -66.49070452674881, 'vt': -42.74004821726623, 'vPeak': 41.79092221802298, 'a': 0.009335628821568251, 'b': 14.948085632875861, 'c': -54.340709397868906, 'd': 35.011372387745176}\n",
      "time taken on block 0.0012972354888916016 \n",
      "{'C': 174.295972935761, 'k': 1.6185069479882856, 'vr': -65.2179847287537, 'vt': -44.09872606655408, 'vPeak': 44.02846069324423, 'a': 0.010366591005558212, 'b': 15.15365140981441, 'c': -54.55183235343028, 'd': 18.061159599691607}\n",
      "time taken on block 0.002140522003173828 \n",
      "{'C': 178.55296073769998, 'k': 1.576191630695692, 'vr': -65.34702706033634, 'vt': -43.276815696550194, 'vPeak': 42.80035620478902, 'a': 0.011047328337189063, 'b': 14.776018392544678, 'c': -54.273874038094725, 'd': 22.958653423836434}\n",
      "time taken on block 0.0012776851654052734 \n",
      "{'C': 181.9913474436284, 'k': 1.5398929164085933, 'vr': -65.91543939182623, 'vt': -42.435632532705554, 'vPeak': 42.17512360103407, 'a': 0.011976308622245278, 'b': 14.135043957806275, 'c': -53.35151320398617, 'd': 25.98516549044479}\n",
      "time taken on block 0.0013058185577392578 \n",
      "{'C': 181.9913474436284, 'k': 1.5398929164085933, 'vr': -65.91543939182623, 'vt': -42.435632532705554, 'vPeak': 42.17512360103407, 'a': 0.011976308622245278, 'b': 14.135043957806275, 'c': -53.35151320398617, 'd': 25.98516549044479}\n",
      "time taken on block 0.0012972354888916016 \n",
      "{'C': 177.0449382772074, 'k': 1.5683037236690507, 'vr': -64.80037804652616, 'vt': -41.893079135156604, 'vPeak': 44.54415691223867, 'a': 0.012626802717666195, 'b': 13.72763014694771, 'c': -55.12505415034779, 'd': 27.126584404688884}\n",
      "time taken on block 0.001287221908569336 \n",
      "{'C': 185.63959153048845, 'k': 1.5222682311190265, 'vr': -66.47146149709442, 'vt': -42.6921907321322, 'vPeak': 42.09701391736321, 'a': 0.01169617418717098, 'b': 14.952706249722414, 'c': -53.28527293946906, 'd': 19.454434761031422}\n",
      "time taken on block 0.0012755393981933594 \n",
      "{'C': 172.62364793807268, 'k': 1.5045932480753377, 'vr': -67.6470068582627, 'vt': -43.784410328961116, 'vPeak': 42.81772038499146, 'a': 0.012127155642770471, 'b': 14.337310541990467, 'c': -54.83596460609595, 'd': 14.013442827412351}\n",
      "time taken on block 0.0012814998626708984 \n",
      "{'C': 187.25402144768893, 'k': 1.5017463310276946, 'vr': -67.67243624708684, 'vt': -43.43390090465867, 'vPeak': 44.81466191114622, 'a': 0.010485859421329291, 'b': 13.33452790961195, 'c': -54.326835510607964, 'd': 25.56353602566474}\n",
      "time taken on block 0.0013077259063720703 \n",
      "{'C': 103.01337465200291, 'k': 1.1258132431781898, 'vr': -66.03800908496375, 'vt': -43.890749932084375, 'vPeak': 47.93504422074863, 'a': 0.024236726776487368, 'b': -1.435774653508638, 'c': -57.16566380705174, 'd': 100.94983330180908}\n",
      "time taken on block 0.0013043880462646484 \n",
      "{'C': 103.01337465200291, 'k': 1.1258132431781898, 'vr': -66.03800908496375, 'vt': -43.890749932084375, 'vPeak': 47.93504422074863, 'a': 0.024236726776487368, 'b': -1.435774653508638, 'c': -57.16566380705174, 'd': 100.94983330180908}\n",
      "time taken on block 0.0012814998626708984 \n",
      "{'C': 101.25758399945023, 'k': 1.2898629751211248, 'vr': -64.13113220563953, 'vt': -45.179714330582776, 'vPeak': 47.442223431745845, 'a': 0.02315880833826573, 'b': -0.9518108917116236, 'c': -56.88583393685212, 'd': 89.98941744204276}\n",
      "time taken on block 0.0013124942779541016 \n",
      "{'C': 99.5230555359806, 'k': 1.2087986976168732, 'vr': -65.70598948657577, 'vt': -43.97335827446877, 'vPeak': 45.768727700819, 'a': 0.023705529785843987, 'b': 0.09143018464906416, 'c': -56.82776171166449, 'd': 107.4810863214787}\n",
      "time taken on block 0.0012869834899902344 \n",
      "{'C': 97.74485913985178, 'k': 1.1644522581145362, 'vr': -65.34559560727902, 'vt': -44.07628995531203, 'vPeak': 45.71241350886468, 'a': 0.0212965597706268, 'b': -1.0077680180474877, 'c': -57.071487597240406, 'd': 102.18679011460277}\n",
      "time taken on block 0.0013170242309570312 \n",
      "{'C': 83.13919699914248, 'k': 1.187553042628679, 'vr': -63.062074340234204, 'vt': -43.77069653630409, 'vPeak': 42.98890919260216, 'a': 0.02471214733108476, 'b': -1.9442264101727338, 'c': -56.292574809401344, 'd': 79.8200378114268}\n",
      "time taken on block 0.0013053417205810547 \n",
      "{'C': 100.72430682172765, 'k': 1.3023114582968316, 'vr': -66.05643819498029, 'vt': -43.84027288657529, 'vPeak': 43.57950576342998, 'a': 0.021464552594022825, 'b': -0.2621054177956501, 'c': -56.66419026457538, 'd': 107.52983281672473}\n",
      "time taken on block 0.0013477802276611328 \n",
      "{'C': 85.9478669224547, 'k': 1.2728626526315656, 'vr': -64.78371839698518, 'vt': -45.19895073586314, 'vPeak': 45.81704423865123, 'a': 0.022495514778012787, 'b': -0.05653964085710139, 'c': -56.87531322013675, 'd': 90.57962002867116}\n",
      "time taken on block 0.0012822151184082031 \n",
      "{'C': 90.20485472439364, 'k': 1.230547335338972, 'vr': -64.91276072856782, 'vt': -44.37704036585926, 'vPeak': 44.58893975019602, 'a': 0.02317625210964364, 'b': -0.43417265812683364, 'c': -56.5973549048012, 'd': 95.47711385281599}\n",
      "time taken on block 0.0013880729675292969 \n",
      "{'C': 93.64324143032208, 'k': 1.1942486210518732, 'vr': -65.4811730600577, 'vt': -43.53585720201462, 'vPeak': 43.963707146441074, 'a': 0.024105232394699853, 'b': -1.0751470928652358, 'c': -55.67499407069265, 'd': 98.50362591942435}\n",
      "time taken on block 0.0012922286987304688 \n",
      "{'C': 88.69683226390107, 'k': 1.2226594283123307, 'vr': -64.36611171475764, 'vt': -42.99330380446567, 'vPeak': 46.33274045764567, 'a': 0.02475572649012077, 'b': -1.4825609037238014, 'c': -57.44853501705427, 'd': 99.64504483366844}\n",
      "time taken on block 0.0013110637664794922 \n",
      "{'C': 97.29148551718211, 'k': 1.1766239357623065, 'vr': -66.0371951653259, 'vt': -43.79241540144126, 'vPeak': 43.88559746277021, 'a': 0.023825097959625556, 'b': -0.25748480094909715, 'c': -55.608753806175535, 'd': 91.97289519001097}\n",
      "time taken on block 0.0016307830810546875 \n",
      "{'C': 97.29148551718211, 'k': 1.1766239357623065, 'vr': -66.0371951653259, 'vt': -43.79241540144126, 'vPeak': 43.88559746277021, 'a': 0.023825097959625556, 'b': -0.25748480094909715, 'c': -55.608753806175535, 'd': 91.97289519001097}\n",
      "time taken on block 0.0018455982208251953 \n",
      "{'C': 84.27554192476636, 'k': 1.1589489527186176, 'vr': -67.21274052649417, 'vt': -44.88463499827018, 'vPeak': 44.60630393039846, 'a': 0.024256079415225045, 'b': -0.872880508681044, 'c': -57.159445472802425, 'd': 86.5319032563919}\n",
      "time taken on block 0.0013654232025146484 \n",
      "{'C': 191.36148066530924, 'k': 1.4714575385349098, 'vr': -66.47227541673227, 'vt': -42.79052526277531, 'vPeak': 46.14646067534163, 'a': 0.012107803004032794, 'b': 13.774416397162874, 'c': -54.84218294034527, 'd': 28.43137287282952}\n",
      "time taken on block 0.002193450927734375 \n",
      "{'C': 189.60569001275655, 'k': 1.6355072704778448, 'vr': -64.56539853740806, 'vt': -44.07948966127371, 'vPeak': 45.65363988633885, 'a': 0.011029884565811153, 'b': 14.258380158959888, 'c': -54.56235307014565, 'd': 17.470957013063217}\n",
      "time taken on block 0.001329183578491211 \n"
     ]
    },
    {
     "name": "stdout",
     "output_type": "stream",
     "text": [
      "{'C': 187.8711615492869, 'k': 1.5544429929735932, 'vr': -66.1402558183443, 'vt': -42.87313360515971, 'vPeak': 43.980144155412, 'a': 0.01157660601338941, 'b': 15.301621235320574, 'c': -54.50428084495802, 'd': 34.96262589249914}\n",
      "time taken on block 0.0015439987182617188 \n",
      "{'C': 186.0929651531581, 'k': 1.5100965534712563, 'vr': -65.77986193904755, 'vt': -42.976065286002964, 'vPeak': 43.92382996345768, 'a': 0.009167635998172226, 'b': 14.202423032624024, 'c': -54.74800673053393, 'd': 29.668329685623213}\n",
      "time taken on block 0.0012905597686767578 \n",
      "{'C': 171.4873030124488, 'k': 1.533197337985399, 'vr': -63.49634067200273, 'vt': -42.67047186699502, 'vPeak': 41.20032564719516, 'a': 0.012583223558630185, 'b': 13.265964640498778, 'c': -53.96909394269487, 'd': 7.301577382447249}\n",
      "time taken on block 0.0016636848449707031 \n",
      "{'C': 189.072412835034, 'k': 1.6479557536535516, 'vr': -66.49070452674881, 'vt': -42.74004821726623, 'vPeak': 41.79092221802298, 'a': 0.009335628821568251, 'b': 14.948085632875861, 'c': -54.340709397868906, 'd': 35.011372387745176}\n",
      "time taken on block 0.0012862682342529297 \n",
      "{'C': 174.295972935761, 'k': 1.6185069479882856, 'vr': -65.2179847287537, 'vt': -44.09872606655408, 'vPeak': 44.02846069324423, 'a': 0.010366591005558212, 'b': 15.15365140981441, 'c': -54.55183235343028, 'd': 18.061159599691607}\n",
      "time taken on block 0.0012927055358886719 \n",
      "{'C': 178.55296073769998, 'k': 1.576191630695692, 'vr': -65.34702706033634, 'vt': -43.276815696550194, 'vPeak': 42.80035620478902, 'a': 0.011047328337189063, 'b': 14.776018392544678, 'c': -54.273874038094725, 'd': 22.958653423836434}\n",
      "time taken on block 0.0012874603271484375 \n",
      "{'C': 181.9913474436284, 'k': 1.5398929164085933, 'vr': -65.91543939182623, 'vt': -42.435632532705554, 'vPeak': 42.17512360103407, 'a': 0.011976308622245278, 'b': 14.135043957806275, 'c': -53.35151320398617, 'd': 25.98516549044479}\n",
      "time taken on block 0.0012803077697753906 \n",
      "{'C': 181.9913474436284, 'k': 1.5398929164085933, 'vr': -65.91543939182623, 'vt': -42.435632532705554, 'vPeak': 42.17512360103407, 'a': 0.011976308622245278, 'b': 14.135043957806275, 'c': -53.35151320398617, 'd': 25.98516549044479}\n",
      "time taken on block 0.001348257064819336 \n",
      "{'C': 177.0449382772074, 'k': 1.5683037236690507, 'vr': -64.80037804652616, 'vt': -41.893079135156604, 'vPeak': 44.54415691223867, 'a': 0.012626802717666195, 'b': 13.72763014694771, 'c': -55.12505415034779, 'd': 27.126584404688884}\n",
      "time taken on block 0.0012669563293457031 \n",
      "{'C': 185.63959153048845, 'k': 1.5222682311190265, 'vr': -66.47146149709442, 'vt': -42.6921907321322, 'vPeak': 42.09701391736321, 'a': 0.01169617418717098, 'b': 14.952706249722414, 'c': -53.28527293946906, 'd': 19.454434761031422}\n",
      "time taken on block 0.001348733901977539 \n",
      "{'C': 172.62364793807268, 'k': 1.5045932480753377, 'vr': -67.6470068582627, 'vt': -43.784410328961116, 'vPeak': 42.81772038499146, 'a': 0.012127155642770471, 'b': 14.337310541990467, 'c': -54.83596460609595, 'd': 14.013442827412351}\n",
      "time taken on block 0.0023102760314941406 \n",
      "{'C': 187.25402144768893, 'k': 1.5017463310276946, 'vr': -67.67243624708684, 'vt': -43.43390090465867, 'vPeak': 44.81466191114622, 'a': 0.010485859421329291, 'b': 13.33452790961195, 'c': -54.326835510607964, 'd': 25.56353602566474}\n",
      "time taken on block 0.0013277530670166016 \n",
      "<neuronunit.optimisation.data_transport_container.DataTC object at 0x7f9cb53277d0>\n",
      "{'C': 138.5947107529475, 'k': 1.377184756150044, 'vr': -65.6121483176481, 'vt': -43.549163270916566, 'vPeak': 44.37820493783717, 'a': 0.01740547724991253, 'b': 6.747161549908509, 'c': -55.46838618443716, 'd': 59.84229666565393}\n",
      "time taken on block 0.001299142837524414 \n",
      "RheobaseTest 209.619140625 pA\n",
      "TimeConstantTest 2.5615619901352877 ms\n",
      "RestingPotentialTest -65.6121483176481 mV\n",
      "InputResistanceTest 26667384.317055106 kg*m**2/(s**3*A**2)\n",
      "CapacitanceTest 9.605598958188946e-11 s**4*A**2/(kg*m**2)\n",
      "InjectedCurrentAPWidthTest 0.00051 s\n",
      "InjectedCurrentAPAmplitudeTest 65.0806171035867 mV\n",
      "InjectedCurrentAPThresholdTest -20.70241216574954 mV\n"
     ]
    },
    {
     "data": {
      "text/plain": [
       "{'RheobaseTest': array(209.61914062) * pA,\n",
       " 'TimeConstantTest': array(2.56156199) * ms,\n",
       " 'RestingPotentialTest': array(-65.61214832) * mV,\n",
       " 'InputResistanceTest': array(26667384.31705511) * kg*m**2/(s**3*A**2),\n",
       " 'CapacitanceTest': array(9.60559896e-11) * s**4*A**2/(kg*m**2),\n",
       " 'InjectedCurrentAPWidthTest': array(0.00051) * s,\n",
       " 'InjectedCurrentAPAmplitudeTest': array(65.0806171) * mV,\n",
       " 'InjectedCurrentAPThresholdTest': array(-20.70241217) * mV}"
      ]
     },
     "execution_count": 35,
     "metadata": {},
     "output_type": "execute_result"
    }
   ],
   "source": [
    "\n",
    "def random_p(backend,target):\n",
    "    ranges = MODEL_PARAMS[backend]\n",
    "    import numpy, time\n",
    "    date_int = int(time.time())\n",
    "    numpy.random.seed(date_int)\n",
    "\n",
    "    random_param1 = {} # randomly sample a point in the viable parameter space.\n",
    "    for k in ranges.keys():\n",
    "        mean = target.attrs[k]\n",
    "        var = np.var(ranges[k])\n",
    "        std = np.sqrt(var)\n",
    "        sample = numpy.random.normal(loc=mean, scale=std/10, size=1)[0]\n",
    "        random_param1[k] = sample\n",
    "    return random_param1\n",
    "popa = []\n",
    "popb = []\n",
    "backend=\"IZHI\"\n",
    "for i in range(0,14):\n",
    "    aa = random_p(backend,target0)\n",
    "    dtc = DataTC(backend=backend)\n",
    "    dtc.attrs = aa\n",
    "    dtc.tests = nu_tests0\n",
    "    dtc.self_evaluate()\n",
    "    popa.append(dtc)\n",
    "    \n",
    "    \n",
    "    bb = random_p(backend,target1)\n",
    "    dtc = DataTC(backend=backend)\n",
    "    dtc.attrs = bb\n",
    "    dtc.tests = nu_tests0\n",
    "    dtc.self_evaluate()\n",
    "    popb.append(dtc)\n",
    "    \n",
    "all_neurons = popa \n",
    "all_neurons.extend(popb)\n",
    "\n",
    "mean_parametersb = {}\n",
    "for k,v in dtc.attrs.items():\n",
    "    mean_parametersb[k] = np.mean([n.attrs[k] for n in popb])\n",
    "mean_parametersb;\n",
    "\n",
    "mean_parametersa = {}\n",
    "\n",
    "for k,v in dtc.attrs.items():\n",
    "    mean_parametersa[k] = np.mean([n.attrs[k] for n in popa])\n",
    "mean_parametersa;\n",
    "\n",
    "collect_measurements = {}\n",
    "mean_parameters = {}\n",
    "containers = {}\n",
    "for i,tt in enumerate(dtc.tests):\n",
    "    containers[tt.name] = []\n",
    "    for dtc_local in all_neurons:\n",
    "        dtc_local.self_evaluate()\n",
    "        try:\n",
    "            containers[tt.name].append(dtc_local.tests[i].prediction['value'])\n",
    "        except:\n",
    "            containers[tt.name].append(dtc_local.tests[i].prediction['mean'])\n",
    "    collect_measurements[tt.name] =containers[tt.name]\n",
    "    \n",
    "    \n",
    "for k,v in dtc.attrs.items():\n",
    "    mean_parameters[k] = np.mean([n.attrs[k] for n in all_neurons])\n",
    "    \n",
    "mean_parameters;\n",
    "\n",
    "#mean_model = dtc\n",
    "mean_model = DataTC(backend=model)\n",
    "#mean_model.attrs = mean_a_dict\n",
    "\n",
    "mean_model.attrs = mean_parameters\n",
    "print(mean_model)\n",
    "mean_model.tests = nu_tests0\n",
    "mean_model.self_evaluate()\n",
    "store_mean_model_tests = {}\n",
    "for t in mean_model.tests:\n",
    "    try:\n",
    "        print(t.name,t.prediction['mean'])\n",
    "        store_mean_model_tests[t.name] = t.prediction['mean']\n",
    "    except:\n",
    "        print(t.name,t.prediction['value'])\n",
    "        store_mean_model_tests[t.name] = t.prediction['value']\n",
    "store_mean_model_tests\n"
   ]
  },
  {
   "cell_type": "markdown",
   "metadata": {},
   "source": [
    "# Finally confirm there are bimodal and unimodal distributions"
   ]
  },
  {
   "cell_type": "code",
   "execution_count": 62,
   "metadata": {},
   "outputs": [
    {
     "data": {
      "text/plain": [
       "<matplotlib.axes._subplots.AxesSubplot at 0x7f9cb4371d90>"
      ]
     },
     "execution_count": 62,
     "metadata": {},
     "output_type": "execute_result"
    },
    {
     "data": {
      "image/png": "[encoded data removed]",
      "text/plain": [
       "<Figure size 432x288 with 1 Axes>"
      ]
     },
     "metadata": {
      "needs_background": "light"
     },
     "output_type": "display_data"
    }
   ],
   "source": [
    "collect_measurements;\n",
    "bins2 = int(len(collect_measurements[\"InjectedCurrentAPAmplitudeTest\"])/2)\n",
    "\n",
    "import seaborn as sns\n",
    "sns.distplot(collect_measurements[\"CapacitanceTest\"],bins=bins2)"
   ]
  },
  {
   "cell_type": "code",
   "execution_count": 63,
   "metadata": {},
   "outputs": [
    {
     "data": {
      "text/plain": [
       "<matplotlib.axes._subplots.AxesSubplot at 0x7f9cb43088d0>"
      ]
     },
     "execution_count": 63,
     "metadata": {},
     "output_type": "execute_result"
    },
    {
     "data": {
      "image/png": "[encoded data removed]",
      "text/plain": [
       "<Figure size 432x288 with 1 Axes>"
      ]
     },
     "metadata": {
      "needs_background": "light"
     },
     "output_type": "display_data"
    }
   ],
   "source": [
    "collect_measurements;\n",
    "\n",
    "import seaborn as sns\n",
    "sns.distplot(collect_measurements[\"TimeConstantTest\"],bins=bins2)"
   ]
  },
  {
   "cell_type": "code",
   "execution_count": 64,
   "metadata": {},
   "outputs": [
    {
     "data": {
      "text/plain": [
       "<matplotlib.axes._subplots.AxesSubplot at 0x7f9cb421e5d0>"
      ]
     },
     "execution_count": 64,
     "metadata": {},
     "output_type": "execute_result"
    },
    {
     "data": {
      "image/png": "[encoded data removed]",
      "text/plain": [
       "<Figure size 432x288 with 1 Axes>"
      ]
     },
     "metadata": {
      "needs_background": "light"
     },
     "output_type": "display_data"
    }
   ],
   "source": [
    "collect_measurements;\n",
    "\n",
    "import seaborn as sns\n",
    "\n",
    "sns.distplot(collect_measurements[\"InjectedCurrentAPAmplitudeTest\"],bins=bins2)"
   ]
  },
  {
   "cell_type": "code",
   "execution_count": 65,
   "metadata": {},
   "outputs": [
    {
     "data": {
      "image/png": "[encoded data removed]",
      "text/plain": [
       "<Figure size 432x288 with 1 Axes>"
      ]
     },
     "metadata": {
      "needs_background": "light"
     },
     "output_type": "display_data"
    },
    {
     "data": {
      "image/png": "[encoded data removed]",
      "text/plain": [
       "<Figure size 432x288 with 1 Axes>"
      ]
     },
     "metadata": {
      "needs_background": "light"
     },
     "output_type": "display_data"
    },
    {
     "data": {
      "image/png": "[encoded data removed]",
      "text/plain": [
       "<Figure size 432x288 with 1 Axes>"
      ]
     },
     "metadata": {
      "needs_background": "light"
     },
     "output_type": "display_data"
    },
    {
     "data": {
      "image/png": "[encoded data removed]",
      "text/plain": [
       "<Figure size 432x288 with 1 Axes>"
      ]
     },
     "metadata": {
      "needs_background": "light"
     },
     "output_type": "display_data"
    },
    {
     "data": {
      "image/png": "[encoded data removed]",
      "text/plain": [
       "<Figure size 432x288 with 1 Axes>"
      ]
     },
     "metadata": {
      "needs_background": "light"
     },
     "output_type": "display_data"
    },
    {
     "data": {
      "image/png": "[encoded data removed]",
      "text/plain": [
       "<Figure size 432x288 with 1 Axes>"
      ]
     },
     "metadata": {
      "needs_background": "light"
     },
     "output_type": "display_data"
    },
    {
     "data": {
      "image/png": "[encoded data removed]",
      "text/plain": [
       "<Figure size 432x288 with 1 Axes>"
      ]
     },
     "metadata": {
      "needs_background": "light"
     },
     "output_type": "display_data"
    },
    {
     "data": {
      "image/png": "[encoded data removed]",
      "text/plain": [
       "<Figure size 432x288 with 1 Axes>"
      ]
     },
     "metadata": {
      "needs_background": "light"
     },
     "output_type": "display_data"
    }
   ],
   "source": [
    "collect_measurements;\n",
    "\n",
    "import seaborn as sns\n",
    "for k in collect_measurements.keys():\n",
    "    fig = plt.figure()\n",
    "\n",
    "    plt.clf()\n",
    "    plt.title(k)\n",
    "    sns.distplot(collect_measurements[k],bins=bins2)"
   ]
  },
  {
   "cell_type": "code",
   "execution_count": 66,
   "metadata": {
    "lines_to_next_cell": 2
   },
   "outputs": [
    {
     "ename": "KeyError",
     "evalue": "'InputResistanceTest'",
     "output_type": "error",
     "traceback": [
      "\u001b[0;31m---------------------------------------------------------------------------\u001b[0m",
      "\u001b[0;31mKeyError\u001b[0m                                  Traceback (most recent call last)",
      "\u001b[0;32m<ipython-input-66-0f4e0766a314>\u001b[0m in \u001b[0;36m<module>\u001b[0;34m\u001b[0m\n\u001b[1;32m     12\u001b[0m \u001b[0;34m\u001b[0m\u001b[0m\n\u001b[1;32m     13\u001b[0m \u001b[0;34m\u001b[0m\u001b[0m\n\u001b[0;32m---> 14\u001b[0;31m \u001b[0mplt\u001b[0m\u001b[0;34m.\u001b[0m\u001b[0mbar\u001b[0m\u001b[0;34m(\u001b[0m\u001b[0;36m1\u001b[0m\u001b[0;34m,\u001b[0m\u001b[0mmean_o_dict\u001b[0m\u001b[0;34m[\u001b[0m\u001b[0;34m'InputResistanceTest'\u001b[0m\u001b[0;34m]\u001b[0m\u001b[0;34m,\u001b[0m \u001b[0;36m1\u001b[0m\u001b[0;34m)\u001b[0m\u001b[0;34m\u001b[0m\u001b[0;34m\u001b[0m\u001b[0m\n\u001b[0m\u001b[1;32m     15\u001b[0m \u001b[0mplt\u001b[0m\u001b[0;34m.\u001b[0m\u001b[0mbar\u001b[0m\u001b[0;34m(\u001b[0m\u001b[0;36m1\u001b[0m\u001b[0;34m,\u001b[0m\u001b[0mpreds\u001b[0m\u001b[0;34m[\u001b[0m\u001b[0;34m'InputResistanceTest'\u001b[0m\u001b[0;34m]\u001b[0m\u001b[0;34m,\u001b[0m \u001b[0;36m1\u001b[0m\u001b[0;34m)\u001b[0m\u001b[0;34m\u001b[0m\u001b[0;34m\u001b[0m\u001b[0m\n\u001b[1;32m     16\u001b[0m \u001b[0;31m#plt.semilogy()\u001b[0m\u001b[0;34m\u001b[0m\u001b[0;34m\u001b[0m\u001b[0;34m\u001b[0m\u001b[0m\n",
      "\u001b[0;31mKeyError\u001b[0m: 'InputResistanceTest'"
     ]
    }
   ],
   "source": [
    "mean_o_dict;\n",
    "\n",
    "\n",
    "\n",
    "width = 0.35       # the width of the bars: can also be len(x) sequence\n",
    "\n",
    "measure0 = list(mean_o_dict.values())\n",
    "N = len(measure0)\n",
    "ind = np.arange(N)    # the x locations for the groups\n",
    "\n",
    "measure1 = list(preds.values())\n",
    "\n",
    "\n",
    "plt.bar(1,mean_o_dict['InputResistanceTest'], 1)\n",
    "plt.bar(1,preds['InputResistanceTest'], 1)\n",
    "#plt.semilogy()\n",
    "\n",
    "\n",
    "plt.ylabel('InputResistanceTest')\n",
    "plt.title('InputResistanceTest grouped by test')\n",
    "\n",
    "preds.pop(\"InputResistanceTest\",None)\n",
    "mean_o_dict.pop(\"InputResistanceTest\",None)\n",
    "\n",
    "#plt.xticks(ind, (list(preds.keys())))\n",
    "#plt.xticks(rotation=90)\n",
    "plt.show()"
   ]
  },
  {
   "cell_type": "code",
   "execution_count": null,
   "metadata": {},
   "outputs": [],
   "source": []
  },
  {
   "cell_type": "code",
   "execution_count": null,
   "metadata": {},
   "outputs": [],
   "source": [
    "\n",
    "import numpy as np\n",
    "import matplotlib.pyplot as plt\n",
    "\n",
    "\n",
    "width = 0.35       # the width of the bars: can also be len(x) sequence\n",
    "\n",
    "measure0 = list(mean_o_dict.values())\n",
    "N = len(measure0)\n",
    "ind = np.arange(N)    # the x locations for the groups\n",
    "\n",
    "measure1 = list(preds.values())\n",
    "\n",
    "\n",
    "plt.bar(1,mean_o_dict['TimeConstantTest'], 1)\n",
    "plt.bar(1,preds['TimeConstantTest'], 1)\n",
    "#plt.semilogy()\n",
    "\n",
    "\n",
    "plt.ylabel('TimeConstantTest')\n",
    "plt.title('TimeConstantTest grouped by test')\n",
    "\n",
    "preds.pop(\"TimeConstantTest\",None)\n",
    "mean_o_dict.pop(\"TimeConstantTest\",None)\n",
    "\n",
    "#plt.xticks(ind, (list(preds.keys())))\n",
    "#plt.xticks(rotation=90)\n",
    "plt.show()\n",
    "\n",
    "import scipy\n",
    "tStat, pValue =  scipy.stats.ttest_1samp(a, popmean, axis=0)\n",
    "print(\"P-Value:{0} T-Statistic:{1}\".format(pValue,tStat)) #print the P-Value and the T-Statistic"
   ]
  },
  {
   "cell_type": "code",
   "execution_count": null,
   "metadata": {
    "lines_to_next_cell": 0
   },
   "outputs": [],
   "source": [
    "mean_o_dict;\n",
    "\n",
    "import numpy as np\n",
    "import matplotlib.pyplot as plt\n",
    "\n",
    "\n",
    "width = 0.35       # the width of the bars: can also be len(x) sequence\n",
    "\n",
    "measure0 = list(mean_o_dict.values())\n",
    "N = len(measure0)\n",
    "ind = np.arange(N)    # the x locations for the groups\n",
    "\n",
    "measure1 = list(preds.values())\n",
    "\n",
    "\n",
    "plt.bar(1,mean_o_dict['InjectedCurrentAPAmplitudeTest'], 1)\n",
    "plt.bar(1,preds['InjectedCurrentAPAmplitudeTest'], 1)\n",
    "#plt.semilogy()\n",
    "\n",
    "\n",
    "plt.ylabel('InjectedCurrentAPAmplitudeTest')\n",
    "plt.title('InjectedCurrentAPAmplitudeTest grouped by test')\n",
    "\n",
    "preds.pop(\"InjectedCurrentAPAmplitudeTest\",None)\n",
    "mean_o_dict.pop(\"InjectedCurrentAPAmplitudeTest\",None)\n",
    "\n",
    "#plt.xticks(ind, (list(preds.keys())))\n",
    "#plt.xticks(rotation=90)\n",
    "plt.show()\n",
    "measure1"
   ]
  },
  {
   "cell_type": "code",
   "execution_count": null,
   "metadata": {
    "lines_to_next_cell": 2
   },
   "outputs": [],
   "source": []
  },
  {
   "cell_type": "code",
   "execution_count": null,
   "metadata": {},
   "outputs": [],
   "source": []
  },
  {
   "cell_type": "code",
   "execution_count": null,
   "metadata": {},
   "outputs": [],
   "source": [
    "#plt.bar(range(0,len(measure1)),measure1, width)\n",
    "#plt.semilogy()\n",
    "plt.plot(range(0,len(measure1)),measure1)\n",
    "plt.plot(range(0,len(measure0)),measure0)\n",
    "\n",
    "\n",
    "plt.ylabel('Measurements')\n",
    "plt.title('Measurements grouped by test')\n",
    "plt.xticks(ind, (list(preds.keys())))\n",
    "plt.xticks(rotation=90)\n",
    "plt.show()\n",
    "measure1"
   ]
  },
  {
   "cell_type": "code",
   "execution_count": null,
   "metadata": {
    "lines_to_next_cell": 2
   },
   "outputs": [],
   "source": [
    "\n",
    "\n",
    "\n",
    "\n",
    "\n",
    "\n",
    "\n",
    "def initialise_test(v,rheobase):\n",
    "    v = switch_logic([v])\n",
    "    v = v[0]\n",
    "    k = v.name\n",
    "    if not hasattr(v,'params'):\n",
    "        v.params = {}\n",
    "    if not 'injected_square_current' in v.params.keys():    \n",
    "        v.params['injected_square_current'] = {}\n",
    "    if v.passive == False and v.active == True:\n",
    "        keyed = v.params['injected_square_current']\n",
    "        v.params = active_values(keyed,rheobase)\n",
    "        v.params['injected_square_current']['delay'] = DELAY\n",
    "        v.params['injected_square_current']['duration'] = DURATION\n",
    "    if v.passive == True and v.active == False:\n",
    "\n",
    "        v.params['injected_square_current']['amplitude'] =  -10*pq.pA\n",
    "        v.params['injected_square_current']['delay'] = PASSIVE_DELAY\n",
    "        v.params['injected_square_current']['duration'] = PASSIVE_DURATION\n",
    "\n",
    "    if v.name in str('RestingPotentialTest'):\n",
    "        v.params['injected_square_current']['delay'] = PASSIVE_DELAY\n",
    "        v.params['injected_square_current']['duration'] = PASSIVE_DURATION\n",
    "        v.params['injected_square_current']['amplitude'] = 0.0*pq.pA    \n",
    "        \n",
    "    return v\n",
    "\n",
    "class NUFeature(object):\n",
    "    def __init__(self,test,model):\n",
    "        self.test = test\n",
    "        self.model = model\n",
    "    def calculate_score(self,responses):\n",
    "        model = responses['model'].dtc_to_model()\n",
    "        model.attrs = responses['params']\n",
    "        \n",
    "        ##\n",
    "        # Last 4 lines entered\n",
    "        ##\n",
    "        if responses['rheobase'] is None:\n",
    "            return 100.0\n",
    "        if type(responses['rheobase']) is type(dict()):\n",
    "            if responses['rheobase']['value'] is None:\n",
    "                return 100.0\n",
    "        self.test = initialise_test(self.test,responses['rheobase'])\n",
    "        #if \"RestingPotential\" in str(self.test.name):            \n",
    "        #    print(self.test.observation,self.test.prediction)\n",
    "        if \"Rheobase\" in str(self.test.name):\n",
    "            prediction = {'value':responses['rheobase']}\n",
    "\n",
    "            score_gene = self.test.compute_score(self.test.observation,prediction)\n",
    "            try:\n",
    "\n",
    "                lns = np.abs(score_gene.log_norm_score)\n",
    "            except:\n",
    "                # works 1/2 time that log_norm_score does not work\n",
    "                # more informative than nominal bad score 100\n",
    "                #lns = float(score_gene.raw)\n",
    "\n",
    "                lns = np.abs(float(score_gene.raw))\n",
    "            return lns\n",
    "\n",
    "        else:\n",
    "            try:\n",
    "                score_gene = self.test.judge(model)\n",
    "            except:\n",
    "                return 100.0\n",
    "\n",
    "        if not isinstance(type(score_gene),type(None)):\n",
    "            if not isinstance(score_gene,sciunit.scores.InsufficientDataScore):\n",
    "                if not isinstance(type(score_gene.log_norm_score),type(None)):\n",
    "                    try:\n",
    "\n",
    "                        lns = np.abs(score_gene.log_norm_score)\n",
    "                    except:\n",
    "                        # works 1/2 time that log_norm_score does not work\n",
    "                        # more informative than nominal bad score 100\n",
    "                        s\n",
    "                else:\n",
    "                    # works 1/2 time that log_norm_score does not work\n",
    "                    # more informative than nominal bad score 100\n",
    "\n",
    "                    lns = np.abs(score_gene.raw)\n",
    "            else:\n",
    "                prediction = self.test.generate_prediction(model)\n",
    "                lns = 100\n",
    "        if lns==np.inf:\n",
    "            \n",
    "\n",
    "            lns = float(score_gene.raw)\n",
    "        return lns\n",
    "\n",
    "    \n",
    "objectives = []\n",
    "#for protocol in sweep_protocols:\n",
    "#    stim_start = protocol.stimuli[0].step_delay\n",
    "#    stim_end = stim_start + protocol.stimuli[0].step_duration\n",
    "    \n",
    "for tt in nu_tests:\n",
    "    feature_name = '%s.%s' % (tt.name, tt.name)\n",
    "    ft = NUFeature(tt,model)\n",
    "    objective = ephys.objectives.SingletonObjective(\n",
    "        feature_name,\n",
    "        ft)\n",
    "    objectives.append(objective)\n",
    "\n",
    "score_calc = ephys.objectivescalculators.ObjectivesCalculator(objectives) \n",
    "        \n",
    "        \n",
    "#objectives[0]        \n",
    "\n",
    "\n",
    "\n",
    "# ### Creating the cell evaluator\n",
    "# \n",
    "# We will need an object that can use these objective definitions to calculate the scores from a protocol response. This is called a ScoreCalculator.\n",
    "\n",
    "\n",
    "\n",
    "\n",
    "lop={}\n",
    "from bluepyopt.parameters import Parameter\n",
    "for k,v in MODEL_PARAMS[\"IZHI\"].items():\n",
    "    p = Parameter(name=k,bounds=v,frozen=False)\n",
    "    lop[k] = p\n",
    "\n",
    "print(lop)\n",
    "simple_cell.params = lop\n",
    "\n",
    "nu_tests[0].judge(simple_cell)\n",
    "\n",
    "nu_tests[0].score_type = ZScore\n",
    "\n",
    "\n",
    "# Combining everything together we have a CellEvaluator. The CellEvaluator constructor has a field 'parameter_names' which contains the (ordered) list of names of the parameters that are used as input (and will be fitted later on).\n",
    "sweep_protocols = []\n",
    "for protocol_name, amplitude in [('step1', 0.05)]:\n",
    "\n",
    "    protocol = ephys.protocols.SweepProtocol(protocol_name, [None], [None])\n",
    "    sweep_protocols.append(protocol)\n",
    "twostep_protocol = ephys.protocols.SequenceProtocol('twostep', protocols=sweep_protocols)\n",
    "\n",
    "MODEL_PARAMS[\"IZHI\"]\n",
    "cell_evaluator = ephys.evaluators.CellEvaluator(\n",
    "        cell_model=simple_cell,\n",
    "        param_names=MODEL_PARAMS[\"IZHI\"].keys(),\n",
    "        fitness_protocols={twostep_protocol.name: twostep_protocol},\n",
    "        fitness_calculator=score_calc,\n",
    "        sim='euler')\n",
    "simple_cell.params_by_names(MODEL_PARAMS[\"IZHI\"].keys())\n",
    "simple_cell.params;\n",
    "\n",
    "\n",
    "# ### Evaluating the cell\n",
    "# \n",
    "# The cell can now be evaluate for a certain set of parameter values.\n",
    "\n",
    "# In[ ]:\n",
    "\n",
    "\n",
    "#default_params = MODEL_PARAMS[\"IZHI\"]\n",
    "#print(cell_evaluator.evaluate_with_dicts())\n",
    "\n",
    "\n",
    "# ## Setting up and running an optimisation\n",
    "# \n",
    "# Now that we have a cell template and an evaluator for this cell, we can set up an optimisation.\n",
    "import dask\n",
    "def dask_map_function(eval_,invalid_ind):\n",
    "    results = []\n",
    "    for x in invalid_ind:\n",
    "        y = dask.delayed(eval_)(x)\n",
    "        results.append(y)\n",
    "    fitnesses = dask.compute(*results)\n",
    "    return fitnesses\n",
    "\n",
    "\n",
    "\n",
    "MU =100\n",
    "optimisation = bpop.optimisations.DEAPOptimisation(\n",
    "        evaluator=cell_evaluator,\n",
    "        offspring_size = MU,\n",
    "        map_function = dask_map_function,\n",
    "        selector_name='IBEA',\n",
    "        mutpb=0.05,\n",
    "        cxpb=0.4)\n",
    "\n",
    "\n",
    "# And this optimisation can be run for a certain number of generations\n",
    "\n",
    "\n",
    "\n",
    "final_pop, hall_of_fame, logs, hist = optimisation.run(max_ngen=100)\n",
    "\n"
   ]
  },
  {
   "cell_type": "code",
   "execution_count": null,
   "metadata": {
    "lines_to_next_cell": 2
   },
   "outputs": [],
   "source": [
    "\n",
    "\n",
    "# The optimisation has return us 4 objects: final population, hall of fame, statistical logs and history. \n",
    "# \n",
    "# The final population contains a list of tuples, with each tuple representing the two parameters of the model\n",
    "\n",
    "\n",
    "print('Final population: ', final_pop)\n",
    "\n",
    "\n",
    "# The best individual found during the optimisation is the first individual of the hall of fame\n",
    "\n",
    "best_ind = hall_of_fame[0]\n",
    "print('Best individual: ', best_ind)\n",
    "print('Fitness values: ', best_ind.fitness.values)\n",
    "\n",
    "\n",
    "# We can evaluate this individual and make use of a convenience function of the cell evaluator to return us a dict of the parameters\n",
    "\n",
    "\n",
    "best_ind_dict = cell_evaluator.param_dict(best_ind)\n",
    "print(cell_evaluator.evaluate_with_dicts(best_ind_dict))\n",
    "\n",
    "\n",
    "model = cell_evaluator.cell_model\n",
    "cell_evaluator.param_dict(best_ind)\n",
    "model.attrs = {str(k):float(v) for k,v in cell_evaluator.param_dict(best_ind).items()}\n",
    "\n",
    "\n",
    "\n",
    "opt = model.model_to_dtc()\n",
    "opt.attrs = {str(k):float(v) for k,v in cell_evaluator.param_dict(best_ind).items()}\n",
    "\n",
    "check_binary_match(target,opt)\n",
    "inject_and_plot_passive_model(opt,second=target)\n",
    "\n",
    "\n",
    "# As you can see the evaluation returns the same values as the fitness values provided by the optimisation output. \n",
    "# We can have a look at the responses now.\n",
    "\n",
    "# In[ ]:\n",
    "\n",
    "\n",
    "#plot_responses(twostep_protocol.run(cell_model=simple_cell, param_values=best_ind_dict, sim=nrn))\n",
    " \n",
    "\n",
    "\n",
    "# Let's have a look at the optimisation statistics.\n",
    "# We can plot the minimal score (sum of all objective scores) found in every optimisation. \n",
    "# The optimisation algorithm uses negative fitness scores, so we actually have to look at the maximum values log.\n",
    "\n",
    "gen_numbers = logs.select('gen')\n",
    "min_fitness = logs.select('min')\n",
    "max_fitness = logs.select('max')\n",
    "plt.plot(gen_numbers, min_fitness, label='min fitness')\n",
    "plt.xlabel('generation #')\n",
    "plt.ylabel('score (# std)')\n",
    "plt.legend()\n",
    "plt.xlim(min(gen_numbers) - 1, max(gen_numbers) + 1) \n",
    "plt.ylim(0.9*min(min_fitness), 1.1 * max(min_fitness)) "
   ]
  },
  {
   "cell_type": "code",
   "execution_count": null,
   "metadata": {
    "lines_to_next_cell": 2
   },
   "outputs": [],
   "source": [
    "gen_numbers = logs.select('gen')\n",
    "min_fitness = logs.select('min')\n",
    "max_fitness = logs.select('max')\n",
    "avg_fitness = logs.select('avg')\n",
    "\n",
    "plt.clf()\n",
    "plt.plot(gen_numbers, max_fitness, label='max fitness')\n",
    "plt.plot(gen_numbers, avg_fitness, label='avg fitness')\n",
    "plt.plot(gen_numbers, min_fitness, label='min fitness')\n",
    "\n",
    "plt.xlabel('generation #')\n",
    "plt.ylabel('score (# std)')\n",
    "plt.yscale('log')\n",
    "\n",
    "plt.legend()\n",
    "plt.xlim(min(gen_numbers) - 1, max(gen_numbers) + 1) \n",
    "#plt.ylim(0.9*min(min_fitness), 1.1 * max(min_fitness)) \n",
    "plt.show()"
   ]
  },
  {
   "cell_type": "code",
   "execution_count": null,
   "metadata": {},
   "outputs": [],
   "source": [
    "gen_numbers = logs.select('gen')\n",
    "min_fitness = logs.select('min')\n",
    "max_fitness = logs.select('max')\n",
    "avg_fitness = logs.select('avg')\n",
    "\n",
    "plt.clf()\n",
    "fig = plt.figure(figsize=(10,10))\n",
    "#ax = fig.add_subplot(1,1)\n",
    "\n",
    "plt.plot(gen_numbers, min_fitness, label='min fitness')\n",
    "#ax.semilogy()\n",
    "#ax.set_yscale('log')\n",
    "plt.yscale('log')\n",
    "\n",
    "plt.xlabel('generation #')\n",
    "plt.ylabel('score (# std)')\n",
    "plt.legend()\n",
    "plt.xlim(min(gen_numbers) - 1, max(gen_numbers) + 1) \n",
    "#plt.ylim(0.9*min(min_fitness), 1.1 * max(min_fitness)) \n",
    "plt.show()"
   ]
  },
  {
   "cell_type": "code",
   "execution_count": null,
   "metadata": {
    "lines_to_next_cell": 2
   },
   "outputs": [],
   "source": [
    "inject_and_plot_passive_model(opt,second=target,plotly=False)"
   ]
  },
  {
   "cell_type": "code",
   "execution_count": null,
   "metadata": {
    "lines_to_next_cell": 2
   },
   "outputs": [],
   "source": [
    "check_binary_match(opt,target,plotly=False,snippets=False)\n",
    "check_binary_match(opt,target,plotly=False,snippets=True)"
   ]
  },
  {
   "cell_type": "code",
   "execution_count": null,
   "metadata": {},
   "outputs": [],
   "source": [
    "best_ind_dict = cell_evaluator.param_dict(best_ind)\n",
    "objectives = cell_evaluator.evaluate_with_dicts(best_ind_dict)"
   ]
  },
  {
   "cell_type": "code",
   "execution_count": null,
   "metadata": {},
   "outputs": [],
   "source": [
    "objectives"
   ]
  },
  {
   "cell_type": "code",
   "execution_count": null,
   "metadata": {
    "lines_to_next_cell": 2
   },
   "outputs": [],
   "source": [
    "opt = dtc_to_rheo(opt)\n",
    "print(opt.rheobase)"
   ]
  },
  {
   "cell_type": "code",
   "execution_count": null,
   "metadata": {},
   "outputs": [],
   "source": [
    "target.rheobase"
   ]
  },
  {
   "cell_type": "code",
   "execution_count": null,
   "metadata": {},
   "outputs": [],
   "source": [
    "params = {}\n",
    "params['injected_square_current'] = {}\n",
    "#if v.name in str('RestingPotentialTest'):\n",
    "params['injected_square_current']['delay'] = PASSIVE_DELAY\n",
    "params['injected_square_current']['duration'] = PASSIVE_DURATION\n",
    "params['injected_square_current']['amplitude'] = 0.0*pq.pA    "
   ]
  },
  {
   "cell_type": "code",
   "execution_count": null,
   "metadata": {},
   "outputs": [],
   "source": [
    "\n",
    "opt_model = opt.dtc_to_model()\n",
    "opt_model.inject_square_current(params)\n",
    "opt_vm = opt_model.get_membrane_potential()\n",
    "opt_vm[-1]"
   ]
  },
  {
   "cell_type": "code",
   "execution_count": null,
   "metadata": {},
   "outputs": [],
   "source": [
    "target_model = target.dtc_to_model()\n",
    "target_model.inject_square_current(params)\n",
    "target_vm = target_model.get_membrane_potential()\n",
    "target_vm[-1]"
   ]
  },
  {
   "cell_type": "code",
   "execution_count": null,
   "metadata": {
    "lines_to_next_cell": 2
   },
   "outputs": [],
   "source": [
    "best_ind = hall_of_fame[1]\n",
    "print('Best individual: ', best_ind)\n",
    "print('Fitness values: ', best_ind.fitness.values)\n",
    "\n",
    "\n",
    "# We can evaluate this individual and make use of a convenience function of the cell evaluator to return us a dict of the parameters\n",
    "\n",
    "\n",
    "best_ind_dict = cell_evaluator.param_dict(best_ind)\n",
    "print(cell_evaluator.evaluate_with_dicts(best_ind_dict))\n",
    "\n",
    "\n",
    "model = cell_evaluator.cell_model\n",
    "dtc= model.model_to_dtc()\n",
    "opt = dtc_to_rheo(opt)\n",
    "print(opt.rheobase)"
   ]
  },
  {
   "cell_type": "code",
   "execution_count": null,
   "metadata": {},
   "outputs": [],
   "source": [
    "#model.rheobase"
   ]
  },
  {
   "cell_type": "code",
   "execution_count": null,
   "metadata": {
    "lines_to_next_cell": 2
   },
   "outputs": [],
   "source": [
    "len(hist.genealogy_history)/20"
   ]
  },
  {
   "cell_type": "code",
   "execution_count": null,
   "metadata": {},
   "outputs": [],
   "source": [
    "import pandas as pd\n",
    "import seaborn as sns\n",
    "logbook = logs\n",
    "#scores = [ m for m in logs ]\n",
    "'''\n",
    "list_of_dicts = []\n",
    "df1 = pd.DataFrame()\n",
    "genes=[]\n",
    "for _,v in hist.genealogy_history.items():\n",
    "    genes.append(v.fitness.values)\n",
    "for j,i in enumerate(objectives.keys()):\n",
    "    index = i.split('.')[0]\n",
    "    df1[str(index)] = pd.Series(genes).values[j]#, index=df1.index)\n",
    "\n",
    "'''\n",
    "MU =20\n",
    "genes=[]\n",
    "min_per_generations = []\n",
    "for i,v in hist.genealogy_history.items():\n",
    "    if i%25==0:\n",
    "        min_per_gen = sorted([(gene,np.min(gene)) for gene in genes],key=lambda x: x[1])\n",
    "        min_per_generations.append(min_per_gen[0][0])\n",
    "        genes =[]\n",
    "    genes.append(v.fitness.values)\n",
    "df2 = pd.DataFrame()\n",
    "scores = []\n",
    "for j,i in enumerate(objectives.keys()):\n",
    "    index = i.split('.')[0]\n",
    "    if j<len(min_per_generations):\n",
    "        df2[index] = pd.Series(min_per_generations).values[j]#, index=df1.index)\n",
    "        #scores.append(df2[str(i)])\n",
    "df2    \n",
    "\n",
    "#rescored = [np.sum(i) for i in range(0,len(scores)) ]\n",
    "#rescored"
   ]
  },
  {
   "cell_type": "code",
   "execution_count": null,
   "metadata": {},
   "outputs": [],
   "source": [
    "import math\n",
    "import seaborn as sns\n",
    "sns.set(style=\"darkgrid\")\n",
    "\n",
    "fig,axes = plt.subplots(3,3,figsize=(20,20))#math.ceil(len(objectives)/2+1),figsize=(20,20))\n",
    "axes[0,0].plot(gen_numbers, min_fitness, label='min fitness')\n",
    "\n",
    "axes[0,0].set_title('Observation/Prediction Disagreement')\n",
    "for i,c in enumerate(df2.columns):\n",
    "    ax = axes.flat[i+1]\n",
    "    history = df2[c]\n",
    "    #mn = mean[k.name] \n",
    "    #st = std[k.name] \n",
    "    #history = [(j[i]-mn)/st for j in scores ]\n",
    "    #ax.axhline(y=mn , xmin=0.02, xmax=0.99,color='red',label='best candidate sampled')\n",
    "\n",
    "    #ax.axvline(x=min_x , ymin=0.02, ymax=0.99,color='blue',label='best candidate sampled')\n",
    "    ax.plot(history)\n",
    "    ax.set_title(str(c))\n",
    "    #bigger = np.max([np.max(history),mn])\n",
    "    #smaller = np.max([np.min(history),mn])\n",
    "\n",
    "    #ax.set_ylim([np.min(history),np.max(history)])\n",
    "    #ax.set_ylabel(str(front[0].dtc.tests[i].observation['std'].units))\n",
    "axes[0,0].set_xlabel(\"Generation\")\n",
    "axes[0,0].set_ylabel(\"standardized error\")\n",
    "\n",
    "plt.tight_layout()\n",
    "#if figname is not None:\n",
    "#    plt.savefig(figname)\n",
    "#else:\n",
    "plt.show()"
   ]
  },
  {
   "cell_type": "code",
   "execution_count": null,
   "metadata": {},
   "outputs": [],
   "source": [
    "import pandas as pd\n",
    "import seaborn as sns\n",
    "logbook = logs\n",
    "#scores = [ m for m in logs ]\n",
    "list_of_dicts = []\n",
    "df1 = pd.DataFrame()\n",
    "genes=[]\n",
    "for _,v in hist.genealogy_history.items():\n",
    "    genes.append(v.fitness.values)\n",
    "for j,i in enumerate(objectives.keys()):\n",
    "    index = i.split('.')[0]\n",
    "    df1[str(index)] = pd.Series(genes).values[j]#, index=df1.index)\n",
    "\n",
    "df1=(df1-df1.mean())/df1.std()\n",
    "\n",
    "corr = df1.corr()\n",
    "fig =plt.figure(figsize=(10,10))\n",
    "sns.heatmap(corr, \n",
    "        xticklabels=corr.columns,\n",
    "        yticklabels=corr.columns)#, annot=True)\n",
    "plt.show()\n"
   ]
  },
  {
   "cell_type": "code",
   "execution_count": null,
   "metadata": {},
   "outputs": [],
   "source": [
    "print(np.sum(np.sum(corr)))"
   ]
  },
  {
   "cell_type": "code",
   "execution_count": null,
   "metadata": {},
   "outputs": [],
   "source": []
  }
 ],
 "metadata": {
  "jupytext": {
   "formats": "ipynb,py:light,Rmd"
  },
  "kernelspec": {
   "display_name": "Python 3",
   "language": "python",
   "name": "python3"
  },
  "language_info": {
   "codemirror_mode": {
    "name": "ipython",
    "version": 3
   },
   "file_extension": ".py",
   "mimetype": "text/x-python",
   "name": "python",
   "nbconvert_exporter": "python",
   "pygments_lexer": "ipython3",
   "version": "3.7.4"
  }
 },
 "nbformat": 4,
 "nbformat_minor": 2
}
