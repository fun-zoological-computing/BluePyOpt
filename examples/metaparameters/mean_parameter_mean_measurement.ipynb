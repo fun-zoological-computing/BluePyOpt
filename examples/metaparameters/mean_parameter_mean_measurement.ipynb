{
 "cells": [
  {
   "cell_type": "code",
   "execution_count": 1,
   "metadata": {},
   "outputs": [
    {
     "name": "stderr",
     "output_type": "stream",
     "text": [
      "/home/user/anaconda3/lib/python3.7/site-packages/airspeed/__init__.py:505: FutureWarning: Possible nested set at position 8\n",
      "  KEYVALSEP = re.compile(r'[ \\t]*:[[ \\t]*(.*)$', re.S)\n"
     ]
    }
   ],
   "source": [
    "\n",
    "import bluepyopt as bpop\n",
    "import bluepyopt.ephys as ephys\n",
    "import pickle\n",
    "from sciunit.scores import ZScore\n",
    "from sciunit import TestSuite\n",
    "from sciunit.scores.collections import ScoreArray\n",
    "import sciunit\n",
    "import numpy as np\n",
    "from neuronunit.optimisation.optimization_management import dtc_to_rheo, switch_logic,active_values\n",
    "from neuronunit.tests.base import AMPL, DELAY, DURATION\n",
    "\n",
    "import quantities as pq\n",
    "PASSIVE_DURATION = 500.0*pq.ms\n",
    "PASSIVE_DELAY = 200.0*pq.ms\n",
    "import matplotlib.pyplot as plt\n",
    "from bluepyopt.ephys.models import ReducedCellModel\n",
    "import numpy\n",
    "from neuronunit.optimisation.optimization_management import test_all_objective_test\n",
    "from neuronunit.optimisation.optimization_management import check_binary_match, three_step_protocol,inject_and_plot_passive_model\n",
    "from neuronunit.optimisation.model_parameters import MODEL_PARAMS\n",
    "from neuronunit.optimisation.data_transport_container import DataTC\n",
    "dtc = DataTC()\n",
    "'''\n",
    "MODEL_PARAMS[\"IZHI\"].pop('C',None)\n",
    "MODEL_PARAMS[\"IZHI\"].pop('k',None)\n",
    "MODEL_PARAMS[\"IZHI\"].pop('vt',None)\n",
    "MODEL_PARAMS[\"IZHI\"].pop('vr',None)\n",
    "MODEL_PARAMS[\"IZHI\"].pop('vPeak',None)\n",
    "'''\n",
    "import numpy as np\n",
    "\n",
    "import copy \n",
    "from collections import OrderedDict\n",
    "import numpy as np\n",
    "import matplotlib.pyplot as plt\n",
    "from collections import Iterable\n",
    "\n",
    "from sciunit.scores import ZScore\n",
    "tests = pickle.load(open(\"processed_multicellular_constraints.p\",\"rb\"))\n",
    "nu_tests = tests['Hippocampus CA1 pyramidal cell'].tests\n",
    "nu_tests[0].score_type = ZScore"
   ]
  },
  {
   "cell_type": "markdown",
   "metadata": {
    "lines_to_next_cell": 0
   },
   "source": [
    "# Create Two Random points in hypervolume.\n",
    "Make sure points are sufficiently far apart\n",
    "Instance two models with those parameters"
   ]
  },
  {
   "cell_type": "code",
   "execution_count": 2,
   "metadata": {},
   "outputs": [],
   "source": [
    "model = \"IZHI\""
   ]
  },
  {
   "cell_type": "code",
   "execution_count": 3,
   "metadata": {
    "lines_to_next_cell": 2
   },
   "outputs": [],
   "source": [
    "%%capture\n",
    "dist = 0\n",
    "while dist<28:\n",
    "    nu_tests0, OM, target0 = test_all_objective_test(MODEL_PARAMS[model],\n",
    "                                                   model_type=model,\n",
    "                                                   protocol={'allen':False,'elephant':True})\n",
    "\n",
    "\n",
    "\n",
    "\n",
    "\n",
    "\n",
    "    nu_tests1, OM, target1 = test_all_objective_test(MODEL_PARAMS[model]\n",
    "                                                   ,model_type=model,\n",
    "                                                   protocol={'allen':False,'elephant':True})\n",
    "\n",
    "    target0.attrs.pop('dt',None)\n",
    "    target0.attrs.pop('Iext',None)\n",
    "    target1.attrs.pop('dt',None)\n",
    "    target1.attrs.pop('Iext',None)\n",
    "\n",
    "    a = np.array(list(target0.attrs.values()))\n",
    "    b = np.array(list(target1.attrs.values()))\n",
    "    dist = numpy.linalg.norm(a-b)\n",
    "    print(a,b)\n",
    "    #if type(dist) is type(Iterable):\n",
    "    try:\n",
    "        dist = dist[0]\n",
    "    except:\n",
    "        pass\n",
    "    print(dist,'dist \\n\\n\\n')"
   ]
  },
  {
   "cell_type": "markdown",
   "metadata": {},
   "source": [
    "Build point cloud \"constellations\" these are two cell model populations focused on either one of each of the two random points."
   ]
  },
  {
   "cell_type": "code",
   "execution_count": 4,
   "metadata": {
    "lines_to_next_cell": 2
   },
   "outputs": [],
   "source": [
    "%%capture\n",
    "def random_p(backend,target):\n",
    "    ranges = MODEL_PARAMS[backend]\n",
    "    import numpy, time\n",
    "    date_int = int(time.time())\n",
    "    numpy.random.seed(date_int)\n",
    "\n",
    "    random_param1 = {} # randomly sample a point in the viable parameter space.\n",
    "    for k in ranges.keys():\n",
    "        mean = target.attrs[k]\n",
    "        var = np.var(ranges[k])\n",
    "        std = np.sqrt(var)\n",
    "        sample = numpy.random.normal(loc=mean, scale=std/10, size=1)[0]\n",
    "        random_param1[k] = sample\n",
    "    return random_param1\n",
    "popa = []\n",
    "popb = []\n",
    "backend=\"IZHI\"\n",
    "for i in range(0,14):\n",
    "    aa = random_p(backend,target0)\n",
    "    dtc = DataTC(backend=backend)\n",
    "    dtc.attrs = aa\n",
    "    dtc.tests = nu_tests0\n",
    "    dtc.self_evaluate()\n",
    "    popa.append(dtc)\n",
    "    \n",
    "    \n",
    "    bb = random_p(backend,target1)\n",
    "    dtc = DataTC(backend=backend)\n",
    "    dtc.attrs = bb\n",
    "    dtc.tests = nu_tests0\n",
    "    dtc.self_evaluate()\n",
    "    popb.append(dtc)\n",
    "    \n",
    "all_neurons = popa \n",
    "all_neurons.extend(popb)\n",
    "\n"
   ]
  },
  {
   "cell_type": "markdown",
   "metadata": {},
   "source": [
    "# optionally confirm things \n",
    "are as you would expect"
   ]
  },
  {
   "cell_type": "code",
   "execution_count": 5,
   "metadata": {
    "lines_to_end_of_cell_marker": 2
   },
   "outputs": [],
   "source": [
    "target1.attrs;"
   ]
  },
  {
   "cell_type": "code",
   "execution_count": 6,
   "metadata": {},
   "outputs": [],
   "source": [
    "mean_parametersb = {}\n",
    "for k,v in dtc.attrs.items():\n",
    "    mean_parametersb[k] = np.mean([n.attrs[k] for n in popb])\n",
    "mean_parametersb;"
   ]
  },
  {
   "cell_type": "code",
   "execution_count": 7,
   "metadata": {
    "lines_to_next_cell": 2
   },
   "outputs": [],
   "source": [
    "target0.attrs;"
   ]
  },
  {
   "cell_type": "code",
   "execution_count": 8,
   "metadata": {},
   "outputs": [],
   "source": [
    "mean_parametersa = {}\n",
    "\n",
    "for k,v in dtc.attrs.items():\n",
    "    mean_parametersa[k] = np.mean([n.attrs[k] for n in popa])\n",
    "mean_parametersa;"
   ]
  },
  {
   "cell_type": "code",
   "execution_count": 9,
   "metadata": {},
   "outputs": [],
   "source": [
    "\n",
    "mean_measurements = {}\n",
    "mean_parameters = {}\n",
    "containers = {}\n",
    "for i,tt in enumerate(dtc.tests):\n",
    "    containers[tt.name] = []\n",
    "    for dtc_local in all_neurons:\n",
    "        try:\n",
    "            containers[tt.name].append(dtc_local.tests[i].prediction['value'])\n",
    "        except:\n",
    "            containers[tt.name].append(dtc_local.tests[i].prediction['mean'])\n",
    "    mean_measurements[tt.name] = np.mean(containers[tt.name])\n",
    "    \n",
    "    \n",
    "for k,v in dtc.attrs.items():\n",
    "    mean_parameters[k] = np.mean([n.attrs[k] for n in all_neurons])\n",
    "    \n",
    "mean_parameters;\n"
   ]
  },
  {
   "cell_type": "code",
   "execution_count": 10,
   "metadata": {
    "lines_to_next_cell": 2
   },
   "outputs": [],
   "source": [
    "mean_measurements;"
   ]
  },
  {
   "cell_type": "code",
   "execution_count": 13,
   "metadata": {},
   "outputs": [
    {
     "name": "stdout",
     "output_type": "stream",
     "text": [
      "<neuronunit.optimisation.data_transport_container.DataTC object at 0x7f75791df410>\n",
      "{'C': 171.4878818444587, 'k': 0.8520177983124974, 'vr': -67.24061488543425, 'vt': -46.503777282213356, 'vPeak': 38.24511751897201, 'a': 0.025009760547478787, 'b': 12.347696607244009, 'c': -48.59290838621821, 'd': 109.26483504991157}\n",
      "time taken on block 0.0022058486938476562 \n",
      "RheobaseTest 186.328125 pA\n",
      "TimeConstantTest 3.089603158287804 ms\n",
      "RestingPotentialTest -67.24061488543425 mV\n",
      "InputResistanceTest 33006489.333828878 kg*m**2/(s**3*A**2)\n",
      "CapacitanceTest 9.360593085315561e-11 s**4*A**2/(kg*m**2)\n",
      "InjectedCurrentAPWidthTest 0.00102 s\n",
      "InjectedCurrentAPAmplitudeTest 60.28110299532033 mV\n",
      "InjectedCurrentAPThresholdTest -22.035985476348323 mV\n"
     ]
    },
    {
     "data": {
      "text/plain": [
       "{'RheobaseTest': array(186.328125) * pA,\n",
       " 'TimeConstantTest': array(3.08960316) * ms,\n",
       " 'RestingPotentialTest': array(-67.24061489) * mV,\n",
       " 'InputResistanceTest': array(33006489.33382888) * kg*m**2/(s**3*A**2),\n",
       " 'CapacitanceTest': array(9.36059309e-11) * s**4*A**2/(kg*m**2),\n",
       " 'InjectedCurrentAPWidthTest': array(0.00102) * s,\n",
       " 'InjectedCurrentAPAmplitudeTest': array(60.281103) * mV,\n",
       " 'InjectedCurrentAPThresholdTest': array(-22.03598548) * mV}"
      ]
     },
     "execution_count": 13,
     "metadata": {},
     "output_type": "execute_result"
    }
   ],
   "source": [
    "#mean_model = dtc\n",
    "mean_model = DataTC(backend=\"IZHI\")\n",
    "#mean_model.attrs = mean_a_dict\n",
    "\n",
    "mean_model.attrs = mean_parameters\n",
    "mean_model.attrs.pop('dt',None)\n",
    "mean_model.attrs.pop('Iext',None)\n",
    "print(mean_model)\n",
    "mean_model.tests = nu_tests0\n",
    "mean_model.self_evaluate()\n",
    "store_mean_model_tests = {}\n",
    "for t in mean_model.tests:\n",
    "    try:\n",
    "        print(t.name,t.prediction['mean'])\n",
    "        store_mean_model_tests[t.name] = t.prediction['mean']\n",
    "    except:\n",
    "        print(t.name,t.prediction['value'])\n",
    "        store_mean_model_tests[t.name] = t.prediction['value']\n",
    "store_mean_model_tests"
   ]
  },
  {
   "cell_type": "code",
   "execution_count": 27,
   "metadata": {
    "lines_to_next_cell": 0
   },
   "outputs": [
    {
     "data": {
      "image/png": "[encoded data removed]",
      "text/plain": [
       "<Figure size 432x288 with 1 Axes>"
      ]
     },
     "metadata": {
      "needs_background": "light"
     },
     "output_type": "display_data"
    },
    {
     "data": {
      "text/html": [
       "<div>\n",
       "<style scoped>\n",
       "    .dataframe tbody tr th:only-of-type {\n",
       "        vertical-align: middle;\n",
       "    }\n",
       "\n",
       "    .dataframe tbody tr th {\n",
       "        vertical-align: top;\n",
       "    }\n",
       "\n",
       "    .dataframe thead th {\n",
       "        text-align: right;\n",
       "    }\n",
       "</style>\n",
       "<table border=\"1\" class=\"dataframe\">\n",
       "  <thead>\n",
       "    <tr style=\"text-align: right;\">\n",
       "      <th></th>\n",
       "      <th>C</th>\n",
       "      <th>a</th>\n",
       "      <th>b</th>\n",
       "      <th>c</th>\n",
       "      <th>d</th>\n",
       "      <th>k</th>\n",
       "      <th>vPeak</th>\n",
       "      <th>vr</th>\n",
       "      <th>vt</th>\n",
       "    </tr>\n",
       "  </thead>\n",
       "  <tbody>\n",
       "    <tr>\n",
       "      <th>0</th>\n",
       "      <td>146.567552</td>\n",
       "      <td>0.024554</td>\n",
       "      <td>11.819188</td>\n",
       "      <td>-46.550456</td>\n",
       "      <td>93.116138</td>\n",
       "      <td>0.740259</td>\n",
       "      <td>38.084033</td>\n",
       "      <td>-63.118685</td>\n",
       "      <td>-44.71271</td>\n",
       "    </tr>\n",
       "    <tr>\n",
       "      <th>1</th>\n",
       "      <td>193.074384</td>\n",
       "      <td>0.025254</td>\n",
       "      <td>12.290177</td>\n",
       "      <td>-51.213888</td>\n",
       "      <td>124.708170</td>\n",
       "      <td>0.959548</td>\n",
       "      <td>39.725834</td>\n",
       "      <td>-71.241583</td>\n",
       "      <td>-48.68088</td>\n",
       "    </tr>\n",
       "  </tbody>\n",
       "</table>\n",
       "</div>"
      ],
      "text/plain": [
       "            C         a          b          c           d         k  \\\n",
       "0  146.567552  0.024554  11.819188 -46.550456   93.116138  0.740259   \n",
       "1  193.074384  0.025254  12.290177 -51.213888  124.708170  0.959548   \n",
       "\n",
       "       vPeak         vr        vt  \n",
       "0  38.084033 -63.118685 -44.71271  \n",
       "1  39.725834 -71.241583 -48.68088  "
      ]
     },
     "execution_count": 27,
     "metadata": {},
     "output_type": "execute_result"
    }
   ],
   "source": [
    "plt.figure()\n",
    "import pandas as pd\n",
    "\n",
    "df = pd.DataFrame([target0.attrs,target1.attrs])\n",
    "\n",
    "import matplotlib.pyplot as plt\n",
    "from pandas.plotting import parallel_coordinates\n",
    "\n",
    "parallel_coordinates(df,list(df.columns)[0])\n",
    "#plt.semilogy()\n",
    "plt.show()\n",
    "df"
   ]
  },
  {
   "cell_type": "code",
   "execution_count": null,
   "metadata": {
    "lines_to_next_cell": 2
   },
   "outputs": [],
   "source": []
  },
  {
   "cell_type": "code",
   "execution_count": 16,
   "metadata": {},
   "outputs": [
    {
     "data": {
      "text/plain": [
       "{'C': 169.8209680249292,\n",
       " 'a': 0.024904238951988913,\n",
       " 'b': 12.054682126320365,\n",
       " 'c': -48.882171824924015,\n",
       " 'd': 108.91215422514762,\n",
       " 'k': 0.8499037024921562,\n",
       " 'vPeak': 38.90493372207744,\n",
       " 'vr': -67.1801340682682,\n",
       " 'vt': -46.6967951869405}"
      ]
     },
     "execution_count": 16,
     "metadata": {},
     "output_type": "execute_result"
    }
   ],
   "source": [
    "\n",
    "nu_tests1 = list(nu_tests1.values())\n",
    "nu_tests0 = list(nu_tests0.values())\n",
    "\n",
    "mean_o_dict={}\n",
    "for o0,o1 in zip(nu_tests0,nu_tests1):\n",
    "    mean_o_dict[o1.name] = np.mean([o0.observation['mean'],o1.observation['mean']])*o0.observation['mean'].units\n",
    "mean_o_dict    \n",
    "new_tests = copy.copy(nu_tests0)\n",
    "\n",
    "for t0 in new_tests:\n",
    "    t0.observation = {}\n",
    "    t0.observation['mean'] = mean_o_dict[t0.name]\n",
    "\n",
    "mean_a_dict={}\n",
    "for k,v in target0.attrs.items():\n",
    "    mean_a_dict[k] = np.mean([v,target1.attrs[k]])\n",
    "mean_a_dict    \n"
   ]
  },
  {
   "cell_type": "code",
   "execution_count": 17,
   "metadata": {},
   "outputs": [],
   "source": [
    "mean_o_dict;"
   ]
  },
  {
   "cell_type": "code",
   "execution_count": 18,
   "metadata": {},
   "outputs": [
    {
     "data": {
      "text/plain": [
       "<neuronunit.optimisation.data_transport_container.DataTC at 0x7f757c2aaa50>"
      ]
     },
     "execution_count": 18,
     "metadata": {},
     "output_type": "execute_result"
    }
   ],
   "source": [
    "dtc = DataTC(backend=\"IZHI\")\n",
    "dtc.attrs = mean_a_dict\n",
    "dtc.tests = new_tests\n",
    "dtc.attrs\n",
    "target0"
   ]
  },
  {
   "cell_type": "code",
   "execution_count": 19,
   "metadata": {},
   "outputs": [],
   "source": [
    "\n",
    "m = dtc.dtc_to_model()\n",
    "\n",
    "preds = OrderedDict()\n",
    "for t in new_tests:\n",
    "    try:\n",
    "        preds[t.name] = t.generate_prediction(m)['mean']\n",
    "    except:\n",
    "        try:\n",
    "            preds[t.name] = t.generate_prediction(m)['value']\n",
    "        except:\n",
    "            pass\n",
    "preds;"
   ]
  },
  {
   "cell_type": "code",
   "execution_count": 28,
   "metadata": {},
   "outputs": [
    {
     "data": {
      "text/plain": [
       "\"\\nimport numpy as np\\nimport matplotlib.pyplot as plt\\n\\n\\nwidth = 0.35       \\nmean_o_dict = { k:mean_o_dict[k] for k in preds.keys() }\\nmeasure0 = list(mean_o_dict.values())\\nN = len(measure0)\\nind = np.arange(N)    # the x locations for the groups\\n\\nmeasure1 = list(preds.values())\\n\\n\\nplt.bar(ind,measure0, width)\\n#plt.bar(ind,measure1, width)\\nplt.semilogy()\\n\\n\\nplt.ylabel('Measurements')\\nplt.title('Measurements grouped by test')\\nplt.xticks(ind, (list(preds.keys())))\\nplt.xticks(rotation=90)\\nplt.show()\\n\""
      ]
     },
     "execution_count": 28,
     "metadata": {},
     "output_type": "execute_result"
    }
   ],
   "source": [
    "'''\n",
    "import numpy as np\n",
    "import matplotlib.pyplot as plt\n",
    "\n",
    "\n",
    "width = 0.35       \n",
    "mean_o_dict = { k:mean_o_dict[k] for k in preds.keys() }\n",
    "measure0 = list(mean_o_dict.values())\n",
    "N = len(measure0)\n",
    "ind = np.arange(N)    # the x locations for the groups\n",
    "\n",
    "measure1 = list(preds.values())\n",
    "\n",
    "\n",
    "plt.bar(ind,measure0, width)\n",
    "#plt.bar(ind,measure1, width)\n",
    "plt.semilogy()\n",
    "\n",
    "\n",
    "plt.ylabel('Measurements')\n",
    "plt.title('Measurements grouped by test')\n",
    "plt.xticks(ind, (list(preds.keys())))\n",
    "plt.xticks(rotation=90)\n",
    "plt.show()\n",
    "'''"
   ]
  },
  {
   "cell_type": "code",
   "execution_count": 20,
   "metadata": {},
   "outputs": [
    {
     "data": {
      "text/plain": [
       "[<neuronunit.tests.fi.RheobaseTest at 0x7f757aa5ee50>,\n",
       " <neuronunit.tests.passive.TimeConstantTest at 0x7f757aa5eed0>,\n",
       " <neuronunit.tests.passive.RestingPotentialTest at 0x7f757aa5ef50>,\n",
       " <neuronunit.tests.passive.InputResistanceTest at 0x7f757aa5ec90>,\n",
       " <neuronunit.tests.passive.CapacitanceTest at 0x7f757aa5ef10>,\n",
       " <neuronunit.tests.waveform.InjectedCurrentAPWidthTest at 0x7f757aa5ef90>,\n",
       " <neuronunit.tests.waveform.InjectedCurrentAPAmplitudeTest at 0x7f757aa5efd0>,\n",
       " <neuronunit.tests.waveform.InjectedCurrentAPThresholdTest at 0x7f757aa08050>]"
      ]
     },
     "execution_count": 20,
     "metadata": {},
     "output_type": "execute_result"
    }
   ],
   "source": [
    "new_tests;"
   ]
  },
  {
   "cell_type": "code",
   "execution_count": 24,
   "metadata": {},
   "outputs": [
    {
     "data": {
      "image/png": "[encoded data removed]",
      "text/plain": [
       "<Figure size 432x288 with 1 Axes>"
      ]
     },
     "metadata": {
      "needs_background": "light"
     },
     "output_type": "display_data"
    },
    {
     "data": {
      "text/plain": [
       "[array(179.296875) * pA,\n",
       " array(3.12335512) * ms,\n",
       " array(-67.18013407) * mV,\n",
       " array(33614307.5695503) * kg*m**2/(s**3*A**2),\n",
       " array(9.29174315e-11) * s**4*A**2/(kg*m**2),\n",
       " array(0.0009) * s,\n",
       " array(56.67603573) * mV,\n",
       " array(-17.771102) * mV]"
      ]
     },
     "execution_count": 24,
     "metadata": {},
     "output_type": "execute_result"
    }
   ],
   "source": [
    "\n",
    "\n",
    "width = 0.35       \n",
    "mean_o_dict = { k:mean_o_dict[k] for k in preds.keys() }\n",
    "measure0 = list(mean_o_dict.values())\n",
    "N = len(measure0)\n",
    "ind = np.arange(N)    # the x locations for the groups\n",
    "\n",
    "measure1 = list(preds.values())\n",
    "import numpy as np\n",
    "import matplotlib.pyplot as plt\n",
    "from sklearn.preprocessing import StandardScaler\n",
    "scaler = StandardScaler()\n",
    "scaler.fit([measure0,measure1])\n",
    "measure = scaler.transform([measure0,measure1])\n",
    "#measure0 = scaler.transform([measure0,measure1])\n",
    "\n",
    "plt.bar(ind,measure0, width)\n",
    "plt.bar(ind,measure1, width)\n",
    "plt.semilogy()\n",
    "\n",
    "\n",
    "plt.ylabel('Measurements')\n",
    "plt.title('Measurements grouped by test')\n",
    "plt.xticks(ind, (list(preds.keys())))\n",
    "plt.xticks(rotation=90)\n",
    "plt.show()\n",
    "measure1"
   ]
  },
  {
   "cell_type": "code",
   "execution_count": null,
   "metadata": {
    "lines_to_next_cell": 2
   },
   "outputs": [],
   "source": [
    "mean_o_dict;\n",
    "\n",
    "\n",
    "\n",
    "width = 0.35       # the width of the bars: can also be len(x) sequence\n",
    "\n",
    "measure0 = list(mean_o_dict.values())\n",
    "N = len(measure0)\n",
    "ind = np.arange(N)    # the x locations for the groups\n",
    "\n",
    "measure1 = list(preds.values())\n",
    "\n",
    "\n",
    "plt.bar(1,mean_o_dict['InputResistanceTest'], 1)\n",
    "plt.bar(1,preds['InputResistanceTest'], 1)\n",
    "#plt.semilogy()\n",
    "\n",
    "\n",
    "plt.ylabel('InputResistanceTest')\n",
    "plt.title('InputResistanceTest grouped by test')\n",
    "\n",
    "preds.pop(\"InputResistanceTest\",None)\n",
    "mean_o_dict.pop(\"InputResistanceTest\",None)\n",
    "\n",
    "#plt.xticks(ind, (list(preds.keys())))\n",
    "#plt.xticks(rotation=90)\n",
    "plt.show()"
   ]
  },
  {
   "cell_type": "code",
   "execution_count": null,
   "metadata": {},
   "outputs": [],
   "source": [
    "\n",
    "import numpy as np\n",
    "import matplotlib.pyplot as plt\n",
    "\n",
    "\n",
    "width = 0.35       # the width of the bars: can also be len(x) sequence\n",
    "\n",
    "measure0 = list(mean_o_dict.values())\n",
    "N = len(measure0)\n",
    "ind = np.arange(N)    # the x locations for the groups\n",
    "\n",
    "measure1 = list(preds.values())\n",
    "\n",
    "\n",
    "plt.bar(1,mean_o_dict['TimeConstantTest'], 1)\n",
    "plt.bar(1,preds['TimeConstantTest'], 1)\n",
    "#plt.semilogy()\n",
    "\n",
    "\n",
    "plt.ylabel('TimeConstantTest')\n",
    "plt.title('TimeConstantTest grouped by test')\n",
    "\n",
    "preds.pop(\"TimeConstantTest\",None)\n",
    "mean_o_dict.pop(\"TimeConstantTest\",None)\n",
    "\n",
    "#plt.xticks(ind, (list(preds.keys())))\n",
    "#plt.xticks(rotation=90)\n",
    "plt.show()\n",
    "\n",
    "\n",
    "tStat, pValue =  scipy.stats.ttest_1samp(a, popmean, axis=0)\n",
    "print(\"P-Value:{0} T-Statistic:{1}\".format(pValue,tStat)) #print the P-Value and the T-Statistic"
   ]
  },
  {
   "cell_type": "code",
   "execution_count": null,
   "metadata": {
    "lines_to_next_cell": 0
   },
   "outputs": [],
   "source": [
    "mean_o_dict;\n",
    "\n",
    "import numpy as np\n",
    "import matplotlib.pyplot as plt\n",
    "\n",
    "\n",
    "width = 0.35       # the width of the bars: can also be len(x) sequence\n",
    "\n",
    "measure0 = list(mean_o_dict.values())\n",
    "N = len(measure0)\n",
    "ind = np.arange(N)    # the x locations for the groups\n",
    "\n",
    "measure1 = list(preds.values())\n",
    "\n",
    "\n",
    "plt.bar(1,mean_o_dict['InjectedCurrentAPAmplitudeTest'], 1)\n",
    "plt.bar(1,preds['InjectedCurrentAPAmplitudeTest'], 1)\n",
    "#plt.semilogy()\n",
    "\n",
    "\n",
    "plt.ylabel('InjectedCurrentAPAmplitudeTest')\n",
    "plt.title('InjectedCurrentAPAmplitudeTest grouped by test')\n",
    "\n",
    "preds.pop(\"InjectedCurrentAPAmplitudeTest\",None)\n",
    "mean_o_dict.pop(\"InjectedCurrentAPAmplitudeTest\",None)\n",
    "\n",
    "#plt.xticks(ind, (list(preds.keys())))\n",
    "#plt.xticks(rotation=90)\n",
    "plt.show()\n",
    "measure1"
   ]
  },
  {
   "cell_type": "code",
   "execution_count": null,
   "metadata": {
    "lines_to_next_cell": 2
   },
   "outputs": [],
   "source": []
  },
  {
   "cell_type": "code",
   "execution_count": null,
   "metadata": {},
   "outputs": [],
   "source": []
  },
  {
   "cell_type": "code",
   "execution_count": null,
   "metadata": {},
   "outputs": [],
   "source": [
    "#plt.bar(range(0,len(measure1)),measure1, width)\n",
    "#plt.semilogy()\n",
    "plt.plot(range(0,len(measure1)),measure1)\n",
    "plt.plot(range(0,len(measure0)),measure0)\n",
    "\n",
    "\n",
    "plt.ylabel('Measurements')\n",
    "plt.title('Measurements grouped by test')\n",
    "plt.xticks(ind, (list(preds.keys())))\n",
    "plt.xticks(rotation=90)\n",
    "plt.show()\n",
    "measure1"
   ]
  },
  {
   "cell_type": "code",
   "execution_count": null,
   "metadata": {
    "lines_to_next_cell": 2
   },
   "outputs": [],
   "source": [
    "\n",
    "\n",
    "\n",
    "\n",
    "\n",
    "\n",
    "\n",
    "def initialise_test(v,rheobase):\n",
    "    v = switch_logic([v])\n",
    "    v = v[0]\n",
    "    k = v.name\n",
    "    if not hasattr(v,'params'):\n",
    "        v.params = {}\n",
    "    if not 'injected_square_current' in v.params.keys():    \n",
    "        v.params['injected_square_current'] = {}\n",
    "    if v.passive == False and v.active == True:\n",
    "        keyed = v.params['injected_square_current']\n",
    "        v.params = active_values(keyed,rheobase)\n",
    "        v.params['injected_square_current']['delay'] = DELAY\n",
    "        v.params['injected_square_current']['duration'] = DURATION\n",
    "    if v.passive == True and v.active == False:\n",
    "\n",
    "        v.params['injected_square_current']['amplitude'] =  -10*pq.pA\n",
    "        v.params['injected_square_current']['delay'] = PASSIVE_DELAY\n",
    "        v.params['injected_square_current']['duration'] = PASSIVE_DURATION\n",
    "\n",
    "    if v.name in str('RestingPotentialTest'):\n",
    "        v.params['injected_square_current']['delay'] = PASSIVE_DELAY\n",
    "        v.params['injected_square_current']['duration'] = PASSIVE_DURATION\n",
    "        v.params['injected_square_current']['amplitude'] = 0.0*pq.pA    \n",
    "        \n",
    "    return v\n",
    "\n",
    "class NUFeature(object):\n",
    "    def __init__(self,test,model):\n",
    "        self.test = test\n",
    "        self.model = model\n",
    "    def calculate_score(self,responses):\n",
    "        model = responses['model'].dtc_to_model()\n",
    "        model.attrs = responses['params']\n",
    "        \n",
    "        ##\n",
    "        # Last 4 lines entered\n",
    "        ##\n",
    "        if responses['rheobase'] is None:\n",
    "            return 100.0\n",
    "        if type(responses['rheobase']) is type(dict()):\n",
    "            if responses['rheobase']['value'] is None:\n",
    "                return 100.0\n",
    "        self.test = initialise_test(self.test,responses['rheobase'])\n",
    "        #if \"RestingPotential\" in str(self.test.name):            \n",
    "        #    print(self.test.observation,self.test.prediction)\n",
    "        if \"Rheobase\" in str(self.test.name):\n",
    "            prediction = {'value':responses['rheobase']}\n",
    "\n",
    "            score_gene = self.test.compute_score(self.test.observation,prediction)\n",
    "            try:\n",
    "\n",
    "                lns = np.abs(score_gene.log_norm_score)\n",
    "            except:\n",
    "                # works 1/2 time that log_norm_score does not work\n",
    "                # more informative than nominal bad score 100\n",
    "                #lns = float(score_gene.raw)\n",
    "\n",
    "                lns = np.abs(float(score_gene.raw))\n",
    "            return lns\n",
    "\n",
    "        else:\n",
    "            try:\n",
    "                score_gene = self.test.judge(model)\n",
    "            except:\n",
    "                return 100.0\n",
    "\n",
    "        if not isinstance(type(score_gene),type(None)):\n",
    "            if not isinstance(score_gene,sciunit.scores.InsufficientDataScore):\n",
    "                if not isinstance(type(score_gene.log_norm_score),type(None)):\n",
    "                    try:\n",
    "\n",
    "                        lns = np.abs(score_gene.log_norm_score)\n",
    "                    except:\n",
    "                        # works 1/2 time that log_norm_score does not work\n",
    "                        # more informative than nominal bad score 100\n",
    "                        s\n",
    "                else:\n",
    "                    # works 1/2 time that log_norm_score does not work\n",
    "                    # more informative than nominal bad score 100\n",
    "\n",
    "                    lns = np.abs(score_gene.raw)\n",
    "            else:\n",
    "                prediction = self.test.generate_prediction(model)\n",
    "                lns = 100\n",
    "        if lns==np.inf:\n",
    "            \n",
    "\n",
    "            lns = float(score_gene.raw)\n",
    "        return lns\n",
    "\n",
    "    \n",
    "objectives = []\n",
    "#for protocol in sweep_protocols:\n",
    "#    stim_start = protocol.stimuli[0].step_delay\n",
    "#    stim_end = stim_start + protocol.stimuli[0].step_duration\n",
    "    \n",
    "for tt in nu_tests:\n",
    "    feature_name = '%s.%s' % (tt.name, tt.name)\n",
    "    ft = NUFeature(tt,model)\n",
    "    objective = ephys.objectives.SingletonObjective(\n",
    "        feature_name,\n",
    "        ft)\n",
    "    objectives.append(objective)\n",
    "\n",
    "score_calc = ephys.objectivescalculators.ObjectivesCalculator(objectives) \n",
    "        \n",
    "        \n",
    "#objectives[0]        \n",
    "\n",
    "\n",
    "\n",
    "# ### Creating the cell evaluator\n",
    "# \n",
    "# We will need an object that can use these objective definitions to calculate the scores from a protocol response. This is called a ScoreCalculator.\n",
    "\n",
    "\n",
    "\n",
    "\n",
    "lop={}\n",
    "from bluepyopt.parameters import Parameter\n",
    "for k,v in MODEL_PARAMS[\"IZHI\"].items():\n",
    "    p = Parameter(name=k,bounds=v,frozen=False)\n",
    "    lop[k] = p\n",
    "\n",
    "print(lop)\n",
    "simple_cell.params = lop\n",
    "\n",
    "nu_tests[0].judge(simple_cell)\n",
    "\n",
    "nu_tests[0].score_type = ZScore\n",
    "\n",
    "\n",
    "# Combining everything together we have a CellEvaluator. The CellEvaluator constructor has a field 'parameter_names' which contains the (ordered) list of names of the parameters that are used as input (and will be fitted later on).\n",
    "sweep_protocols = []\n",
    "for protocol_name, amplitude in [('step1', 0.05)]:\n",
    "\n",
    "    protocol = ephys.protocols.SweepProtocol(protocol_name, [None], [None])\n",
    "    sweep_protocols.append(protocol)\n",
    "twostep_protocol = ephys.protocols.SequenceProtocol('twostep', protocols=sweep_protocols)\n",
    "\n",
    "MODEL_PARAMS[\"IZHI\"]\n",
    "cell_evaluator = ephys.evaluators.CellEvaluator(\n",
    "        cell_model=simple_cell,\n",
    "        param_names=MODEL_PARAMS[\"IZHI\"].keys(),\n",
    "        fitness_protocols={twostep_protocol.name: twostep_protocol},\n",
    "        fitness_calculator=score_calc,\n",
    "        sim='euler')\n",
    "simple_cell.params_by_names(MODEL_PARAMS[\"IZHI\"].keys())\n",
    "simple_cell.params;\n",
    "\n",
    "\n",
    "# ### Evaluating the cell\n",
    "# \n",
    "# The cell can now be evaluate for a certain set of parameter values.\n",
    "\n",
    "# In[ ]:\n",
    "\n",
    "\n",
    "#default_params = MODEL_PARAMS[\"IZHI\"]\n",
    "#print(cell_evaluator.evaluate_with_dicts())\n",
    "\n",
    "\n",
    "# ## Setting up and running an optimisation\n",
    "# \n",
    "# Now that we have a cell template and an evaluator for this cell, we can set up an optimisation.\n",
    "import dask\n",
    "def dask_map_function(eval_,invalid_ind):\n",
    "    results = []\n",
    "    for x in invalid_ind:\n",
    "        y = dask.delayed(eval_)(x)\n",
    "        results.append(y)\n",
    "    fitnesses = dask.compute(*results)\n",
    "    return fitnesses\n",
    "\n",
    "\n",
    "\n",
    "MU =100\n",
    "optimisation = bpop.optimisations.DEAPOptimisation(\n",
    "        evaluator=cell_evaluator,\n",
    "        offspring_size = MU,\n",
    "        map_function = dask_map_function,\n",
    "        selector_name='IBEA',\n",
    "        mutpb=0.05,\n",
    "        cxpb=0.4)\n",
    "\n",
    "\n",
    "# And this optimisation can be run for a certain number of generations\n",
    "\n",
    "\n",
    "\n",
    "final_pop, hall_of_fame, logs, hist = optimisation.run(max_ngen=100)\n",
    "\n"
   ]
  },
  {
   "cell_type": "code",
   "execution_count": null,
   "metadata": {
    "lines_to_next_cell": 2
   },
   "outputs": [],
   "source": [
    "\n",
    "\n",
    "# The optimisation has return us 4 objects: final population, hall of fame, statistical logs and history. \n",
    "# \n",
    "# The final population contains a list of tuples, with each tuple representing the two parameters of the model\n",
    "\n",
    "\n",
    "print('Final population: ', final_pop)\n",
    "\n",
    "\n",
    "# The best individual found during the optimisation is the first individual of the hall of fame\n",
    "\n",
    "best_ind = hall_of_fame[0]\n",
    "print('Best individual: ', best_ind)\n",
    "print('Fitness values: ', best_ind.fitness.values)\n",
    "\n",
    "\n",
    "# We can evaluate this individual and make use of a convenience function of the cell evaluator to return us a dict of the parameters\n",
    "\n",
    "\n",
    "best_ind_dict = cell_evaluator.param_dict(best_ind)\n",
    "print(cell_evaluator.evaluate_with_dicts(best_ind_dict))\n",
    "\n",
    "\n",
    "model = cell_evaluator.cell_model\n",
    "cell_evaluator.param_dict(best_ind)\n",
    "model.attrs = {str(k):float(v) for k,v in cell_evaluator.param_dict(best_ind).items()}\n",
    "\n",
    "\n",
    "\n",
    "opt = model.model_to_dtc()\n",
    "opt.attrs = {str(k):float(v) for k,v in cell_evaluator.param_dict(best_ind).items()}\n",
    "\n",
    "check_binary_match(target,opt)\n",
    "inject_and_plot_passive_model(opt,second=target)\n",
    "\n",
    "\n",
    "# As you can see the evaluation returns the same values as the fitness values provided by the optimisation output. \n",
    "# We can have a look at the responses now.\n",
    "\n",
    "# In[ ]:\n",
    "\n",
    "\n",
    "#plot_responses(twostep_protocol.run(cell_model=simple_cell, param_values=best_ind_dict, sim=nrn))\n",
    " \n",
    "\n",
    "\n",
    "# Let's have a look at the optimisation statistics.\n",
    "# We can plot the minimal score (sum of all objective scores) found in every optimisation. \n",
    "# The optimisation algorithm uses negative fitness scores, so we actually have to look at the maximum values log.\n",
    "\n",
    "gen_numbers = logs.select('gen')\n",
    "min_fitness = logs.select('min')\n",
    "max_fitness = logs.select('max')\n",
    "plt.plot(gen_numbers, min_fitness, label='min fitness')\n",
    "plt.xlabel('generation #')\n",
    "plt.ylabel('score (# std)')\n",
    "plt.legend()\n",
    "plt.xlim(min(gen_numbers) - 1, max(gen_numbers) + 1) \n",
    "plt.ylim(0.9*min(min_fitness), 1.1 * max(min_fitness)) "
   ]
  },
  {
   "cell_type": "code",
   "execution_count": null,
   "metadata": {
    "lines_to_next_cell": 2
   },
   "outputs": [],
   "source": [
    "gen_numbers = logs.select('gen')\n",
    "min_fitness = logs.select('min')\n",
    "max_fitness = logs.select('max')\n",
    "avg_fitness = logs.select('avg')\n",
    "\n",
    "plt.clf()\n",
    "plt.plot(gen_numbers, max_fitness, label='max fitness')\n",
    "plt.plot(gen_numbers, avg_fitness, label='avg fitness')\n",
    "plt.plot(gen_numbers, min_fitness, label='min fitness')\n",
    "\n",
    "plt.xlabel('generation #')\n",
    "plt.ylabel('score (# std)')\n",
    "plt.yscale('log')\n",
    "\n",
    "plt.legend()\n",
    "plt.xlim(min(gen_numbers) - 1, max(gen_numbers) + 1) \n",
    "#plt.ylim(0.9*min(min_fitness), 1.1 * max(min_fitness)) \n",
    "plt.show()"
   ]
  },
  {
   "cell_type": "code",
   "execution_count": null,
   "metadata": {},
   "outputs": [],
   "source": [
    "gen_numbers = logs.select('gen')\n",
    "min_fitness = logs.select('min')\n",
    "max_fitness = logs.select('max')\n",
    "avg_fitness = logs.select('avg')\n",
    "\n",
    "plt.clf()\n",
    "fig = plt.figure(figsize=(10,10))\n",
    "#ax = fig.add_subplot(1,1)\n",
    "\n",
    "plt.plot(gen_numbers, min_fitness, label='min fitness')\n",
    "#ax.semilogy()\n",
    "#ax.set_yscale('log')\n",
    "plt.yscale('log')\n",
    "\n",
    "plt.xlabel('generation #')\n",
    "plt.ylabel('score (# std)')\n",
    "plt.legend()\n",
    "plt.xlim(min(gen_numbers) - 1, max(gen_numbers) + 1) \n",
    "#plt.ylim(0.9*min(min_fitness), 1.1 * max(min_fitness)) \n",
    "plt.show()"
   ]
  },
  {
   "cell_type": "code",
   "execution_count": null,
   "metadata": {
    "lines_to_next_cell": 2
   },
   "outputs": [],
   "source": [
    "inject_and_plot_passive_model(opt,second=target,plotly=False)"
   ]
  },
  {
   "cell_type": "code",
   "execution_count": null,
   "metadata": {
    "lines_to_next_cell": 2
   },
   "outputs": [],
   "source": [
    "check_binary_match(opt,target,plotly=False,snippets=False)\n",
    "check_binary_match(opt,target,plotly=False,snippets=True)"
   ]
  },
  {
   "cell_type": "code",
   "execution_count": null,
   "metadata": {},
   "outputs": [],
   "source": [
    "best_ind_dict = cell_evaluator.param_dict(best_ind)\n",
    "objectives = cell_evaluator.evaluate_with_dicts(best_ind_dict)"
   ]
  },
  {
   "cell_type": "code",
   "execution_count": null,
   "metadata": {},
   "outputs": [],
   "source": [
    "objectives"
   ]
  },
  {
   "cell_type": "code",
   "execution_count": null,
   "metadata": {
    "lines_to_next_cell": 2
   },
   "outputs": [],
   "source": [
    "opt = dtc_to_rheo(opt)\n",
    "print(opt.rheobase)"
   ]
  },
  {
   "cell_type": "code",
   "execution_count": null,
   "metadata": {},
   "outputs": [],
   "source": [
    "target.rheobase"
   ]
  },
  {
   "cell_type": "code",
   "execution_count": null,
   "metadata": {},
   "outputs": [],
   "source": [
    "params = {}\n",
    "params['injected_square_current'] = {}\n",
    "#if v.name in str('RestingPotentialTest'):\n",
    "params['injected_square_current']['delay'] = PASSIVE_DELAY\n",
    "params['injected_square_current']['duration'] = PASSIVE_DURATION\n",
    "params['injected_square_current']['amplitude'] = 0.0*pq.pA    "
   ]
  },
  {
   "cell_type": "code",
   "execution_count": null,
   "metadata": {},
   "outputs": [],
   "source": [
    "\n",
    "opt_model = opt.dtc_to_model()\n",
    "opt_model.inject_square_current(params)\n",
    "opt_vm = opt_model.get_membrane_potential()\n",
    "opt_vm[-1]"
   ]
  },
  {
   "cell_type": "code",
   "execution_count": null,
   "metadata": {},
   "outputs": [],
   "source": [
    "target_model = target.dtc_to_model()\n",
    "target_model.inject_square_current(params)\n",
    "target_vm = target_model.get_membrane_potential()\n",
    "target_vm[-1]"
   ]
  },
  {
   "cell_type": "code",
   "execution_count": null,
   "metadata": {
    "lines_to_next_cell": 2
   },
   "outputs": [],
   "source": [
    "best_ind = hall_of_fame[1]\n",
    "print('Best individual: ', best_ind)\n",
    "print('Fitness values: ', best_ind.fitness.values)\n",
    "\n",
    "\n",
    "# We can evaluate this individual and make use of a convenience function of the cell evaluator to return us a dict of the parameters\n",
    "\n",
    "\n",
    "best_ind_dict = cell_evaluator.param_dict(best_ind)\n",
    "print(cell_evaluator.evaluate_with_dicts(best_ind_dict))\n",
    "\n",
    "\n",
    "model = cell_evaluator.cell_model\n",
    "dtc= model.model_to_dtc()\n",
    "opt = dtc_to_rheo(opt)\n",
    "print(opt.rheobase)"
   ]
  },
  {
   "cell_type": "code",
   "execution_count": null,
   "metadata": {},
   "outputs": [],
   "source": [
    "#model.rheobase"
   ]
  },
  {
   "cell_type": "code",
   "execution_count": null,
   "metadata": {
    "lines_to_next_cell": 2
   },
   "outputs": [],
   "source": [
    "len(hist.genealogy_history)/20"
   ]
  },
  {
   "cell_type": "code",
   "execution_count": null,
   "metadata": {},
   "outputs": [],
   "source": [
    "import pandas as pd\n",
    "import seaborn as sns\n",
    "logbook = logs\n",
    "#scores = [ m for m in logs ]\n",
    "'''\n",
    "list_of_dicts = []\n",
    "df1 = pd.DataFrame()\n",
    "genes=[]\n",
    "for _,v in hist.genealogy_history.items():\n",
    "    genes.append(v.fitness.values)\n",
    "for j,i in enumerate(objectives.keys()):\n",
    "    index = i.split('.')[0]\n",
    "    df1[str(index)] = pd.Series(genes).values[j]#, index=df1.index)\n",
    "\n",
    "'''\n",
    "MU =20\n",
    "genes=[]\n",
    "min_per_generations = []\n",
    "for i,v in hist.genealogy_history.items():\n",
    "    if i%25==0:\n",
    "        min_per_gen = sorted([(gene,np.min(gene)) for gene in genes],key=lambda x: x[1])\n",
    "        min_per_generations.append(min_per_gen[0][0])\n",
    "        genes =[]\n",
    "    genes.append(v.fitness.values)\n",
    "df2 = pd.DataFrame()\n",
    "scores = []\n",
    "for j,i in enumerate(objectives.keys()):\n",
    "    index = i.split('.')[0]\n",
    "    if j<len(min_per_generations):\n",
    "        df2[index] = pd.Series(min_per_generations).values[j]#, index=df1.index)\n",
    "        #scores.append(df2[str(i)])\n",
    "df2    \n",
    "\n",
    "#rescored = [np.sum(i) for i in range(0,len(scores)) ]\n",
    "#rescored"
   ]
  },
  {
   "cell_type": "code",
   "execution_count": null,
   "metadata": {},
   "outputs": [],
   "source": [
    "import math\n",
    "import seaborn as sns\n",
    "sns.set(style=\"darkgrid\")\n",
    "\n",
    "fig,axes = plt.subplots(3,3,figsize=(20,20))#math.ceil(len(objectives)/2+1),figsize=(20,20))\n",
    "axes[0,0].plot(gen_numbers, min_fitness, label='min fitness')\n",
    "\n",
    "axes[0,0].set_title('Observation/Prediction Disagreement')\n",
    "for i,c in enumerate(df2.columns):\n",
    "    ax = axes.flat[i+1]\n",
    "    history = df2[c]\n",
    "    #mn = mean[k.name] \n",
    "    #st = std[k.name] \n",
    "    #history = [(j[i]-mn)/st for j in scores ]\n",
    "    #ax.axhline(y=mn , xmin=0.02, xmax=0.99,color='red',label='best candidate sampled')\n",
    "\n",
    "    #ax.axvline(x=min_x , ymin=0.02, ymax=0.99,color='blue',label='best candidate sampled')\n",
    "    ax.plot(history)\n",
    "    ax.set_title(str(c))\n",
    "    #bigger = np.max([np.max(history),mn])\n",
    "    #smaller = np.max([np.min(history),mn])\n",
    "\n",
    "    #ax.set_ylim([np.min(history),np.max(history)])\n",
    "    #ax.set_ylabel(str(front[0].dtc.tests[i].observation['std'].units))\n",
    "axes[0,0].set_xlabel(\"Generation\")\n",
    "axes[0,0].set_ylabel(\"standardized error\")\n",
    "\n",
    "plt.tight_layout()\n",
    "#if figname is not None:\n",
    "#    plt.savefig(figname)\n",
    "#else:\n",
    "plt.show()"
   ]
  },
  {
   "cell_type": "code",
   "execution_count": null,
   "metadata": {},
   "outputs": [],
   "source": [
    "import pandas as pd\n",
    "import seaborn as sns\n",
    "logbook = logs\n",
    "#scores = [ m for m in logs ]\n",
    "list_of_dicts = []\n",
    "df1 = pd.DataFrame()\n",
    "genes=[]\n",
    "for _,v in hist.genealogy_history.items():\n",
    "    genes.append(v.fitness.values)\n",
    "for j,i in enumerate(objectives.keys()):\n",
    "    index = i.split('.')[0]\n",
    "    df1[str(index)] = pd.Series(genes).values[j]#, index=df1.index)\n",
    "\n",
    "df1=(df1-df1.mean())/df1.std()\n",
    "\n",
    "corr = df1.corr()\n",
    "fig =plt.figure(figsize=(10,10))\n",
    "sns.heatmap(corr, \n",
    "        xticklabels=corr.columns,\n",
    "        yticklabels=corr.columns)#, annot=True)\n",
    "plt.show()\n"
   ]
  },
  {
   "cell_type": "code",
   "execution_count": null,
   "metadata": {},
   "outputs": [],
   "source": [
    "print(np.sum(np.sum(corr)))"
   ]
  },
  {
   "cell_type": "code",
   "execution_count": null,
   "metadata": {},
   "outputs": [],
   "source": []
  }
 ],
 "metadata": {
  "jupytext": {
   "formats": "ipynb,py:light,Rmd"
  },
  "kernelspec": {
   "display_name": "Python 3",
   "language": "python",
   "name": "python3"
  },
  "language_info": {
   "codemirror_mode": {
    "name": "ipython",
    "version": 3
   },
   "file_extension": ".py",
   "mimetype": "text/x-python",
   "name": "python",
   "nbconvert_exporter": "python",
   "pygments_lexer": "ipython3",
   "version": "3.7.4"
  }
 },
 "nbformat": 4,
 "nbformat_minor": 2
}
