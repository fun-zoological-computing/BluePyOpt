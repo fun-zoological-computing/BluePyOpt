{
 "cells": [
  {
   "cell_type": "markdown",
   "metadata": {},
   "source": [
    "# Creating a NeuronUnit BluepyOpt optimisation with a reduced Cell model\n",
    "such as the Izhikevich model\n",
    "\n"
   ]
  },
  {
   "cell_type": "code",
   "execution_count": 1,
   "metadata": {},
   "outputs": [
    {
     "data": {
      "text/plain": [
       "<Figure size 640x480 with 1 Axes>"
      ]
     },
     "metadata": {},
     "output_type": "display_data"
    }
   ],
   "source": [
    "import matplotlib.pyplot as plt\n",
    "plt.plot([1,0],[0,1])\n",
    "plt.show()\n"
   ]
  },
  {
   "cell_type": "code",
   "execution_count": 2,
   "metadata": {},
   "outputs": [
    {
     "name": "stderr",
     "output_type": "stream",
     "text": [
      "/home/user/anaconda3/lib/python3.7/site-packages/airspeed/__init__.py:505: FutureWarning: Possible nested set at position 8\n",
      "  KEYVALSEP = re.compile(r'[ \\t]*:[[ \\t]*(.*)$', re.S)\n"
     ]
    }
   ],
   "source": [
    "import bluepyopt as bpop\n",
    "import pickle\n",
    "import numpy as np\n",
    "import numpy\n",
    "\n",
    "\n",
    "\n",
    "from bluepyopt.ephys.models import ReducedCellModel\n",
    "from neuronunit.optimisation.model_parameters import MODEL_PARAMS\n",
    "from neuronunit.optimisation.optimization_management import test_all_objective_test, inject_and_plot_model, check_bin_vm30,check_bin_vm15\n",
    "\n",
    "from neuronunit.optimisation.optimization_management import check_binary_match, three_step_protocol,inject_and_plot_passive_model\n",
    "\n",
    "#from neuronunit.optimisation.optimization_management import check_bin_vm15\n"
   ]
  },
  {
   "cell_type": "code",
   "execution_count": 3,
   "metadata": {},
   "outputs": [],
   "source": [
    "%matplotlib inline\n",
    "import matplotlib.pyplot as plt\n",
    "%load_ext autoreload\n",
    "%autoreload"
   ]
  },
  {
   "cell_type": "code",
   "execution_count": null,
   "metadata": {},
   "outputs": [],
   "source": []
  },
  {
   "cell_type": "code",
   "execution_count": 4,
   "metadata": {},
   "outputs": [],
   "source": [
    "import bluepyopt.ephys as ephys\n",
    "\n",
    "\n",
    "simple_cell = ephys.models.ReducedCellModel(\n",
    "        name='simple_cell',\n",
    "        params=MODEL_PARAMS[\"IZHI\"],backend=\"IZHI\")  \n",
    "simple_cell.backend = \"IZHI\"\n"
   ]
  },
  {
   "cell_type": "markdown",
   "metadata": {},
   "source": [
    "First we need to import the module that contains all the functionality to create electrical cell models"
   ]
  },
  {
   "cell_type": "markdown",
   "metadata": {},
   "source": [
    "Setting up the cell\n",
    "---------------------\n"
   ]
  },
  {
   "cell_type": "markdown",
   "metadata": {
    "collapsed": true
   },
   "source": []
  },
  {
   "cell_type": "code",
   "execution_count": 5,
   "metadata": {},
   "outputs": [],
   "source": [
    "\n",
    "from neuronunit.optimisation.model_parameters import MODEL_PARAMS\n",
    "import numpy as np\n",
    "\n",
    "simple_cell = ephys.models.ReducedCellModel(\n",
    "        name='simple_cell',\n",
    "        params=MODEL_PARAMS[\"IZHI\"],backend=\"IZHI\")  \n",
    "simple_cell.backend = \"IZHI\""
   ]
  },
  {
   "cell_type": "code",
   "execution_count": 6,
   "metadata": {},
   "outputs": [],
   "source": [
    "model = simple_cell\n",
    "model.params = {k:np.mean(v) for k,v in model.params.items() }"
   ]
  },
  {
   "cell_type": "markdown",
   "metadata": {
    "collapsed": true
   },
   "source": [
    "With this cell we can build a cell evaluator."
   ]
  },
  {
   "cell_type": "markdown",
   "metadata": {
    "collapsed": true
   },
   "source": [
    "## Setting up a cell evaluator\n",
    "\n",
    "To optimise the parameters of the cell we need to create cell evaluator object. \n",
    "This object will need to know which protocols to inject, which parameters to optimise, etc."
   ]
  },
  {
   "cell_type": "markdown",
   "metadata": {
    "collapsed": true
   },
   "source": [
    "### Creating the protocols\n",
    "\n"
   ]
  },
  {
   "cell_type": "markdown",
   "metadata": {
    "collapsed": true
   },
   "source": [
    "### Running a protocol on a cell\n",
    "\n",
    "Now we're at a stage where we can actually run a protocol on the cell. We first need to create a Simulator object."
   ]
  },
  {
   "cell_type": "markdown",
   "metadata": {},
   "source": [
    "The run() method of a protocol accepts a cell model, a set of parameter values and a simulator"
   ]
  },
  {
   "cell_type": "markdown",
   "metadata": {},
   "source": [
    "Plotting the response traces is now easy:"
   ]
  },
  {
   "cell_type": "markdown",
   "metadata": {
    "collapsed": true
   },
   "source": [
    "### Defining eFeatures and objectives\n",
    "\n",
    "For every response we need to define a set of eFeatures we will use for the fitness calculation later. We have to combine features together into objectives that will be used by the optimalisation algorithm. In this case we will create one objective per feature.\n",
    "\n",
    "### In this case the features are derived from NeuronUnit test suites.\n",
    "\n",
    "These features can either come from simulation, or from neuroelectro."
   ]
  },
  {
   "cell_type": "code",
   "execution_count": 7,
   "metadata": {},
   "outputs": [
    {
     "name": "stdout",
     "output_type": "stream",
     "text": [
      "{'a': <bluepyopt.parameters.Parameter object at 0x7efbc3989c90>, 'b': <bluepyopt.parameters.Parameter object at 0x7efbc03c6e10>}\n"
     ]
    }
   ],
   "source": [
    "\n",
    "\n",
    "\n",
    "from neuronunit.optimisation.model_parameters import MODEL_PARAMS\n",
    "\n",
    "MODEL_PARAMS[\"IZHI\"].pop('C',None)\n",
    "MODEL_PARAMS[\"IZHI\"].pop('k',None)\n",
    "MODEL_PARAMS[\"IZHI\"].pop('vPeak',None)\n",
    "MODEL_PARAMS[\"IZHI\"].pop('vt',None)\n",
    "\n",
    "#MODEL_PARAMS[\"IZHI\"].pop('vr')#,None)#: <bluepyopt.parameters.Parameter at 0x7f26f22f2090>,\n",
    "#MODEL_PARAMS[\"IZHI\"].pop('a')# <bluepyopt.parameters.Parameter at 0x7f26f22f2110>,\n",
    "#MODEL_PARAMS[\"IZHI\"].pop('b')# <bluepyopt.parameters.Parameter at 0x7f26f22f2150>,\n",
    "MODEL_PARAMS[\"IZHI\"].pop('c')#<bluepyopt.parameters.Parameter at 0x7f26f22f20d0>,\n",
    "MODEL_PARAMS[\"IZHI\"].pop('d')#',None)# <bluepyopt.parameters.Parameter at 0x7f26f22f2190>}\n",
    "\n",
    "'''\n",
    "cnt = 0\n",
    "lop={}\n",
    "from bluepyopt.parameters import Parameter\n",
    "not_frozen = []\n",
    "for k,v in MODEL_PARAMS[\"IZHI\"].items(): #[\"a\",\"b\",\"c\",\"d\"]:\n",
    "    #v = MODEL_PARAMS[\"IZHI\"][k]\n",
    "    if cnt>len(MODEL_PARAMS[\"IZHI\"])/4:\n",
    "        \n",
    "        p = Parameter(name=k,bounds=v,value=np.mean(v),frozen=True)\n",
    "\n",
    "    else:\n",
    "        not_frozen.append(k)\n",
    "        p = Parameter(name=k,bounds=v,frozen=False)\n",
    "    \n",
    "        lop[k] = p\n",
    "    cnt +=1\n",
    "print('number of free params',len(lop))\n",
    "'''\n",
    "\n",
    "\n",
    "lop={}\n",
    "from bluepyopt.parameters import Parameter\n",
    "for k,v in MODEL_PARAMS[\"IZHI\"].items():\n",
    "    p = Parameter(name=k,bounds=v,frozen=False)\n",
    "    lop[k] = p\n",
    "\n",
    "print(lop)\n",
    "simple_cell.params = lop"
   ]
  },
  {
   "cell_type": "code",
   "execution_count": 8,
   "metadata": {},
   "outputs": [],
   "source": [
    "\n",
    "#lop.pop('C',None)\n",
    "#del not_frozen[0]"
   ]
  },
  {
   "cell_type": "code",
   "execution_count": 9,
   "metadata": {},
   "outputs": [
    {
     "data": {
      "text/plain": [
       "{'a': <bluepyopt.parameters.Parameter at 0x7efbc3989c90>,\n",
       " 'b': <bluepyopt.parameters.Parameter at 0x7efbc03c6e10>}"
      ]
     },
     "execution_count": 9,
     "metadata": {},
     "output_type": "execute_result"
    }
   ],
   "source": [
    "lop"
   ]
  },
  {
   "cell_type": "code",
   "execution_count": 10,
   "metadata": {},
   "outputs": [
    {
     "name": "stdout",
     "output_type": "stream",
     "text": [
      "Random simulated data tests made\n",
      "{'value': array(131.8359375) * pA}\n",
      "{'value': array(2461.73711199) * ms}\n",
      "{'mean': array(-65.22618636) * mV, 'std': array(1.42108547e-14) * mV}\n",
      "{'value': array(25535378.42252496) * kg*m**2/(s**3*A**2)}\n",
      "{'value': array(9.64049591e-08) * s**4*A**2/(kg*m**2)}\n",
      "{'mean': array(0.00029) * s, 'std': array(0.) * s, 'n': 1}\n",
      "{'value': array(44.80972298) * mV, 'mean': array(44.80972298) * mV, 'std': array(0.) * mV, 'n': 1}\n",
      "{'mean': array(-23.67138404) * mV, 'std': array(0.) * mV, 'n': 1}\n"
     ]
    },
    {
     "name": "stderr",
     "output_type": "stream",
     "text": [
      "INFO:numexpr.utils:NumExpr defaulting to 4 threads.\n"
     ]
    },
    {
     "name": "stdout",
     "output_type": "stream",
     "text": [
      "allen cell 504615116\n",
      "allen cell 504615116\n"
     ]
    }
   ],
   "source": [
    "\n",
    "\n",
    "simulated_experiment = True\n",
    "features = None\n",
    "allen = True\n",
    "if simulated_experiment:\n",
    "    while features is None:\n",
    "        aug_nu_tests, OM, target = test_all_objective_test(lop.keys(),model_type=\"IZHI\",protocol={'allen':False,'elephant':True})\n",
    "        target = three_step_protocol(target)\n",
    "        if hasattr(target,'everything'):\n",
    "            if hasattr(target,'allen_15'):\n",
    "                features = target.everything\n",
    "                if allen:\n",
    "                    simple_cell.allen = None\n",
    "                    simple_cell.allen = True\n",
    "\n",
    "                    tests = pickle.load(open(\"allen_NU_tests.p\",\"rb\"))\n",
    "                    print('allen cell',tests[0].name)\n",
    "                    nu_tests = tests[0]\n",
    "                    for t in nu_tests:                    \n",
    "                        if t.name in features.keys():\n",
    "                            t.set_observation(features[t.name])\n",
    "                            if t.observation['mean'] is not None:\n",
    "                                t.observation['std'] = np.abs(np.mean(t.observation['mean']))\n",
    "    \n",
    "    #from sciunit.scores import ZScore\n",
    "    #aug_nu_tests[\"RheobaseTest\"].score_type = ZScore \n",
    "    #temp = list(aug_nu_tests.values())\n",
    "    #temp.extend(nu_tests)\n",
    "    #nu_tests = temp\n",
    "    \n",
    "    #nu_tests = list(nu_tests.values())\n",
    "    #nu_tests = nu_tests_\n",
    "        \n",
    "if not allen:\n",
    "    tests = pickle.load(open(\"processed_multicellular_constraints.p\",\"rb\"))\n",
    "    nu_tests = tests['Hippocampus CA1 pyramidal cell'].tests\n",
    "    from sciunit.scores import ZScore\n",
    "\n",
    "    #nu_tests = list(nu_tests.values())\n",
    "    nu_tests[0].score_type = ZScore \n",
    "    #for t in nu_tests:\n",
    "     #   print(t.observation,t.name)\n",
    "else:\n",
    "    tests = pickle.load(open(\"allen_NU_tests.p\",\"rb\"))\n",
    "    print('allen cell',tests[0].name)\n",
    "    from random import choice\n",
    "    nu_tests = choice(tests)\n",
    "    #nu_tests = tests[2]\n",
    "    tests_by_name = {t.name:t for t in nu_tests }\n"
   ]
  },
  {
   "cell_type": "code",
   "execution_count": 11,
   "metadata": {},
   "outputs": [
    {
     "name": "stdout",
     "output_type": "stream",
     "text": [
      "{'C': 89.7960714285714, 'a': 0.0155454326944954, 'b': 14.39099242914141, 'c': -60, 'd': 10, 'k': 1.6, 'vPeak': 21.138338933982595, 'vr': -65.2261863636364, 'vt': -50, 'dt': 0.01, 'Iext': array([0., 0., 0., ..., 0., 0., 0.])}\n"
     ]
    }
   ],
   "source": [
    "#aug_nu_tests['RestingPotentialTest'].params\n",
    "print(target.attrs)\n",
    "simple_cell.params = target.attrs"
   ]
  },
  {
   "cell_type": "code",
   "execution_count": 12,
   "metadata": {},
   "outputs": [],
   "source": [
    "#nu_tests = []\n",
    "#nu_tests.append(tests_by_name['Spikecount_3.0x'])\n",
    "#nu_tests.append(tests_by_name['Spikecount_1.5x'])\n",
    "#tests_by_name['Spikecount_1.5x'].observation"
   ]
  },
  {
   "cell_type": "code",
   "execution_count": 13,
   "metadata": {},
   "outputs": [],
   "source": [
    "#tests_by_name['Spikecount_3.0x'].observation\n",
    "#tests_by_name['Spikecount_3.0x'].set_observation(tests_by_name['Spikecount_3.0x'].observation['mean'][0])\n",
    "#tests_by_name['Spikecount_1.5x'].set_observation(tests_by_name['Spikecount_1.5x'].observation['mean'][0])"
   ]
  },
  {
   "cell_type": "code",
   "execution_count": 14,
   "metadata": {},
   "outputs": [],
   "source": [
    "\n",
    "\n",
    "sweep_protocols = []\n",
    "for protocol_name, _ in [('step1', 0.05)]:\n",
    "    protocol = ephys.protocols.SweepProtocol(protocol_name, [None], [None])\n",
    "    sweep_protocols.append(protocol)\n",
    "twostep_protocol = ephys.protocols.SequenceProtocol('twostep', protocols=sweep_protocols)\n"
   ]
  },
  {
   "cell_type": "code",
   "execution_count": 15,
   "metadata": {},
   "outputs": [
    {
     "data": {
      "text/plain": [
       "{'a': <bluepyopt.parameters.Parameter at 0x7efbc3989c90>,\n",
       " 'b': <bluepyopt.parameters.Parameter at 0x7efbc03c6e10>}"
      ]
     },
     "execution_count": 15,
     "metadata": {},
     "output_type": "execute_result"
    }
   ],
   "source": [
    "lop"
   ]
  },
  {
   "cell_type": "code",
   "execution_count": null,
   "metadata": {},
   "outputs": [],
   "source": []
  },
  {
   "cell_type": "code",
   "execution_count": 16,
   "metadata": {},
   "outputs": [
    {
     "data": {
      "text/plain": [
       "<sciunit.suites.TestSuite at 0x7efbb3a85650>"
      ]
     },
     "execution_count": 16,
     "metadata": {},
     "output_type": "execute_result"
    }
   ],
   "source": [
    "nu_tests"
   ]
  },
  {
   "cell_type": "markdown",
   "metadata": {},
   "source": [
    "### Creating the cell evaluator\n",
    "\n",
    "We will need an object that can use these objective definitions to calculate the scores from a protocol response. This is called a ScoreCalculator."
   ]
  },
  {
   "cell_type": "code",
   "execution_count": 17,
   "metadata": {},
   "outputs": [],
   "source": [
    "simple_cell.params = lop\n",
    "from nu_cell_evaluators import make_basic_objectives\n",
    "from nu_cell_evaluators import make_allen_objectives\n",
    "if allen:\n",
    "\n",
    "    \n",
    "    score_calc,objectives = make_allen_objectives(nu_tests,simple_cell)\n",
    "else:\n",
    "    \n",
    "    score_calc,objectives = make_basic_objectives(nu_tests,simple_cell)\n"
   ]
  },
  {
   "cell_type": "markdown",
   "metadata": {},
   "source": [
    "Combining everything together we have a CellEvaluator. The CellEvaluator constructor has a field 'parameter_names' which contains the (ordered) list of names of the parameters that are used as input (and will be fitted later on)."
   ]
  },
  {
   "cell_type": "code",
   "execution_count": 18,
   "metadata": {},
   "outputs": [],
   "source": [
    "MODEL_PARAMS[\"IZHI\"]\n",
    "cell_evaluator = ephys.evaluators.CellEvaluator(\n",
    "        cell_model=simple_cell,\n",
    "        param_names=lop.keys(),\n",
    "        fitness_protocols={twostep_protocol.name: twostep_protocol},\n",
    "        fitness_calculator=score_calc,\n",
    "        sim='euler')\n",
    "simple_cell.params_by_names(lop.keys())\n",
    "simple_cell.params;"
   ]
  },
  {
   "cell_type": "markdown",
   "metadata": {},
   "source": [
    "### Evaluating the cell\n",
    "\n",
    "The cell can now be evaluate for a certain set of parameter values."
   ]
  },
  {
   "cell_type": "markdown",
   "metadata": {
    "collapsed": true
   },
   "source": [
    "## Setting up and running an optimisation\n",
    "\n",
    "Now that we have a cell template and an evaluator for this cell, we can set up an optimisation."
   ]
  },
  {
   "cell_type": "code",
   "execution_count": 19,
   "metadata": {},
   "outputs": [],
   "source": [
    "MU=5\n",
    "import dask\n",
    "#from dask.distributed import Client\n",
    "\n",
    "# Setup a local cluster.\n",
    "# By default this sets up 1 worker per core\n",
    "#client = Client()\n",
    "#client.cluster\n",
    "def dask_map_function(eval_,invalid_ind):\n",
    "    results = []\n",
    "    for x in invalid_ind:\n",
    "        y = dask.delayed(eval_)(x)\n",
    "        results.append(y)\n",
    "    fitnesses = dask.compute(*results)\n",
    "    return fitnesses\n",
    "\n",
    "\n",
    "\n",
    "#        if self.selector_name == 'IBEA':\n",
    "#            self.toolbox.register(\"select\", tools.selIBEA)\n",
    "#        elif self.selector_name == 'NSGA2':\n",
    "\n",
    "#                 mutpb=1.0,\n",
    "#                 cxpb=1.0,\n",
    "optimisation = bpop.optimisations.DEAPOptimisation(\n",
    "        evaluator=cell_evaluator,\n",
    "        map_function = map,\n",
    "        offspring_size = MU,\n",
    "        selector_name='NSGA2',\n",
    "        mutpb=1,\n",
    "        cxpb=1)\n"
   ]
  },
  {
   "cell_type": "markdown",
   "metadata": {},
   "source": [
    "And this optimisation can be run for a certain number of generations"
   ]
  },
  {
   "cell_type": "raw",
   "metadata": {},
   "source": [
    "max_ngen = 10\n",
    "final_pop, hall_of_fame, logs, hist = optimisation.run(max_ngen=max_ngen)"
   ]
  },
  {
   "cell_type": "code",
   "execution_count": null,
   "metadata": {},
   "outputs": [],
   "source": [
    "\n",
    "for k,v in hist.genealogy_history.items():\n",
    "    ind_dict = cell_evaluator.param_dict(v)\n",
    "\n"
   ]
  },
  {
   "cell_type": "markdown",
   "metadata": {},
   "source": [
    "The best individual found during the optimisation is the first individual of the hall of fame"
   ]
  },
  {
   "cell_type": "code",
   "execution_count": null,
   "metadata": {},
   "outputs": [],
   "source": [
    "best_ind = hall_of_fame[0]\n",
    "\n",
    "print('Fitness values: ', best_ind.fitness.values)\n",
    "#best_ind = hall_of_fame[-1]\n",
    "\n",
    "#print('Fitness values: ', best_ind.fitness.values)"
   ]
  },
  {
   "cell_type": "markdown",
   "metadata": {},
   "source": [
    "We can evaluate this individual and make use of a convenience function of the cell evaluator to return us a dict of the parameters"
   ]
  },
  {
   "cell_type": "code",
   "execution_count": null,
   "metadata": {},
   "outputs": [],
   "source": [
    "best_ind_dict = cell_evaluator.param_dict(best_ind)\n",
    "objectives = cell_evaluator.evaluate_with_dicts(best_ind_dict)"
   ]
  },
  {
   "cell_type": "code",
   "execution_count": null,
   "metadata": {},
   "outputs": [],
   "source": [
    "objectives['Spikecount_3.0x.Spikecount_3.0x']\n",
    "objectives['Spikecount_1.5x.Spikecount_1.5x']\n"
   ]
  },
  {
   "cell_type": "code",
   "execution_count": null,
   "metadata": {},
   "outputs": [],
   "source": [
    "model = cell_evaluator.cell_model\n",
    "cell_evaluator.param_dict(best_ind)\n",
    "model.attrs = {str(k):float(v) for k,v in cell_evaluator.param_dict(best_ind).items()}\n",
    "\n",
    "opt = model.model_to_dtc()\n",
    "opt.attrs = {str(k):float(v) for k,v in cell_evaluator.param_dict(best_ind).items()}\n",
    "from neuronunit.optimisation.optimization_management import dtc_to_rheo, inject_and_plot_model30\n",
    "opt = dtc_to_rheo(opt)\n",
    "opt.rheobase\n",
    "opt.attrs;"
   ]
  },
  {
   "cell_type": "code",
   "execution_count": null,
   "metadata": {},
   "outputs": [],
   "source": [
    "\n",
    "\n",
    "#from neuronunit.tests.base import AMPL, DELAY, DURATION\n",
    "\n",
    "#inject_and_plot_model(opt)\n",
    "\n",
    "\n",
    "\n",
    "\n"
   ]
  },
  {
   "cell_type": "code",
   "execution_count": null,
   "metadata": {},
   "outputs": [],
   "source": [
    "vm301,vm151,_,_,target = inject_and_plot_model30(target)\n",
    "vm302,vm152,_,_,opt = inject_and_plot_model30(opt)\n",
    "\n",
    "5\n",
    "#check_bin_vm30(target,opt)\n",
    "#vm30,params,_,opt = inject_and_plot_model15(opt)\n"
   ]
  },
  {
   "cell_type": "code",
   "execution_count": null,
   "metadata": {},
   "outputs": [],
   "source": [
    "opt"
   ]
  },
  {
   "cell_type": "code",
   "execution_count": null,
   "metadata": {},
   "outputs": [],
   "source": [
    "target = three_step_protocol(target)"
   ]
  },
  {
   "cell_type": "code",
   "execution_count": null,
   "metadata": {},
   "outputs": [],
   "source": [
    "opt = three_step_protocol(opt)\n"
   ]
  },
  {
   "cell_type": "code",
   "execution_count": null,
   "metadata": {},
   "outputs": [],
   "source": [
    "print(opt.everything)"
   ]
  },
  {
   "cell_type": "code",
   "execution_count": null,
   "metadata": {},
   "outputs": [],
   "source": [
    "print(opt.everything['Spikecount_1.5x'],target.everything['Spikecount_1.5x'])\n",
    "print(opt.everything['Spikecount_3.0x'],target.everything['Spikecount_3.0x'])"
   ]
  },
  {
   "cell_type": "code",
   "execution_count": null,
   "metadata": {},
   "outputs": [],
   "source": [
    "if simulated_experiment:\n",
    "\n",
    "    check_binary_match(target,opt,plotly=False)\n",
    "    check_binary_match(target,opt,snippets=False,plotly=False)\n",
    "    inject_and_plot_passive_model(opt,second=target,plotly=False)\n",
    "    inject_and_plot_passive_model(opt,second=target,plotly=True)\n",
    "\n"
   ]
  },
  {
   "cell_type": "code",
   "execution_count": null,
   "metadata": {},
   "outputs": [],
   "source": [
    "opt.vm30,_,_,_,opt=inject_and_plot_model30(opt)\n",
    "target.vm30,_,_,_,target=inject_and_plot_model30(target)\n",
    "print(opt.rheobase)\n",
    "target.vm15\n",
    "check_bin_vm30(target,opt)\n",
    "check_bin_vm15(target,opt)\n",
    "\n",
    "opt.vm15\n",
    "\n"
   ]
  },
  {
   "cell_type": "code",
   "execution_count": null,
   "metadata": {},
   "outputs": [],
   "source": []
  },
  {
   "cell_type": "code",
   "execution_count": null,
   "metadata": {},
   "outputs": [],
   "source": [
    "print(opt.attrs)\n",
    "print(target.attrs)"
   ]
  },
  {
   "cell_type": "markdown",
   "metadata": {},
   "source": [
    "As you can see the evaluation returns the same values as the fitness values provided by the optimisation output. \n",
    "We can have a look at the responses now."
   ]
  },
  {
   "cell_type": "markdown",
   "metadata": {},
   "source": [
    "Let's have a look at the optimisation statistics.\n",
    "We can plot the minimal score (sum of all objective scores) found in every optimisation. \n",
    "The optimisation algorithm uses negative fitness scores, so we actually have to look at the maximum values log."
   ]
  },
  {
   "cell_type": "code",
   "execution_count": null,
   "metadata": {},
   "outputs": [],
   "source": [
    "gen_numbers = logs.select('gen')\n",
    "min_fitness = logs.select('min')\n",
    "max_fitness = logs.select('max')\n",
    "avg_fitness = logs.select('avg')\n",
    "\n",
    "plt.clf()\n",
    "plt.plot(gen_numbers, max_fitness, label='max fitness')\n",
    "plt.plot(gen_numbers, avg_fitness, label='avg fitness')\n",
    "plt.plot(gen_numbers, min_fitness, label='min fitness')\n",
    "\n",
    "plt.xlabel('generation #')\n",
    "plt.ylabel('score (# std)')\n",
    "plt.legend()\n",
    "plt.xlim(min(gen_numbers) - 1, max(gen_numbers) + 1) \n",
    "#plt.ylim(0.9*min(min_fitness), 1.1 * max(min_fitness)) \n",
    "plt.show()\n"
   ]
  },
  {
   "cell_type": "code",
   "execution_count": null,
   "metadata": {},
   "outputs": [],
   "source": [
    "try:\n",
    "    kvp_obj = {}\n",
    "    for obj in objectives:\n",
    "        kvp_obj[obj.name] = obj\n",
    "    objectives = kvp_obj\n",
    "except:\n",
    "    pass"
   ]
  },
  {
   "cell_type": "markdown",
   "metadata": {},
   "source": [
    "And this optimisation can be run for a certain number of generations"
   ]
  },
  {
   "cell_type": "code",
   "execution_count": null,
   "metadata": {},
   "outputs": [],
   "source": [
    "import pandas as pd\n",
    "import seaborn as sns\n",
    "logbook = logs\n",
    "#scores = [ m for m in logs ]\n",
    "list_of_dicts = []\n",
    "df1 = pd.DataFrame()\n",
    "genes=[]\n",
    "for _,v in hist.genealogy_history.items():\n",
    "    genes.append(v.fitness.values)\n",
    "for j,i in enumerate(objectives.keys()):\n",
    "    index = i.split('.')[0]\n",
    "    #print(len(pd.Series(genes).values))\n",
    "    if j<len(genes):\n",
    "        df1[str(index)] = pd.Series(genes).values[j]#, index=df1.index)\n",
    "\n",
    "\n",
    "corr = df1.corr()\n",
    "fig =plt.figure(figsize=(22,22))\n",
    "sns.heatmap(corr, \n",
    "        xticklabels=corr.columns,\n",
    "        yticklabels=corr.columns)"
   ]
  },
  {
   "cell_type": "code",
   "execution_count": null,
   "metadata": {},
   "outputs": [],
   "source": [
    "np.sum(np.sum(corr))/len(corr)"
   ]
  },
  {
   "cell_type": "code",
   "execution_count": null,
   "metadata": {},
   "outputs": [],
   "source": [
    "np.sum(hist.genealogy_history[20].fitness.values)"
   ]
  },
  {
   "cell_type": "code",
   "execution_count": null,
   "metadata": {},
   "outputs": [],
   "source": [
    "hist.genealogy_history[25].fitness"
   ]
  },
  {
   "cell_type": "code",
   "execution_count": null,
   "metadata": {},
   "outputs": [],
   "source": [
    "corr"
   ]
  },
  {
   "cell_type": "code",
   "execution_count": null,
   "metadata": {},
   "outputs": [],
   "source": [
    "genes=[]\n",
    "min_per_generations = []\n",
    "for i,v in hist.genealogy_history.items():\n",
    "    if i%MU==0:\n",
    "        min_per_gen = sorted([(gene,np.min(gene)) for gene in genes],key=lambda x: x[1])\n",
    "        min_per_generations.append(min_per_gen[0][0])\n",
    "        genes =[]\n",
    "    genes.append(v.fitness.values)\n",
    "df2 = pd.DataFrame()\n",
    "for j,i in enumerate(objectives.keys()):\n",
    "    if j<len(min_per_generations):\n",
    "        df2[str(i)] = pd.Series(min_per_generations).values[j]#, index=df1.index)\n"
   ]
  },
  {
   "cell_type": "code",
   "execution_count": null,
   "metadata": {},
   "outputs": [],
   "source": [
    "plt.clf()\n",
    "\n",
    "for c in df2.columns:\n",
    "    df2[c].plot()\n",
    "plt.show()"
   ]
  },
  {
   "cell_type": "code",
   "execution_count": null,
   "metadata": {},
   "outputs": [],
   "source": [
    "genes=[]\n",
    "\n",
    "for _,v in hist.genealogy_history.items():\n",
    "    genes.append(v.fitness.values)"
   ]
  },
  {
   "cell_type": "code",
   "execution_count": null,
   "metadata": {},
   "outputs": [],
   "source": [
    "genes[10]"
   ]
  },
  {
   "cell_type": "code",
   "execution_count": null,
   "metadata": {},
   "outputs": [],
   "source": [
    "plt.plot(range(0,len(genes)), genes, label='min fitness')\n"
   ]
  },
  {
   "cell_type": "code",
   "execution_count": null,
   "metadata": {},
   "outputs": [],
   "source": [
    "for t in nu_tests:\n",
    "    print(t.params)"
   ]
  },
  {
   "cell_type": "code",
   "execution_count": null,
   "metadata": {},
   "outputs": [],
   "source": [
    "for t in nu_tests:\n",
    "    print(dir(t.params))"
   ]
  },
  {
   "cell_type": "markdown",
   "metadata": {},
   "source": [
    "##### "
   ]
  }
 ],
 "metadata": {
  "kernelspec": {
   "display_name": "Python 3",
   "language": "python",
   "name": "python3"
  },
  "language_info": {
   "codemirror_mode": {
    "name": "ipython",
    "version": 3
   },
   "file_extension": ".py",
   "mimetype": "text/x-python",
   "name": "python",
   "nbconvert_exporter": "python",
   "pygments_lexer": "ipython3",
   "version": "3.7.4"
  }
 },
 "nbformat": 4,
 "nbformat_minor": 1
}
