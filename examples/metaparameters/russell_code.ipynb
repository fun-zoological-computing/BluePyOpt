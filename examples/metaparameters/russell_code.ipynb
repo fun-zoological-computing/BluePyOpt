{
 "cells": [
  {
   "cell_type": "markdown",
   "metadata": {},
   "source": [
    "# Creating an optimisation with meta parameters\n",
    "\n",
    "This notebook will explain how to set up an optimisation that uses metaparameters (parameters that control other parameters)"
   ]
  },
  {
   "cell_type": "code",
   "execution_count": 1,
   "metadata": {},
   "outputs": [
    {
     "data": {
      "text/plain": [
       "<Figure size 640x480 with 1 Axes>"
      ]
     },
     "metadata": {},
     "output_type": "display_data"
    }
   ],
   "source": [
    "import matplotlib.pyplot as plt\n",
    "plt.plot([1,0],[0,1])\n",
    "plt.show()"
   ]
  },
  {
   "cell_type": "code",
   "execution_count": 2,
   "metadata": {},
   "outputs": [
    {
     "name": "stderr",
     "output_type": "stream",
     "text": [
      "/home/user/anaconda3/lib/python3.7/site-packages/airspeed/__init__.py:505: FutureWarning: Possible nested set at position 8\n",
      "  KEYVALSEP = re.compile(r'[ \\t]*:[[ \\t]*(.*)$', re.S)\n"
     ]
    }
   ],
   "source": [
    "import bluepyopt as bpop\n",
    "import bluepyopt.ephys as ephys\n",
    "import pickle\n",
    "from sciunit.scores import ZScore\n"
   ]
  },
  {
   "cell_type": "code",
   "execution_count": 3,
   "metadata": {},
   "outputs": [],
   "source": [
    "%matplotlib inline\n",
    "import matplotlib.pyplot as plt\n",
    "%load_ext autoreload\n",
    "%autoreload"
   ]
  },
  {
   "cell_type": "code",
   "execution_count": 4,
   "metadata": {},
   "outputs": [],
   "source": [
    "from bluepyopt.ephys.models import ReducedCellModel"
   ]
  },
  {
   "cell_type": "code",
   "execution_count": 5,
   "metadata": {},
   "outputs": [],
   "source": [
    "from neuronunit.optimisation.model_parameters import MODEL_PARAMS\n",
    "from neuronunit.optimisation.optimization_management import test_all_objective_test\n",
    "\n",
    "\n",
    "simple_cell = ephys.models.ReducedCellModel(\n",
    "        name='simple_cell',\n",
    "        params=MODEL_PARAMS[\"IZHI\"],backend=\"IZHI\")  \n",
    "simple_cell.backend = \"IZHI\"\n"
   ]
  },
  {
   "cell_type": "markdown",
   "metadata": {},
   "source": [
    "First we need to import the module that contains all the functionality to create electrical cell models"
   ]
  },
  {
   "cell_type": "markdown",
   "metadata": {},
   "source": [
    "If you want to see a lot of information about the internals, \n",
    "the verbose level can be set to 'debug' by commenting out\n",
    "the following lines"
   ]
  },
  {
   "cell_type": "markdown",
   "metadata": {},
   "source": [
    "Setting up the cell\n",
    "---------------------\n",
    "This is very similar to the simplecell example in the directory above. For a more detailed explanation, look there."
   ]
  },
  {
   "cell_type": "markdown",
   "metadata": {},
   "source": [
    "For this example we will create two separate parameters to store the specific capacitance. One for the soma and one for the soma. We will put a metaparameter on top of these two to keep the value between soma and axon the same."
   ]
  },
  {
   "cell_type": "markdown",
   "metadata": {},
   "source": [
    "The metaparameter, the one that will be optimised, will make sure the two parameters above keep always the same value"
   ]
  },
  {
   "cell_type": "markdown",
   "metadata": {},
   "source": [
    "And parameters that represent the maximal conductance of the sodium and potassium channels. These two parameters will be not be optimised but are frozen."
   ]
  },
  {
   "cell_type": "markdown",
   "metadata": {
    "collapsed": true
   },
   "source": [
    "### Creating the template\n",
    "\n",
    "To create the cell template, we pass all these objects to the constructor of the template.\n",
    "We *only* put the metaparameter, not its subparameters."
   ]
  },
  {
   "cell_type": "code",
   "execution_count": 6,
   "metadata": {},
   "outputs": [],
   "source": [
    "\n",
    "from neuronunit.optimisation.model_parameters import MODEL_PARAMS\n",
    "import numpy as np\n",
    "\n",
    "simple_cell = ephys.models.ReducedCellModel(\n",
    "        name='simple_cell',\n",
    "        params=MODEL_PARAMS[\"IZHI\"],backend=\"IZHI\")  \n",
    "simple_cell.backend = \"IZHI\""
   ]
  },
  {
   "cell_type": "markdown",
   "metadata": {},
   "source": [
    "Now we can print out a description of the cell"
   ]
  },
  {
   "cell_type": "code",
   "execution_count": 7,
   "metadata": {},
   "outputs": [],
   "source": [
    "model = simple_cell\n",
    "model.params = {k:np.mean(v) for k,v in model.params.items() }"
   ]
  },
  {
   "cell_type": "markdown",
   "metadata": {
    "collapsed": true
   },
   "source": [
    "With this cell we can build a cell evaluator."
   ]
  },
  {
   "cell_type": "markdown",
   "metadata": {
    "collapsed": true
   },
   "source": [
    "## Setting up a cell evaluator\n",
    "\n",
    "To optimise the parameters of the cell we need to create cell evaluator object. \n",
    "This object will need to know which protocols to inject, which parameters to optimise, etc."
   ]
  },
  {
   "cell_type": "markdown",
   "metadata": {
    "collapsed": true
   },
   "source": [
    "### Creating the protocols\n",
    "\n"
   ]
  },
  {
   "cell_type": "code",
   "execution_count": null,
   "metadata": {},
   "outputs": [],
   "source": []
  },
  {
   "cell_type": "code",
   "execution_count": 8,
   "metadata": {},
   "outputs": [],
   "source": [
    "#twostep_protocol"
   ]
  },
  {
   "cell_type": "markdown",
   "metadata": {
    "collapsed": true
   },
   "source": [
    "### Running a protocol on a cell\n",
    "\n",
    "Now we're at a stage where we can actually run a protocol on the cell. We first need to create a Simulator object."
   ]
  },
  {
   "cell_type": "code",
   "execution_count": 9,
   "metadata": {},
   "outputs": [
    {
     "data": {
      "text/plain": [
       "'\\ndef run():\\n    \\n\\nfrom type import MethodType\\n    \\nMethodType(twostep_protocol,run)    \\n'"
      ]
     },
     "execution_count": 9,
     "metadata": {},
     "output_type": "execute_result"
    }
   ],
   "source": [
    "'''\n",
    "def run():\n",
    "    \n",
    "\n",
    "from type import MethodType\n",
    "    \n",
    "MethodType(twostep_protocol,run)    \n",
    "'''"
   ]
  },
  {
   "cell_type": "markdown",
   "metadata": {},
   "source": [
    "The run() method of a protocol accepts a cell model, a set of parameter values and a simulator"
   ]
  },
  {
   "cell_type": "markdown",
   "metadata": {},
   "source": [
    "Plotting the response traces is now easy:"
   ]
  },
  {
   "cell_type": "markdown",
   "metadata": {
    "collapsed": true
   },
   "source": [
    "### Defining eFeatures and objectives\n",
    "\n",
    "For every response we need to define a set of eFeatures we will use for the fitness calculation later. We have to combine features together into objectives that will be used by the optimalisation algorithm. In this case we will create one objective per feature:"
   ]
  },
  {
   "cell_type": "code",
   "execution_count": 11,
   "metadata": {},
   "outputs": [
    {
     "name": "stdout",
     "output_type": "stream",
     "text": [
      "Random simulated data tests made\n"
     ]
    }
   ],
   "source": [
    "\n",
    "tests = pickle.load(open(\"processed_multicellular_constraints.p\",\"rb\"))\n",
    "nu_tests = tests['Hippocampus CA1 pyramidal cell'].tests\n",
    "nu_tests[0].score_type = ZScore\n",
    "\n",
    "nu_tests, OM, target = test_all_objective_test(MODEL_PARAMS[\"IZHI\"],model_type=\"IZHI\",protocol={'allen':False,'elephant':True})\n"
   ]
  },
  {
   "cell_type": "code",
   "execution_count": 12,
   "metadata": {},
   "outputs": [],
   "source": [
    "nu_tests = list(nu_tests.values())\n",
    "nu_tests[0].score_type = ZScore\n"
   ]
  },
  {
   "cell_type": "code",
   "execution_count": 13,
   "metadata": {},
   "outputs": [],
   "source": [
    "%%capture\n",
    "'''\n",
    "efel_feature_means = {'step1': {'Spikecount': 1}, 'step2': {'Spikecount': 5}}\n",
    "\n",
    "objectives = []\n",
    "\n",
    "for protocol in sweep_protocols:\n",
    "    stim_start = protocol.stimuli[0].step_delay\n",
    "    stim_end = stim_start + protocol.stimuli[0].step_duration\n",
    "    for efel_feature_name, mean in efel_feature_means[protocol.name].items():\n",
    "        feature_name = '%s.%s' % (protocol.name, efel_feature_name)\n",
    "        feature = ephys.efeatures.eFELFeature(\n",
    "                    feature_name,\n",
    "                    efel_feature_name=efel_feature_name,\n",
    "                    recording_names={'': '%s.soma.v' % protocol.name},\n",
    "                    stim_start=stim_start,\n",
    "                    stim_end=stim_end,\n",
    "                    exp_mean=mean,\n",
    "                    exp_std=0.05 * mean)\n",
    "        objective = ephys.objectives.SingletonObjective(\n",
    "            feature_name,\n",
    "            feature)\n",
    "        objectives.append(objective)\n",
    "        \n",
    "score_calc = ephys.objectivescalculators.ObjectivesCalculator(objectives)    \n",
    "'''"
   ]
  },
  {
   "cell_type": "code",
   "execution_count": 14,
   "metadata": {},
   "outputs": [],
   "source": [
    "%%capture\n",
    "\n",
    "'''\n",
    "sweep_protocols = []\n",
    "for protocol_name, amplitude in [('step1', 0.05)]:\n",
    "    vm = model.inject_and_plot_model(\n",
    "        DELAY=100,\n",
    "        DURATION=500    \n",
    "    )\n",
    "    amplitude = model.rheobase\n",
    "    stim = ephys.stimuli.NrnSquarePulse(\n",
    "            step_amplitude=amplitude,\n",
    "            step_delay=100,\n",
    "            step_duration=500,\n",
    "            total_duration=1000)\n",
    "\n",
    "    rec = model.vm\n",
    "    \n",
    "    protocol = ephys.protocols.SweepProtocol(protocol_name, [stim], [rec])\n",
    "    sweep_protocols.append(protocol)\n",
    "twostep_protocol = ephys.protocols.SequenceProtocol('twostep', protocols=sweep_protocols)\n",
    "'''"
   ]
  },
  {
   "cell_type": "code",
   "execution_count": 15,
   "metadata": {},
   "outputs": [],
   "source": [
    "from sciunit import TestSuite\n",
    "from sciunit.scores.collections import ScoreArray\n",
    "import sciunit\n",
    "import numpy as np\n",
    "from neuronunit.optimisation.optimization_management import dtc_to_rheo, switch_logic,active_values\n",
    "from neuronunit.tests.base import AMPL, DELAY, DURATION\n",
    "\n",
    "import quantities as pq\n",
    "PASSIVE_DURATION = 500.0*pq.ms\n",
    "PASSIVE_DELAY = 200.0*pq.ms\n",
    "\n",
    "def initialise_test(v,rheobase):\n",
    "    v = switch_logic([v])\n",
    "    v = v[0]\n",
    "    k = v.name\n",
    "    if not hasattr(v,'params'):\n",
    "        v.params = {}\n",
    "    if not 'injected_square_current' in v.params.keys():    \n",
    "        v.params['injected_square_current'] = {}\n",
    "    if v.passive == False and v.active == True:\n",
    "        keyed = v.params['injected_square_current']\n",
    "        v.params = active_values(keyed,rheobase)\n",
    "        v.params['injected_square_current']['delay'] = DELAY\n",
    "        v.params['injected_square_current']['duration'] = DURATION\n",
    "    if v.passive == True and v.active == False:\n",
    "\n",
    "        v.params['injected_square_current']['amplitude'] =  -10*pq.pA\n",
    "        v.params['injected_square_current']['delay'] = PASSIVE_DELAY\n",
    "        v.params['injected_square_current']['duration'] = PASSIVE_DURATION\n",
    "\n",
    "    if v.name in str('RestingPotentialTest'):\n",
    "        v.params['injected_square_current']['delay'] = PASSIVE_DELAY\n",
    "        v.params['injected_square_current']['duration'] = PASSIVE_DURATION\n",
    "        v.params['injected_square_current']['amplitude'] = 0.0*pq.pA    \n",
    "        \n",
    "    return v\n",
    "\n",
    "class NUFeature(object):\n",
    "    def __init__(self,test,model):\n",
    "        self.test = test\n",
    "        self.model = model\n",
    "    def calculate_score(self,responses):\n",
    "        model = responses['model'].dtc_to_model()\n",
    "        model.attrs = responses['params']\n",
    "        self.test = initialise_test(self.test,responses['rheobase'])\n",
    "        if \"Rheobase\" in str(self.test.name):\n",
    "            prediction = {'value':responses['rheobase']}\n",
    "\n",
    "            score_gene = self.test.compute_score(self.test.observation,prediction)\n",
    "\n",
    "        try:\n",
    "            score_gene = self.test.judge(model)\n",
    "        except:\n",
    "            return 100.0\n",
    "\n",
    "        if not isinstance(type(score_gene),type(None)):\n",
    "            if not isinstance(score_gene,sciunit.scores.InsufficientDataScore):\n",
    "                if not isinstance(type(score_gene.log_norm_score),type(None)):\n",
    "                    try:\n",
    "\n",
    "                        lns = np.abs(score_gene.log_norm_score)\n",
    "                    except:\n",
    "                        # works 1/2 time that log_norm_score does not work\n",
    "                        # more informative than nominal bad score 100\n",
    "                        lns = np.abs(score_gene.raw)\n",
    "                else:\n",
    "                    # works 1/2 time that log_norm_score does not work\n",
    "                    # more informative than nominal bad score 100\n",
    "\n",
    "                    lns = np.abs(score_gene.raw)    \n",
    "            else:\n",
    "                lns = 100\n",
    "        if lns==np.inf:\n",
    "            lns = 100\n",
    "        print(lns,self.test.name)\n",
    "        return lns\n",
    "\n",
    "    \n",
    "objectives = []\n",
    "#for protocol in sweep_protocols:\n",
    "#    stim_start = protocol.stimuli[0].step_delay\n",
    "#    stim_end = stim_start + protocol.stimuli[0].step_duration\n",
    "    \n",
    "for tt in nu_tests:\n",
    "    feature_name = '%s.%s' % (tt.name, tt.name)\n",
    "    ft = NUFeature(tt,model)\n",
    "    objective = ephys.objectives.SingletonObjective(\n",
    "        feature_name,\n",
    "        ft)\n",
    "    objectives.append(objective)\n",
    "\n",
    "score_calc = ephys.objectivescalculators.ObjectivesCalculator(objectives) \n",
    "        \n",
    "        \n",
    "#objectives[0]        \n",
    "\n",
    "\n"
   ]
  },
  {
   "cell_type": "markdown",
   "metadata": {},
   "source": [
    "### Creating the cell evaluator\n",
    "\n",
    "We will need an object that can use these objective definitions to calculate the scores from a protocol response. This is called a ScoreCalculator."
   ]
  },
  {
   "cell_type": "code",
   "execution_count": null,
   "metadata": {},
   "outputs": [],
   "source": [
    "%%capture\n",
    "'''\n",
    "from sciunit import TestSuite\n",
    "from sciunit.scores.collections import ScoreArray\n",
    "import sciunit\n",
    "import numpy as np\n",
    "from neuronunit.optimisation.optimization_management import dtc_to_rheo, switch_logic,active_values\n",
    "nu_tests = switch_logic(nu_tests)\n",
    "from neuronunit.tests.base import AMPL, DELAY, DURATION\n",
    "\n",
    "def rheobase_protocol(model,nu_tests):\n",
    "    dtc = model.model_to_dtc()\n",
    "    dtc = dtc_to_rheo(dtc)\n",
    "    model.rheobase = dtc.rheobase\n",
    "    for v in nu_tests:\n",
    "        k = v.name\n",
    "        if not hasattr(v,'params'):\n",
    "            v.params = {}\n",
    "        if not 'injected_square_current' in v.params.keys():    \n",
    "            v.params['injected_square_current'] = {}\n",
    "        if v.passive == False and v.active == True:\n",
    "            keyed = v.params['injected_square_current']\n",
    "            v.params = active_values(keyed,dtc.rheobase)\n",
    "            v.params['injected_square_current']['delay'] = DELAY\n",
    "            v.params['injected_square_current']['duration'] = DURATION\n",
    "    return model,nu_tests\n",
    "\n",
    "\n",
    "def evaluate(nu_tests,model):\n",
    "    scores_ = []\n",
    "    suite = TestSuite(nu_tests)\n",
    "    for t in suite:\n",
    "        if 'RheobaseTest' in t.name: t.score_type = sciunit.scores.ZScore\n",
    "        if 'RheobaseTestP' in t.name: t.score_type = sciunit.scores.ZScore\n",
    "        if 'mean' not in t.observation.keys():\n",
    "            t.observation['mean'] = t.observation['value']\n",
    "        score_gene = t.judge(model)\n",
    "        if not isinstance(type(score_gene),type(None)):\n",
    "            if not isinstance(type(score_gene),sciunit.scores.InsufficientDataScore):\n",
    "                if not isinstance(type(score_gene.log_norm_score),type(None)):\n",
    "                    try:\n",
    "\n",
    "                        lns = np.abs(score_gene.log_norm_score)\n",
    "                    except:\n",
    "                        # works 1/2 time that log_norm_score does not work\n",
    "                        # more informative than nominal bad score 100\n",
    "                        lns = np.abs(score_gene.raw)\n",
    "                else:\n",
    "                    # works 1/2 time that log_norm_score does not work\n",
    "                    # more informative than nominal bad score 100\n",
    "\n",
    "                    lns = np.abs(score_gene.raw)\n",
    "            else:\n",
    "                pass\n",
    "        scores_.append(lns)\n",
    "    for i,s in enumerate(scores_):\n",
    "        if s==np.inf:\n",
    "            scores_[i] = 100 #np.abs(float(score_gene.raw))\n",
    "    SA = ScoreArray(nu_tests, scores_)\n",
    "    fitness = (v for v in SA.values)\n",
    "    objectives = SA.to_dict()\n",
    "    return fitness\n",
    "'''\n",
    "\n",
    "#ephys.objectivescalculators.ObjectivesCalculator = \n",
    "#score_calc = ephys.objectivescalculators.ObjectivesCalculator(nu_tests,model) \n",
    "#score_calc.objectives = objectives"
   ]
  },
  {
   "cell_type": "code",
   "execution_count": 16,
   "metadata": {},
   "outputs": [],
   "source": [
    "\n",
    "lop={}\n",
    "from bluepyopt.parameters import Parameter\n",
    "for k,v in MODEL_PARAMS[\"IZHI\"].items():\n",
    "    p = Parameter(name=k,bounds=v,frozen=False)\n",
    "    lop[k] = p\n",
    "    \n",
    "simple_cell.params = lop\n",
    "\n",
    "nu_tests[0].judge(simple_cell)\n",
    "from sciunit.scores import ZScore\n",
    "nu_tests[0].score_type = ZScore"
   ]
  },
  {
   "cell_type": "markdown",
   "metadata": {},
   "source": [
    "Combining everything together we have a CellEvaluator. The CellEvaluator constructor has a field 'parameter_names' which contains the (ordered) list of names of the parameters that are used as input (and will be fitted later on)."
   ]
  },
  {
   "cell_type": "code",
   "execution_count": 17,
   "metadata": {},
   "outputs": [],
   "source": [
    "MODEL_PARAMS[\"IZHI\"]\n",
    "cell_evaluator = ephys.evaluators.CellEvaluator(\n",
    "        cell_model=simple_cell,\n",
    "        param_names=MODEL_PARAMS[\"IZHI\"].keys(),\n",
    "        fitness_protocols={twostep_protocol.name: twostep_protocol},\n",
    "        fitness_calculator=score_calc,\n",
    "        sim='euler')\n",
    "simple_cell.params_by_names(MODEL_PARAMS[\"IZHI\"].keys())\n",
    "simple_cell.params;"
   ]
  },
  {
   "cell_type": "markdown",
   "metadata": {},
   "source": [
    "### Evaluating the cell\n",
    "\n",
    "The cell can now be evaluate for a certain set of parameter values."
   ]
  },
  {
   "cell_type": "code",
   "execution_count": 18,
   "metadata": {},
   "outputs": [],
   "source": [
    "#default_params = MODEL_PARAMS[\"IZHI\"]\n",
    "#print(cell_evaluator.evaluate_with_dicts())"
   ]
  },
  {
   "cell_type": "markdown",
   "metadata": {
    "collapsed": true
   },
   "source": [
    "## Setting up and running an optimisation\n",
    "\n",
    "Now that we have a cell template and an evaluator for this cell, we can set up an optimisation."
   ]
  },
  {
   "cell_type": "code",
   "execution_count": 19,
   "metadata": {},
   "outputs": [],
   "source": [
    "optimisation = bpop.optimisations.DEAPOptimisation(\n",
    "        evaluator=cell_evaluator,\n",
    "        offspring_size = 10)"
   ]
  },
  {
   "cell_type": "markdown",
   "metadata": {},
   "source": [
    "And this optimisation can be run for a certain number of generations"
   ]
  },
  {
   "cell_type": "code",
   "execution_count": null,
   "metadata": {},
   "outputs": [
    {
     "name": "stdout",
     "output_type": "stream",
     "text": [
      "100 RheobaseTest\n",
      "0.1681217339504858 TimeConstantTest\n",
      "3.113761311535412 RestingPotentialTest\n",
      "0.05161964019869728 InputResistanceTest\n",
      "0.20837557249426888 CapacitanceTest\n",
      "0.2289781433032148 InjectedCurrentAPWidthTest\n",
      "0.08247568191962616 InjectedCurrentAPAmplitudeTest\n",
      "0.2683591519492939 InjectedCurrentAPThresholdTest\n",
      "0.12193832832226419 RheobaseTest\n",
      "0.08024598833461058 TimeConstantTest\n",
      "1.2207688223250834 RestingPotentialTest\n",
      "0.08856604320256589 InputResistanceTest\n",
      "0.0461047495733333 CapacitanceTest\n",
      "18.859400255104916 InjectedCurrentAPWidthTest\n",
      "0.44636335460488064 InjectedCurrentAPAmplitudeTest\n",
      "0.6511349306731558 InjectedCurrentAPThresholdTest\n",
      "100 RheobaseTest\n",
      "0.4821654539854437 TimeConstantTest\n",
      "0.11584338773772554 RestingPotentialTest\n",
      "0.13207508766325984 InputResistanceTest\n",
      "0.4823375200512032 CapacitanceTest\n",
      "100 InjectedCurrentAPWidthTest\n",
      "100 InjectedCurrentAPThresholdTest\n",
      "0.7652243962690642 RheobaseTest\n",
      "0.07597879104654723 TimeConstantTest\n",
      "1.5210645241406617 RestingPotentialTest\n",
      "0.09366339921619307 InputResistanceTest\n",
      "0.15757508324479666 CapacitanceTest\n",
      "0.20494286171200246 InjectedCurrentAPWidthTest\n",
      "0.08126812174937084 InjectedCurrentAPAmplitudeTest\n",
      "0.1572769753045366 InjectedCurrentAPThresholdTest\n",
      "1.1473868136454128 RheobaseTest\n",
      "0.48195073035670827 TimeConstantTest\n",
      "2.326957576447349 RestingPotentialTest\n",
      "0.28619277276689603 InputResistanceTest\n",
      "0.4823175880891179 CapacitanceTest\n",
      "0.02990331067815579 InjectedCurrentAPWidthTest\n",
      "0.010863459605086438 InjectedCurrentAPAmplitudeTest\n",
      "0.24436589783154353 InjectedCurrentAPThresholdTest\n",
      "0.34044097121648415 RheobaseTest\n",
      "0.48254467378303784 TimeConstantTest\n",
      "1.1726913445656688 RestingPotentialTest\n",
      "0.09525858943041667 InputResistanceTest\n",
      "0.48245249150222796 CapacitanceTest\n",
      "100 InjectedCurrentAPWidthTest\n",
      "100 InjectedCurrentAPThresholdTest\n",
      "100 RheobaseTest\n",
      "0.4824626007735893 TimeConstantTest\n",
      "0.09263732919034794 RestingPotentialTest\n",
      "0.008066414806386315 InputResistanceTest\n",
      "0.48245452067227224 CapacitanceTest\n",
      "100 InjectedCurrentAPWidthTest\n",
      "100 InjectedCurrentAPThresholdTest\n",
      "0.4165600943779682 RheobaseTest\n",
      "0.4824011751723881 TimeConstantTest\n",
      "1.2490625208567254 RestingPotentialTest\n",
      "0.06597397479866617 InputResistanceTest\n",
      "0.48246357583213273 CapacitanceTest\n",
      "13.652058393984154 InjectedCurrentAPWidthTest\n",
      "0.4804789484084078 InjectedCurrentAPAmplitudeTest\n",
      "0.5087624778285457 InjectedCurrentAPThresholdTest\n",
      "1.1577250255314864 RheobaseTest\n",
      "0.20621251785828942 TimeConstantTest\n",
      "4.816750934223001 RestingPotentialTest\n",
      "0.13888266332597338 InputResistanceTest\n",
      "0.2832061370328718 CapacitanceTest\n",
      "0.27980255176006197 InjectedCurrentAPWidthTest\n",
      "0.0660360672767338 InjectedCurrentAPAmplitudeTest\n",
      "0.1872097037860831 InjectedCurrentAPThresholdTest\n",
      "0.2887462869976188 RheobaseTest\n",
      "0.4825588852716159 TimeConstantTest\n",
      "0.44190171755058244 RestingPotentialTest\n",
      "0.07788815332309633 InputResistanceTest\n",
      "0.4824927059864512 CapacitanceTest\n",
      "100 InjectedCurrentAPWidthTest\n",
      "100 InjectedCurrentAPThresholdTest\n",
      "0.7984875210232931 RheobaseTest\n",
      "0.12950261189626355 TimeConstantTest\n",
      "2.5680619110712746 RestingPotentialTest\n",
      "0.017776077579461223 InputResistanceTest\n",
      "0.1464705871729524 CapacitanceTest\n",
      "0.32135414339384044 InjectedCurrentAPWidthTest\n",
      "0.014614635367222949 InjectedCurrentAPAmplitudeTest\n",
      "0.1084947279914668 InjectedCurrentAPThresholdTest\n",
      "0.1533902675327128 RheobaseTest\n",
      "0.1686814394660568 TimeConstantTest\n",
      "1.2207688223250834 RestingPotentialTest\n",
      "0.10743532129163684 InputResistanceTest\n",
      "0.036581418005200386 CapacitanceTest\n",
      "15.741173798803558 InjectedCurrentAPWidthTest\n",
      "0.4470934025794385 InjectedCurrentAPAmplitudeTest\n",
      "0.6511669300547743 InjectedCurrentAPThresholdTest\n",
      "1.057892888351148 RheobaseTest\n",
      "0.48233945285988683 TimeConstantTest\n",
      "1.2611180195172298 RestingPotentialTest\n",
      "0.4106482468347761 InputResistanceTest\n",
      "0.48256470736890056 CapacitanceTest\n",
      "0.06668305143312658 InjectedCurrentAPWidthTest\n",
      "0.030806685743493583 InjectedCurrentAPAmplitudeTest\n",
      "0.1897922411425462 InjectedCurrentAPThresholdTest\n",
      "0.2144146235870362 RheobaseTest\n",
      "0.4824764629451066 TimeConstantTest\n",
      "0.023051127176793973 RestingPotentialTest\n",
      "0.03795378206683932 InputResistanceTest\n",
      "0.48243685906939165 CapacitanceTest\n",
      "100 InjectedCurrentAPWidthTest\n",
      "100 InjectedCurrentAPThresholdTest\n",
      "0.9746794973021743 RheobaseTest\n",
      "0.48220023818461377 TimeConstantTest\n",
      "2.326957576447349 RestingPotentialTest\n",
      "0.14904300535502202 InputResistanceTest\n",
      "0.4823757507065586 CapacitanceTest\n",
      "0.1070706063972886 InjectedCurrentAPWidthTest\n",
      "0.03300308454931323 InjectedCurrentAPAmplitudeTest\n",
      "0.18751523220630942 InjectedCurrentAPThresholdTest\n",
      "0.07316801181803771 RheobaseTest\n",
      "0.482458658617504 TimeConstantTest\n",
      "1.894045966779044 RestingPotentialTest\n",
      "0.024358522460466655 InputResistanceTest\n",
      "0.48243275365461213 CapacitanceTest\n",
      "100 InjectedCurrentAPWidthTest\n",
      "100 InjectedCurrentAPThresholdTest\n",
      "100 RheobaseTest\n",
      "0.48234188662298977 TimeConstantTest\n",
      "0.28643888598062545 RestingPotentialTest\n",
      "0.11213600050020595 InputResistanceTest\n",
      "0.4824503300082913 CapacitanceTest\n",
      "100 InjectedCurrentAPWidthTest\n",
      "100 InjectedCurrentAPThresholdTest\n",
      "0.18808142200114286 RheobaseTest\n",
      "0.4824556712745413 TimeConstantTest\n",
      "0.9769254763720243 RestingPotentialTest\n",
      "0.0006830409080341047 InputResistanceTest\n",
      "0.48245498558857264 CapacitanceTest\n",
      "100 InjectedCurrentAPWidthTest\n",
      "100 InjectedCurrentAPThresholdTest\n",
      "1.1287727884045122 RheobaseTest\n",
      "0.48249441031655815 TimeConstantTest\n",
      "4.231713447867645 RestingPotentialTest\n",
      "0.2254151321231811 InputResistanceTest\n",
      "0.48260200029042805 CapacitanceTest\n",
      "0.24882390025642978 InjectedCurrentAPWidthTest\n",
      "0.06515057701136506 InjectedCurrentAPAmplitudeTest\n",
      "0.17433437920819572 InjectedCurrentAPThresholdTest\n",
      "0.13581672757794608 RheobaseTest\n",
      "0.48256425999014574 TimeConstantTest\n",
      "0.931103580958944 RestingPotentialTest\n",
      "0.07614674420132113 InputResistanceTest\n",
      "0.48250163533138174 CapacitanceTest\n",
      "100 InjectedCurrentAPWidthTest\n"
     ]
    },
    {
     "name": "stderr",
     "output_type": "stream",
     "text": [
      "INFO:__main__:gen\tnevals\tavg   \tstd    \tmin    \tmax    \n",
      "1  \t10    \t156.48\t164.704\t3.05699\t401.212\n",
      "2  \t10    \t160.65\t162.263\t3.05699\t401.363\n"
     ]
    },
    {
     "name": "stdout",
     "output_type": "stream",
     "text": [
      "100 InjectedCurrentAPThresholdTest\n",
      "0.8296236267462903 RheobaseTest\n",
      "0.15219581818902359 TimeConstantTest\n",
      "2.5680619110712746 RestingPotentialTest\n",
      "0.018028465169476086 InputResistanceTest\n",
      "0.16843984785516378 CapacitanceTest\n",
      "0.32945650042695196 InjectedCurrentAPWidthTest\n",
      "0.02331230543552209 InjectedCurrentAPAmplitudeTest\n",
      "0.1284366111080474 InjectedCurrentAPThresholdTest\n",
      "0.7274454088659075 RheobaseTest\n",
      "0.1264192426284029 TimeConstantTest\n",
      "2.5680619110712746 RestingPotentialTest\n",
      "0.0024264951132319137 InputResistanceTest\n",
      "0.12393427159671404 CapacitanceTest\n",
      "0.32135414339384044 InjectedCurrentAPWidthTest\n",
      "0.010427827657981252 InjectedCurrentAPAmplitudeTest\n",
      "0.08039160809276541 InjectedCurrentAPThresholdTest\n",
      "1.04222636797145 RheobaseTest\n",
      "0.2098482266929656 TimeConstantTest\n",
      "4.750843732951727 RestingPotentialTest\n",
      "0.058771317571115804 InputResistanceTest\n",
      "0.2493661636451481 CapacitanceTest\n",
      "0.2858639924760442 InjectedCurrentAPWidthTest\n",
      "0.09311235839784285 InjectedCurrentAPAmplitudeTest\n",
      "0.09742765047085758 InjectedCurrentAPThresholdTest\n",
      "100 RheobaseTest\n",
      "0.040694324057878824 TimeConstantTest\n",
      "0.9947778017324652 RestingPotentialTest\n",
      "0.04453819998316468 InputResistanceTest\n",
      "0.01941122913142392 CapacitanceTest\n",
      "20.57647105735175 InjectedCurrentAPWidthTest\n",
      "0.4702049531515307 InjectedCurrentAPAmplitudeTest\n",
      "0.6051202626349372 InjectedCurrentAPThresholdTest\n",
      "0.25617895344782315 RheobaseTest\n",
      "0.4824742102430755 TimeConstantTest\n",
      "0.1001494839857137 RestingPotentialTest\n",
      "0.04370221935673638 InputResistanceTest\n",
      "0.48242742339322864 CapacitanceTest\n",
      "100 InjectedCurrentAPWidthTest\n",
      "100 InjectedCurrentAPThresholdTest\n",
      "0.8653702196279492 RheobaseTest\n",
      "0.12569054047336517 TimeConstantTest\n",
      "1.8842796769534438 RestingPotentialTest\n",
      "0.11076568074038018 InputResistanceTest\n",
      "0.20836483537274106 CapacitanceTest\n",
      "0.1255660493502695 InjectedCurrentAPWidthTest\n",
      "0.019385999144025955 InjectedCurrentAPAmplitudeTest\n",
      "0.023011321184767432 InjectedCurrentAPThresholdTest\n",
      "0.13023169731274706 RheobaseTest\n",
      "0.4824256732694075 TimeConstantTest\n",
      "0.44279375489951034 RestingPotentialTest\n",
      "0.008895063756282509 InputResistanceTest\n",
      "0.48243513648605174 CapacitanceTest\n",
      "100 InjectedCurrentAPWidthTest\n",
      "100 InjectedCurrentAPThresholdTest\n",
      "100 RheobaseTest\n",
      "0.38594186958948096 TimeConstantTest\n",
      "0.09288979693219522 RestingPotentialTest\n",
      "0.08703494372273493 InputResistanceTest\n",
      "0.7937358881621773 CapacitanceTest\n",
      "100 InjectedCurrentAPWidthTest\n",
      "100 InjectedCurrentAPThresholdTest\n",
      "0.29921916461917825 RheobaseTest\n",
      "0.05480375754382503 TimeConstantTest\n",
      "0.8135507495673096 RestingPotentialTest\n",
      "0.10330085025459354 InputResistanceTest\n",
      "0.11463306185278452 CapacitanceTest\n",
      "18.719793150036665 InjectedCurrentAPWidthTest\n",
      "0.44997845593931485 InjectedCurrentAPAmplitudeTest\n",
      "0.6905113899870248 InjectedCurrentAPThresholdTest\n",
      "0.7820085279120519 RheobaseTest\n",
      "0.07943182216442482 TimeConstantTest\n",
      "1.5909399416340424 RestingPotentialTest\n",
      "0.09832962939577676 InputResistanceTest\n",
      "0.16350279071932297 CapacitanceTest\n"
     ]
    },
    {
     "name": "stderr",
     "output_type": "stream",
     "text": [
      "INFO:__main__:3  \t10    \t111.902\t150.285\t2.8721 \t401.36 \n"
     ]
    },
    {
     "name": "stdout",
     "output_type": "stream",
     "text": [
      "0.10477896219307872 InjectedCurrentAPWidthTest\n",
      "0.03021682399105324 InjectedCurrentAPAmplitudeTest\n",
      "0.02288796445416513 InjectedCurrentAPThresholdTest\n",
      "100 RheobaseTest\n",
      "0.4824377847149556 TimeConstantTest\n",
      "0.16104416566302657 RestingPotentialTest\n",
      "0.0612467891483967 InputResistanceTest\n",
      "0.4823596899798396 CapacitanceTest\n",
      "100 InjectedCurrentAPWidthTest\n",
      "100 InjectedCurrentAPThresholdTest\n",
      "0.1311728173360431 RheobaseTest\n",
      "0.09012147813780122 TimeConstantTest\n",
      "0.08693419528272131 RestingPotentialTest\n",
      "0.0505303027562109 InputResistanceTest\n",
      "0.02719181505509316 CapacitanceTest\n",
      "14.821139423105278 InjectedCurrentAPWidthTest\n",
      "0.4678624649131786 InjectedCurrentAPAmplitudeTest\n",
      "0.7480872195320216 InjectedCurrentAPThresholdTest\n",
      "0.056145339961477435 RheobaseTest\n",
      "0.10893080853741284 TimeConstantTest\n",
      "1.3816240773668467 RestingPotentialTest\n",
      "0.07597062488515714 InputResistanceTest\n",
      "0.011463244682208554 CapacitanceTest\n",
      "18.396124577451943 InjectedCurrentAPWidthTest\n",
      "0.4427647202112013 InjectedCurrentAPAmplitudeTest\n",
      "0.6372297680814409 InjectedCurrentAPThresholdTest\n",
      "100 RheobaseTest\n",
      "0.03328832344022533 TimeConstantTest\n",
      "0.14746542246738495 RestingPotentialTest\n",
      "0.11482506275092808 InputResistanceTest\n",
      "0.18130362140998585 CapacitanceTest\n",
      "19.8995503804686 InjectedCurrentAPWidthTest\n",
      "0.47162563513547767 InjectedCurrentAPAmplitudeTest\n",
      "0.7805339560393584 InjectedCurrentAPThresholdTest\n",
      "100 RheobaseTest\n",
      "0.14851691593546706 TimeConstantTest\n",
      "0.09288979693219522 RestingPotentialTest\n",
      "0.08886254780560562 InputResistanceTest\n",
      "0.4059577416394812 CapacitanceTest\n",
      "100 InjectedCurrentAPWidthTest\n",
      "100 InjectedCurrentAPThresholdTest\n",
      "0.6361940652895969 RheobaseTest\n",
      "0.05550678766592947 TimeConstantTest\n",
      "2.526170112143817 RestingPotentialTest\n",
      "0.0010408990057213835 InputResistanceTest\n",
      "0.05427570653957851 CapacitanceTest\n",
      "10.168693337220814 InjectedCurrentAPWidthTest\n",
      "0.44338309528355074 InjectedCurrentAPAmplitudeTest\n",
      "0.4662693990857972 InjectedCurrentAPThresholdTest\n",
      "0.4894206186259195 RheobaseTest\n",
      "0.4822548410685806 TimeConstantTest\n",
      "0.44279375489951034 RestingPotentialTest\n",
      "0.09008026328275066 InputResistanceTest\n",
      "0.4823663289995295 CapacitanceTest\n",
      "100 InjectedCurrentAPWidthTest\n",
      "100 InjectedCurrentAPThresholdTest\n",
      "0.1519162028460546 RheobaseTest\n",
      "0.48241910194535903 TimeConstantTest\n",
      "0.44279375489951034 RestingPotentialTest\n",
      "0.015316950460491249 InputResistanceTest\n",
      "0.48243533588608845 CapacitanceTest\n"
     ]
    }
   ],
   "source": [
    "final_pop, hall_of_fame, logs, hist = optimisation.run(max_ngen=10)"
   ]
  },
  {
   "cell_type": "markdown",
   "metadata": {
    "collapsed": true
   },
   "source": [
    "The optimisation has return us 4 objects: final population, hall of fame, statistical logs and history. \n",
    "\n",
    "The final population contains a list of tuples, with each tuple representing the two parameters of the model"
   ]
  },
  {
   "cell_type": "code",
   "execution_count": null,
   "metadata": {},
   "outputs": [],
   "source": [
    "print('Final population: ', final_pop)"
   ]
  },
  {
   "cell_type": "markdown",
   "metadata": {},
   "source": [
    "The best individual found during the optimisation is the first individual of the hall of fame"
   ]
  },
  {
   "cell_type": "code",
   "execution_count": null,
   "metadata": {},
   "outputs": [],
   "source": [
    "best_ind = hall_of_fame[0]\n",
    "print('Best individual: ', best_ind)\n",
    "print('Fitness values: ', best_ind.fitness.values)"
   ]
  },
  {
   "cell_type": "markdown",
   "metadata": {},
   "source": [
    "We can evaluate this individual and make use of a convenience function of the cell evaluator to return us a dict of the parameters"
   ]
  },
  {
   "cell_type": "code",
   "execution_count": null,
   "metadata": {},
   "outputs": [],
   "source": [
    "best_ind_dict = cell_evaluator.param_dict(best_ind)\n",
    "print(cell_evaluator.evaluate_with_dicts(best_ind_dict))"
   ]
  },
  {
   "cell_type": "markdown",
   "metadata": {},
   "source": [
    "As you can see the evaluation returns the same values as the fitness values provided by the optimisation output. \n",
    "We can have a look at the responses now."
   ]
  },
  {
   "cell_type": "code",
   "execution_count": null,
   "metadata": {},
   "outputs": [],
   "source": [
    "plot_responses(twostep_protocol.run(cell_model=simple_cell, param_values=best_ind_dict, sim=nrn))\n",
    " "
   ]
  },
  {
   "cell_type": "markdown",
   "metadata": {},
   "source": [
    "Let's have a look at the optimisation statistics.\n",
    "We can plot the minimal score (sum of all objective scores) found in every optimisation. \n",
    "The optimisation algorithm uses negative fitness scores, so we actually have to look at the maximum values log."
   ]
  },
  {
   "cell_type": "code",
   "execution_count": null,
   "metadata": {},
   "outputs": [],
   "source": [
    "import numpy\n",
    "gen_numbers = logs.select('gen')\n",
    "min_fitness = logs.select('min')\n",
    "max_fitness = logs.select('max')\n",
    "plt.plot(gen_numbers, min_fitness, label='min fitness')\n",
    "plt.xlabel('generation #')\n",
    "plt.ylabel('score (# std)')\n",
    "plt.legend()\n",
    "plt.xlim(min(gen_numbers) - 1, max(gen_numbers) + 1) \n",
    "plt.ylim(0.9*min(min_fitness), 1.1 * max(min_fitness)) "
   ]
  },
  {
   "cell_type": "code",
   "execution_count": null,
   "metadata": {},
   "outputs": [],
   "source": []
  },
  {
   "cell_type": "code",
   "execution_count": null,
   "metadata": {},
   "outputs": [],
   "source": []
  }
 ],
 "metadata": {
  "kernelspec": {
   "display_name": "Python 3",
   "language": "python",
   "name": "python3"
  },
  "language_info": {
   "codemirror_mode": {
    "name": "ipython",
    "version": 3
   },
   "file_extension": ".py",
   "mimetype": "text/x-python",
   "name": "python",
   "nbconvert_exporter": "python",
   "pygments_lexer": "ipython3",
   "version": "3.7.4"
  }
 },
 "nbformat": 4,
 "nbformat_minor": 1
}
