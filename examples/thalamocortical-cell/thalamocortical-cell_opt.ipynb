{
 "cells": [
  {
   "cell_type": "markdown",
   "metadata": {},
   "source": [
    "# Optimization of burst and tonic firing in thalamo-cortical neurons"
   ]
  },
  {
   "cell_type": "markdown",
   "metadata": {},
   "source": [
    "____\n",
    "\n",
    "This notebook illustrates how to **setup** and **configure optimisations** presented in the following paper:\n",
    "\n",
    "Iavarone, Elisabetta, Jane Yi, Ying Shi, Bas-Jan Zandt, Christian O'Reilly, Werner Van Geit, Christian Rössert, Henry Markram, and Sean L. Hill. [\"Experimentally-constrained biophysical models of tonic and burst firing modes in thalamocortical neurons.\"](https://journals.plos.org/ploscompbiol/article?id=10.1371/journal.pcbi.1006753).\n",
    "\n",
    "Author of this script: Elisabetta Iavarone @ Blue Brain Project\n",
    "___\n",
    "\n",
    "The models were constrained by using the **experimental data** from Jane Yi, Ying Shi and Henry Markram at the [LNMC, EPFL](https://www.epfl.ch/labs/markram-lab/).\n",
    "\n",
    "The morphologies will be available on NeuroMorpho.org under the\n",
    "ODC Public Domain Dedication and Licence (PDDL) https://opendatacommons.org/licenses/pddl/1.0/\n",
    "_____\n",
    "\n",
    "This notebook makes use of scripts to automatically setup the optimisation, stored in the *config* and *setup* subfolders. To learn more about concepts such as *mechanisms*, *cell template*, *cell evaluator*, we suggest to go through the [L5PC example](https://github.com/BlueBrain/BluePyOpt/blob/master/examples/l5pc/L5PC.ipynb).\n",
    "_____\n",
    "\n",
    "**If you use methods or data presented in this notebook we ask to cite the following publications:**\n",
    "\n",
    "Iavarone, Elisabetta, Jane Yi, Ying Shi, Bas-Jan Zandt, Christian O'reilly, Werner Van Geit, Christian Rössert, Henry Markram, and Sean L. Hill. \"Experimentally-constrained biophysical models of tonic and burst firing modes in thalamocortical neurons.\" [BioRxiv (2019): 512269](https://www.biorxiv.org/content/10.1101/512269v3).\n",
    "\n",
    "Van Geit, W., Gevaert, M., Chindemi, G., Rössert, C., Courcol, J. D., Muller, E. B., ... & Markram, H. (2016). BluePyOpt: leveraging open source software and cloud infrastructure to optimise model parameters in neuroscience. [Frontiers in neuroinformatics, 10, 17](https://www.frontiersin.org/articles/10.3389/fninf.2016.00017/full).\n",
    "\n",
    "___\n",
    "\n",
    "\n",
    "**If you re-use any file from the *mechanisms* folder you should also cite the associated publication.**\n",
    "\n",
    "See license file for details.\n",
    "\n",
    "___"
   ]
  },
  {
   "cell_type": "code",
   "execution_count": 1,
   "metadata": {},
   "outputs": [],
   "source": [
    "%matplotlib inline\n",
    "import matplotlib.pyplot as plt\n",
    "\n",
    "import bluepyopt\n",
    "import os\n",
    "\n",
    "import pprint\n",
    "pp = pprint.PrettyPrinter(indent=2)"
   ]
  },
  {
   "cell_type": "markdown",
   "metadata": {},
   "source": [
    "## Set up the cell model and the cell evaluator"
   ]
  },
  {
   "cell_type": "code",
   "execution_count": 2,
   "metadata": {},
   "outputs": [
    {
     "name": "stderr",
     "output_type": "stream",
     "text": [
      "/home/user/anaconda3/lib/python3.7/site-packages/airspeed/__init__.py:505: FutureWarning: Possible nested set at position 8\n",
      "  KEYVALSEP = re.compile(r'[ \\t]*:[[ \\t]*(.*)$', re.S)\n"
     ]
    }
   ],
   "source": [
    "from CellEvalSetup import evaluator\n"
   ]
  },
  {
   "cell_type": "markdown",
   "metadata": {},
   "source": [
    "A cell evaluator can be easily created by specifing the desired electrical type (e-type).\n",
    "\n",
    "A cell model is part of the cell evaluator and it is built by specifying a **morphology**, **mechanisms**, i.e. the ion channel models and the **bounds for the parameter values** (i.e. the densities of the ion channels)"
   ]
  },
  {
   "cell_type": "code",
   "execution_count": 3,
   "metadata": {},
   "outputs": [],
   "source": [
    "# Import scripts for setting up the cell model and cell evaluator\n",
    "import CellEvalSetup \n",
    "#import evaluator\n",
    "#import template\n",
    "#import tools\n",
    "\n",
    "\n",
    "etype = \"cAD_ltb\" # or cNAD_ltb \n",
    "\n",
    "evaluator1 = CellEvalSetup.evaluator.create(etype)\n",
    "\n",
    "#print(evaluator1.cell_model)\n",
    "\n",
    "evaluator1.fitness_protocols = evaluator1.fitness_protocols['Step_150']\n"
   ]
  },
  {
   "cell_type": "code",
   "execution_count": 26,
   "metadata": {},
   "outputs": [
    {
     "ename": "AttributeError",
     "evalue": "'CellModel' object has no attribute 'param_names'",
     "output_type": "error",
     "traceback": [
      "\u001b[0;31m---------------------------------------------------------------------------\u001b[0m",
      "\u001b[0;31mAttributeError\u001b[0m                            Traceback (most recent call last)",
      "\u001b[0;32m<ipython-input-26-a335cf035306>\u001b[0m in \u001b[0;36m<module>\u001b[0;34m\u001b[0m\n\u001b[0;32m----> 1\u001b[0;31m \u001b[0mparams\u001b[0m \u001b[0;34m=\u001b[0m \u001b[0mevaluator1\u001b[0m\u001b[0;34m.\u001b[0m\u001b[0mcell_model\u001b[0m\u001b[0;34m.\u001b[0m\u001b[0mparam_names\u001b[0m\u001b[0;34m\u001b[0m\u001b[0;34m\u001b[0m\u001b[0m\n\u001b[0m\u001b[1;32m      2\u001b[0m \u001b[0;31m#evaluator1.cell_model.params.pop('v_init',None)\u001b[0m\u001b[0;34m\u001b[0m\u001b[0;34m\u001b[0m\u001b[0;34m\u001b[0m\u001b[0m\n\u001b[1;32m      3\u001b[0m \u001b[0;31m#evaluator1.cell_model.params.pop('celsius',None)\u001b[0m\u001b[0;34m\u001b[0m\u001b[0;34m\u001b[0m\u001b[0;34m\u001b[0m\u001b[0m\n\u001b[1;32m      4\u001b[0m \u001b[0;31m#evaluator1.cell_model.params.pop('cm.all',None)\u001b[0m\u001b[0;34m\u001b[0m\u001b[0;34m\u001b[0m\u001b[0;34m\u001b[0m\u001b[0m\n\u001b[1;32m      5\u001b[0m \u001b[0mevaluator1\u001b[0m\u001b[0;34m.\u001b[0m\u001b[0mcell_model\u001b[0m\u001b[0;34m.\u001b[0m\u001b[0mparams\u001b[0m\u001b[0;34m.\u001b[0m\u001b[0mpop\u001b[0m\u001b[0;34m(\u001b[0m\u001b[0;34m'Ra.all'\u001b[0m\u001b[0;34m,\u001b[0m\u001b[0;32mNone\u001b[0m\u001b[0;34m)\u001b[0m\u001b[0;34m\u001b[0m\u001b[0;34m\u001b[0m\u001b[0m\n",
      "\u001b[0;31mAttributeError\u001b[0m: 'CellModel' object has no attribute 'param_names'"
     ]
    }
   ],
   "source": [
    "params = evaluator1.cell_model.param_names\n",
    "#evaluator1.cell_model.params.pop('v_init',None)\n",
    "#evaluator1.cell_model.params.pop('celsius',None)\n",
    "#evaluator1.cell_model.params.pop('cm.all',None)\n",
    "evaluator1.cell_model.params.pop('Ra.all',None)\n",
    "for p in params:\n",
    "    \n",
    "    print(dir(p))"
   ]
  },
  {
   "cell_type": "code",
   "execution_count": 21,
   "metadata": {},
   "outputs": [
    {
     "ename": "Exception",
     "evalue": "Traceback (most recent call last):\n  File \"/home/user/git/BluePyOpt/bluepyopt/ephys/evaluators.py\", line 160, in run_protocol\n    timeout=timeout)\nTypeError: run() got an unexpected keyword argument 'timeout'\n\nDuring handling of the above exception, another exception occurred:\n\nTraceback (most recent call last):\n  File \"/home/user/git/BluePyOpt/bluepyopt/ephys/protocols.py\", line 171, in _run_func\n    cell_model.freeze(param_values)\n  File \"/home/user/git/BluePyOpt/bluepyopt/ephys/models.py\", line 330, in freeze\n    self.params[param_name].freeze(param_value)\n  File \"/home/user/git/BluePyOpt/bluepyopt/parameters.py\", line 60, in freeze\n    self.value = value\n  File \"/home/user/git/BluePyOpt/bluepyopt/parameters.py\", line 74, in value\n    self.name)\nException: Parameter: parameter ena.all is frozen, unable to change value\n",
     "output_type": "error",
     "traceback": [
      "\u001b[0;31m---------------------------------------------------------------------------\u001b[0m",
      "\u001b[0;31mRemoteTraceback\u001b[0m                           Traceback (most recent call last)",
      "\u001b[0;31mRemoteTraceback\u001b[0m: Traceback (most recent call last):\n  File \"/home/user/git/BluePyOpt/bluepyopt/ephys/evaluators.py\", line 160, in run_protocol\n    timeout=timeout)\nTypeError: run() got an unexpected keyword argument 'timeout'\n\nDuring handling of the above exception, another exception occurred:\n\nTraceback (most recent call last):\n  File \"/home/user/git/BluePyOpt/bluepyopt/ephys/protocols.py\", line 171, in _run_func\n    cell_model.freeze(param_values)\n  File \"/home/user/git/BluePyOpt/bluepyopt/ephys/models.py\", line 330, in freeze\n    self.params[param_name].freeze(param_value)\n  File \"/home/user/git/BluePyOpt/bluepyopt/parameters.py\", line 60, in freeze\n    self.value = value\n  File \"/home/user/git/BluePyOpt/bluepyopt/parameters.py\", line 74, in value\n    self.name)\nException: Parameter: parameter ena.all is frozen, unable to change value\n\nDuring handling of the above exception, another exception occurred:\n\nTraceback (most recent call last):\n  File \"/home/user/anaconda3/lib/python3.7/site-packages/pebble/common.py\", line 174, in process_execute\n    return function(*args, **kwargs)\n  File \"/home/user/git/BluePyOpt/bluepyopt/ephys/protocols.py\", line 229, in _run_func\n    traceback.format_exception(*sys.exc_info())))\nException: Traceback (most recent call last):\n  File \"/home/user/git/BluePyOpt/bluepyopt/ephys/evaluators.py\", line 160, in run_protocol\n    timeout=timeout)\nTypeError: run() got an unexpected keyword argument 'timeout'\n\nDuring handling of the above exception, another exception occurred:\n\nTraceback (most recent call last):\n  File \"/home/user/git/BluePyOpt/bluepyopt/ephys/protocols.py\", line 171, in _run_func\n    cell_model.freeze(param_values)\n  File \"/home/user/git/BluePyOpt/bluepyopt/ephys/models.py\", line 330, in freeze\n    self.params[param_name].freeze(param_value)\n  File \"/home/user/git/BluePyOpt/bluepyopt/parameters.py\", line 60, in freeze\n    self.value = value\n  File \"/home/user/git/BluePyOpt/bluepyopt/parameters.py\", line 74, in value\n    self.name)\nException: Parameter: parameter ena.all is frozen, unable to change value\n\n",
      "\nThe above exception was the direct cause of the following exception:\n",
      "\u001b[0;31mException\u001b[0m                                 Traceback (most recent call last)",
      "\u001b[0;32m<ipython-input-21-45eb87ab5d57>\u001b[0m in \u001b[0;36m<module>\u001b[0;34m\u001b[0m\n\u001b[0;32m----> 1\u001b[0;31m \u001b[0mreponse\u001b[0m \u001b[0;34m=\u001b[0m  \u001b[0mevaluator1\u001b[0m\u001b[0;34m.\u001b[0m\u001b[0mrun_protocol\u001b[0m\u001b[0;34m(\u001b[0m\u001b[0mevaluator1\u001b[0m\u001b[0;34m.\u001b[0m\u001b[0mfitness_protocols\u001b[0m\u001b[0;34m,\u001b[0m\u001b[0mevaluator1\u001b[0m\u001b[0;34m.\u001b[0m\u001b[0mcell_model\u001b[0m\u001b[0;34m.\u001b[0m\u001b[0mparams\u001b[0m\u001b[0;34m)\u001b[0m\u001b[0;34m\u001b[0m\u001b[0;34m\u001b[0m\u001b[0m\n\u001b[0m",
      "\u001b[0;32m~/git/BluePyOpt/bluepyopt/ephys/evaluators.py\u001b[0m in \u001b[0;36mrun_protocol\u001b[0;34m(self, protocol, param_values, isolate, cell_model, sim, timeout)\u001b[0m\n\u001b[1;32m    165\u001b[0m                     \u001b[0mparam_values\u001b[0m\u001b[0;34m,\u001b[0m\u001b[0;34m\u001b[0m\u001b[0;34m\u001b[0m\u001b[0m\n\u001b[1;32m    166\u001b[0m                     \u001b[0msim\u001b[0m\u001b[0;34m=\u001b[0m\u001b[0msim\u001b[0m\u001b[0;34m,\u001b[0m\u001b[0;34m\u001b[0m\u001b[0;34m\u001b[0m\u001b[0m\n\u001b[0;32m--> 167\u001b[0;31m                     isolate=isolate)\n\u001b[0m\u001b[1;32m    168\u001b[0m             \u001b[0;32melse\u001b[0m\u001b[0;34m:\u001b[0m\u001b[0;34m\u001b[0m\u001b[0;34m\u001b[0m\u001b[0m\n\u001b[1;32m    169\u001b[0m                 \u001b[0;32mraise\u001b[0m\u001b[0;34m\u001b[0m\u001b[0;34m\u001b[0m\u001b[0m\n",
      "\u001b[0;32m~/git/BluePyOpt/examples/thalamocortical-cell/CellEvalSetup/protocols.py\u001b[0m in \u001b[0;36mrun\u001b[0;34m(self, cell_model, param_values, sim, isolate)\u001b[0m\n\u001b[1;32m     71\u001b[0m             \u001b[0mparam_values\u001b[0m\u001b[0;34m,\u001b[0m\u001b[0;34m\u001b[0m\u001b[0;34m\u001b[0m\u001b[0m\n\u001b[1;32m     72\u001b[0m             \u001b[0msim\u001b[0m\u001b[0;34m=\u001b[0m\u001b[0msim\u001b[0m\u001b[0;34m,\u001b[0m\u001b[0;34m\u001b[0m\u001b[0;34m\u001b[0m\u001b[0m\n\u001b[0;32m---> 73\u001b[0;31m             isolate=isolate))\n\u001b[0m\u001b[1;32m     74\u001b[0m \u001b[0;34m\u001b[0m\u001b[0m\n\u001b[1;32m     75\u001b[0m \u001b[0;34m\u001b[0m\u001b[0m\n",
      "\u001b[0;32m~/git/BluePyOpt/bluepyopt/ephys/protocols.py\u001b[0m in \u001b[0;36mrun\u001b[0;34m(self, cell_model, param_values, sim, isolate, timeout)\u001b[0m\n\u001b[1;32m    263\u001b[0m                     timeout=timeout)\n\u001b[1;32m    264\u001b[0m                 \u001b[0;32mtry\u001b[0m\u001b[0;34m:\u001b[0m\u001b[0;34m\u001b[0m\u001b[0;34m\u001b[0m\u001b[0m\n\u001b[0;32m--> 265\u001b[0;31m                     \u001b[0mresponses\u001b[0m \u001b[0;34m=\u001b[0m \u001b[0mtasks\u001b[0m\u001b[0;34m.\u001b[0m\u001b[0mresult\u001b[0m\u001b[0;34m(\u001b[0m\u001b[0;34m)\u001b[0m\u001b[0;34m\u001b[0m\u001b[0;34m\u001b[0m\u001b[0m\n\u001b[0m\u001b[1;32m    266\u001b[0m                 \u001b[0;32mexcept\u001b[0m \u001b[0mTimeoutError\u001b[0m\u001b[0;34m:\u001b[0m\u001b[0;34m\u001b[0m\u001b[0;34m\u001b[0m\u001b[0m\n\u001b[1;32m    267\u001b[0m                     logger.debug('SweepProtocol: task took longer than '\n",
      "\u001b[0;32m~/anaconda3/lib/python3.7/concurrent/futures/_base.py\u001b[0m in \u001b[0;36mresult\u001b[0;34m(self, timeout)\u001b[0m\n\u001b[1;32m    433\u001b[0m                 \u001b[0;32mraise\u001b[0m \u001b[0mCancelledError\u001b[0m\u001b[0;34m(\u001b[0m\u001b[0;34m)\u001b[0m\u001b[0;34m\u001b[0m\u001b[0;34m\u001b[0m\u001b[0m\n\u001b[1;32m    434\u001b[0m             \u001b[0;32melif\u001b[0m \u001b[0mself\u001b[0m\u001b[0;34m.\u001b[0m\u001b[0m_state\u001b[0m \u001b[0;34m==\u001b[0m \u001b[0mFINISHED\u001b[0m\u001b[0;34m:\u001b[0m\u001b[0;34m\u001b[0m\u001b[0;34m\u001b[0m\u001b[0m\n\u001b[0;32m--> 435\u001b[0;31m                 \u001b[0;32mreturn\u001b[0m \u001b[0mself\u001b[0m\u001b[0;34m.\u001b[0m\u001b[0m__get_result\u001b[0m\u001b[0;34m(\u001b[0m\u001b[0;34m)\u001b[0m\u001b[0;34m\u001b[0m\u001b[0;34m\u001b[0m\u001b[0m\n\u001b[0m\u001b[1;32m    436\u001b[0m             \u001b[0;32melse\u001b[0m\u001b[0;34m:\u001b[0m\u001b[0;34m\u001b[0m\u001b[0;34m\u001b[0m\u001b[0m\n\u001b[1;32m    437\u001b[0m                 \u001b[0;32mraise\u001b[0m \u001b[0mTimeoutError\u001b[0m\u001b[0;34m(\u001b[0m\u001b[0;34m)\u001b[0m\u001b[0;34m\u001b[0m\u001b[0;34m\u001b[0m\u001b[0m\n",
      "\u001b[0;32m~/anaconda3/lib/python3.7/concurrent/futures/_base.py\u001b[0m in \u001b[0;36m__get_result\u001b[0;34m(self)\u001b[0m\n\u001b[1;32m    382\u001b[0m     \u001b[0;32mdef\u001b[0m \u001b[0m__get_result\u001b[0m\u001b[0;34m(\u001b[0m\u001b[0mself\u001b[0m\u001b[0;34m)\u001b[0m\u001b[0;34m:\u001b[0m\u001b[0;34m\u001b[0m\u001b[0;34m\u001b[0m\u001b[0m\n\u001b[1;32m    383\u001b[0m         \u001b[0;32mif\u001b[0m \u001b[0mself\u001b[0m\u001b[0;34m.\u001b[0m\u001b[0m_exception\u001b[0m\u001b[0;34m:\u001b[0m\u001b[0;34m\u001b[0m\u001b[0;34m\u001b[0m\u001b[0m\n\u001b[0;32m--> 384\u001b[0;31m             \u001b[0;32mraise\u001b[0m \u001b[0mself\u001b[0m\u001b[0;34m.\u001b[0m\u001b[0m_exception\u001b[0m\u001b[0;34m\u001b[0m\u001b[0;34m\u001b[0m\u001b[0m\n\u001b[0m\u001b[1;32m    385\u001b[0m         \u001b[0;32melse\u001b[0m\u001b[0;34m:\u001b[0m\u001b[0;34m\u001b[0m\u001b[0;34m\u001b[0m\u001b[0m\n\u001b[1;32m    386\u001b[0m             \u001b[0;32mreturn\u001b[0m \u001b[0mself\u001b[0m\u001b[0;34m.\u001b[0m\u001b[0m_result\u001b[0m\u001b[0;34m\u001b[0m\u001b[0;34m\u001b[0m\u001b[0m\n",
      "\u001b[0;31mException\u001b[0m: Traceback (most recent call last):\n  File \"/home/user/git/BluePyOpt/bluepyopt/ephys/evaluators.py\", line 160, in run_protocol\n    timeout=timeout)\nTypeError: run() got an unexpected keyword argument 'timeout'\n\nDuring handling of the above exception, another exception occurred:\n\nTraceback (most recent call last):\n  File \"/home/user/git/BluePyOpt/bluepyopt/ephys/protocols.py\", line 171, in _run_func\n    cell_model.freeze(param_values)\n  File \"/home/user/git/BluePyOpt/bluepyopt/ephys/models.py\", line 330, in freeze\n    self.params[param_name].freeze(param_value)\n  File \"/home/user/git/BluePyOpt/bluepyopt/parameters.py\", line 60, in freeze\n    self.value = value\n  File \"/home/user/git/BluePyOpt/bluepyopt/parameters.py\", line 74, in value\n    self.name)\nException: Parameter: parameter ena.all is frozen, unable to change value\n"
     ]
    }
   ],
   "source": [
    "reponse =  evaluator1.run_protocol(evaluator1.fitness_protocols,evaluator1.cell_model.params)   \n"
   ]
  },
  {
   "cell_type": "markdown",
   "metadata": {},
   "source": [
    "## Run an optimisation\n",
    "\n",
    "Once we have created the cell evaluator, we can run an optimisation. During the optimisation different parameter values will be evaluated, by running different **stimulation protocols** and recording the **voltage responses** of the models. \n",
    "\n",
    "The algorithm will try minimise the difference between the **electrical features** measured from the voltage responses in the model and the features extracted from the experimental data."
   ]
  },
  {
   "cell_type": "code",
   "execution_count": null,
   "metadata": {},
   "outputs": [],
   "source": [
    "seed = 0 # Number to initialize the pseudorandom number generator\n",
    "\n",
    "opt = bluepyopt.optimisations.DEAPOptimisation(\n",
    "    evaluator=evaluator,\n",
    "    map_function=map, # The map function can be used to parallelize the optimisation\n",
    "    seed=seed,\n",
    "    eta=10., mutpb=1.0, cxpb=1.0)\n"
   ]
  },
  {
   "cell_type": "markdown",
   "metadata": {},
   "source": [
    "As a proof of concept, we run an optimisation with a small number of individuals (n = 2) and generations (n = 2); this step will require some minutes. Typically this optimisation was run with 100 individual for 100 generations. At the end we obtain the \"Hall of Fame\", where the first individual is the best model.\n",
    "\n",
    "Before we create a folder to save the results."
   ]
  },
  {
   "cell_type": "code",
   "execution_count": null,
   "metadata": {},
   "outputs": [],
   "source": [
    "#!nrnivmodl mechanisms # Compile NEURON .mod files stored in the \"mechanisms\" folder\n",
    "\n",
    "\n",
    "final_pop, halloffame, log, hist, = opt.run(max_ngen=2,\n",
    "        offspring_size=2);"
   ]
  },
  {
   "cell_type": "code",
   "execution_count": null,
   "metadata": {},
   "outputs": [],
   "source": [
    "print(\"\\nExample of one individual resulting from an optimisation run:\\n\")\n",
    "print(halloffame[0])"
   ]
  },
  {
   "cell_type": "markdown",
   "metadata": {},
   "source": [
    "## Analyse optimisation results\n",
    "\n",
    "In this section you will see how to run simulations with models obtained after running a full optimisation.\n"
   ]
  },
  {
   "cell_type": "code",
   "execution_count": null,
   "metadata": {},
   "outputs": [],
   "source": [
    "import csv\n",
    "\n",
    "with open('results/{}_params.csv'.format(etype)) as csvfile:\n",
    "    rows = csv.reader(csvfile, quoting=csv.QUOTE_NONNUMERIC)\n",
    "    params = list(rows)"
   ]
  },
  {
   "cell_type": "markdown",
   "metadata": {},
   "source": [
    "Select one of the models and create the dictionary of parameters."
   ]
  },
  {
   "cell_type": "code",
   "execution_count": null,
   "metadata": {},
   "outputs": [],
   "source": [
    "modid = 62 # Or e.g. 78 for cNAD_ltb model shown in the paper, Fig. 4\n",
    "param_dict = evaluator.param_dict(params[modid])\n",
    "pp.pprint(param_dict)"
   ]
  },
  {
   "cell_type": "markdown",
   "metadata": {},
   "source": [
    "We can run a simulation with the parameters above and the current protocols which are part of the evaluator."
   ]
  },
  {
   "cell_type": "code",
   "execution_count": null,
   "metadata": {},
   "outputs": [],
   "source": [
    "from datetime import datetime\n",
    "\n",
    "t0 = datetime.now()\n",
    "responses = evaluator.run_protocols(protocols = evaluator.fitness_protocols.values(), param_values=param_dict)\n",
    "\n",
    "print(\"Simulation took {}.\".format(datetime.now()-t0))"
   ]
  },
  {
   "cell_type": "markdown",
   "metadata": {},
   "source": [
    "We can plot the model responses."
   ]
  },
  {
   "cell_type": "code",
   "execution_count": null,
   "metadata": {},
   "outputs": [],
   "source": [
    "import collections\n",
    "\n",
    "def plot_responses(responses):\n",
    "    # Select and sort reponses\n",
    "    stim_names = [name for name in sorted(evaluator.fitness_protocols.keys()) \n",
    "                      if \"hold\" not in name and \"RMP\" not in name]\n",
    "    sel_resp = collections.OrderedDict()\n",
    "    for name in stim_names:\n",
    "        sel_resp[name] =  responses[\".\"+name+\".soma.v\"]\n",
    "        \n",
    "    fig, axes = plt.subplots(len(sel_resp), figsize=(5, 8), sharey = True)\n",
    "    for index, (resp_name, response) in enumerate(sorted(sel_resp.items())):\n",
    "        \n",
    "        startid = 550 if \"Step\" in resp_name or \"IV\" or \"Rin\" in resp_name else 0 # Remove initial transient\n",
    "        indices = response['time'] >= startid\n",
    "        \n",
    "        axes[index].plot(response['time'][indices]-startid, response['voltage'][indices],\n",
    "                        color = \"blue\", lw = 0.75, alpha = 0.8)\n",
    "        \n",
    "        axes[index].set_ylabel('V$_m$ (mV)', fontsize = 'small')\n",
    "        axes[-1].set_xlabel('Time (ms)', fontsize = 'small')\n",
    "    fig.tight_layout()\n",
    "    fig.show()\n",
    "plot_responses(responses)\n"
   ]
  },
  {
   "cell_type": "markdown",
   "metadata": {},
   "source": [
    "We can evaluate the fitness of the model by computing its errors. Each error quantify how much the model deviates from the experimental features."
   ]
  },
  {
   "cell_type": "code",
   "execution_count": null,
   "metadata": {},
   "outputs": [],
   "source": [
    "objectives = evaluator.fitness_calculator.calculate_scores(responses)\n",
    "\n",
    "def plot_objectives(objectives): \n",
    "    \n",
    "    # Names for all the stimuli   \n",
    "    stim_name = ['RMP', u'IV_-140', u'Rin_dep',  'hold_hyp', u'Step_200_hyp',  u'Step_150', \n",
    "             u'Step_200', u'Step_250', 'hold_dep']\n",
    "    \n",
    "    # Sort objectives\n",
    "    obj_keys = [[key for key in objectives.keys() if key.split(\".\")[1] == stim] for stim in stim_name]\n",
    "    obj_keys = [item for sublist in obj_keys for item in sublist][::-1] \n",
    "    obj_val = []\n",
    "    for key in obj_keys:\n",
    "        obj_val.append(objectives[key])\n",
    " \n",
    "    ytick_pos = [x + 0.5 for x in range(len(obj_keys))]\n",
    "    fig, ax = plt.subplots(figsize = (5.4,9), facecolor = 'white')\n",
    "  \n",
    "    ax.barh(ytick_pos,\n",
    "              obj_val,\n",
    "              height=0.5,\n",
    "              align='center',\n",
    "              color='blue',\n",
    "              alpha=0.5)\n",
    "    \n",
    "    obj_keys = [CellEvalSetup.tools.rename_feat(name) for name in obj_keys]     \n",
    "        \n",
    "    ax.set_yticks(ytick_pos)\n",
    "    ax.set_yticklabels(obj_keys, size='medium')\n",
    "    ax.set_ylim(-0.5, len(obj_keys) + 0.5)\n",
    "    ax.set_xlim([0,3])\n",
    "      \n",
    "    ax.set_xlabel(\"Distance from exp. mean (# STD)\")\n",
    "    ax.set_ylabel(\"Feature name\")\n",
    "    ax.xaxis.grid(True)\n",
    "    fig.tight_layout()\n",
    "\n",
    "plot_objectives(objectives)"
   ]
  }
 ],
 "metadata": {
  "kernelspec": {
   "display_name": "Python 3",
   "language": "python",
   "name": "python3"
  },
  "language_info": {
   "codemirror_mode": {
    "name": "ipython",
    "version": 3
   },
   "file_extension": ".py",
   "mimetype": "text/x-python",
   "name": "python",
   "nbconvert_exporter": "python",
   "pygments_lexer": "ipython3",
   "version": "3.7.4"
  }
 },
 "nbformat": 4,
 "nbformat_minor": 2
}
