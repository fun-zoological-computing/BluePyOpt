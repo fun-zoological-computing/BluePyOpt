{
 "cells": [
  {
   "cell_type": "code",
   "execution_count": 1,
   "metadata": {},
   "outputs": [
    {
     "name": "stderr",
     "output_type": "stream",
     "text": [
      "test\n"
     ]
    }
   ],
   "source": [
    "from allen_data_driven import opt_setup, opt_setup_two, opt_exec, opt_to_model\n",
    "from neuronunit.optimisation.optimization_management import check_bin_vm15\n",
    "specimen_id = 324257146\n"
   ]
  },
  {
   "cell_type": "code",
   "execution_count": 2,
   "metadata": {},
   "outputs": [
    {
     "ename": "TypeError",
     "evalue": "vm must be a neo.core.AnalogSignal",
     "output_type": "error",
     "traceback": [
      "\u001b[0;31m---------------------------------------------------------------------------\u001b[0m",
      "\u001b[0;31mAssertionError\u001b[0m                            Traceback (most recent call last)",
      "\u001b[0;32m~/git/BluePyOpt/examples/bpo_nu_fusion/allen_data_driven.py\u001b[0m in \u001b[0;36mopt_setup\u001b[0;34m(specimen_id, cellmodel, target_num)\u001b[0m\n\u001b[1;32m     76\u001b[0m     \u001b[0;32mtry\u001b[0m\u001b[0;34m:\u001b[0m\u001b[0;34m\u001b[0m\u001b[0;34m\u001b[0m\u001b[0m\n\u001b[0;32m---> 77\u001b[0;31m         \u001b[0;32massert\u001b[0m \u001b[0;36m1\u001b[0m\u001b[0;34m==\u001b[0m\u001b[0;36m2\u001b[0m\u001b[0;34m\u001b[0m\u001b[0;34m\u001b[0m\u001b[0m\n\u001b[0m\u001b[1;32m     78\u001b[0m         \u001b[0;32mwith\u001b[0m \u001b[0mopen\u001b[0m\u001b[0;34m(\u001b[0m\u001b[0mstr\u001b[0m\u001b[0;34m(\u001b[0m\u001b[0mspecimen_id\u001b[0m\u001b[0;34m)\u001b[0m\u001b[0;34m+\u001b[0m\u001b[0;34m'later_allen_NU_tests.p'\u001b[0m\u001b[0;34m,\u001b[0m\u001b[0;34m'rb'\u001b[0m\u001b[0;34m)\u001b[0m \u001b[0;32mas\u001b[0m \u001b[0mf\u001b[0m\u001b[0;34m:\u001b[0m\u001b[0;34m\u001b[0m\u001b[0;34m\u001b[0m\u001b[0m\n",
      "\u001b[0;31mAssertionError\u001b[0m: ",
      "\nDuring handling of the above exception, another exception occurred:\n",
      "\u001b[0;31mTypeError\u001b[0m                                 Traceback (most recent call last)",
      "\u001b[0;32m<ipython-input-2-5a0143be7b8e>\u001b[0m in \u001b[0;36m<module>\u001b[0;34m\u001b[0m\n\u001b[1;32m      8\u001b[0m \u001b[0msimple_yes_list\u001b[0m \u001b[0;34m=\u001b[0m \u001b[0mspecific_filter_list\u001b[0m\u001b[0;34m\u001b[0m\u001b[0;34m\u001b[0m\u001b[0m\n\u001b[1;32m      9\u001b[0m \u001b[0mcellmodel\u001b[0m \u001b[0;34m=\u001b[0m \u001b[0;34m\"IZHI\"\u001b[0m\u001b[0;34m\u001b[0m\u001b[0;34m\u001b[0m\u001b[0m\n\u001b[0;32m---> 10\u001b[0;31m \u001b[0mmodel\u001b[0m\u001b[0;34m,\u001b[0m \u001b[0msuite\u001b[0m\u001b[0;34m,\u001b[0m \u001b[0mnu_tests\u001b[0m\u001b[0;34m,\u001b[0m \u001b[0mtarget_current\u001b[0m\u001b[0;34m,\u001b[0m \u001b[0mspk_count\u001b[0m \u001b[0;34m=\u001b[0m \u001b[0mopt_setup\u001b[0m\u001b[0;34m(\u001b[0m\u001b[0mspecimen_id\u001b[0m\u001b[0;34m,\u001b[0m\u001b[0mcellmodel\u001b[0m\u001b[0;34m,\u001b[0m\u001b[0;36m20\u001b[0m\u001b[0;34m)\u001b[0m\u001b[0;34m\u001b[0m\u001b[0;34m\u001b[0m\u001b[0m\n\u001b[0m",
      "\u001b[0;32m~/git/BluePyOpt/examples/bpo_nu_fusion/allen_data_driven.py\u001b[0m in \u001b[0;36mopt_setup\u001b[0;34m(specimen_id, cellmodel, target_num)\u001b[0m\n\u001b[1;32m     95\u001b[0m         \u001b[0;31m#import pdb\u001b[0m\u001b[0;34m\u001b[0m\u001b[0;34m\u001b[0m\u001b[0;34m\u001b[0m\u001b[0m\n\u001b[1;32m     96\u001b[0m         \u001b[0;31m#pdb.set_trace()\u001b[0m\u001b[0;34m\u001b[0m\u001b[0;34m\u001b[0m\u001b[0;34m\u001b[0m\u001b[0m\n\u001b[0;32m---> 97\u001b[0;31m         \u001b[0msuite\u001b[0m\u001b[0;34m,\u001b[0m\u001b[0mspecimen_id\u001b[0m \u001b[0;34m=\u001b[0m \u001b[0mmake_allen_tests_from_id\u001b[0m\u001b[0;34m.\u001b[0m\u001b[0mmake_suite_known_sweep_from_static_models\u001b[0m\u001b[0;34m(\u001b[0m\u001b[0mvmm\u001b[0m\u001b[0;34m,\u001b[0m\u001b[0mstimulus\u001b[0m\u001b[0;34m,\u001b[0m\u001b[0mspecimen_id\u001b[0m\u001b[0;34m)\u001b[0m\u001b[0;34m\u001b[0m\u001b[0;34m\u001b[0m\u001b[0m\n\u001b[0m\u001b[1;32m     98\u001b[0m \u001b[0;34m\u001b[0m\u001b[0m\n\u001b[1;32m     99\u001b[0m         \u001b[0;31m#suite,specimen_id = make_allen_tests_from_id.make_suite_from_static_models(vm15,vm30,rheobase,currents,vmrh,specimen_id)\u001b[0m\u001b[0;34m\u001b[0m\u001b[0;34m\u001b[0m\u001b[0;34m\u001b[0m\u001b[0m\n",
      "\u001b[0;32m~/git/BluePyOpt/examples/bpo_nu_fusion/make_allen_tests_from_id.py\u001b[0m in \u001b[0;36mmake_suite_known_sweep_from_static_models\u001b[0;34m(vm15, stimulus, specimen_id)\u001b[0m\n\u001b[1;32m    173\u001b[0m \u001b[0;34m\u001b[0m\u001b[0m\n\u001b[1;32m    174\u001b[0m \u001b[0;32mdef\u001b[0m \u001b[0mmake_suite_known_sweep_from_static_models\u001b[0m\u001b[0;34m(\u001b[0m\u001b[0mvm15\u001b[0m\u001b[0;34m,\u001b[0m\u001b[0mstimulus\u001b[0m\u001b[0;34m,\u001b[0m\u001b[0mspecimen_id\u001b[0m\u001b[0;34m)\u001b[0m\u001b[0;34m:\u001b[0m\u001b[0;34m\u001b[0m\u001b[0;34m\u001b[0m\u001b[0m\n\u001b[0;32m--> 175\u001b[0;31m     \u001b[0msm\u001b[0m \u001b[0;34m=\u001b[0m \u001b[0mStaticModel\u001b[0m\u001b[0;34m(\u001b[0m\u001b[0mvm\u001b[0m \u001b[0;34m=\u001b[0m \u001b[0mvm15\u001b[0m\u001b[0;34m)\u001b[0m\u001b[0;34m\u001b[0m\u001b[0;34m\u001b[0m\u001b[0m\n\u001b[0m\u001b[1;32m    176\u001b[0m     \u001b[0msm\u001b[0m\u001b[0;34m.\u001b[0m\u001b[0mvm15\u001b[0m \u001b[0;34m=\u001b[0m \u001b[0mvm15\u001b[0m\u001b[0;34m\u001b[0m\u001b[0;34m\u001b[0m\u001b[0m\n\u001b[1;32m    177\u001b[0m     \u001b[0msm\u001b[0m\u001b[0;34m.\u001b[0m\u001b[0mrheobase\u001b[0m \u001b[0;34m=\u001b[0m \u001b[0mnp\u001b[0m\u001b[0;34m.\u001b[0m\u001b[0mmax\u001b[0m\u001b[0;34m(\u001b[0m\u001b[0mstimulus\u001b[0m\u001b[0;34m)\u001b[0m\u001b[0;34m\u001b[0m\u001b[0;34m\u001b[0m\u001b[0m\n",
      "\u001b[0;32m~/safe2/neuronunit/neuronunit/models/static.py\u001b[0m in \u001b[0;36m__init__\u001b[0;34m(self, vm)\u001b[0m\n\u001b[1;32m     25\u001b[0m \u001b[0;34m\u001b[0m\u001b[0m\n\u001b[1;32m     26\u001b[0m         \u001b[0;32mif\u001b[0m \u001b[0;32mnot\u001b[0m \u001b[0misinstance\u001b[0m\u001b[0;34m(\u001b[0m\u001b[0mvm\u001b[0m\u001b[0;34m,\u001b[0m \u001b[0mAnalogSignal\u001b[0m\u001b[0;34m)\u001b[0m\u001b[0;34m:\u001b[0m\u001b[0;34m\u001b[0m\u001b[0;34m\u001b[0m\u001b[0m\n\u001b[0;32m---> 27\u001b[0;31m             \u001b[0;32mraise\u001b[0m \u001b[0mTypeError\u001b[0m\u001b[0;34m(\u001b[0m\u001b[0;34m'vm must be a neo.core.AnalogSignal'\u001b[0m\u001b[0;34m)\u001b[0m\u001b[0;34m\u001b[0m\u001b[0;34m\u001b[0m\u001b[0m\n\u001b[0m\u001b[1;32m     28\u001b[0m \u001b[0;34m\u001b[0m\u001b[0m\n\u001b[1;32m     29\u001b[0m         \u001b[0mself\u001b[0m\u001b[0;34m.\u001b[0m\u001b[0mvm\u001b[0m \u001b[0;34m=\u001b[0m \u001b[0mvm\u001b[0m\u001b[0;34m\u001b[0m\u001b[0;34m\u001b[0m\u001b[0m\n",
      "\u001b[0;31mTypeError\u001b[0m: vm must be a neo.core.AnalogSignal"
     ]
    }
   ],
   "source": [
    "specific_filter_list = ['trace_check','ISI_log_slope_1.5x','mean_frequency_1.5x','adaptation_index2_1.5x','first_isi_1.5x','ISI_CV_1.5x','median_isi_1.5x','AHP_depth_abs_1.5x','sag_ratio2_1.5x','ohmic_input_resistance_1.5x','sag_ratio2_1.5x','peak_voltage_1.5x','voltage_base_1.5x','Spikecount_1.5x',\n",
    "    'all_ISI_values',\n",
    "    'ISI_values',\n",
    "    'time_to_first_spike',\n",
    "    'time_to_last_spike',\n",
    "    'time_to_second_spike',\n",
    "    'trace_check']\n",
    "simple_yes_list = specific_filter_list\n",
    "cellmodel = \"IZHI\"\n",
    "model, suite, nu_tests, target_current, spk_count = opt_setup(specimen_id,cellmodel,20)\n"
   ]
  },
  {
   "cell_type": "code",
   "execution_count": null,
   "metadata": {},
   "outputs": [],
   "source": [
    "from neuronunit.optimisation.model_parameters import MODEL_PARAMS\n",
    "MODEL_PARAMS[\"IZHI\"]"
   ]
  },
  {
   "cell_type": "code",
   "execution_count": null,
   "metadata": {},
   "outputs": [],
   "source": [
    "print(target_current, spk_count)"
   ]
  },
  {
   "cell_type": "code",
   "execution_count": null,
   "metadata": {},
   "outputs": [],
   "source": [
    "model.params\n",
    "model.backend"
   ]
  },
  {
   "cell_type": "code",
   "execution_count": null,
   "metadata": {},
   "outputs": [],
   "source": [
    "\n",
    "cell_evaluator2,simple_cell = opt_setup_two(model,cellmodel, suite, nu_tests, target_current, spk_count)\n",
    "simple_cell.seeded_current = target_current['value']\n",
    "simple_cell.allen = True\n",
    "simple_cell.seeded_current\n",
    "\n"
   ]
  },
  {
   "cell_type": "code",
   "execution_count": null,
   "metadata": {},
   "outputs": [],
   "source": []
  },
  {
   "cell_type": "code",
   "execution_count": null,
   "metadata": {},
   "outputs": [],
   "source": []
  },
  {
   "cell_type": "code",
   "execution_count": null,
   "metadata": {},
   "outputs": [],
   "source": [
    "cellmodel\n",
    "NGEN = 100\n",
    "MU = 20\n",
    "from utils import dask_map_function\n",
    "\n",
    "mapping_funct = dask_map_function\n",
    "final_pop, hall_of_fame, logs, hist = opt_exec(MU,NGEN,mapping_funct,cell_evaluator2)\n"
   ]
  },
  {
   "cell_type": "code",
   "execution_count": null,
   "metadata": {},
   "outputs": [],
   "source": [
    "from allen_data_driven import opt_to_model\n",
    "\n",
    "opt,target = opt_to_model(hall_of_fame,cell_evaluator2,suite, target_current, spk_count)"
   ]
  },
  {
   "cell_type": "code",
   "execution_count": null,
   "metadata": {},
   "outputs": [],
   "source": [
    "#for obj in cell_evaluator2.objectives:\n",
    "#    print(obj.name)\n",
    "import matplotlib.pyplot as plt\n",
    "\n",
    "gen_numbers = logs.select('gen')\n",
    "min_fitness = logs.select('min')\n",
    "max_fitness = logs.select('max')\n",
    "avg_fitness = logs.select('avg')\n",
    "plt.plot(gen_numbers, max_fitness, label='max fitness')\n",
    "plt.plot(gen_numbers, avg_fitness, label='avg fitness')\n",
    "plt.plot(gen_numbers, min_fitness, label='min fitness')\n",
    "\n",
    "plt.plot(gen_numbers, min_fitness, label='min fitness')\n",
    "plt.semilogy()\n",
    "plt.xlabel('generation #')\n",
    "plt.ylabel('score (# std)')\n",
    "plt.legend()\n",
    "plt.xlim(min(gen_numbers) - 1, max(gen_numbers) + 1)\n",
    "plt.show()"
   ]
  },
  {
   "cell_type": "code",
   "execution_count": null,
   "metadata": {},
   "outputs": [],
   "source": [
    "opt.attrs\n",
    "\n",
    "model = opt.dtc_to_model()\n",
    "plt.plot(opt.vm15.times,opt.vm15)\n",
    "opt.vm15"
   ]
  },
  {
   "cell_type": "code",
   "execution_count": null,
   "metadata": {},
   "outputs": [],
   "source": [
    "#check_bin_vm15(opt,opt)\n",
    "\n",
    "import matplotlib.pyplot as plt\n",
    "\n",
    "plt.plot(opt.vm15.times,opt.vm15)\n",
    "plt.show()\n",
    "\n",
    "\n",
    "#check_bin_vm30(target,target)\n",
    "\n",
    "\n"
   ]
  },
  {
   "cell_type": "code",
   "execution_count": null,
   "metadata": {},
   "outputs": [],
   "source": [
    "#target.vm15\n",
    "target.vm15 = suite.traces['vm15']\n",
    "\n",
    "plt.plot(target.vm15.times,target.vm15)\n",
    "plt.show()\n"
   ]
  },
  {
   "cell_type": "code",
   "execution_count": null,
   "metadata": {},
   "outputs": [],
   "source": [
    "target.vm15 = suite.traces['vm15']\n",
    "\n",
    "check_bin_vm15(target,opt)\n"
   ]
  },
  {
   "cell_type": "code",
   "execution_count": null,
   "metadata": {},
   "outputs": [],
   "source": [
    "import bluepyopt as bpop\n",
    "from utils import dask_map_function\n",
    "optimisation = bpop.optimisations.DEAPOptimisation(\n",
    "        evaluator=cell_evaluator2,\n",
    "        offspring_size = MU,\n",
    "        map_function = dask_map_function,\n",
    "        selector_name='IBEA',mutpb=0.1,cxpb=0.35,seeded_pop=[cp['final_pop'],cp['hall_of_fame']])#,seeded_current=target_current)\n",
    "final_pop, hall_of_fame, logs, hist = optimisation.run(max_ngen=50)\n"
   ]
  },
  {
   "cell_type": "code",
   "execution_count": null,
   "metadata": {},
   "outputs": [],
   "source": [
    "gen_numbers = logs.select('gen')\n",
    "min_fitness = logs.select('min')\n",
    "max_fitness = logs.select('max')\n",
    "avg_fitness = logs.select('avg')\n",
    "plt.plot(gen_numbers, max_fitness, label='max fitness')\n",
    "plt.plot(gen_numbers, avg_fitness, label='avg fitness')\n",
    "plt.plot(gen_numbers, min_fitness, label='min fitness')\n",
    "\n",
    "plt.plot(gen_numbers, min_fitness, label='min fitness')\n",
    "#plt.semilogy()\n",
    "plt.xlabel('generation #')\n",
    "plt.ylabel('score (# std)')\n",
    "plt.legend()\n",
    "plt.xlim(min(gen_numbers) - 1, max(gen_numbers) + 1)\n",
    "plt.show()\n"
   ]
  },
  {
   "cell_type": "code",
   "execution_count": null,
   "metadata": {},
   "outputs": [],
   "source": [
    "for obj in cell_evaluator2.objectives:\n",
    "    print(obj.name)\n"
   ]
  },
  {
   "cell_type": "code",
   "execution_count": null,
   "metadata": {},
   "outputs": [],
   "source": [
    "import efel\n",
    "simple_yes_list = list(efel.getFeatureNames())\n",
    "simple_yes_list"
   ]
  },
  {
   "cell_type": "markdown",
   "metadata": {},
   "source": [
    "'trace_check'"
   ]
  },
  {
   "cell_type": "raw",
   "metadata": {},
   "source": []
  }
 ],
 "metadata": {
  "kernelspec": {
   "display_name": "Python 3",
   "language": "python",
   "name": "python3"
  },
  "language_info": {
   "codemirror_mode": {
    "name": "ipython",
    "version": 3
   },
   "file_extension": ".py",
   "mimetype": "text/x-python",
   "name": "python",
   "nbconvert_exporter": "python",
   "pygments_lexer": "ipython3",
   "version": "3.7.4"
  }
 },
 "nbformat": 4,
 "nbformat_minor": 2
}
