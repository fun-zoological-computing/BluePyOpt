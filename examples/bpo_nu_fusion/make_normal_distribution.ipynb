{
 "cells": [
  {
   "cell_type": "code",
   "execution_count": 1,
   "metadata": {},
   "outputs": [],
   "source": [
    "import pandas as pd\n",
    "from neuronunit.optimisation.optimization_management import instance_opt\n",
    "from neuronunit.optimisation.optimization_management import plot_as_normal\n",
    "\n",
    "pd.set_option('max_columns',None)\n",
    "pd.set_option('max_rows',None)\n",
    "\n",
    "import matplotlib.pyplot as plt\n",
    "#plt.plot()\n",
    "#plt.show()\n",
    "\n",
    "import seaborn as sns\n",
    "\n",
    "cm = sns.light_palette(\"green\", as_cmap=True)\n",
    "import pickle\n",
    "import glob\n",
    "import os\n",
    "from neuronunit.optimisation.optimization_management import check_binary_match, which_key\n",
    "from neuronunit.optimisation.optimization_management import check_match_front, inject_and_not_plot_model\n",
    "from neuronunit.capabilities.spike_functions import get_spike_waveforms#\n",
    "#check_match_front, inject_and_not_plot_model\n",
    "import os\n",
    "import pickle\n",
    "from neuronunit.optimisation.optimization_management import TSD\n",
    "\n",
    "from neuronunit.optimisation.model_parameters import MODEL_PARAMS\n",
    "from neuronunit.optimisation.brian_glif_model_parameters import MODEL_PARAMS as OTHER_MODEL_PARAMS\n",
    "import scipy\n",
    "from neuronunit.optimisation.optimization_management import inject_and_not_plot_model, plot_as_normal\n",
    "from neuronunit.optimisation.optimization_management import inject_and_plot_model, plot_as_normal\n"
   ]
  },
  {
   "cell_type": "code",
   "execution_count": 2,
   "metadata": {},
   "outputs": [],
   "source": [
    "#import quantities as pq\n",
    "#pq.PREFERED"
   ]
  },
  {
   "cell_type": "code",
   "execution_count": 3,
   "metadata": {},
   "outputs": [
    {
     "data": {
      "text/html": [
       "<style  type=\"text/css\" >\n",
       "</style><table id=\"T_629243b8_f811_11ea_87dd_8f71c8a75865\" ><thead>    <tr>        <th class=\"index_name level0\" >name</th>        <th class=\"col_heading level0 col0\" >Hippocampus CA1 pyramidal cell</th>        <th class=\"col_heading level0 col1\" >Cerebellum Purkinje cell</th>        <th class=\"col_heading level0 col2\" >Neocortex pyramidal cell layer 5-6</th>        <th class=\"col_heading level0 col3\" >olf_mit</th>    </tr></thead><tbody>\n",
       "                <tr>\n",
       "                        <th id=\"T_629243b8_f811_11ea_87dd_8f71c8a75865level0_row0\" class=\"row_heading level0 row0\" >RheobaseTest</th>\n",
       "                        <td id=\"T_629243b8_f811_11ea_87dd_8f71c8a75865row0_col0\" class=\"data row0 col0\" >189.24 pA</td>\n",
       "                        <td id=\"T_629243b8_f811_11ea_87dd_8f71c8a75865row0_col1\" class=\"data row0 col1\" >680.794444444444 pA</td>\n",
       "                        <td id=\"T_629243b8_f811_11ea_87dd_8f71c8a75865row0_col2\" class=\"data row0 col2\" >213.849583333333 pA</td>\n",
       "                        <td id=\"T_629243b8_f811_11ea_87dd_8f71c8a75865row0_col3\" class=\"data row0 col3\" >nan</td>\n",
       "            </tr>\n",
       "            <tr>\n",
       "                        <th id=\"T_629243b8_f811_11ea_87dd_8f71c8a75865level0_row1\" class=\"row_heading level0 row1\" >InputResistanceTest</th>\n",
       "                        <td id=\"T_629243b8_f811_11ea_87dd_8f71c8a75865row1_col0\" class=\"data row1 col0\" >107.080327644332 Mohm</td>\n",
       "                        <td id=\"T_629243b8_f811_11ea_87dd_8f71c8a75865row1_col1\" class=\"data row1 col1\" >142.057692307692 Mohm</td>\n",
       "                        <td id=\"T_629243b8_f811_11ea_87dd_8f71c8a75865row1_col2\" class=\"data row1 col2\" >120.672073643411 Mohm</td>\n",
       "                        <td id=\"T_629243b8_f811_11ea_87dd_8f71c8a75865row1_col3\" class=\"data row1 col3\" >130.083333333333 Mohm</td>\n",
       "            </tr>\n",
       "            <tr>\n",
       "                        <th id=\"T_629243b8_f811_11ea_87dd_8f71c8a75865level0_row2\" class=\"row_heading level0 row2\" >TimeConstantTest</th>\n",
       "                        <td id=\"T_629243b8_f811_11ea_87dd_8f71c8a75865row2_col0\" class=\"data row2 col0\" >24.5021946169772 ms</td>\n",
       "                        <td id=\"T_629243b8_f811_11ea_87dd_8f71c8a75865row2_col1\" class=\"data row2 col1\" >nan</td>\n",
       "                        <td id=\"T_629243b8_f811_11ea_87dd_8f71c8a75865row2_col2\" class=\"data row2 col2\" >15.7342424242424 ms</td>\n",
       "                        <td id=\"T_629243b8_f811_11ea_87dd_8f71c8a75865row2_col3\" class=\"data row2 col3\" >24.4833333333333 ms</td>\n",
       "            </tr>\n",
       "            <tr>\n",
       "                        <th id=\"T_629243b8_f811_11ea_87dd_8f71c8a75865level0_row3\" class=\"row_heading level0 row3\" >CapacitanceTest</th>\n",
       "                        <td id=\"T_629243b8_f811_11ea_87dd_8f71c8a75865row3_col0\" class=\"data row3 col0\" >89.7960714285714 pF</td>\n",
       "                        <td id=\"T_629243b8_f811_11ea_87dd_8f71c8a75865row3_col1\" class=\"data row3 col1\" >620.2725 pF</td>\n",
       "                        <td id=\"T_629243b8_f811_11ea_87dd_8f71c8a75865row3_col2\" class=\"data row3 col2\" >150.584166666667 pF</td>\n",
       "                        <td id=\"T_629243b8_f811_11ea_87dd_8f71c8a75865row3_col3\" class=\"data row3 col3\" >235.75 pF</td>\n",
       "            </tr>\n",
       "            <tr>\n",
       "                        <th id=\"T_629243b8_f811_11ea_87dd_8f71c8a75865level0_row4\" class=\"row_heading level0 row4\" >RestingPotentialTest</th>\n",
       "                        <td id=\"T_629243b8_f811_11ea_87dd_8f71c8a75865row4_col0\" class=\"data row4 col0\" >-65.2261863636364 mV</td>\n",
       "                        <td id=\"T_629243b8_f811_11ea_87dd_8f71c8a75865row4_col1\" class=\"data row4 col1\" >-61.5916666666667 mV</td>\n",
       "                        <td id=\"T_629243b8_f811_11ea_87dd_8f71c8a75865row4_col2\" class=\"data row4 col2\" >-68.2481434599156 mV</td>\n",
       "                        <td id=\"T_629243b8_f811_11ea_87dd_8f71c8a75865row4_col3\" class=\"data row4 col3\" >-58.140625 mV</td>\n",
       "            </tr>\n",
       "            <tr>\n",
       "                        <th id=\"T_629243b8_f811_11ea_87dd_8f71c8a75865level0_row5\" class=\"row_heading level0 row5\" >InjectedCurrentAPWidthTest</th>\n",
       "                        <td id=\"T_629243b8_f811_11ea_87dd_8f71c8a75865row5_col0\" class=\"data row5 col0\" >1.31895278450363 ms</td>\n",
       "                        <td id=\"T_629243b8_f811_11ea_87dd_8f71c8a75865row5_col1\" class=\"data row5 col1\" >0.41412962962963 ms</td>\n",
       "                        <td id=\"T_629243b8_f811_11ea_87dd_8f71c8a75865row5_col2\" class=\"data row5 col2\" >1.20769387755102 ms</td>\n",
       "                        <td id=\"T_629243b8_f811_11ea_87dd_8f71c8a75865row5_col3\" class=\"data row5 col3\" >1.61 ms</td>\n",
       "            </tr>\n",
       "            <tr>\n",
       "                        <th id=\"T_629243b8_f811_11ea_87dd_8f71c8a75865level0_row6\" class=\"row_heading level0 row6\" >InjectedCurrentAPAmplitudeTest</th>\n",
       "                        <td id=\"T_629243b8_f811_11ea_87dd_8f71c8a75865row6_col0\" class=\"data row6 col0\" >86.364525297619 mV</td>\n",
       "                        <td id=\"T_629243b8_f811_11ea_87dd_8f71c8a75865row6_col1\" class=\"data row6 col1\" >71.2308333333333 mV</td>\n",
       "                        <td id=\"T_629243b8_f811_11ea_87dd_8f71c8a75865row6_col2\" class=\"data row6 col2\" >80.4351020408164 mV</td>\n",
       "                        <td id=\"T_629243b8_f811_11ea_87dd_8f71c8a75865row6_col3\" class=\"data row6 col3\" >68.4 mV</td>\n",
       "            </tr>\n",
       "            <tr>\n",
       "                        <th id=\"T_629243b8_f811_11ea_87dd_8f71c8a75865level0_row7\" class=\"row_heading level0 row7\" >InjectedCurrentAPThresholdTest</th>\n",
       "                        <td id=\"T_629243b8_f811_11ea_87dd_8f71c8a75865row7_col0\" class=\"data row7 col0\" >-47.5985714285714 mV</td>\n",
       "                        <td id=\"T_629243b8_f811_11ea_87dd_8f71c8a75865row7_col1\" class=\"data row7 col1\" >-46.8947619047619 mV</td>\n",
       "                        <td id=\"T_629243b8_f811_11ea_87dd_8f71c8a75865row7_col2\" class=\"data row7 col2\" >-42.7357232704403 mV</td>\n",
       "                        <td id=\"T_629243b8_f811_11ea_87dd_8f71c8a75865row7_col3\" class=\"data row7 col3\" >-38.9 mV</td>\n",
       "            </tr>\n",
       "    </tbody></table>"
      ],
      "text/plain": [
       "<pandas.io.formats.style.Styler at 0x7fa398f9ea50>"
      ]
     },
     "execution_count": 3,
     "metadata": {},
     "output_type": "execute_result"
    }
   ],
   "source": [
    "\n",
    "\n",
    "cells = pickle.load(open(\"processed_multicellular_constraints.p\",\"rb\"))\n",
    "\n",
    "purk = TSD(cells['Cerebellum Purkinje cell'])#.tests\n",
    "purk_vr = purk[\"RestingPotentialTest\"].observation['mean']\n",
    "\n",
    "ncl5 = TSD(cells[\"Neocortex pyramidal cell layer 5-6\"])\n",
    "ncl5.name = str(\"Neocortex pyramidal cell layer 5-6\")\n",
    "ncl5_vr = ncl5[\"RestingPotentialTest\"].observation['mean']\n",
    "\n",
    "ca1 = TSD(cells['Hippocampus CA1 pyramidal cell'])\n",
    "ca1_vr = ca1[\"RestingPotentialTest\"].observation['mean']\n",
    "\n",
    "\n",
    "olf = TSD(pickle.load(open(\"olf_tests.p\",\"rb\")))\n",
    "olf.use_rheobase_score = False\n",
    "cells.pop('Olfactory bulb (main) mitral cell',None)\n",
    "cells['olf_mit'] = olf\n",
    "\n",
    "experimental_constraints= cells\n",
    "\n",
    "list_of_dicts = []\n",
    "for k,v in cells.items():\n",
    "    observations = {}\n",
    "    for k1 in ca1.keys():\n",
    "        vsd = TSD(v)\n",
    "        if k1 in vsd.keys():\n",
    "            vsd[k1].observation['mean']\n",
    "            observations[k1] = vsd[k1].observation['mean']\n",
    "            observations['name'] = k\n",
    "    list_of_dicts.append(observations)\n",
    "df = pd.DataFrame(list_of_dicts)\n",
    "df\n",
    "df = df.set_index('name').T\n",
    "\n",
    "s = df.style.background_gradient(cmap=cm)\n",
    "s"
   ]
  },
  {
   "cell_type": "code",
   "execution_count": null,
   "metadata": {},
   "outputs": [],
   "source": []
  },
  {
   "cell_type": "code",
   "execution_count": 4,
   "metadata": {},
   "outputs": [],
   "source": [
    "try:\n",
    "    temp = pickle.load(open(\"Neocortex pyramidal cell layer 5-6\"+\"IZHI_.p\",\"rb\"))\n",
    "    final_pop, hall_of_fame, logs, hist, opt, obs_preds, chi_sqr_opt, p_value = temp\n",
    "except:\n",
    "    MU = 45\n",
    "    NGEN = 150\n",
    "    inal_pop, hall_of_fame, logs, hist, opt, obs_preds, chi_sqr_opt, p_value = instance_opt(\n",
    "        experimental_constraints[\"Neocortex pyramidal cell layer 5-6\"],\n",
    "        MODEL_PARAMS,\"Neocortex pyramidal cell layer 5-6\",\"IZHI\",\n",
    "        MU,NGEN,\"IBEA\",use_streamlit=False)\n",
    "    \n",
    "    temp = final_pop, hall_of_fame, logs, hist, opt, obs_preds, chi_sqr_opt, p_value\n",
    "    pickle.dump(temp,open(\"Neocortex pyramidal cell layer 5-6\"+\"IZHI_.p\",\"wb\"))\n",
    "    chi_sqr_opt, p_value\n",
    "chi_sqr_opt, p_value\n",
    "df = pd.DataFrame([{'chi_square':chi_sqr_opt,'p_value':p_value}]).T    \n",
    "    "
   ]
  },
  {
   "cell_type": "code",
   "execution_count": 5,
   "metadata": {},
   "outputs": [
    {
     "data": {
      "text/html": [
       "<div>\n",
       "<style scoped>\n",
       "    .dataframe tbody tr th:only-of-type {\n",
       "        vertical-align: middle;\n",
       "    }\n",
       "\n",
       "    .dataframe tbody tr th {\n",
       "        vertical-align: top;\n",
       "    }\n",
       "\n",
       "    .dataframe thead th {\n",
       "        text-align: right;\n",
       "    }\n",
       "</style>\n",
       "<table border=\"1\" class=\"dataframe\">\n",
       "  <thead>\n",
       "    <tr style=\"text-align: right;\">\n",
       "      <th></th>\n",
       "      <th>RheobaseTest</th>\n",
       "      <th>InputResistanceTest</th>\n",
       "      <th>TimeConstantTest</th>\n",
       "      <th>CapacitanceTest</th>\n",
       "      <th>RestingPotentialTest</th>\n",
       "      <th>InjectedCurrentAPWidthTest</th>\n",
       "      <th>InjectedCurrentAPAmplitudeTest</th>\n",
       "      <th>InjectedCurrentAPThresholdTest</th>\n",
       "    </tr>\n",
       "  </thead>\n",
       "  <tbody>\n",
       "    <tr>\n",
       "      <th>0</th>\n",
       "      <td>1.133177</td>\n",
       "      <td>0.444622</td>\n",
       "      <td>0.450915</td>\n",
       "      <td>0.029973</td>\n",
       "      <td>0.012897</td>\n",
       "      <td>0.16468</td>\n",
       "      <td>0.003763</td>\n",
       "      <td>0.512854</td>\n",
       "    </tr>\n",
       "  </tbody>\n",
       "</table>\n",
       "</div>"
      ],
      "text/plain": [
       "   RheobaseTest  InputResistanceTest  TimeConstantTest  CapacitanceTest  \\\n",
       "0      1.133177             0.444622          0.450915         0.029973   \n",
       "\n",
       "   RestingPotentialTest  InjectedCurrentAPWidthTest  \\\n",
       "0              0.012897                     0.16468   \n",
       "\n",
       "   InjectedCurrentAPAmplitudeTest  InjectedCurrentAPThresholdTest  \n",
       "0                        0.003763                        0.512854  "
      ]
     },
     "execution_count": 5,
     "metadata": {},
     "output_type": "execute_result"
    }
   ],
   "source": [
    "opt.SA.to_frame().T"
   ]
  },
  {
   "cell_type": "code",
   "execution_count": 6,
   "metadata": {},
   "outputs": [
    {
     "data": {
      "text/html": [
       "<div>\n",
       "<style scoped>\n",
       "    .dataframe tbody tr th:only-of-type {\n",
       "        vertical-align: middle;\n",
       "    }\n",
       "\n",
       "    .dataframe tbody tr th {\n",
       "        vertical-align: top;\n",
       "    }\n",
       "\n",
       "    .dataframe thead th {\n",
       "        text-align: right;\n",
       "    }\n",
       "</style>\n",
       "<table border=\"1\" class=\"dataframe\">\n",
       "  <thead>\n",
       "    <tr style=\"text-align: right;\">\n",
       "      <th></th>\n",
       "      <th>observations</th>\n",
       "      <th>predictions</th>\n",
       "      <th>Z-Scores</th>\n",
       "    </tr>\n",
       "  </thead>\n",
       "  <tbody>\n",
       "    <tr>\n",
       "      <th>RheobaseTest</th>\n",
       "      <td>213.849583333333 pA</td>\n",
       "      <td>45.0439453125 pA</td>\n",
       "      <td>1.13318</td>\n",
       "    </tr>\n",
       "    <tr>\n",
       "      <th>InputResistanceTest</th>\n",
       "      <td>120.672073643411 Mohm</td>\n",
       "      <td>84.47885606885278 megaohm</td>\n",
       "      <td>0.444622</td>\n",
       "    </tr>\n",
       "    <tr>\n",
       "      <th>TimeConstantTest</th>\n",
       "      <td>15.7342424242424 ms</td>\n",
       "      <td>12.284367934517713 ms</td>\n",
       "      <td>0.450915</td>\n",
       "    </tr>\n",
       "    <tr>\n",
       "      <th>CapacitanceTest</th>\n",
       "      <td>150.584166666667 pF</td>\n",
       "      <td>145.4135212781005 pF</td>\n",
       "      <td>0.0299731</td>\n",
       "    </tr>\n",
       "    <tr>\n",
       "      <th>RestingPotentialTest</th>\n",
       "      <td>-68.2481434599156 mV</td>\n",
       "      <td>-68.3530583578185 mV</td>\n",
       "      <td>0.0128969</td>\n",
       "    </tr>\n",
       "    <tr>\n",
       "      <th>InjectedCurrentAPWidthTest</th>\n",
       "      <td>1.20769387755102 ms</td>\n",
       "      <td>1.3100000000000003 ms</td>\n",
       "      <td>0.16468</td>\n",
       "    </tr>\n",
       "    <tr>\n",
       "      <th>InjectedCurrentAPAmplitudeTest</th>\n",
       "      <td>80.4351020408164 mV</td>\n",
       "      <td>80.49511842343712 mV</td>\n",
       "      <td>0.00376319</td>\n",
       "    </tr>\n",
       "    <tr>\n",
       "      <th>InjectedCurrentAPThresholdTest</th>\n",
       "      <td>-42.7357232704403 mV</td>\n",
       "      <td>-38.5050967026868 mV</td>\n",
       "      <td>0.512854</td>\n",
       "    </tr>\n",
       "  </tbody>\n",
       "</table>\n",
       "</div>"
      ],
      "text/plain": [
       "                                         observations  \\\n",
       "RheobaseTest                      213.849583333333 pA   \n",
       "InputResistanceTest             120.672073643411 Mohm   \n",
       "TimeConstantTest                  15.7342424242424 ms   \n",
       "CapacitanceTest                   150.584166666667 pF   \n",
       "RestingPotentialTest             -68.2481434599156 mV   \n",
       "InjectedCurrentAPWidthTest        1.20769387755102 ms   \n",
       "InjectedCurrentAPAmplitudeTest    80.4351020408164 mV   \n",
       "InjectedCurrentAPThresholdTest   -42.7357232704403 mV   \n",
       "\n",
       "                                              predictions    Z-Scores  \n",
       "RheobaseTest                             45.0439453125 pA     1.13318  \n",
       "InputResistanceTest             84.47885606885278 megaohm    0.444622  \n",
       "TimeConstantTest                    12.284367934517713 ms    0.450915  \n",
       "CapacitanceTest                      145.4135212781005 pF   0.0299731  \n",
       "RestingPotentialTest                 -68.3530583578185 mV   0.0128969  \n",
       "InjectedCurrentAPWidthTest          1.3100000000000003 ms     0.16468  \n",
       "InjectedCurrentAPAmplitudeTest       80.49511842343712 mV  0.00376319  \n",
       "InjectedCurrentAPThresholdTest       -38.5050967026868 mV    0.512854  "
      ]
     },
     "execution_count": 6,
     "metadata": {},
     "output_type": "execute_result"
    }
   ],
   "source": [
    "opt.make_pretty(opt.tests)\n",
    "opt.obs_preds"
   ]
  },
  {
   "cell_type": "markdown",
   "metadata": {},
   "source": [
    "# Izhikevich model Hippocampus CA1 pyramidal experiment."
   ]
  },
  {
   "cell_type": "code",
   "execution_count": 7,
   "metadata": {},
   "outputs": [
    {
     "data": {
      "text/html": [
       "<div>\n",
       "<style scoped>\n",
       "    .dataframe tbody tr th:only-of-type {\n",
       "        vertical-align: middle;\n",
       "    }\n",
       "\n",
       "    .dataframe tbody tr th {\n",
       "        vertical-align: top;\n",
       "    }\n",
       "\n",
       "    .dataframe thead th {\n",
       "        text-align: right;\n",
       "    }\n",
       "</style>\n",
       "<table border=\"1\" class=\"dataframe\">\n",
       "  <thead>\n",
       "    <tr style=\"text-align: right;\">\n",
       "      <th></th>\n",
       "      <th>chi_square</th>\n",
       "      <th>p_value</th>\n",
       "    </tr>\n",
       "  </thead>\n",
       "  <tbody>\n",
       "    <tr>\n",
       "      <th>0</th>\n",
       "      <td>2.125091</td>\n",
       "      <td>0.976935</td>\n",
       "    </tr>\n",
       "  </tbody>\n",
       "</table>\n",
       "</div>"
      ],
      "text/plain": [
       "   chi_square   p_value\n",
       "0    2.125091  0.976935"
      ]
     },
     "execution_count": 7,
     "metadata": {},
     "output_type": "execute_result"
    }
   ],
   "source": [
    "try:\n",
    "    temp = pickle.load(open(\"Hippocampus CA1 pyramidal cell\"+\"IZHI_.p\",\"rb\"))\n",
    "    final_pop, hall_of_fame, logs, hist, opt, obs_preds, chi_sqr_opt, p_value = temp\n",
    "except:\n",
    "    MU = 45\n",
    "    NGEN = 150\n",
    "    final_pop, hall_of_fame, logs, hist, opt, obs_preds, chi_sqr_opt, p_value = instance_opt(\n",
    "        experimental_constraints['Hippocampus CA1 pyramidal cell'],\n",
    "        MODEL_PARAMS,'Hippocampus CA1 pyramidal cell',\"IZHI\",\n",
    "        MU,NGEN,\"IBEA\",use_streamlit=False)\n",
    "\n",
    "    temp = final_pop, hall_of_fame, logs, hist, opt, obs_preds, chi_sqr_opt, p_value\n",
    "    pickle.dump(temp,open('Hippocampus CA1 pyramidal cell'+\"IZHI_.p\",\"wb\"))\n",
    "chi_sqr_opt, p_value\n",
    "chi_sqr_opt, p_value\n",
    "pd.DataFrame([{'chi_square':chi_sqr_opt,'p_value':p_value}])"
   ]
  },
  {
   "cell_type": "code",
   "execution_count": 8,
   "metadata": {},
   "outputs": [
    {
     "data": {
      "text/html": [
       "<div>\n",
       "<style scoped>\n",
       "    .dataframe tbody tr th:only-of-type {\n",
       "        vertical-align: middle;\n",
       "    }\n",
       "\n",
       "    .dataframe tbody tr th {\n",
       "        vertical-align: top;\n",
       "    }\n",
       "\n",
       "    .dataframe thead th {\n",
       "        text-align: right;\n",
       "    }\n",
       "</style>\n",
       "<table border=\"1\" class=\"dataframe\">\n",
       "  <thead>\n",
       "    <tr style=\"text-align: right;\">\n",
       "      <th></th>\n",
       "      <th>observations</th>\n",
       "      <th>predictions</th>\n",
       "      <th>Z-Scores</th>\n",
       "    </tr>\n",
       "  </thead>\n",
       "  <tbody>\n",
       "    <tr>\n",
       "      <th>RheobaseTest</th>\n",
       "      <td>189.24 pA</td>\n",
       "      <td>32.244873046875 pA</td>\n",
       "      <td>0.536865</td>\n",
       "    </tr>\n",
       "    <tr>\n",
       "      <th>InputResistanceTest</th>\n",
       "      <td>107.080327644332 Mohm</td>\n",
       "      <td>97.76274731515429 megaohm</td>\n",
       "      <td>0.100485</td>\n",
       "    </tr>\n",
       "    <tr>\n",
       "      <th>TimeConstantTest</th>\n",
       "      <td>24.5021946169772 ms</td>\n",
       "      <td>9.604335816193002 ms</td>\n",
       "      <td>0.717214</td>\n",
       "    </tr>\n",
       "    <tr>\n",
       "      <th>CapacitanceTest</th>\n",
       "      <td>89.7960714285714 pF</td>\n",
       "      <td>98.24126346645974 pF</td>\n",
       "      <td>0.133624</td>\n",
       "    </tr>\n",
       "    <tr>\n",
       "      <th>RestingPotentialTest</th>\n",
       "      <td>-65.2261863636364 mV</td>\n",
       "      <td>-65.55690901865944 mV</td>\n",
       "      <td>0.0554458</td>\n",
       "    </tr>\n",
       "    <tr>\n",
       "      <th>InjectedCurrentAPWidthTest</th>\n",
       "      <td>1.31895278450363 ms</td>\n",
       "      <td>1.2000000000000002 ms</td>\n",
       "      <td>0.16846</td>\n",
       "    </tr>\n",
       "    <tr>\n",
       "      <th>InjectedCurrentAPAmplitudeTest</th>\n",
       "      <td>86.364525297619 mV</td>\n",
       "      <td>86.96668801838769 mV</td>\n",
       "      <td>0.0399524</td>\n",
       "    </tr>\n",
       "    <tr>\n",
       "      <th>InjectedCurrentAPThresholdTest</th>\n",
       "      <td>-47.5985714285714 mV</td>\n",
       "      <td>-39.99765398466066 mV</td>\n",
       "      <td>1.12315</td>\n",
       "    </tr>\n",
       "  </tbody>\n",
       "</table>\n",
       "</div>"
      ],
      "text/plain": [
       "                                         observations  \\\n",
       "RheobaseTest                                189.24 pA   \n",
       "InputResistanceTest             107.080327644332 Mohm   \n",
       "TimeConstantTest                  24.5021946169772 ms   \n",
       "CapacitanceTest                   89.7960714285714 pF   \n",
       "RestingPotentialTest             -65.2261863636364 mV   \n",
       "InjectedCurrentAPWidthTest        1.31895278450363 ms   \n",
       "InjectedCurrentAPAmplitudeTest     86.364525297619 mV   \n",
       "InjectedCurrentAPThresholdTest   -47.5985714285714 mV   \n",
       "\n",
       "                                              predictions   Z-Scores  \n",
       "RheobaseTest                           32.244873046875 pA   0.536865  \n",
       "InputResistanceTest             97.76274731515429 megaohm   0.100485  \n",
       "TimeConstantTest                     9.604335816193002 ms   0.717214  \n",
       "CapacitanceTest                      98.24126346645974 pF   0.133624  \n",
       "RestingPotentialTest                -65.55690901865944 mV  0.0554458  \n",
       "InjectedCurrentAPWidthTest          1.2000000000000002 ms    0.16846  \n",
       "InjectedCurrentAPAmplitudeTest       86.96668801838769 mV  0.0399524  \n",
       "InjectedCurrentAPThresholdTest      -39.99765398466066 mV    1.12315  "
      ]
     },
     "execution_count": 8,
     "metadata": {},
     "output_type": "execute_result"
    }
   ],
   "source": [
    "opt.make_pretty(opt.tests)\n",
    "opt.obs_preds"
   ]
  },
  {
   "cell_type": "code",
   "execution_count": 9,
   "metadata": {},
   "outputs": [
    {
     "data": {
      "text/plain": [
       "(AnalogSignal with 1 channels of length 130000; units mV; datatype float64 \n",
       " sampling rate: 100.0 1/ms\n",
       " time: 0.0 s to 1.3 s,\n",
       " <module 'matplotlib.pyplot' from '/home/user/anaconda3/lib/python3.7/site-packages/matplotlib/pyplot.py'>,\n",
       " <neuronunit.optimisation.data_transport_container.DataTC at 0x7fa34d528310>)"
      ]
     },
     "execution_count": 9,
     "metadata": {},
     "output_type": "execute_result"
    },
    {
     "data": {
      "text/plain": [
       "<Figure size 432x288 with 0 Axes>"
      ]
     },
     "metadata": {},
     "output_type": "display_data"
    },
    {
     "data": {
      "image/png": "[encoded data removed]",
      "text/plain": [
       "<Figure size 432x288 with 1 Axes>"
      ]
     },
     "metadata": {
      "needs_background": "light"
     },
     "output_type": "display_data"
    }
   ],
   "source": [
    "opt.SA\n",
    "\n",
    "out = inject_and_plot_model(opt,plotly=False)\n",
    "\n",
    "out"
   ]
  },
  {
   "cell_type": "markdown",
   "metadata": {},
   "source": [
    "\n",
    "# Conductance Based model Hippocampus CA1 pyramidal experiment."
   ]
  },
  {
   "cell_type": "code",
   "execution_count": 10,
   "metadata": {},
   "outputs": [
    {
     "data": {
      "text/html": [
       "<div>\n",
       "<style scoped>\n",
       "    .dataframe tbody tr th:only-of-type {\n",
       "        vertical-align: middle;\n",
       "    }\n",
       "\n",
       "    .dataframe tbody tr th {\n",
       "        vertical-align: top;\n",
       "    }\n",
       "\n",
       "    .dataframe thead th {\n",
       "        text-align: right;\n",
       "    }\n",
       "</style>\n",
       "<table border=\"1\" class=\"dataframe\">\n",
       "  <thead>\n",
       "    <tr style=\"text-align: right;\">\n",
       "      <th></th>\n",
       "      <th>chi_square</th>\n",
       "      <th>p_value</th>\n",
       "    </tr>\n",
       "  </thead>\n",
       "  <tbody>\n",
       "    <tr>\n",
       "      <th>0</th>\n",
       "      <td>17.216463</td>\n",
       "      <td>0.027932</td>\n",
       "    </tr>\n",
       "  </tbody>\n",
       "</table>\n",
       "</div>"
      ],
      "text/plain": [
       "   chi_square   p_value\n",
       "0   17.216463  0.027932"
      ]
     },
     "execution_count": 10,
     "metadata": {},
     "output_type": "execute_result"
    }
   ],
   "source": [
    "\n",
    "try:\n",
    "\n",
    "    temp = pickle.load(open(\"Hippocampus CA1 pyramidal cell\"+\"NEURONHH_.p\",\"rb\"))\n",
    "    final_pop, hall_of_fame, logs, hist, opt, obs_preds, chi_sqr_opt, p_value = temp\n",
    "except:\n",
    "    MU = 10\n",
    "    NGEN = 45\n",
    "    final_pop, hall_of_fame, logs, hist, opt, obs_preds, chi_sqr_opt, p_value = instance_opt(\n",
    "        experimental_constraints['Hippocampus CA1 pyramidal cell'],\n",
    "        MODEL_PARAMS,'Hippocampus CA1 pyramidal cell',\"NEURONHH\",\n",
    "        MU,NGEN,\"IBEA\",use_streamlit=False)\n",
    "\n",
    "    temp = final_pop, hall_of_fame, logs, hist, opt, obs_preds, chi_sqr_opt, p_value\n",
    "    pickle.dump(temp,open('Hippocampus CA1 pyramidal cell'+\"NEURONHH_.p\",\"wb\"))\n",
    "chi_sqr_opt, p_value\n",
    "pd.DataFrame([{'chi_square':chi_sqr_opt,'p_value':p_value}])"
   ]
  },
  {
   "cell_type": "markdown",
   "metadata": {},
   "source": []
  },
  {
   "cell_type": "code",
   "execution_count": 11,
   "metadata": {},
   "outputs": [
    {
     "data": {
      "text/html": [
       "<div>\n",
       "<style scoped>\n",
       "    .dataframe tbody tr th:only-of-type {\n",
       "        vertical-align: middle;\n",
       "    }\n",
       "\n",
       "    .dataframe tbody tr th {\n",
       "        vertical-align: top;\n",
       "    }\n",
       "\n",
       "    .dataframe thead th {\n",
       "        text-align: right;\n",
       "    }\n",
       "</style>\n",
       "<table border=\"1\" class=\"dataframe\">\n",
       "  <thead>\n",
       "    <tr style=\"text-align: right;\">\n",
       "      <th></th>\n",
       "      <th>chi_square</th>\n",
       "      <th>p_value</th>\n",
       "    </tr>\n",
       "  </thead>\n",
       "  <tbody>\n",
       "    <tr>\n",
       "      <th>0</th>\n",
       "      <td>17.216463</td>\n",
       "      <td>0.027932</td>\n",
       "    </tr>\n",
       "  </tbody>\n",
       "</table>\n",
       "</div>"
      ],
      "text/plain": [
       "   chi_square   p_value\n",
       "0   17.216463  0.027932"
      ]
     },
     "execution_count": 11,
     "metadata": {},
     "output_type": "execute_result"
    }
   ],
   "source": [
    "chi_sqr_opt, p_value\n",
    "pd.DataFrame([{'chi_square':chi_sqr_opt,'p_value':p_value}])"
   ]
  },
  {
   "cell_type": "code",
   "execution_count": 12,
   "metadata": {},
   "outputs": [],
   "source": [
    "\n",
    "out = inject_and_not_plot_model(opt)"
   ]
  },
  {
   "cell_type": "code",
   "execution_count": 13,
   "metadata": {},
   "outputs": [
    {
     "data": {
      "text/html": [
       "<div>\n",
       "<style scoped>\n",
       "    .dataframe tbody tr th:only-of-type {\n",
       "        vertical-align: middle;\n",
       "    }\n",
       "\n",
       "    .dataframe tbody tr th {\n",
       "        vertical-align: top;\n",
       "    }\n",
       "\n",
       "    .dataframe thead th {\n",
       "        text-align: right;\n",
       "    }\n",
       "</style>\n",
       "<table border=\"1\" class=\"dataframe\">\n",
       "  <thead>\n",
       "    <tr style=\"text-align: right;\">\n",
       "      <th></th>\n",
       "      <th>RheobaseTest</th>\n",
       "      <th>InputResistanceTest</th>\n",
       "      <th>TimeConstantTest</th>\n",
       "      <th>CapacitanceTest</th>\n",
       "      <th>RestingPotentialTest</th>\n",
       "      <th>InjectedCurrentAPWidthTest</th>\n",
       "      <th>InjectedCurrentAPAmplitudeTest</th>\n",
       "      <th>InjectedCurrentAPThresholdTest</th>\n",
       "    </tr>\n",
       "  </thead>\n",
       "  <tbody>\n",
       "    <tr>\n",
       "      <th>0</th>\n",
       "      <td>0.104364</td>\n",
       "      <td>0.26776</td>\n",
       "      <td>0.909698</td>\n",
       "      <td>0.779279</td>\n",
       "      <td>0.263258</td>\n",
       "      <td>2.539904</td>\n",
       "      <td>0.197484</td>\n",
       "      <td>3.023183</td>\n",
       "    </tr>\n",
       "  </tbody>\n",
       "</table>\n",
       "</div>"
      ],
      "text/plain": [
       "   RheobaseTest  InputResistanceTest  TimeConstantTest  CapacitanceTest  \\\n",
       "0      0.104364              0.26776          0.909698         0.779279   \n",
       "\n",
       "   RestingPotentialTest  InjectedCurrentAPWidthTest  \\\n",
       "0              0.263258                    2.539904   \n",
       "\n",
       "   InjectedCurrentAPAmplitudeTest  InjectedCurrentAPThresholdTest  \n",
       "0                        0.197484                        3.023183  "
      ]
     },
     "execution_count": 13,
     "metadata": {},
     "output_type": "execute_result"
    }
   ],
   "source": [
    "opt.SA.to_frame().T"
   ]
  },
  {
   "cell_type": "code",
   "execution_count": 14,
   "metadata": {},
   "outputs": [
    {
     "data": {
      "text/html": [
       "<div>\n",
       "<style scoped>\n",
       "    .dataframe tbody tr th:only-of-type {\n",
       "        vertical-align: middle;\n",
       "    }\n",
       "\n",
       "    .dataframe tbody tr th {\n",
       "        vertical-align: top;\n",
       "    }\n",
       "\n",
       "    .dataframe thead th {\n",
       "        text-align: right;\n",
       "    }\n",
       "</style>\n",
       "<table border=\"1\" class=\"dataframe\">\n",
       "  <thead>\n",
       "    <tr style=\"text-align: right;\">\n",
       "      <th></th>\n",
       "      <th>observations</th>\n",
       "      <th>predictions</th>\n",
       "      <th>Z-Scores</th>\n",
       "    </tr>\n",
       "  </thead>\n",
       "  <tbody>\n",
       "    <tr>\n",
       "      <th>RheobaseTest</th>\n",
       "      <td>189.24 pA</td>\n",
       "      <td>225.0 pA</td>\n",
       "      <td>0.104364</td>\n",
       "    </tr>\n",
       "    <tr>\n",
       "      <th>InputResistanceTest</th>\n",
       "      <td>107.080327644332 Mohm</td>\n",
       "      <td>130.26055973925207 megaohm</td>\n",
       "      <td>0.26776</td>\n",
       "    </tr>\n",
       "    <tr>\n",
       "      <th>TimeConstantTest</th>\n",
       "      <td>24.5021946169772 ms</td>\n",
       "      <td>6.518945502058039 ms</td>\n",
       "      <td>0.909698</td>\n",
       "    </tr>\n",
       "    <tr>\n",
       "      <th>CapacitanceTest</th>\n",
       "      <td>89.7960714285714 pF</td>\n",
       "      <td>50.04542829469856 pF</td>\n",
       "      <td>0.779279</td>\n",
       "    </tr>\n",
       "    <tr>\n",
       "      <th>RestingPotentialTest</th>\n",
       "      <td>-65.2261863636364 mV</td>\n",
       "      <td>-63.787552448611955 mV</td>\n",
       "      <td>0.263258</td>\n",
       "    </tr>\n",
       "    <tr>\n",
       "      <th>InjectedCurrentAPWidthTest</th>\n",
       "      <td>1.31895278450363 ms</td>\n",
       "      <td>0.25 ms</td>\n",
       "      <td>2.5399</td>\n",
       "    </tr>\n",
       "    <tr>\n",
       "      <th>InjectedCurrentAPAmplitudeTest</th>\n",
       "      <td>86.364525297619 mV</td>\n",
       "      <td>89.14231395773962 mV</td>\n",
       "      <td>0.197484</td>\n",
       "    </tr>\n",
       "    <tr>\n",
       "      <th>InjectedCurrentAPThresholdTest</th>\n",
       "      <td>-47.5985714285714 mV</td>\n",
       "      <td>-62.833162761594465 mV</td>\n",
       "      <td>3.02318</td>\n",
       "    </tr>\n",
       "  </tbody>\n",
       "</table>\n",
       "</div>"
      ],
      "text/plain": [
       "                                         observations  \\\n",
       "RheobaseTest                                189.24 pA   \n",
       "InputResistanceTest             107.080327644332 Mohm   \n",
       "TimeConstantTest                  24.5021946169772 ms   \n",
       "CapacitanceTest                   89.7960714285714 pF   \n",
       "RestingPotentialTest             -65.2261863636364 mV   \n",
       "InjectedCurrentAPWidthTest        1.31895278450363 ms   \n",
       "InjectedCurrentAPAmplitudeTest     86.364525297619 mV   \n",
       "InjectedCurrentAPThresholdTest   -47.5985714285714 mV   \n",
       "\n",
       "                                               predictions  Z-Scores  \n",
       "RheobaseTest                                      225.0 pA  0.104364  \n",
       "InputResistanceTest             130.26055973925207 megaohm   0.26776  \n",
       "TimeConstantTest                      6.518945502058039 ms  0.909698  \n",
       "CapacitanceTest                       50.04542829469856 pF  0.779279  \n",
       "RestingPotentialTest                -63.787552448611955 mV  0.263258  \n",
       "InjectedCurrentAPWidthTest                         0.25 ms    2.5399  \n",
       "InjectedCurrentAPAmplitudeTest        89.14231395773962 mV  0.197484  \n",
       "InjectedCurrentAPThresholdTest      -62.833162761594465 mV   3.02318  "
      ]
     },
     "execution_count": 14,
     "metadata": {},
     "output_type": "execute_result"
    }
   ],
   "source": [
    "opt.make_pretty(opt.tests)\n",
    "opt.obs_preds"
   ]
  },
  {
   "cell_type": "code",
   "execution_count": 15,
   "metadata": {},
   "outputs": [
    {
     "data": {
      "image/png": "[encoded data removed]",
      "text/plain": [
       "<Figure size 432x288 with 1 Axes>"
      ]
     },
     "metadata": {
      "needs_background": "light"
     },
     "output_type": "display_data"
    }
   ],
   "source": [
    "plt.plot(out.times,out.magnitude)\n",
    "plt.show()\n"
   ]
  },
  {
   "cell_type": "markdown",
   "metadata": {},
   "source": [
    "# Adaptive Exponential Model Hippocampus CA1 pyramidal Experiment."
   ]
  },
  {
   "cell_type": "code",
   "execution_count": 16,
   "metadata": {},
   "outputs": [],
   "source": [
    "try:\n",
    "    temp = pickle.load(open(\"Hippocampus CA1 pyramidal cell\"+\"ADEXP_.p\",\"rb\"))\n",
    "    final_pop, hall_of_fame, logs, hist, ad_opt, obs_preds, chi_sqr_opt, p_value = temp\n",
    "except:\n",
    "    MU = 25\n",
    "    NGEN = 100\n",
    "    final_pop, hall_of_fame, logs, hist, ad_opt, obs_preds, chi_sqr_opt, p_value = instance_opt(\n",
    "        experimental_constraints['Hippocampus CA1 pyramidal cell'],\n",
    "        MODEL_PARAMS,'Hippocampus CA1 pyramidal cell',\"ADEXP\",\n",
    "        MU,NGEN,\"IBEA\",use_streamlit=False)\n",
    "\n",
    "    temp = final_pop, hall_of_fame, logs, hist, ad_opt, obs_preds, chi_sqr_opt, p_value\n",
    "    pickle.dump(temp,open('Hippocampus CA1 pyramidal cell'+\"ADEXP_.p\",\"wb\"))\n"
   ]
  },
  {
   "cell_type": "code",
   "execution_count": 17,
   "metadata": {},
   "outputs": [
    {
     "data": {
      "text/plain": [
       "<Figure size 432x288 with 0 Axes>"
      ]
     },
     "metadata": {},
     "output_type": "display_data"
    },
    {
     "data": {
      "image/png": "[encoded data removed]",
      "text/plain": [
       "<Figure size 432x288 with 1 Axes>"
      ]
     },
     "metadata": {
      "needs_background": "light"
     },
     "output_type": "display_data"
    }
   ],
   "source": [
    "plt_tuple = inject_and_plot_model(ad_opt,plotly=False)"
   ]
  },
  {
   "cell_type": "code",
   "execution_count": 18,
   "metadata": {},
   "outputs": [],
   "source": [
    "plt_tuple[1].show()"
   ]
  },
  {
   "cell_type": "code",
   "execution_count": 19,
   "metadata": {},
   "outputs": [
    {
     "data": {
      "text/html": [
       "<div>\n",
       "<style scoped>\n",
       "    .dataframe tbody tr th:only-of-type {\n",
       "        vertical-align: middle;\n",
       "    }\n",
       "\n",
       "    .dataframe tbody tr th {\n",
       "        vertical-align: top;\n",
       "    }\n",
       "\n",
       "    .dataframe thead th {\n",
       "        text-align: right;\n",
       "    }\n",
       "</style>\n",
       "<table border=\"1\" class=\"dataframe\">\n",
       "  <thead>\n",
       "    <tr style=\"text-align: right;\">\n",
       "      <th></th>\n",
       "      <th>0</th>\n",
       "    </tr>\n",
       "  </thead>\n",
       "  <tbody>\n",
       "    <tr>\n",
       "      <th>chi_square</th>\n",
       "      <td>10.232514</td>\n",
       "    </tr>\n",
       "    <tr>\n",
       "      <th>p_value</th>\n",
       "      <td>0.249084</td>\n",
       "    </tr>\n",
       "  </tbody>\n",
       "</table>\n",
       "</div>"
      ],
      "text/plain": [
       "                    0\n",
       "chi_square  10.232514\n",
       "p_value      0.249084"
      ]
     },
     "execution_count": 19,
     "metadata": {},
     "output_type": "execute_result"
    }
   ],
   "source": [
    "chi_sqr_opt, p_value\n",
    "pd.DataFrame([{'chi_square':chi_sqr_opt,'p_value':p_value}]).T"
   ]
  },
  {
   "cell_type": "code",
   "execution_count": 20,
   "metadata": {},
   "outputs": [
    {
     "data": {
      "text/html": [
       "<div>\n",
       "<style scoped>\n",
       "    .dataframe tbody tr th:only-of-type {\n",
       "        vertical-align: middle;\n",
       "    }\n",
       "\n",
       "    .dataframe tbody tr th {\n",
       "        vertical-align: top;\n",
       "    }\n",
       "\n",
       "    .dataframe thead th {\n",
       "        text-align: right;\n",
       "    }\n",
       "</style>\n",
       "<table border=\"1\" class=\"dataframe\">\n",
       "  <thead>\n",
       "    <tr style=\"text-align: right;\">\n",
       "      <th></th>\n",
       "      <th>RheobaseTest</th>\n",
       "      <th>InputResistanceTest</th>\n",
       "      <th>TimeConstantTest</th>\n",
       "      <th>CapacitanceTest</th>\n",
       "      <th>RestingPotentialTest</th>\n",
       "      <th>InjectedCurrentAPWidthTest</th>\n",
       "      <th>InjectedCurrentAPAmplitudeTest</th>\n",
       "      <th>InjectedCurrentAPThresholdTest</th>\n",
       "    </tr>\n",
       "  </thead>\n",
       "  <tbody>\n",
       "    <tr>\n",
       "      <th>0</th>\n",
       "      <td>0.104364</td>\n",
       "      <td>0.26776</td>\n",
       "      <td>0.909698</td>\n",
       "      <td>0.779279</td>\n",
       "      <td>0.263258</td>\n",
       "      <td>2.539904</td>\n",
       "      <td>0.197484</td>\n",
       "      <td>3.023183</td>\n",
       "    </tr>\n",
       "  </tbody>\n",
       "</table>\n",
       "</div>"
      ],
      "text/plain": [
       "   RheobaseTest  InputResistanceTest  TimeConstantTest  CapacitanceTest  \\\n",
       "0      0.104364              0.26776          0.909698         0.779279   \n",
       "\n",
       "   RestingPotentialTest  InjectedCurrentAPWidthTest  \\\n",
       "0              0.263258                    2.539904   \n",
       "\n",
       "   InjectedCurrentAPAmplitudeTest  InjectedCurrentAPThresholdTest  \n",
       "0                        0.197484                        3.023183  "
      ]
     },
     "execution_count": 20,
     "metadata": {},
     "output_type": "execute_result"
    }
   ],
   "source": [
    "opt.SA.to_frame().T"
   ]
  },
  {
   "cell_type": "code",
   "execution_count": 21,
   "metadata": {},
   "outputs": [
    {
     "data": {
      "text/html": [
       "<div>\n",
       "<style scoped>\n",
       "    .dataframe tbody tr th:only-of-type {\n",
       "        vertical-align: middle;\n",
       "    }\n",
       "\n",
       "    .dataframe tbody tr th {\n",
       "        vertical-align: top;\n",
       "    }\n",
       "\n",
       "    .dataframe thead th {\n",
       "        text-align: right;\n",
       "    }\n",
       "</style>\n",
       "<table border=\"1\" class=\"dataframe\">\n",
       "  <thead>\n",
       "    <tr style=\"text-align: right;\">\n",
       "      <th></th>\n",
       "      <th>observations</th>\n",
       "      <th>predictions</th>\n",
       "      <th>Z-Scores</th>\n",
       "    </tr>\n",
       "  </thead>\n",
       "  <tbody>\n",
       "    <tr>\n",
       "      <th>RheobaseTest</th>\n",
       "      <td>189.24 pA</td>\n",
       "      <td>225.0 pA</td>\n",
       "      <td>0.104364</td>\n",
       "    </tr>\n",
       "    <tr>\n",
       "      <th>InputResistanceTest</th>\n",
       "      <td>107.080327644332 Mohm</td>\n",
       "      <td>130.26055973925207 megaohm</td>\n",
       "      <td>0.26776</td>\n",
       "    </tr>\n",
       "    <tr>\n",
       "      <th>TimeConstantTest</th>\n",
       "      <td>24.5021946169772 ms</td>\n",
       "      <td>6.518945502058039 ms</td>\n",
       "      <td>0.909698</td>\n",
       "    </tr>\n",
       "    <tr>\n",
       "      <th>CapacitanceTest</th>\n",
       "      <td>89.7960714285714 pF</td>\n",
       "      <td>50.04542829469856 pF</td>\n",
       "      <td>0.779279</td>\n",
       "    </tr>\n",
       "    <tr>\n",
       "      <th>RestingPotentialTest</th>\n",
       "      <td>-65.2261863636364 mV</td>\n",
       "      <td>-63.787552448611955 mV</td>\n",
       "      <td>0.263258</td>\n",
       "    </tr>\n",
       "    <tr>\n",
       "      <th>InjectedCurrentAPWidthTest</th>\n",
       "      <td>1.31895278450363 ms</td>\n",
       "      <td>0.25 ms</td>\n",
       "      <td>2.5399</td>\n",
       "    </tr>\n",
       "    <tr>\n",
       "      <th>InjectedCurrentAPAmplitudeTest</th>\n",
       "      <td>86.364525297619 mV</td>\n",
       "      <td>89.14231395773962 mV</td>\n",
       "      <td>0.197484</td>\n",
       "    </tr>\n",
       "    <tr>\n",
       "      <th>InjectedCurrentAPThresholdTest</th>\n",
       "      <td>-47.5985714285714 mV</td>\n",
       "      <td>-62.833162761594465 mV</td>\n",
       "      <td>3.02318</td>\n",
       "    </tr>\n",
       "  </tbody>\n",
       "</table>\n",
       "</div>"
      ],
      "text/plain": [
       "                                         observations  \\\n",
       "RheobaseTest                                189.24 pA   \n",
       "InputResistanceTest             107.080327644332 Mohm   \n",
       "TimeConstantTest                  24.5021946169772 ms   \n",
       "CapacitanceTest                   89.7960714285714 pF   \n",
       "RestingPotentialTest             -65.2261863636364 mV   \n",
       "InjectedCurrentAPWidthTest        1.31895278450363 ms   \n",
       "InjectedCurrentAPAmplitudeTest     86.364525297619 mV   \n",
       "InjectedCurrentAPThresholdTest   -47.5985714285714 mV   \n",
       "\n",
       "                                               predictions  Z-Scores  \n",
       "RheobaseTest                                      225.0 pA  0.104364  \n",
       "InputResistanceTest             130.26055973925207 megaohm   0.26776  \n",
       "TimeConstantTest                      6.518945502058039 ms  0.909698  \n",
       "CapacitanceTest                       50.04542829469856 pF  0.779279  \n",
       "RestingPotentialTest                -63.787552448611955 mV  0.263258  \n",
       "InjectedCurrentAPWidthTest                         0.25 ms    2.5399  \n",
       "InjectedCurrentAPAmplitudeTest        89.14231395773962 mV  0.197484  \n",
       "InjectedCurrentAPThresholdTest      -62.833162761594465 mV   3.02318  "
      ]
     },
     "execution_count": 21,
     "metadata": {},
     "output_type": "execute_result"
    }
   ],
   "source": [
    "opt.make_pretty(opt.tests)\n",
    "opt.obs_preds"
   ]
  },
  {
   "cell_type": "markdown",
   "metadata": {},
   "source": [
    "# Olfactory Mitral Cell Experiment/ Izhikevich Model"
   ]
  },
  {
   "cell_type": "code",
   "execution_count": 22,
   "metadata": {},
   "outputs": [],
   "source": [
    "if type(experimental_constraints['olf_mit']) is not type(list()):\n",
    "    experimental_constraints['olf_mit'] = list(experimental_constraints['olf_mit'].values())    \n",
    "try:\n",
    "    temp = pickle.load(open(\"olf_mit\"+\"IZHI_.p\",\"rb\"))\n",
    "    final_pop, hall_of_fame, logs, hist, opt, obs_preds, chi_sqr_opt, p_value = temp\n",
    "except:\n",
    "    MU = 40\n",
    "    NGEN = 150\n",
    "    final_pop, hall_of_fame, logs, hist, opt, obs_preds, chi_sqr_opt, p_value = instance_opt(\n",
    "        experimental_constraints['olf_mit'],\n",
    "        MODEL_PARAMS,'olf_mit',\"IZHI\",\n",
    "        MU,NGEN,\"IBEA\",use_streamlit=False)\n",
    "\n",
    "    temp = final_pop, hall_of_fame, logs, hist, opt, obs_preds, chi_sqr_opt, p_value\n",
    "    pickle.dump(temp,open('olf_mit'+\"IZHI_.p\",\"wb\"))\n"
   ]
  },
  {
   "cell_type": "code",
   "execution_count": 23,
   "metadata": {},
   "outputs": [
    {
     "data": {
      "text/html": [
       "<div>\n",
       "<style scoped>\n",
       "    .dataframe tbody tr th:only-of-type {\n",
       "        vertical-align: middle;\n",
       "    }\n",
       "\n",
       "    .dataframe tbody tr th {\n",
       "        vertical-align: top;\n",
       "    }\n",
       "\n",
       "    .dataframe thead th {\n",
       "        text-align: right;\n",
       "    }\n",
       "</style>\n",
       "<table border=\"1\" class=\"dataframe\">\n",
       "  <thead>\n",
       "    <tr style=\"text-align: right;\">\n",
       "      <th></th>\n",
       "      <th>0</th>\n",
       "    </tr>\n",
       "  </thead>\n",
       "  <tbody>\n",
       "    <tr>\n",
       "      <th>chi_square</th>\n",
       "      <td>2.019044</td>\n",
       "    </tr>\n",
       "    <tr>\n",
       "      <th>p_value</th>\n",
       "      <td>0.980422</td>\n",
       "    </tr>\n",
       "  </tbody>\n",
       "</table>\n",
       "</div>"
      ],
      "text/plain": [
       "                   0\n",
       "chi_square  2.019044\n",
       "p_value     0.980422"
      ]
     },
     "execution_count": 23,
     "metadata": {},
     "output_type": "execute_result"
    }
   ],
   "source": [
    "pd.DataFrame([{'chi_square':chi_sqr_opt,'p_value':p_value}]).T"
   ]
  },
  {
   "cell_type": "code",
   "execution_count": 24,
   "metadata": {},
   "outputs": [
    {
     "data": {
      "text/html": [
       "<div>\n",
       "<style scoped>\n",
       "    .dataframe tbody tr th:only-of-type {\n",
       "        vertical-align: middle;\n",
       "    }\n",
       "\n",
       "    .dataframe tbody tr th {\n",
       "        vertical-align: top;\n",
       "    }\n",
       "\n",
       "    .dataframe thead th {\n",
       "        text-align: right;\n",
       "    }\n",
       "</style>\n",
       "<table border=\"1\" class=\"dataframe\">\n",
       "  <thead>\n",
       "    <tr style=\"text-align: right;\">\n",
       "      <th></th>\n",
       "      <th>InputResistanceTest</th>\n",
       "      <th>TimeConstantTest</th>\n",
       "      <th>CapacitanceTest</th>\n",
       "      <th>RestingPotentialTest</th>\n",
       "      <th>InjectedCurrentAPWidthTest</th>\n",
       "      <th>InjectedCurrentAPAmplitudeTest</th>\n",
       "      <th>InjectedCurrentAPThresholdTest</th>\n",
       "    </tr>\n",
       "  </thead>\n",
       "  <tbody>\n",
       "    <tr>\n",
       "      <th>0</th>\n",
       "      <td>0.209574</td>\n",
       "      <td>0.178053</td>\n",
       "      <td>0.030453</td>\n",
       "      <td>0.297853</td>\n",
       "      <td>0.19034</td>\n",
       "      <td>0.035634</td>\n",
       "      <td>1.347693</td>\n",
       "    </tr>\n",
       "  </tbody>\n",
       "</table>\n",
       "</div>"
      ],
      "text/plain": [
       "   InputResistanceTest  TimeConstantTest  CapacitanceTest  \\\n",
       "0             0.209574          0.178053         0.030453   \n",
       "\n",
       "   RestingPotentialTest  InjectedCurrentAPWidthTest  \\\n",
       "0              0.297853                     0.19034   \n",
       "\n",
       "   InjectedCurrentAPAmplitudeTest  InjectedCurrentAPThresholdTest  \n",
       "0                        0.035634                        1.347693  "
      ]
     },
     "execution_count": 24,
     "metadata": {},
     "output_type": "execute_result"
    }
   ],
   "source": [
    "opt.SA.to_frame().T"
   ]
  },
  {
   "cell_type": "code",
   "execution_count": 25,
   "metadata": {},
   "outputs": [
    {
     "data": {
      "text/html": [
       "<div>\n",
       "<style scoped>\n",
       "    .dataframe tbody tr th:only-of-type {\n",
       "        vertical-align: middle;\n",
       "    }\n",
       "\n",
       "    .dataframe tbody tr th {\n",
       "        vertical-align: top;\n",
       "    }\n",
       "\n",
       "    .dataframe thead th {\n",
       "        text-align: right;\n",
       "    }\n",
       "</style>\n",
       "<table border=\"1\" class=\"dataframe\">\n",
       "  <thead>\n",
       "    <tr style=\"text-align: right;\">\n",
       "      <th></th>\n",
       "      <th>observations</th>\n",
       "      <th>predictions</th>\n",
       "      <th>Z-Scores</th>\n",
       "    </tr>\n",
       "  </thead>\n",
       "  <tbody>\n",
       "    <tr>\n",
       "      <th>InputResistanceTest</th>\n",
       "      <td>130.083333333333 Mohm</td>\n",
       "      <td>111.76440601217192 megaohm</td>\n",
       "      <td>0.209574</td>\n",
       "    </tr>\n",
       "    <tr>\n",
       "      <th>TimeConstantTest</th>\n",
       "      <td>24.4833333333333 ms</td>\n",
       "      <td>26.351190325249217 ms</td>\n",
       "      <td>0.178053</td>\n",
       "    </tr>\n",
       "    <tr>\n",
       "      <th>CapacitanceTest</th>\n",
       "      <td>235.75 pF</td>\n",
       "      <td>235.77444076765715 pF</td>\n",
       "      <td>0.0304534</td>\n",
       "    </tr>\n",
       "    <tr>\n",
       "      <th>RestingPotentialTest</th>\n",
       "      <td>-58.140625 mV</td>\n",
       "      <td>-59.78177430465574 mV</td>\n",
       "      <td>0.297853</td>\n",
       "    </tr>\n",
       "    <tr>\n",
       "      <th>InjectedCurrentAPWidthTest</th>\n",
       "      <td>1.61 ms</td>\n",
       "      <td>1.54 ms</td>\n",
       "      <td>0.19034</td>\n",
       "    </tr>\n",
       "    <tr>\n",
       "      <th>InjectedCurrentAPAmplitudeTest</th>\n",
       "      <td>68.4 mV</td>\n",
       "      <td>68.6158436132009 mV</td>\n",
       "      <td>0.0356342</td>\n",
       "    </tr>\n",
       "    <tr>\n",
       "      <th>InjectedCurrentAPThresholdTest</th>\n",
       "      <td>-38.9 mV</td>\n",
       "      <td>-30.452468089353545 mV</td>\n",
       "      <td>1.34769</td>\n",
       "    </tr>\n",
       "  </tbody>\n",
       "</table>\n",
       "</div>"
      ],
      "text/plain": [
       "                                         observations  \\\n",
       "InputResistanceTest             130.083333333333 Mohm   \n",
       "TimeConstantTest                  24.4833333333333 ms   \n",
       "CapacitanceTest                             235.75 pF   \n",
       "RestingPotentialTest                    -58.140625 mV   \n",
       "InjectedCurrentAPWidthTest                    1.61 ms   \n",
       "InjectedCurrentAPAmplitudeTest                68.4 mV   \n",
       "InjectedCurrentAPThresholdTest               -38.9 mV   \n",
       "\n",
       "                                               predictions   Z-Scores  \n",
       "InputResistanceTest             111.76440601217192 megaohm   0.209574  \n",
       "TimeConstantTest                     26.351190325249217 ms   0.178053  \n",
       "CapacitanceTest                      235.77444076765715 pF  0.0304534  \n",
       "RestingPotentialTest                 -59.78177430465574 mV   0.297853  \n",
       "InjectedCurrentAPWidthTest                         1.54 ms    0.19034  \n",
       "InjectedCurrentAPAmplitudeTest         68.6158436132009 mV  0.0356342  \n",
       "InjectedCurrentAPThresholdTest      -30.452468089353545 mV    1.34769  "
      ]
     },
     "execution_count": 25,
     "metadata": {},
     "output_type": "execute_result"
    }
   ],
   "source": [
    "opt.make_pretty(opt.tests)\n",
    "opt.obs_preds"
   ]
  },
  {
   "cell_type": "markdown",
   "metadata": {},
   "source": [
    "# Neocortex Pyramidal Experiment Conductance based model"
   ]
  },
  {
   "cell_type": "code",
   "execution_count": null,
   "metadata": {},
   "outputs": [],
   "source": [
    "\n"
   ]
  },
  {
   "cell_type": "markdown",
   "metadata": {},
   "source": [
    "# Cerebellum Purkinje cell Experiment Conductance Izhikevich Model"
   ]
  },
  {
   "cell_type": "code",
   "execution_count": 26,
   "metadata": {},
   "outputs": [
    {
     "name": "stderr",
     "output_type": "stream",
     "text": [
      "INFO:__main__:gen\tnevals\tavg    \tstd    \tmin    \tmax   \n",
      "1  \t25    \t279.541\t609.858\t9.86573\t2489.8\n",
      "gen\tnevals\tavg    \tstd    \tmin    \tmax   \n",
      "1  \t25    \t279.541\t609.858\t9.86573\t2489.8\n"
     ]
    },
    {
     "data": {
      "application/vnd.jupyter.widget-view+json": {
       "model_id": "c436c83a3fc149e6bfb035b5b8de4453",
       "version_major": 2,
       "version_minor": 0
      },
      "text/plain": [
       "HBox(children=(FloatProgress(value=0.0, max=200.0), HTML(value='')))"
      ]
     },
     "metadata": {},
     "output_type": "display_data"
    },
    {
     "name": "stderr",
     "output_type": "stream",
     "text": [
      "INFO:__main__:2  \t15    \t204.664\t481.994\t9.86573\t2489.8\n",
      "2  \t15    \t204.664\t481.994\t9.86573\t2489.8\n",
      "INFO:__main__:3  \t14    \t174.125\t443.511\t9.86573\t1823.85\n",
      "3  \t14    \t174.125\t443.511\t9.86573\t1823.85\n",
      "INFO:__main__:4  \t11    \t102.304\t302.588\t9.86573\t1589.81\n",
      "4  \t11    \t102.304\t302.588\t9.86573\t1589.81\n",
      "INFO:__main__:5  \t13    \t184.425\t470.859\t9.86573\t2054.26\n",
      "5  \t13    \t184.425\t470.859\t9.86573\t2054.26\n",
      "INFO:__main__:6  \t11    \t244.305\t459.627\t9.86573\t2054.26\n",
      "6  \t11    \t244.305\t459.627\t9.86573\t2054.26\n",
      "INFO:__main__:7  \t16    \t410.014\t634.032\t9.86573\t2054.26\n",
      "7  \t16    \t410.014\t634.032\t9.86573\t2054.26\n",
      "INFO:__main__:8  \t13    \t319.866\t519.987\t9.86573\t2539.96\n",
      "8  \t13    \t319.866\t519.987\t9.86573\t2539.96\n",
      "INFO:__main__:9  \t12    \t231.021\t680.112\t9.73858\t2539.96\n",
      "9  \t12    \t231.021\t680.112\t9.73858\t2539.96\n",
      "INFO:__main__:10 \t14    \t231.591\t668.845\t9.73858\t3143.65\n",
      "10 \t14    \t231.591\t668.845\t9.73858\t3143.65\n",
      "INFO:__main__:11 \t11    \t204.547\t603.806\t9.45437\t2539.96\n",
      "11 \t11    \t204.547\t603.806\t9.45437\t2539.96\n",
      "INFO:__main__:12 \t12    \t211.698\t429.971\t9.45437\t2539.96\n",
      "12 \t12    \t211.698\t429.971\t9.45437\t2539.96\n",
      "INFO:__main__:13 \t11    \t149.557\t536.144\t9.45437\t3712.04\n",
      "13 \t11    \t149.557\t536.144\t9.45437\t3712.04\n",
      "INFO:__main__:14 \t14    \t680.231\t1386.39\t9.44518\t3712.07\n",
      "14 \t14    \t680.231\t1386.39\t9.44518\t3712.07\n",
      "INFO:__main__:15 \t13    \t199.837\t644.896\t9.37452\t3291.53\n",
      "15 \t13    \t199.837\t644.896\t9.37452\t3291.53\n",
      "INFO:__main__:16 \t10    \t511.705\t1103.7 \t9.31197\t3572.76\n",
      "16 \t10    \t511.705\t1103.7 \t9.31197\t3572.76\n",
      "INFO:__main__:17 \t10    \t988.517\t1369.01\t9.31197\t3572.76\n",
      "17 \t10    \t988.517\t1369.01\t9.31197\t3572.76\n",
      "INFO:__main__:18 \t10    \t658.061\t1287.91\t9.31197\t3572.76\n",
      "18 \t10    \t658.061\t1287.91\t9.31197\t3572.76\n",
      "INFO:__main__:19 \t13    \t649.756\t1297.11\t9.20548\t4516.79\n",
      "19 \t13    \t649.756\t1297.11\t9.20548\t4516.79\n",
      "INFO:__main__:20 \t12    \t391.68 \t887.907\t9.20548\t3416.14\n",
      "20 \t12    \t391.68 \t887.907\t9.20548\t3416.14\n",
      "INFO:__main__:21 \t13    \t136.353\t569.228\t9.20548\t3416.14\n",
      "21 \t13    \t136.353\t569.228\t9.20548\t3416.14\n",
      "INFO:__main__:22 \t10    \t37.6923\t92.9382\t8.95184\t404.457\n",
      "22 \t10    \t37.6923\t92.9382\t8.95184\t404.457\n",
      "INFO:__main__:23 \t13    \t85.9734\t148.139\t8.91263\t404.457\n",
      "23 \t13    \t85.9734\t148.139\t8.91263\t404.457\n",
      "INFO:__main__:24 \t11    \t61.7195\t125.918\t8.91263\t404.22 \n",
      "24 \t11    \t61.7195\t125.918\t8.91263\t404.22 \n",
      "INFO:__main__:25 \t12    \t109.394\t150.212\t8.91263\t404.22 \n",
      "25 \t12    \t109.394\t150.212\t8.91263\t404.22 \n",
      "INFO:__main__:26 \t12    \t43.6018\t93.0569\t8.91263\t404.274\n",
      "26 \t12    \t43.6018\t93.0569\t8.91263\t404.274\n",
      "INFO:__main__:27 \t11    \t45.1636\t104.82 \t8.91263\t404.25 \n",
      "27 \t11    \t45.1636\t104.82 \t8.91263\t404.25 \n",
      "INFO:__main__:28 \t11    \t75.3496\t142.007\t8.91263\t405.314\n",
      "28 \t11    \t75.3496\t142.007\t8.91263\t405.314\n",
      "INFO:__main__:29 \t7     \t26.3427\t54.966 \t8.91263\t404.204\n",
      "29 \t7     \t26.3427\t54.966 \t8.91263\t404.204\n",
      "INFO:__main__:30 \t10    \t16.1032\t2.68296\t8.91263\t21.7384\n",
      "30 \t10    \t16.1032\t2.68296\t8.91263\t21.7384\n",
      "INFO:__main__:31 \t14    \t15.8233\t4.13613\t8.91263\t21.7384\n",
      "31 \t14    \t15.8233\t4.13613\t8.91263\t21.7384\n",
      "INFO:__main__:32 \t7     \t18.2474\t13.3933\t8.91263\t108.541\n",
      "32 \t7     \t18.2474\t13.3933\t8.91263\t108.541\n",
      "INFO:__main__:33 \t10    \t17.0946\t4.2288 \t8.91263\t21.2973\n",
      "33 \t10    \t17.0946\t4.2288 \t8.91263\t21.2973\n",
      "INFO:__main__:34 \t7     \t17.2526\t14.0192\t8.91263\t110.134\n",
      "34 \t7     \t17.2526\t14.0192\t8.91263\t110.134\n",
      "INFO:__main__:35 \t13    \t13.798 \t4.3752 \t8.91263\t20.73  \n",
      "35 \t13    \t13.798 \t4.3752 \t8.91263\t20.73  \n",
      "INFO:__main__:36 \t14    \t14.7532\t4.70655\t8.89643\t22.9442\n",
      "36 \t14    \t14.7532\t4.70655\t8.89643\t22.9442\n",
      "INFO:__main__:37 \t13    \t15.4379\t5.14614\t8.86659\t22.9442\n",
      "37 \t13    \t15.4379\t5.14614\t8.86659\t22.9442\n",
      "INFO:__main__:38 \t13    \t18.1701\t19.0046\t8.86659\t109.887\n",
      "38 \t13    \t18.1701\t19.0046\t8.86659\t109.887\n",
      "INFO:__main__:39 \t11    \t13.0127\t4.76892\t8.86659\t22.9442\n",
      "39 \t11    \t13.0127\t4.76892\t8.86659\t22.9442\n",
      "INFO:__main__:40 \t12    \t22.2551\t54.3373\t8.85076\t405.124\n",
      "40 \t12    \t22.2551\t54.3373\t8.85076\t405.124\n",
      "INFO:__main__:41 \t11    \t17.2242\t15.0806\t8.85076\t117.423\n",
      "41 \t11    \t17.2242\t15.0806\t8.85076\t117.423\n",
      "INFO:__main__:42 \t10    \t20.5675\t19.6198\t8.57969\t117.423\n",
      "42 \t10    \t20.5675\t19.6198\t8.57969\t117.423\n",
      "INFO:__main__:43 \t14    \t20.954 \t24.0025\t8.57969\t117.423\n",
      "43 \t14    \t20.954 \t24.0025\t8.57969\t117.423\n",
      "INFO:__main__:44 \t13    \t33.9338\t35.1609\t8.57969\t117.423\n",
      "44 \t13    \t33.9338\t35.1609\t8.57969\t117.423\n",
      "INFO:__main__:45 \t11    \t20.868 \t18.8629\t8.57969\t110.051\n",
      "45 \t11    \t20.868 \t18.8629\t8.57969\t110.051\n",
      "INFO:__main__:46 \t9     \t17.189 \t4.7564 \t8.57969\t26.0877\n",
      "46 \t9     \t17.189 \t4.7564 \t8.57969\t26.0877\n",
      "INFO:__main__:47 \t13    \t17.0664\t5.2697 \t8.57969\t26.1038\n",
      "47 \t13    \t17.0664\t5.2697 \t8.57969\t26.1038\n",
      "INFO:__main__:48 \t10    \t20.6269\t19.5251\t8.57969\t117.685\n",
      "48 \t10    \t20.6269\t19.5251\t8.57969\t117.685\n",
      "INFO:__main__:49 \t13    \t21.5301\t13.6468\t8.57969\t110.109\n",
      "49 \t13    \t21.5301\t13.6468\t8.57969\t110.109\n",
      "INFO:__main__:50 \t12    \t27.0516\t25.3221\t8.49572\t118.733\n",
      "50 \t12    \t27.0516\t25.3221\t8.49572\t118.733\n",
      "INFO:__main__:51 \t11    \t28.9474\t31.2209\t8.49572\t118.733\n",
      "51 \t11    \t28.9474\t31.2209\t8.49572\t118.733\n",
      "INFO:__main__:52 \t11    \t18.5688\t6.20165\t8.40654\t25.503 \n",
      "52 \t11    \t18.5688\t6.20165\t8.40654\t25.503 \n",
      "INFO:__main__:53 \t13    \t20.2256\t4.91239\t8.40654\t27.1035\n",
      "53 \t13    \t20.2256\t4.91239\t8.40654\t27.1035\n",
      "INFO:__main__:54 \t16    \t20.2334\t14.0105\t8.40654\t110.474\n",
      "54 \t16    \t20.2334\t14.0105\t8.40654\t110.474\n",
      "INFO:__main__:55 \t11    \t22.1713\t18.9208\t8.40654\t110.474\n",
      "55 \t11    \t22.1713\t18.9208\t8.40654\t110.474\n",
      "INFO:__main__:56 \t13    \t19.4053\t13.8853\t8.40654\t108.998\n",
      "56 \t13    \t19.4053\t13.8853\t8.40654\t108.998\n",
      "INFO:__main__:57 \t9     \t20.8214\t18.6021\t8.40654\t109.97 \n",
      "57 \t9     \t20.8214\t18.6021\t8.40654\t109.97 \n",
      "INFO:__main__:58 \t14    \t19.1003\t13.9424\t8.40654\t109.97 \n",
      "58 \t14    \t19.1003\t13.9424\t8.40654\t109.97 \n",
      "INFO:__main__:59 \t14    \t14.9754\t6.13938\t8.40654\t25.4394\n",
      "59 \t14    \t14.9754\t6.13938\t8.40654\t25.4394\n",
      "INFO:__main__:60 \t8     \t17.37  \t4.87777\t8.40654\t26.2019\n",
      "60 \t8     \t17.37  \t4.87777\t8.40654\t26.2019\n",
      "INFO:__main__:61 \t16    \t16.1103\t14.1608\t8.40654\t110.033\n",
      "61 \t16    \t16.1103\t14.1608\t8.40654\t110.033\n",
      "INFO:__main__:62 \t13    \t23.3867\t22.2912\t8.34549\t110.033\n",
      "62 \t13    \t23.3867\t22.2912\t8.34549\t110.033\n",
      "INFO:__main__:63 \t10    \t17.2971\t6.24796\t8.34549\t26.7825\n",
      "63 \t10    \t17.2971\t6.24796\t8.34549\t26.7825\n",
      "INFO:__main__:64 \t10    \t17.8749\t13.9648\t8.34549\t111.05 \n",
      "64 \t10    \t17.8749\t13.9648\t8.34549\t111.05 \n",
      "INFO:__main__:65 \t11    \t21.2371\t26.5362\t8.34549\t111.05 \n",
      "65 \t11    \t21.2371\t26.5362\t8.34549\t111.05 \n",
      "INFO:__main__:66 \t10    \t19.0304\t23.3075\t8.34549\t111.05 \n",
      "66 \t10    \t19.0304\t23.3075\t8.34549\t111.05 \n",
      "INFO:__main__:67 \t10    \t20.6267\t27.5525\t8.34549\t121.695\n",
      "67 \t10    \t20.6267\t27.5525\t8.34549\t121.695\n",
      "INFO:__main__:68 \t13    \t18.3351\t20.3149\t8.34549\t121.695\n",
      "68 \t13    \t18.3351\t20.3149\t8.34549\t121.695\n",
      "INFO:__main__:69 \t16    \t19.4914\t21.2513\t8.34358\t121.695\n",
      "69 \t16    \t19.4914\t21.2513\t8.34358\t121.695\n",
      "INFO:__main__:70 \t8     \t29.9639\t36.6205\t8.34358\t121.695\n",
      "70 \t8     \t29.9639\t36.6205\t8.34358\t121.695\n",
      "INFO:__main__:71 \t11    \t25.6644\t30.6493\t8.34358\t118.496\n",
      "71 \t11    \t25.6644\t30.6493\t8.34358\t118.496\n",
      "INFO:__main__:72 \t12    \t19.5313\t20.543 \t8.34358\t118.496\n",
      "72 \t12    \t19.5313\t20.543 \t8.34358\t118.496\n",
      "INFO:__main__:73 \t9     \t15.5697\t15.331 \t8.34358\t118.496\n",
      "73 \t9     \t15.5697\t15.331 \t8.34358\t118.496\n",
      "INFO:__main__:74 \t10    \t21.0952\t54.4967\t8.34358\t405.403\n",
      "74 \t10    \t21.0952\t54.4967\t8.34358\t405.403\n",
      "INFO:__main__:75 \t12    \t17.7331\t13.6737\t8.34358\t107.917\n",
      "75 \t12    \t17.7331\t13.6737\t8.34358\t107.917\n",
      "INFO:__main__:76 \t14    \t24.8063\t53.95  \t8.34358\t405.082\n",
      "76 \t14    \t24.8063\t53.95  \t8.34358\t405.082\n",
      "INFO:__main__:77 \t10    \t40.0419\t91.4357\t8.31687\t405.082\n",
      "77 \t10    \t40.0419\t91.4357\t8.31687\t405.082\n",
      "INFO:__main__:78 \t16    \t28.1096\t56.6322\t8.31687\t404.3  \n",
      "78 \t16    \t28.1096\t56.6322\t8.31687\t404.3  \n",
      "INFO:__main__:79 \t10    \t39.7331\t91.2332\t8.31687\t404.305\n",
      "79 \t10    \t39.7331\t91.2332\t8.31687\t404.305\n",
      "INFO:__main__:80 \t9     \t15.7415\t4.97068\t8.31687\t23.9355\n",
      "80 \t9     \t15.7415\t4.97068\t8.31687\t23.9355\n",
      "INFO:__main__:81 \t16    \t23.8708\t54.0029\t8.31687\t404.088\n",
      "81 \t16    \t23.8708\t54.0029\t8.31687\t404.088\n",
      "INFO:__main__:82 \t15    \t15.98  \t4.88977\t8.31687\t23.9355\n",
      "82 \t15    \t15.98  \t4.88977\t8.31687\t23.9355\n",
      "INFO:__main__:83 \t11    \t16.2889\t3.92086\t8.31687\t26.6094\n",
      "83 \t11    \t16.2889\t3.92086\t8.31687\t26.6094\n"
     ]
    },
    {
     "name": "stderr",
     "output_type": "stream",
     "text": [
      "INFO:__main__:84 \t12    \t17.4727\t13.9747\t8.31687\t108.809\n",
      "84 \t12    \t17.4727\t13.9747\t8.31687\t108.809\n",
      "INFO:__main__:85 \t9     \t19.35  \t13.7206\t8.31687\t108.072\n",
      "85 \t9     \t19.35  \t13.7206\t8.31687\t108.072\n",
      "INFO:__main__:86 \t11    \t36.3318\t62.4491\t8.31687\t404.767\n",
      "86 \t11    \t36.3318\t62.4491\t8.31687\t404.767\n",
      "INFO:__main__:87 \t13    \t24.4995\t27.7999\t8.31687\t108.072\n",
      "87 \t13    \t24.4995\t27.7999\t8.31687\t108.072\n",
      "INFO:__main__:88 \t11    \t17.9127\t13.1706\t8.31687\t108.484\n",
      "88 \t11    \t17.9127\t13.1706\t8.31687\t108.484\n",
      "INFO:__main__:89 \t8     \t15.6091\t3.80388\t8.31687\t25.0788\n",
      "89 \t8     \t15.6091\t3.80388\t8.31687\t25.0788\n",
      "INFO:__main__:90 \t12    \t16.5231\t5.81132\t8.31687\t25.4366\n",
      "90 \t12    \t16.5231\t5.81132\t8.31687\t25.4366\n",
      "INFO:__main__:91 \t13    \t20.0823\t15.7322\t8.31687\t123.46 \n",
      "91 \t13    \t20.0823\t15.7322\t8.31687\t123.46 \n",
      "INFO:__main__:92 \t7     \t15.4731\t6.07853\t8.31687\t25.0188\n",
      "92 \t7     \t15.4731\t6.07853\t8.31687\t25.0188\n",
      "INFO:__main__:93 \t13    \t13.8648\t4.76372\t8.31687\t25.0188\n",
      "93 \t13    \t13.8648\t4.76372\t8.31687\t25.0188\n",
      "INFO:__main__:94 \t12    \t14.3759\t4.07956\t8.31687\t25.0188\n",
      "94 \t12    \t14.3759\t4.07956\t8.31687\t25.0188\n",
      "INFO:__main__:95 \t13    \t46.292 \t219.161\t8.31687\t1592.49\n",
      "95 \t13    \t46.292 \t219.161\t8.31687\t1592.49\n",
      "INFO:__main__:96 \t16    \t14.6563\t14.7749\t8.31687\t116.557\n",
      "96 \t16    \t14.6563\t14.7749\t8.31687\t116.557\n",
      "INFO:__main__:97 \t12    \t19.539 \t24.4428\t8.31687\t116.557\n",
      "97 \t12    \t19.539 \t24.4428\t8.31687\t116.557\n",
      "INFO:__main__:98 \t9     \t31.4163\t39.3836\t8.31687\t116.557\n",
      "98 \t9     \t31.4163\t39.3836\t8.31687\t116.557\n",
      "INFO:__main__:99 \t6     \t22.2264\t27.0376\t8.31687\t113.713\n",
      "99 \t6     \t22.2264\t27.0376\t8.31687\t113.713\n",
      "INFO:__main__:100\t11    \t18.378 \t23.704 \t8.15863\t113.713\n",
      "100\t11    \t18.378 \t23.704 \t8.15863\t113.713\n",
      "INFO:__main__:101\t11    \t23.8889\t29.2693\t8.15863\t113.713\n",
      "101\t11    \t23.8889\t29.2693\t8.15863\t113.713\n",
      "INFO:__main__:102\t12    \t31.1011\t34.8529\t8.15863\t113.713\n",
      "102\t12    \t31.1011\t34.8529\t8.15863\t113.713\n",
      "INFO:__main__:103\t8     \t15.9521\t4.44005\t8.15863\t21.2364\n",
      "103\t8     \t15.9521\t4.44005\t8.15863\t21.2364\n",
      "INFO:__main__:104\t12    \t14.8686\t4.17617\t8.15863\t21.2364\n",
      "104\t12    \t14.8686\t4.17617\t8.15863\t21.2364\n",
      "INFO:__main__:105\t8     \t13.3414\t3.74779\t8.15863\t21.2303\n",
      "105\t8     \t13.3414\t3.74779\t8.15863\t21.2303\n",
      "INFO:__main__:106\t10    \t18.5277\t19.485 \t8.15863\t116.709\n",
      "106\t10    \t18.5277\t19.485 \t8.15863\t116.709\n",
      "INFO:__main__:107\t12    \t18.6382\t18.7088\t8.15863\t108.431\n",
      "107\t12    \t18.6382\t18.7088\t8.15863\t108.431\n",
      "INFO:__main__:108\t5     \t22.7289\t25.4054\t8.15863\t108.431\n",
      "108\t5     \t22.7289\t25.4054\t8.15863\t108.431\n",
      "INFO:__main__:109\t7     \t18.9716\t18.7146\t8.15863\t108.431\n",
      "109\t7     \t18.9716\t18.7146\t8.15863\t108.431\n",
      "INFO:__main__:110\t12    \t11.8754\t3.79706\t8.15863\t23.6598\n",
      "110\t12    \t11.8754\t3.79706\t8.15863\t23.6598\n",
      "INFO:__main__:111\t12    \t13.9745\t4.92514\t8.15863\t28.3615\n",
      "111\t12    \t13.9745\t4.92514\t8.15863\t28.3615\n",
      "INFO:__main__:112\t10    \t16.0503\t19.0246\t8.15863\t108.168\n",
      "112\t10    \t16.0503\t19.0246\t8.15863\t108.168\n",
      "INFO:__main__:113\t8     \t23.0683\t25.312 \t8.15863\t107.614\n",
      "113\t8     \t23.0683\t25.312 \t8.15863\t107.614\n",
      "INFO:__main__:114\t9     \t28.2373\t34.5296\t8.15863\t107.614\n",
      "114\t9     \t28.2373\t34.5296\t8.15863\t107.614\n",
      "INFO:__main__:115\t8     \t17.7218\t18.8015\t8.15863\t108.37 \n",
      "115\t8     \t17.7218\t18.8015\t8.15863\t108.37 \n",
      "INFO:__main__:116\t13    \t16.71  \t18.7985\t8.15863\t108.37 \n",
      "116\t13    \t16.71  \t18.7985\t8.15863\t108.37 \n",
      "INFO:__main__:117\t13    \t19.1284\t26.3647\t8.15863\t111.649\n",
      "117\t13    \t19.1284\t26.3647\t8.15863\t111.649\n",
      "INFO:__main__:118\t9     \t15.9117\t18.9281\t8.15863\t108.37 \n",
      "118\t9     \t15.9117\t18.9281\t8.15863\t108.37 \n",
      "INFO:__main__:119\t6     \t14.9737\t4.41862\t8.15863\t20.5688\n",
      "119\t6     \t14.9737\t4.41862\t8.15863\t20.5688\n",
      "INFO:__main__:120\t10    \t12.5326\t3.32428\t8.15863\t20.5939\n",
      "120\t10    \t12.5326\t3.32428\t8.15863\t20.5939\n",
      "INFO:__main__:121\t11    \t15.4814\t15.3166\t8.15863\t119.734\n",
      "121\t11    \t15.4814\t15.3166\t8.15863\t119.734\n",
      "INFO:__main__:122\t9     \t15.2487\t4.09411\t8.15863\t22.7015\n",
      "122\t9     \t15.2487\t4.09411\t8.15863\t22.7015\n",
      "INFO:__main__:123\t8     \t15.7684\t4.31178\t8.15863\t21.4471\n",
      "123\t8     \t15.7684\t4.31178\t8.15863\t21.4471\n",
      "INFO:__main__:124\t9     \t12.808 \t1.68427\t8.15863\t16.4055\n",
      "124\t9     \t12.808 \t1.68427\t8.15863\t16.4055\n",
      "INFO:__main__:125\t8     \t16.0627\t19.3378\t8.15863\t111.698\n",
      "125\t8     \t16.0627\t19.3378\t8.15863\t111.698\n",
      "INFO:__main__:126\t12    \t18.3036\t23.037 \t8.15863\t111.698\n",
      "126\t12    \t18.3036\t23.037 \t8.15863\t111.698\n",
      "INFO:__main__:127\t6     \t28.2052\t35.4347\t8.15863\t112.986\n",
      "127\t6     \t28.2052\t35.4347\t8.15863\t112.986\n",
      "INFO:__main__:128\t14    \t33.9014\t40.1661\t8.15863\t113.092\n",
      "128\t14    \t33.9014\t40.1661\t8.15863\t113.092\n",
      "INFO:__main__:129\t8     \t28.2876\t35.5395\t8.15863\t113.092\n",
      "129\t8     \t28.2876\t35.5395\t8.15863\t113.092\n",
      "INFO:__main__:130\t16    \t31.0066\t39.6941\t8.01412\t113.421\n",
      "130\t16    \t31.0066\t39.6941\t8.01412\t113.421\n",
      "INFO:__main__:131\t14    \t14.009 \t13.5865\t8.01412\t108.361\n",
      "131\t14    \t14.009 \t13.5865\t8.01412\t108.361\n",
      "INFO:__main__:132\t15    \t17.1709\t19.0883\t8.01412\t114.019\n",
      "132\t15    \t17.1709\t19.0883\t8.01412\t114.019\n",
      "INFO:__main__:133\t13    \t19.1248\t23.3862\t8.01412\t114.019\n",
      "133\t13    \t19.1248\t23.3862\t8.01412\t114.019\n",
      "INFO:__main__:134\t15    \t21.4141\t26.8255\t8.01412\t115.104\n",
      "134\t15    \t21.4141\t26.8255\t8.01412\t115.104\n",
      "INFO:__main__:135\t13    \t42.4903\t44.9346\t8.01412\t114.019\n",
      "135\t13    \t42.4903\t44.9346\t8.01412\t114.019\n",
      "INFO:__main__:136\t13    \t25.0384\t30.8535\t8.01412\t113.258\n",
      "136\t13    \t25.0384\t30.8535\t8.01412\t113.258\n",
      "INFO:__main__:137\t9     \t18.046 \t19.471 \t8.01412\t113.258\n",
      "137\t9     \t18.046 \t19.471 \t8.01412\t113.258\n",
      "INFO:__main__:138\t9     \t19.7255\t23.448 \t8.01412\t113.258\n",
      "138\t9     \t19.7255\t23.448 \t8.01412\t113.258\n",
      "INFO:__main__:139\t16    \t15.3618\t13.4608\t8.01412\t108.148\n",
      "139\t16    \t15.3618\t13.4608\t8.01412\t108.148\n",
      "INFO:__main__:140\t13    \t15.3699\t13.3932\t8.01412\t109.201\n",
      "140\t13    \t15.3699\t13.3932\t8.01412\t109.201\n",
      "INFO:__main__:141\t11    \t16.7854\t18.7581\t8.01412\t110.48 \n",
      "141\t11    \t16.7854\t18.7581\t8.01412\t110.48 \n",
      "INFO:__main__:142\t14    \t19.15  \t22.7645\t8.01412\t112.522\n",
      "142\t14    \t19.15  \t22.7645\t8.01412\t112.522\n",
      "INFO:__main__:143\t9     \t14.4778\t13.5166\t8.01412\t108.607\n",
      "143\t9     \t14.4778\t13.5166\t8.01412\t108.607\n",
      "INFO:__main__:144\t13    \t13.0161\t2.27949\t8.01412\t17.5439\n",
      "144\t13    \t13.0161\t2.27949\t8.01412\t17.5439\n",
      "INFO:__main__:145\t14    \t16.1948\t19.4063\t8.01412\t115.038\n",
      "145\t14    \t16.1948\t19.4063\t8.01412\t115.038\n",
      "INFO:__main__:146\t12    \t25.0348\t32.2274\t8.01412\t116.556\n",
      "146\t12    \t25.0348\t32.2274\t8.01412\t116.556\n",
      "INFO:__main__:147\t10    \t30.4705\t36.8508\t8.01412\t116.556\n",
      "147\t10    \t30.4705\t36.8508\t8.01412\t116.556\n",
      "INFO:__main__:148\t13    \t28.8662\t33.6081\t8.01412\t116.556\n",
      "148\t13    \t28.8662\t33.6081\t8.01412\t116.556\n",
      "INFO:__main__:149\t9     \t29.112 \t34.2052\t8.01412\t116.556\n",
      "149\t9     \t29.112 \t34.2052\t8.01412\t116.556\n",
      "INFO:__main__:150\t8     \t26.938 \t29.8142\t8.01412\t108.313\n",
      "150\t8     \t26.938 \t29.8142\t8.01412\t108.313\n",
      "INFO:__main__:151\t11    \t17.7843\t14.5965\t8.01412\t118.741\n",
      "151\t11    \t17.7843\t14.5965\t8.01412\t118.741\n",
      "INFO:__main__:152\t11    \t23.4668\t30.6226\t8.01412\t118.741\n",
      "152\t11    \t23.4668\t30.6226\t8.01412\t118.741\n",
      "INFO:__main__:153\t15    \t46.3261\t141.046\t8.01412\t1015.78\n",
      "153\t15    \t46.3261\t141.046\t8.01412\t1015.78\n",
      "INFO:__main__:154\t14    \t153.913\t349.917\t8.01412\t1118.87\n",
      "154\t14    \t153.913\t349.917\t8.01412\t1118.87\n",
      "INFO:__main__:155\t13    \t121.134\t328.971\t8.01412\t1118.87\n",
      "155\t13    \t121.134\t328.971\t8.01412\t1118.87\n",
      "INFO:__main__:156\t16    \t56.9272\t303.245\t8.01412\t2200.94\n",
      "156\t16    \t56.9272\t303.245\t8.01412\t2200.94\n",
      "INFO:__main__:157\t11    \t142.693\t514.584\t8.01412\t2200.94\n",
      "157\t11    \t142.693\t514.584\t8.01412\t2200.94\n",
      "INFO:__main__:158\t13    \t220.791\t756.156\t8.01412\t4136.13\n",
      "158\t13    \t220.791\t756.156\t8.01412\t4136.13\n",
      "INFO:__main__:159\t10    \t252.457\t776.514\t8.01412\t4136.13\n",
      "159\t10    \t252.457\t776.514\t8.01412\t4136.13\n",
      "INFO:__main__:160\t6     \t362.042\t766.049\t8.01412\t2200.94\n",
      "160\t6     \t362.042\t766.049\t8.01412\t2200.94\n",
      "INFO:__main__:161\t12    \t314.304\t668.041\t8.01412\t2066.89\n",
      "161\t12    \t314.304\t668.041\t8.01412\t2066.89\n",
      "INFO:__main__:162\t13    \t101.492\t380.938\t8.01412\t2045.89\n",
      "162\t13    \t101.492\t380.938\t8.01412\t2045.89\n",
      "INFO:__main__:163\t15    \t303.457\t645.108\t8.01412\t2045.89\n",
      "163\t15    \t303.457\t645.108\t8.01412\t2045.89\n",
      "INFO:__main__:164\t12    \t642.469\t778.069\t8.01412\t1955.88\n",
      "164\t12    \t642.469\t778.069\t8.01412\t1955.88\n",
      "INFO:__main__:165\t10    \t204.978\t437.815\t8.01412\t1758.18\n",
      "165\t10    \t204.978\t437.815\t8.01412\t1758.18\n"
     ]
    },
    {
     "name": "stderr",
     "output_type": "stream",
     "text": [
      "INFO:__main__:166\t11    \t353.184\t554.586\t8.01412\t1567.76\n",
      "166\t11    \t353.184\t554.586\t8.01412\t1567.76\n",
      "INFO:__main__:167\t11    \t130.08 \t359.893\t8.01412\t1220.88\n",
      "167\t11    \t130.08 \t359.893\t8.01412\t1220.88\n",
      "INFO:__main__:168\t13    \t11.918 \t13.8056\t8.01412\t109.364\n",
      "168\t13    \t11.918 \t13.8056\t8.01412\t109.364\n",
      "INFO:__main__:169\t10    \t15.4596\t23.5406\t8.01412\t109.873\n",
      "169\t10    \t15.4596\t23.5406\t8.01412\t109.873\n",
      "INFO:__main__:170\t6     \t15.5293\t23.4555\t8.01412\t109.364\n",
      "170\t6     \t15.5293\t23.4555\t8.01412\t109.364\n",
      "INFO:__main__:171\t12    \t13.5971\t19.2667\t8.01412\t109.092\n",
      "171\t12    \t13.5971\t19.2667\t8.01412\t109.092\n",
      "INFO:__main__:172\t15    \t15.237 \t19.2273\t8.01412\t109.092\n",
      "172\t15    \t15.237 \t19.2273\t8.01412\t109.092\n",
      "INFO:__main__:173\t11    \t20.8291\t35.3837\t8.01412\t209.051\n",
      "173\t11    \t20.8291\t35.3837\t8.01412\t209.051\n",
      "INFO:__main__:174\t10    \t52.7011\t78.4656\t8.01412\t209.051\n",
      "174\t10    \t52.7011\t78.4656\t8.01412\t209.051\n",
      "INFO:__main__:175\t16    \t17.838 \t23.2618\t8.01412\t109.13 \n",
      "175\t16    \t17.838 \t23.2618\t8.01412\t109.13 \n",
      "INFO:__main__:176\t11    \t19.1682\t19.2449\t8.01412\t109.261\n",
      "176\t11    \t19.1682\t19.2449\t8.01412\t109.261\n",
      "INFO:__main__:177\t10    \t11.6411\t5.21169\t8.01412\t23.5957\n",
      "177\t10    \t11.6411\t5.21169\t8.01412\t23.5957\n",
      "INFO:__main__:178\t11    \t13.1157\t14.0487\t8.01412\t108.942\n",
      "178\t11    \t13.1157\t14.0487\t8.01412\t108.942\n",
      "INFO:__main__:179\t8     \t14.3981\t19.3603\t8.01412\t108.942\n",
      "179\t8     \t14.3981\t19.3603\t8.01412\t108.942\n",
      "INFO:__main__:180\t12    \t15.2846\t19.5941\t8.01412\t113.585\n",
      "180\t12    \t15.2846\t19.5941\t8.01412\t113.585\n",
      "INFO:__main__:181\t11    \t14.7546\t19.3017\t8.01412\t110.519\n",
      "181\t11    \t14.7546\t19.3017\t8.01412\t110.519\n",
      "INFO:__main__:182\t8     \t25.863 \t36.054 \t8.01412\t110.519\n",
      "182\t8     \t25.863 \t36.054 \t8.01412\t110.519\n",
      "INFO:__main__:183\t10    \t28.4101\t37.5813\t8.01412\t110.519\n",
      "183\t10    \t28.4101\t37.5813\t8.01412\t110.519\n",
      "INFO:__main__:184\t17    \t27.9169\t35.177 \t8.01412\t110.519\n",
      "184\t17    \t27.9169\t35.177 \t8.01412\t110.519\n",
      "INFO:__main__:185\t10    \t12.0559\t2.39178\t8.01412\t20.3547\n",
      "185\t10    \t12.0559\t2.39178\t8.01412\t20.3547\n",
      "INFO:__main__:186\t9     \t17.8171\t19.1554\t8.01412\t113.382\n",
      "186\t9     \t17.8171\t19.1554\t8.01412\t113.382\n",
      "INFO:__main__:187\t11    \t20.7936\t27.1855\t8.01412\t113.382\n",
      "187\t11    \t20.7936\t27.1855\t8.01412\t113.382\n",
      "INFO:__main__:188\t14    \t13.9142\t3.31393\t8.01412\t20.5801\n",
      "188\t14    \t13.9142\t3.31393\t8.01412\t20.5801\n",
      "INFO:__main__:189\t13    \t13.0148\t2.80746\t8.01412\t19.3506\n",
      "189\t13    \t13.0148\t2.80746\t8.01412\t19.3506\n",
      "INFO:__main__:190\t12    \t14.3178\t13.5409\t8.01412\t108.035\n",
      "190\t12    \t14.3178\t13.5409\t8.01412\t108.035\n",
      "INFO:__main__:191\t9     \t13.7861\t13.7648\t8.01412\t109.548\n",
      "191\t9     \t13.7861\t13.7648\t8.01412\t109.548\n",
      "INFO:__main__:192\t14    \t12.029 \t2.80953\t8.01412\t19.7855\n",
      "192\t14    \t12.029 \t2.80953\t8.01412\t19.7855\n",
      "INFO:__main__:193\t9     \t14.0756\t14.2328\t8.01412\t112.709\n",
      "193\t9     \t14.0756\t14.2328\t8.01412\t112.709\n",
      "INFO:__main__:194\t10    \t13.0431\t3.76356\t8.01412\t20.1417\n",
      "194\t10    \t13.0431\t3.76356\t8.01412\t20.1417\n",
      "INFO:__main__:195\t12    \t13.8199\t4.81818\t8.01412\t21.1191\n",
      "195\t12    \t13.8199\t4.81818\t8.01412\t21.1191\n",
      "INFO:__main__:196\t13    \t14.967 \t14.1975\t8.01412\t112.087\n",
      "196\t13    \t14.967 \t14.1975\t8.01412\t112.087\n",
      "INFO:__main__:197\t11    \t13.2666\t4.44353\t8.01412\t20.6611\n",
      "197\t11    \t13.2666\t4.44353\t8.01412\t20.6611\n",
      "INFO:__main__:198\t8     \t14.4557\t13.997 \t8.01412\t107.846\n",
      "198\t8     \t14.4557\t13.997 \t8.01412\t107.846\n",
      "INFO:__main__:199\t13    \t12.0157\t13.8472\t8.01412\t108.413\n",
      "199\t13    \t12.0157\t13.8472\t8.01412\t108.413\n",
      "INFO:__main__:200\t13    \t11.0138\t4.81493\t8.01412\t38.2172\n",
      "200\t13    \t11.0138\t4.81493\t8.01412\t38.2172\n",
      "INFO:__main__:Run stopped because of stopping criteria: Max ngen\n",
      "Run stopped because of stopping criteria: Max ngen\n"
     ]
    },
    {
     "name": "stdout",
     "output_type": "stream",
     "text": [
      "\n"
     ]
    }
   ],
   "source": [
    "    \n",
    "try:\n",
    "    temp = pickle.load(open(\"Cerebellum Purkinje cell\"+\"IZHI_.p\",\"rb\"))\n",
    "    final_pop, hall_of_fame, logs, hist, opt, obs_preds, chi_sqr_opt, p_value = temp\n",
    "except:\n",
    "    MU = 25\n",
    "    NGEN = 200\n",
    "    final_pop, hall_of_fame, logs, hist, opt, obs_preds, chi_sqr_opt, p_value = instance_opt(\n",
    "        experimental_constraints['Cerebellum Purkinje cell'],\n",
    "        MODEL_PARAMS,'Cerebellum Purkinje cell',\"IZHI\",\n",
    "        MU,NGEN,\"IBEA\",use_streamlit=False)\n",
    "\n",
    "    temp =  final_pop, hall_of_fame, logs, hist, opt, obs_preds, chi_sqr_opt, p_value\n",
    "    pickle.dump(temp,open('Cerebellum Purkinje cell'+\"IZHI_.p\",\"wb\"))\n"
   ]
  },
  {
   "cell_type": "code",
   "execution_count": null,
   "metadata": {},
   "outputs": [
    {
     "name": "stderr",
     "output_type": "stream",
     "text": [
      "INFO:__main__:gen\tnevals\tavg    \tstd    \tmin    \tmax \n",
      "1  \t10    \t5617.96\t3638.71\t25.2506\t8000\n",
      "gen\tnevals\tavg    \tstd    \tmin    \tmax \n",
      "1  \t10    \t5617.96\t3638.71\t25.2506\t8000\n"
     ]
    },
    {
     "data": {
      "application/vnd.jupyter.widget-view+json": {
       "model_id": "4dc77c4df2e34fd5807b32f123fe8098",
       "version_major": 2,
       "version_minor": 0
      },
      "text/plain": [
       "HBox(children=(FloatProgress(value=0.0, max=150.0), HTML(value='')))"
      ]
     },
     "metadata": {},
     "output_type": "display_data"
    },
    {
     "name": "stderr",
     "output_type": "stream",
     "text": [
      "INFO:__main__:2  \t3     \t5727.51\t3593.16\t25.2506\t8000\n",
      "2  \t3     \t5727.51\t3593.16\t25.2506\t8000\n",
      "INFO:__main__:3  \t7     \t2313.09\t3596.79\t20.5069\t8000\n",
      "3  \t7     \t2313.09\t3596.79\t20.5069\t8000\n",
      "INFO:__main__:4  \t4     \t29.6875\t6.42977\t20.5069\t41.5945\n",
      "4  \t4     \t29.6875\t6.42977\t20.5069\t41.5945\n",
      "INFO:__main__:5  \t4     \t55.0388\t56.6966\t20.5069\t238.121\n",
      "5  \t4     \t55.0388\t56.6966\t20.5069\t238.121\n",
      "INFO:__main__:6  \t7     \t423.092\t1694.98\t20.5069\t8000   \n",
      "6  \t7     \t423.092\t1694.98\t20.5069\t8000   \n",
      "INFO:__main__:7  \t3     \t38.6311\t49.9617\t20.5069\t241.985\n",
      "7  \t3     \t38.6311\t49.9617\t20.5069\t241.985\n",
      "INFO:__main__:8  \t6     \t37.7143\t33.3585\t20.5069\t119.919\n",
      "8  \t6     \t37.7143\t33.3585\t20.5069\t119.919\n",
      "INFO:__main__:9  \t5     \t50.8487\t68.0681\t20.5069\t316.301\n",
      "9  \t5     \t50.8487\t68.0681\t20.5069\t316.301\n",
      "INFO:__main__:10 \t4     \t49.7975\t44.8676\t19.8937\t124.022\n",
      "10 \t4     \t49.7975\t44.8676\t19.8937\t124.022\n",
      "INFO:__main__:11 \t4     \t411.086\t1697.18\t19.8937\t8000   \n",
      "11 \t4     \t411.086\t1697.18\t19.8937\t8000   \n",
      "INFO:__main__:12 \t1     \t21.2394\t1.03238\t19.8937\t23.1836\n",
      "12 \t1     \t21.2394\t1.03238\t19.8937\t23.1836\n",
      "INFO:__main__:13 \t7     \t35.5063\t46.1015\t18.0161\t217.16 \n",
      "13 \t7     \t35.5063\t46.1015\t18.0161\t217.16 \n",
      "INFO:__main__:14 \t6     \t820.449\t2330.2 \t14.7995\t8000   \n",
      "14 \t6     \t820.449\t2330.2 \t14.7995\t8000   \n",
      "INFO:__main__:15 \t4     \t43.3479\t57.9958\t14.7995\t212.347\n",
      "15 \t4     \t43.3479\t57.9958\t14.7995\t212.347\n",
      "INFO:__main__:16 \t5     \t414.28 \t1696.94\t14.7995\t8000   \n",
      "16 \t5     \t414.28 \t1696.94\t14.7995\t8000   \n"
     ]
    }
   ],
   "source": [
    "    \n",
    "try:\n",
    "    temp = pickle.load(open(\"Neocortex pyramidal cell layer 5-6\"+\"ADEXP_.p\",\"rb\"))\n",
    "    final_pop, hall_of_fame, logs, hist, opt, obs_preds, chi_sqr_opt, p_value = temp\n",
    "except:\n",
    "    MU = 10\n",
    "    NGEN = 150\n",
    "    final_pop, hall_of_fame, logs, hist, opt, obs_preds, chi_sqr_opt, p_value = instance_opt(\n",
    "        experimental_constraints['Neocortex pyramidal cell layer 5-6'],\n",
    "        MODEL_PARAMS,'Neocortex pyramidal cell layer 5-6',\"ADEXP\",\n",
    "        MU,NGEN,\"IBEA\",use_streamlit=False)\n",
    "\n",
    "    temp = final_pop, hall_of_fame, logs, hist, opt, obs_preds\n",
    "    pickle.dump(temp,open('Neocortex pyramidal cell layer 5-6'+\"ADEXP_.p\",\"wb\"))\n"
   ]
  },
  {
   "cell_type": "code",
   "execution_count": null,
   "metadata": {},
   "outputs": [],
   "source": []
  },
  {
   "cell_type": "code",
   "execution_count": null,
   "metadata": {},
   "outputs": [],
   "source": [
    "'''\n",
    "temp = pickle.load(open(\"Neocortex pyramidal cell layer 5-6\"+\"IZHI_.p\",\"rb\"))\n",
    "final_pop, hall_of_fame, logs, hist, opt, obs_preds = temp\n",
    "zvalues_opt = opt.SA.values\n",
    "chi_sqr_opt= np.sum(zvalues_opt**2)\n",
    "print(1-scipy.stats.chi2.cdf(chi_sqr_opt, 8))\n",
    "\n",
    "'''"
   ]
  },
  {
   "cell_type": "code",
   "execution_count": null,
   "metadata": {},
   "outputs": [],
   "source": [
    "OM = opt.dtc_to_opt_man()\n",
    "stats = OM.random_sample(opt,100)\n"
   ]
  },
  {
   "cell_type": "code",
   "execution_count": null,
   "metadata": {},
   "outputs": [],
   "source": [
    "\n",
    "#stats\n",
    "from neuronunit.optimisation.optimization_management import plot_as_normal_all, plot_as_normal\n",
    "\n",
    "plot_as_normal_all(opt,stats['best_random_model'])\n",
    "import numpy as np\n",
    "np.mean(opt.SA.values)\n",
    "opt.SA.values"
   ]
  },
  {
   "cell_type": "code",
   "execution_count": null,
   "metadata": {},
   "outputs": [],
   "source": [
    "z_random=[]\n",
    "import numpy as np\n",
    "#dir(stats['best_random_model'].SA['RheobaseTest'])\n",
    "for t in stats['best_random_model'].tests:\n",
    "    model = stats['best_random_model'].dtc_to_model()\n",
    "    score = t.judge(model)\n",
    "    z_random.append(np.abs(float(score.raw)))\n",
    "#np.mean(mean_random)\n",
    "\n",
    "#[z**2 for z in z_random]\n",
    "z_random"
   ]
  },
  {
   "cell_type": "code",
   "execution_count": null,
   "metadata": {},
   "outputs": [],
   "source": [
    "chi_sqr_random = np.sum(np.array(z_random)**2)\n",
    "\n",
    "#chi_sqr_random = np.sum(zvalues_opt**2)\n",
    "print(1-scipy.stats.chi2.cdf(chi_sqr_random, 8))"
   ]
  },
  {
   "cell_type": "code",
   "execution_count": null,
   "metadata": {},
   "outputs": [],
   "source": [
    "frame = opt.SA.to_frame()\n",
    "score_frame = frame.T\n",
    "score_frame"
   ]
  },
  {
   "cell_type": "code",
   "execution_count": null,
   "metadata": {},
   "outputs": [],
   "source": [
    "opt.make_pretty(opt.tests)\n",
    "opt.obs_preds"
   ]
  },
  {
   "cell_type": "code",
   "execution_count": null,
   "metadata": {},
   "outputs": [],
   "source": [
    "\n",
    "from neuronunit.optimisation.optimization_management import plot_as_normal_all, plot_as_normal\n",
    "opt.rheobase\n",
    "plot_as_normal(opt)\n",
    "plot_as_normal_all(opt,stats['best_random_model'])\n"
   ]
  },
  {
   "cell_type": "code",
   "execution_count": null,
   "metadata": {},
   "outputs": [],
   "source": [
    "#assert 1==2\n",
    "\n"
   ]
  },
  {
   "cell_type": "code",
   "execution_count": null,
   "metadata": {},
   "outputs": [],
   "source": [
    "from neuronunit.optimisation.model_parameters import MODEL_PARAMS\n",
    "MU = 15\n",
    "NGEN = 80\n",
    "final_pop, hall_of_fame, logs, hist, opt, obs_preds = instance_opt(\n",
    "    experimental_constraints[\"Cerebellum Purkinje cell\"],\n",
    "    MODEL_PARAMS,\"Cerebellum Purkinje cell\",\"ADEXP\",\n",
    "    MU,NGEN,\"IBEA\",use_streamlit=False)\n",
    "\n",
    "opt.obs_preds.T"
   ]
  },
  {
   "cell_type": "code",
   "execution_count": null,
   "metadata": {},
   "outputs": [],
   "source": [
    "    \n",
    "try:\n",
    "    temp = pickle.load(open(\"Neocortex pyramidal cell layer 5-6\"+\"NEURON_HH_.p\",\"rb\"))\n",
    "    final_pop, hall_of_fame, logs, hist, opt, obs_preds, chi_sqr_opt, p_value = temp\n",
    "except:\n",
    "    MU = 10\n",
    "    NGEN = 10\n",
    "    final_pop, hall_of_fame, logs, hist, opt, obs_preds, chi_sqr_opt, p_value = instance_opt(\n",
    "        experimental_constraints['Neocortex pyramidal cell layer 5-6'],\n",
    "        MODEL_PARAMS,'Neocortex pyramidal cell layer 5-6',\"NEURON_HH\",\n",
    "        MU,NGEN,\"IBEA\",use_streamlit=False)\n",
    "\n",
    "    temp = final_pop, hall_of_fame, logs, hist, opt, obs_preds\n",
    "    pickle.dump(temp,open('Neocortex pyramidal cell layer 5-6'+\"NEURON_HH.p\",\"wb\"))"
   ]
  },
  {
   "cell_type": "code",
   "execution_count": null,
   "metadata": {},
   "outputs": [],
   "source": [
    "OM = opt.dtc_to_opt_man()\n",
    "stats = OM.random_sample(opt,100)\n",
    "\n",
    "from neuronunit.optimisation.optimization_management import plot_as_normal_all, plot_as_normal\n",
    "opt.rheobase\n",
    "plot_as_normal(opt)\n"
   ]
  },
  {
   "cell_type": "code",
   "execution_count": null,
   "metadata": {},
   "outputs": [],
   "source": [
    "plot_as_normal_all(opt,stats['best_random_model'])\n"
   ]
  },
  {
   "cell_type": "code",
   "execution_count": null,
   "metadata": {},
   "outputs": [],
   "source": [
    "opt.backend\n",
    "\n",
    "from neuronunit.optimisation.optimization_management import inject_and_plot_model, inject_and_plot_model30"
   ]
  },
  {
   "cell_type": "code",
   "execution_count": null,
   "metadata": {},
   "outputs": [],
   "source": [
    "vm,plt,pre_model = inject_and_plot_model(opt,plotly=False)"
   ]
  },
  {
   "cell_type": "code",
   "execution_count": null,
   "metadata": {},
   "outputs": [],
   "source": [
    "inject_and_plot_model30(opt)#,plotly=False)"
   ]
  },
  {
   "cell_type": "code",
   "execution_count": null,
   "metadata": {},
   "outputs": [],
   "source": [
    "\n",
    "from neuronunit.optimisation.model_parameters import MODEL_PARAMS\n",
    "MU = 25\n",
    "NGEN = 100\n",
    "\n",
    "final_pop, hall_of_fame, logs, hist, opt, obs_preds = instance_opt(\n",
    "    experimental_constraints[\"Hippocampus CA1 pyramidal cell\"],\n",
    "    MODEL_PARAMS,\"Hippocampus CA1 pyramidal cell\",\n",
    "    \"IZHI\",MU,NGEN,\"IBEA\",use_streamlit=False)\n"
   ]
  },
  {
   "cell_type": "code",
   "execution_count": null,
   "metadata": {},
   "outputs": [],
   "source": [
    "final_pop, hall_of_fame, logs, hist, opt, obs_preds = instance_opt(\n",
    "    experimental_constraints[\"olf_mit\"],\n",
    "    MODEL_PARAMS,\"olf_mit\",\"IZHI\",\n",
    "    MU,NGEN,\"IBEA\",use_streamlit=False)\n",
    "\n"
   ]
  },
  {
   "cell_type": "code",
   "execution_count": null,
   "metadata": {},
   "outputs": [],
   "source": [
    "'''\n",
    "from deap import creator, base, tools\n",
    "import array\n",
    "toolbox = base.Toolbox()\n",
    "\n",
    "\n",
    "\n",
    "creator.create(\"FitnessMin\", base.Fitness, weights=tuple(-1.0 for i in range(0,8)))\n",
    "creator.create(\"Individual\", array.array, typecode='d', fitness=creator.FitnessMin)\n",
    "toolbox.register(\"population\", tools.initRepeat, list, creator.Individual)\n",
    "list_out = pickle.load(open('dump_neuron_olf.p','rb'))\n",
    "neuron_olf = list_out[1][0].dtc\n",
    "\n",
    "neuron_olf.SA\n",
    "neuron_olf.get_agreement()\n",
    "neuron_olf.agreement\n",
    "neuron_olf.SA\n",
    "neuron_olf.agreement    \n",
    "neuron_olf.name = 'olf_mit'\n",
    "'''"
   ]
  },
  {
   "cell_type": "code",
   "execution_count": null,
   "metadata": {},
   "outputs": [],
   "source": [
    "'''\n",
    "models_hh=[]\n",
    "for f in hh_files:\n",
    "    model = pickle.load(open(f,'rb'))\n",
    "    print(f)\n",
    "    try:\n",
    "        model.name = f\n",
    "        models_hh.append(model)\n",
    "    except:\n",
    "        pass\n",
    "models_hh_r = models_hh[::-1]\n",
    "for m in models_hh_r:\n",
    "    print(m.name)\n",
    "    \n",
    "\n",
    "models_hh_r.append(neuron_olf)\n",
    "\n",
    "models_hh.append(neuron_olf)\n",
    "'''"
   ]
  },
  {
   "cell_type": "code",
   "execution_count": null,
   "metadata": {},
   "outputs": [],
   "source": [
    "from sciunit.scores import ZScore\n",
    "from scipy.stats import norm\n",
    "import numpy as np\n",
    "\n",
    "\n",
    "import numpy as np\n",
    "import matplotlib.pyplot as plt\n",
    "from scipy.stats import norm\n",
    "import math\n",
    "\n",
    "\n",
    "#dtc = neuron_olf"
   ]
  },
  {
   "cell_type": "code",
   "execution_count": null,
   "metadata": {},
   "outputs": [],
   "source": [
    "'''\n",
    "fig,axes = plt.subplots(2,math.ceil(len(dtc.tests)/2),figsize=(20,8))\n",
    "plt.style.use('fivethirtyeight')\n",
    "\n",
    "#axes[0,0].plot(scores)\n",
    "axes[0,0].set_title('Optimized model position relative to data')\n",
    "\n",
    "for i,t in enumerate(dtc.tests):\n",
    "\n",
    "    t.score_type = ZScore\n",
    "    model = dtc.dtc_to_model()\n",
    "    score = t.judge(model)\n",
    "    x1 = -1.01\n",
    "    x2 = 1.0\n",
    "    sigma = 1.0\n",
    "    mu = 0\n",
    "    x = np.arange(-sigma, sigma, 0.001) # range of x in spec\n",
    "    x_all = np.arange(-sigma, sigma, 0.001) \n",
    "    y_point = norm.pdf(mu+float(score.raw),0,1)\n",
    "    y2 = norm.pdf(x_all,0,1)\n",
    "\n",
    "    y = norm.pdf(x,0,1)\n",
    "    y2 = norm.pdf(x_all,0,1)\n",
    "\n",
    "    ax = axes.flat[i]\n",
    "\n",
    "    x_point = mu+float(score.raw)\n",
    "\n",
    "    ax.scatter(x_point,y_point,c='r',s=300,marker='o')\n",
    "    name = t.name.split('Test')[0]\n",
    "\n",
    "    ax.set_title(str(name)+str(' ')+str(t.observation['mean'].units))\n",
    "    ax.plot(x_all,y2)\n",
    "    ax.set_xlim([-1.0,1.0])\n",
    "plt.show()\n",
    "\n",
    "'''"
   ]
  },
  {
   "cell_type": "code",
   "execution_count": null,
   "metadata": {},
   "outputs": [],
   "source": [
    "'''\n",
    "import numpy as np\n",
    "import matplotlib.pyplot as plt\n",
    "\n",
    "# Plot between -10 and 10 with .001 steps.\n",
    "x_axis = np.arange(-1, 1, 0.001)\n",
    "# Mean = 0, SD = 2.\n",
    "plt.plot(x_axis, norm.pdf(x_axis,0,10))\n",
    "plt.show()\n",
    "'''"
   ]
  },
  {
   "cell_type": "code",
   "execution_count": null,
   "metadata": {},
   "outputs": [],
   "source": [
    "import numpy as np\n",
    "import matplotlib.pyplot as plt\n",
    "import scipy.stats as scs\n",
    "from scipy.stats import norm\n",
    "\n",
    "def z_val(sig_level=0.05, two_tailed=True):\n",
    "    \"\"\"Returns the z value for a given significance level\"\"\"\n",
    "    z_dist = scs.norm()\n",
    "    if two_tailed:\n",
    "        sig_level = sig_level/2\n",
    "        area = 1 - sig_level\n",
    "    else:\n",
    "        area = 1 - sig_level\n",
    "\n",
    "    z = z_dist.ppf(area)\n",
    "\n",
    "    return z\n",
    "  \n",
    "  \n",
    "def zplot(x_point,y_point,area=0.95, two_tailed=True, align_right=False):\n",
    "    \"\"\"Plots a z distribution with common annotations\n",
    "    Example:\n",
    "        zplot(area=0.95)\n",
    "        zplot(area=0.80, two_tailed=False, align_right=True)\n",
    "    Parameters:\n",
    "        area (float): The area under the standard normal distribution curve.\n",
    "        align (str): The area under the curve can be aligned to the center\n",
    "            (default) or to the left.\n",
    "    Returns:\n",
    "        None: A plot of the normal distribution with annotations showing the\n",
    "        area under the curve and the boundaries of the area.\n",
    "    \"\"\"\n",
    "    # create plot object\n",
    "    fig = plt.figure(figsize=(12, 6))\n",
    "    ax = fig.subplots()\n",
    "    # create normal distribution\n",
    "    norm = scs.norm()\n",
    "    # create data points to plot\n",
    "    x = np.linspace(-5, 5, 1000)\n",
    "    y = norm.pdf(x)\n",
    "\n",
    "    ax.plot(x, y)\n",
    "    ax.scatter(x_point,y_point,c='r',s=300,marker='o')\n",
    "\n",
    "    # code to fill areas for two-tailed tests\n",
    "    if two_tailed:\n",
    "        left = norm.ppf(0.5 - area / 2)\n",
    "        right = norm.ppf(0.5 + area / 2)\n",
    "        ax.vlines(right, 0, norm.pdf(right), color='grey', linestyle='--')\n",
    "        ax.vlines(left, 0, norm.pdf(left), color='grey', linestyle='--')\n",
    "\n",
    "        ax.fill_between(x, 0, y, color='grey', alpha='0.25',\n",
    "                        where=(x > left) & (x < right))\n",
    "        plt.xlabel('z')\n",
    "        plt.ylabel('PDF')\n",
    "        plt.text(left, norm.pdf(left), \"z = {0:.3f}\".format(left), fontsize=12,\n",
    "                 rotation=90, va=\"bottom\", ha=\"right\")\n",
    "        plt.text(right, norm.pdf(right), \"z = {0:.3f}\".format(right),\n",
    "                 fontsize=12, rotation=90, va=\"bottom\", ha=\"left\")\n",
    "    # for one-tailed tests\n",
    "    else:\n",
    "        # align the area to the right\n",
    "        if align_right:\n",
    "            left = norm.ppf(1-area)\n",
    "            ax.vlines(left, 0, norm.pdf(left), color='grey', linestyle='--')\n",
    "            ax.fill_between(x, 0, y, color='grey', alpha='0.25',\n",
    "                            where=x > left)\n",
    "            plt.text(left, norm.pdf(left), \"z = {0:.3f}\".format(left),\n",
    "                     fontsize=12, rotation=90, va=\"bottom\", ha=\"right\")\n",
    "        # align the area to the left\n",
    "        else:\n",
    "            right = norm.ppf(area)\n",
    "            ax.vlines(right, 0, norm.pdf(right), color='grey', linestyle='--')\n",
    "            ax.fill_between(x, 0, y, color='grey', alpha='0.25',\n",
    "                            where=x < right)\n",
    "            plt.text(right, norm.pdf(right), \"z = {0:.3f}\".format(right),\n",
    "                     fontsize=12, rotation=90, va=\"bottom\", ha=\"left\")\n",
    "\n",
    "    # annotate the shaded area\n",
    "    plt.text(0, 0.1, \"shaded area = {0:.3f}\".format(area), fontsize=12,\n",
    "             ha='center')\n",
    "    # axis labels\n",
    "    plt.xlabel('z')\n",
    "    plt.ylabel('PDF')\n",
    "    "
   ]
  },
  {
   "cell_type": "code",
   "execution_count": null,
   "metadata": {},
   "outputs": [],
   "source": [
    "\n",
    "\n",
    "for i,t in enumerate(dtc.tests):\n",
    "\n",
    "    t.score_type = ZScore\n",
    "    model = dtc.dtc_to_model()\n",
    "    score = t.judge(model)\n",
    "    x1 = -1.01\n",
    "    x2 = 1.0\n",
    "    sigma = 1.0\n",
    "    mu = 0\n",
    "    x = np.arange(-sigma, sigma, 0.001) # range of x in spec\n",
    "    x_all = np.arange(-sigma, sigma, 0.001) \n",
    "    y_point = norm.pdf(mu+float(score.raw),0,1)\n",
    "    y2 = norm.pdf(x_all,0,1)\n",
    "\n",
    "    y = norm.pdf(x,0,1)\n",
    "    y2 = norm.pdf(x_all,0,1)\n",
    "\n",
    "    ax = axes.flat[i]\n",
    "\n",
    "    x_point = mu+float(score.raw)\n",
    "    zplot(x_point,y_point)\n",
    "    break\n",
    "    \n",
    "    ax.scatter(x_point,y_point,c='r',s=300,marker='o')\n",
    "    name = t.name.split('Test')[0]\n",
    "\n",
    "    ax.set_title(str(name)+str(' ')+str(t.observation['mean'].units))\n",
    "    ax.plot(x_all,y2)\n",
    "    ax.set_xlim([-1.0,1.0])\n",
    "    \n",
    "#plt.show()\n"
   ]
  },
  {
   "cell_type": "code",
   "execution_count": null,
   "metadata": {},
   "outputs": [],
   "source": [
    "for i,t in enumerate(dtc.tests):\n",
    "    print(t.name)"
   ]
  },
  {
   "cell_type": "code",
   "execution_count": null,
   "metadata": {},
   "outputs": [],
   "source": [
    "zplot(x_point,y_point)\n"
   ]
  },
  {
   "cell_type": "code",
   "execution_count": null,
   "metadata": {},
   "outputs": [],
   "source": []
  },
  {
   "cell_type": "code",
   "execution_count": null,
   "metadata": {},
   "outputs": [],
   "source": [
    "\n",
    "    \n",
    "list_of_dics = []    \n",
    "for m in models_hh_r:\n",
    "    name = str(m.name)\n",
    "    try:\n",
    "        name = name.split('dump_')[1]\n",
    "    except:\n",
    "        name = name\n",
    "    m.SA['name'] = name\n",
    "    temp = {str(k):v for k,v in m.SA.items()}\n",
    "    list_of_dics.append(temp)\n",
    "df_scores = pd.DataFrame(list_of_dics)\n",
    "df_scores\n",
    "df_scores = df_scores.set_index('name').T\n",
    "df_scores"
   ]
  },
  {
   "cell_type": "code",
   "execution_count": null,
   "metadata": {},
   "outputs": [],
   "source": [
    "models_izhi=[]\n",
    "for f in izhi_files:\n",
    "    model = pickle.load(open(f,'rb'))\n",
    "    model.name = f\n",
    "    #print(f)\n",
    "    models_izhi.append(model)\n",
    "    \n",
    "for m in models_izhi:\n",
    "    print(m.name)    \n",
    "    \n",
    "list_of_dics = []    \n",
    "for m in models_izhi:\n",
    "    name = str(m.name)\n",
    "    try:\n",
    "        name = name.split('dump_')[1]\n",
    "    except:\n",
    "        name = name\n",
    "    m.SA['name'] = name\n",
    "    temp = {str(k):v for k,v in m.SA.items()}\n",
    "    list_of_dics.append(temp)\n",
    "df_scores = pd.DataFrame(list_of_dics)\n",
    "df_scores\n",
    "df_scores = df_scores.set_index('name').T\n",
    "df_scores"
   ]
  },
  {
   "cell_type": "code",
   "execution_count": null,
   "metadata": {},
   "outputs": [],
   "source": [
    "from neuronunit.optimisation.optimization_management import check_match_front, inject_and_not_plot_model\n",
    "from neuronunit.capabilities.spike_functions import get_spike_waveforms#check_match_front, inject_and_not_plot_model\n",
    "\n",
    "vms_hh = []\n",
    "for dtc in models_hh_r:\n",
    "    vms_hh.append(get_spike_waveforms(inject_and_not_plot_model(dtc)))\n",
    "\n",
    "from matplotlib.pyplot import figure\n",
    "#figure(num=None, figsize=(50, 50), dpi=80)#, facecolor='w', edgecolor='k')\n",
    "plt.figure(figsize=(12, 12))\n",
    "print(len(vms_hh),len(models_hh))\n",
    "for v,f in zip(vms_hh,models_hh_r):\n",
    "    name = str(f.name)\n",
    "    try:\n",
    "        name2 = name.split('dump_hh_')[1]\n",
    "    except:\n",
    "        name2 = name\n",
    "    plt.plot(v.times, v.magnitude,label=name2)\n",
    "plt.xlabel('Time (ms)')\n",
    "\n",
    "plt.ylabel('V (mV)')\n",
    "plt.legend(loc=\"upper left\")\n",
    "\n",
    "plt.legend()\n",
    "plt.show()"
   ]
  },
  {
   "cell_type": "code",
   "execution_count": null,
   "metadata": {},
   "outputs": [],
   "source": [
    "\n",
    "vms_izhi = []\n",
    "for dtc in models_izhi:\n",
    "    dtc.backend = \"IZHI\"\n",
    "    vms_izhi.append(get_spike_waveforms(inject_and_not_plot_model(dtc)))\n",
    "\n",
    "plt.figure(figsize=(12, 12), dpi=80)\n",
    "print(len(vms_izhi),len(models_izhi))\n",
    "#figure(num=None, figsize=(125, 125), dpi=80, facecolor='w', edgecolor='k')\n",
    "\n",
    "for v,f in zip(vms_izhi,models_izhi):\n",
    "    name = str(f.name)\n",
    "    try:\n",
    "        name2 = name.split('dump_izhi_')[1]\n",
    "    except:\n",
    "        name2 = name\n",
    "    plt.plot(v.times, v.magnitude,label=name2)\n",
    "\n",
    "plt.xlabel('Time (ms)')\n",
    "\n",
    "plt.ylabel('V (mV)')\n",
    "plt.legend(loc=\"upper left\")\n",
    "\n",
    "plt.legend()\n",
    "plt.show()"
   ]
  },
  {
   "cell_type": "code",
   "execution_count": null,
   "metadata": {},
   "outputs": [],
   "source": [
    "plt.figure(figsize=(12, 12), dpi=80)\n",
    "colors = ['b','g','r','y']\n",
    "cnt = 0\n",
    "for v0,f0,v1,f1 in zip(vms_hh,models_hh_r,vms_izhi,models_izhi):\n",
    "    name = str(f0.name)\n",
    "    try:\n",
    "        name2 = name.split('dump_hh_')[1]\n",
    "    except:\n",
    "        name2 = name\n",
    "    plt.plot(v0.times, v0.magnitude,label=name2,c=colors[cnt])\n",
    "    plt.plot(v1.times, v1.magnitude,c=colors[cnt])\n",
    "\n",
    "    plt.xlabel('Time (ms)')\n",
    "\n",
    "    plt.ylabel('V (mV)')\n",
    "    plt.legend(loc=\"upper left\")\n",
    "\n",
    "    plt.legend()\n",
    "    plt.show()\n",
    "    cnt+=1"
   ]
  },
  {
   "cell_type": "code",
   "execution_count": null,
   "metadata": {},
   "outputs": [],
   "source": [
    "import pandas as pd\n",
    "pd.set_option('max_columns',None)\n",
    "pd.set_option('max_rows',None)\n",
    "#pd.set_option(\"max_colwidth\", None)\n",
    "\n",
    "\n",
    "for f0,f1 in zip(models_hh_r,models_izhi):\n",
    "    name2 = str(f0.name)\n",
    "    try:\n",
    "        name2 = name2.split('dump_')[1]\n",
    "    except:\n",
    "        name2 = name\n",
    "        \n",
    "    display(pd.DataFrame([{'test type':name2,'model type':f0.backend}]))    \n",
    "    f0.get_agreement()\n",
    "    df = f0.agreement\n",
    "    df = df.round(2)\n",
    "    display(df.round(2).T)\n",
    "    display(pd.DataFrame([{'test type':name2,'model type':f1.backend}]))    \n",
    "    f1.get_agreement()\n",
    "    df = f1.agreement\n",
    "    df = df.round(2)\n",
    "    display(df.round(2).T)"
   ]
  },
  {
   "cell_type": "code",
   "execution_count": null,
   "metadata": {},
   "outputs": [],
   "source": [
    "f0.get_agreement()\n",
    "f0.agreement"
   ]
  },
  {
   "cell_type": "code",
   "execution_count": null,
   "metadata": {},
   "outputs": [],
   "source": [
    "'''\n",
    "models_both = {}\n",
    "for f0,f1 in zip(models_hh_r,models_izhi):\n",
    "    models_both[str(f0)] = (f0,f1)\n",
    "    check_binary_match(f0,f1,snippets=False)\n",
    "'''    \n",
    "\n",
    "import pandas as pd\n",
    "pd.set_option('max_columns',None)\n",
    "pd.set_option('max_rows',None)\n",
    "\n",
    "list_of_dicts = []\n",
    "cnt = 0\n",
    "for f in all_files:\n",
    "    model = pickle.load(open(f,'rb'))\n",
    "\n",
    "    for t in model.tests:\n",
    "         \n",
    "        key = which_key(t.prediction)\n",
    "        temp = {'t.name':t.name,'prediction':t.prediction[key],'observation':t.observation['mean'],'model':model.backend}\n",
    "        list_of_dicts.append(temp)\n",
    "        '''\n",
    "        other = pd.DataFrame([temp]).T\n",
    "        if cnt>0:\n",
    "            other = pd.concat([other,other_old])\n",
    "        other_old = other\n",
    "        cnt+=1\n",
    "        '''\n",
    "df = pd.DataFrame(list_of_dicts)\n",
    "df\n",
    "#other"
   ]
  },
  {
   "cell_type": "code",
   "execution_count": null,
   "metadata": {},
   "outputs": [],
   "source": [
    "#check_binary_match(models[0],models[1],snippets=False)"
   ]
  },
  {
   "cell_type": "code",
   "execution_count": null,
   "metadata": {},
   "outputs": [],
   "source": [
    "#check_binary_match(models[0],models[1])"
   ]
  },
  {
   "cell_type": "code",
   "execution_count": null,
   "metadata": {},
   "outputs": [],
   "source": [
    "#check_binary_match(models[4],models[2],snippets=False)"
   ]
  },
  {
   "cell_type": "code",
   "execution_count": null,
   "metadata": {},
   "outputs": [],
   "source": [
    "'''\n",
    "models[1].get_agreement()\n",
    "models[0].get_agreement()\n",
    "\n",
    "models[3].get_agreement()\n",
    "models[5].get_agreement()\n",
    "'''"
   ]
  },
  {
   "cell_type": "code",
   "execution_count": null,
   "metadata": {},
   "outputs": [],
   "source": [
    "models[1].SA\n",
    "print(models[1].backend)\n",
    "models[1].agreement"
   ]
  },
  {
   "cell_type": "code",
   "execution_count": null,
   "metadata": {},
   "outputs": [],
   "source": [
    "models[2].SA\n",
    "models[2].get_agreement()"
   ]
  },
  {
   "cell_type": "code",
   "execution_count": null,
   "metadata": {},
   "outputs": [],
   "source": [
    "models[2].backend\n",
    "models[2].backend"
   ]
  },
  {
   "cell_type": "code",
   "execution_count": null,
   "metadata": {},
   "outputs": [],
   "source": [
    "models[4].get_agreement()"
   ]
  },
  {
   "cell_type": "code",
   "execution_count": null,
   "metadata": {},
   "outputs": [],
   "source": [
    "models[2].SA.sum()"
   ]
  },
  {
   "cell_type": "code",
   "execution_count": null,
   "metadata": {},
   "outputs": [],
   "source": [
    "models[4].SA.sum()"
   ]
  },
  {
   "cell_type": "code",
   "execution_count": null,
   "metadata": {},
   "outputs": [],
   "source": [
    "models[4].SA"
   ]
  },
  {
   "cell_type": "code",
   "execution_count": null,
   "metadata": {},
   "outputs": [],
   "source": [
    "from pprint import pprint\n",
    "print = pprint\n",
    "print(models[4].attrs)\n",
    "print(models[4].tests[3].observation)#['CapacitanceTest'].observation\n",
    "print(models[0].tests[3].observation)#['CapacitanceTest'].observation\n",
    "print(models[1].tests[3].observation)#['CapacitanceTest'].observation\n",
    "print(models[2].tests[3].observation)#['CapacitanceTest'].observation\n",
    "print(models[3].tests[3].observation)#['CapacitanceTest'].observation"
   ]
  },
  {
   "cell_type": "code",
   "execution_count": null,
   "metadata": {},
   "outputs": [],
   "source": [
    "models[4].attrs['C'] = 100.796\n",
    "models[4].self_evaluate()\n",
    "models[4].SA\n",
    "models[4].get_agreement()\n",
    "models[4].agreement"
   ]
  },
  {
   "cell_type": "markdown",
   "metadata": {},
   "source": [
    "# Optimizing the Izhi model remains an art, with human intervention.\n",
    "It can not be automated.\n",
    "# Capacitance is not felt properly,\n",
    "unless k,a,b and are right.\n",
    "Spike width and time constant is wrong.\n",
    "The width is 3 times too big.\n",
    "and the time constant 3 times too small.\n",
    "It would be better to optimize on \n",
    "'C', 'Width', 'TC'. Alone with just altering 'C', 'k', 'b','a'.\n",
    "\n",
    "Optimize Rheobase, Input resistance, and AP Threshold seperately."
   ]
  },
  {
   "cell_type": "code",
   "execution_count": null,
   "metadata": {},
   "outputs": [],
   "source": [
    "'''\n",
    "models[4].attrs['k'] \n",
    "models[4].attrs['k']  = 0.25\n",
    "models[4].self_evaluate()\n",
    "models[4].SA\n",
    "'''"
   ]
  },
  {
   "cell_type": "code",
   "execution_count": null,
   "metadata": {},
   "outputs": [],
   "source": [
    "'''\n",
    "print(models[4].attrs['b'])\n",
    "models[4].attrs['b']  = 5.25\n",
    "models[4].self_evaluate()\n",
    "models[4].SA\n",
    "'''"
   ]
  },
  {
   "cell_type": "code",
   "execution_count": null,
   "metadata": {},
   "outputs": [],
   "source": [
    "#check_binary_match(models[2],models[3],snippets=False)"
   ]
  },
  {
   "cell_type": "code",
   "execution_count": null,
   "metadata": {},
   "outputs": [],
   "source": [
    "#check_binary_match(models[2],models[3],snippets=True)"
   ]
  },
  {
   "cell_type": "code",
   "execution_count": null,
   "metadata": {},
   "outputs": [],
   "source": []
  },
  {
   "cell_type": "code",
   "execution_count": null,
   "metadata": {},
   "outputs": [],
   "source": [
    "models[3].attrs\n",
    "models[2].attrs"
   ]
  },
  {
   "cell_type": "markdown",
   "metadata": {},
   "source": [
    "# Suggesting vr does not do anything"
   ]
  },
  {
   "cell_type": "code",
   "execution_count": null,
   "metadata": {},
   "outputs": [],
   "source": [
    "from neuronunit.optimisation import model_parameters\n",
    "hh = model_parameters.MODEL_PARAMS[\"NEURONHH\"]\n",
    "hh"
   ]
  },
  {
   "cell_type": "code",
   "execution_count": null,
   "metadata": {},
   "outputs": [],
   "source": [
    "from neuronunit.optimisation.optimization_management import check_match_front, inject_and_not_plot_model\n",
    "dtcpop_hh = [models[0],models[3],models[4]]\n",
    "dtcpop_izhi = [models[1],models[2],models[5]]\n",
    "\n",
    "plt = check_match_front(models[0],dtcpop_hh)\n",
    "plt.show()"
   ]
  },
  {
   "cell_type": "code",
   "execution_count": null,
   "metadata": {},
   "outputs": [],
   "source": [
    "vms = []\n",
    "for dtc in dtcpop_hh:\n",
    "    vms.append(inject_and_not_plot_model(dtc))\n",
    "\n",
    "plt.figure()\n",
    "\n",
    "for v in vms:\n",
    "    plt.plot(v.times, v.magnitude)\n",
    "plt.show()"
   ]
  },
  {
   "cell_type": "code",
   "execution_count": null,
   "metadata": {},
   "outputs": [],
   "source": [
    "list_of_dicts = []\n",
    "for i in models:\n",
    "    for t in i.tests:\n",
    "        key = which_key(t.prediction)\n",
    "        list_of_dicts.append({'t.name':t.name,'prediction':t.prediction[key],'observation':t.observation['mean'],'model':i.backend})"
   ]
  },
  {
   "cell_type": "code",
   "execution_count": null,
   "metadata": {},
   "outputs": [],
   "source": [
    "df = pd.DataFrame(list_of_dicts)\n",
    "df"
   ]
  },
  {
   "cell_type": "code",
   "execution_count": null,
   "metadata": {},
   "outputs": [],
   "source": []
  },
  {
   "cell_type": "code",
   "execution_count": null,
   "metadata": {},
   "outputs": [],
   "source": []
  },
  {
   "cell_type": "code",
   "execution_count": null,
   "metadata": {},
   "outputs": [],
   "source": []
  }
 ],
 "metadata": {
  "kernelspec": {
   "display_name": "Python 3",
   "language": "python",
   "name": "python3"
  },
  "language_info": {
   "codemirror_mode": {
    "name": "ipython",
    "version": 3
   },
   "file_extension": ".py",
   "mimetype": "text/x-python",
   "name": "python",
   "nbconvert_exporter": "python",
   "pygments_lexer": "ipython3",
   "version": "3.7.4"
  }
 },
 "nbformat": 4,
 "nbformat_minor": 4
}
