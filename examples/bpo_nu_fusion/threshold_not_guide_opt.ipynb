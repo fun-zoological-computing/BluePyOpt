{
 "cells": [
  {
   "cell_type": "markdown",
   "metadata": {},
   "source": [
    "Set up a model optimisation pipeline. With all 10 parameters of the Izhikevich free.\n",
    "\n",
    "Experimental constraints are simulated."
   ]
  },
  {
   "cell_type": "code",
   "execution_count": 1,
   "metadata": {},
   "outputs": [],
   "source": [
    "%%capture\n",
    "\n",
    "import bluepyopt as bpop\n",
    "import bluepyopt.ephys as ephys\n",
    "import pickle\n",
    "from sciunit.scores import ZScore\n",
    "from sciunit import TestSuite\n",
    "from sciunit.scores.collections import ScoreArray\n",
    "import sciunit\n",
    "import numpy as np\n",
    "from neuronunit.optimisation.optimization_management import dtc_to_rheo, switch_logic,active_values\n",
    "from neuronunit.tests.base import AMPL, DELAY, DURATION\n",
    "\n",
    "import quantities as pq\n",
    "PASSIVE_DURATION = 500.0*pq.ms\n",
    "PASSIVE_DELAY = 200.0*pq.ms\n",
    "import matplotlib.pyplot as plt\n",
    "from bluepyopt.ephys.models import ReducedCellModel\n",
    "import numpy\n",
    "from neuronunit.optimisation.optimization_management import test_all_objective_test\n",
    "from neuronunit.optimisation.optimization_management import check_binary_match, three_step_protocol,inject_and_plot_passive_model\n",
    "from neuronunit.optimisation.model_parameters import MODEL_PARAMS\n",
    "import numpy as np\n",
    "\n",
    "\n",
    "simple_cell = ephys.models.ReducedCellModel(\n",
    "        name='simple_cell',\n",
    "        params=MODEL_PARAMS[\"IZHI\"],backend=\"IZHI\")  \n",
    "simple_cell.backend = \"IZHI\"\n",
    "\n",
    "model = simple_cell\n",
    "model.params = {k:np.mean(v) for k,v in model.params.items() }\n",
    "\n",
    "from sciunit.scores import ZScore\n",
    "tests = pickle.load(open(\"processed_multicellular_constraints.p\",\"rb\"))\n",
    "nu_tests = tests['Hippocampus CA1 pyramidal cell'].tests\n",
    "nu_tests[0].score_type = ZScore\n",
    "\n",
    "nu_tests, OM, target = test_all_objective_test(MODEL_PARAMS[\"IZHI\"],model_type=\"IZHI\",protocol={'allen':False,'elephant':True})\n",
    "\n",
    "\n",
    "\n",
    "\n",
    "nu_tests = list(nu_tests.values())\n",
    "nu_tests[0].score_type = ZScore\n",
    "target = three_step_protocol(target)\n",
    "target.rheobase\n",
    "target.everything;\n"
   ]
  },
  {
   "cell_type": "markdown",
   "metadata": {},
   "source": [
    "Contrive code pipeline such that threshold measurement and NU error functions derived from threshold measurements do not guide optimization error signal. Threshold measurements do not participate in optimization whatsoever."
   ]
  },
  {
   "cell_type": "code",
   "execution_count": 2,
   "metadata": {
    "lines_to_next_cell": 2
   },
   "outputs": [],
   "source": [
    "import copy\n",
    "whole_suite = copy.copy(nu_tests)\n",
    "nu_tests = nu_tests[0:4]"
   ]
  },
  {
   "cell_type": "code",
   "execution_count": 3,
   "metadata": {
    "lines_to_next_cell": 2
   },
   "outputs": [
    {
     "name": "stdout",
     "output_type": "stream",
     "text": [
      "{'C': <bluepyopt.parameters.Parameter object at 0x7fddb81bae50>, 'k': <bluepyopt.parameters.Parameter object at 0x7fddb81cf190>, 'vr': <bluepyopt.parameters.Parameter object at 0x7fddb81cf1d0>, 'vt': <bluepyopt.parameters.Parameter object at 0x7fddb81cf210>, 'vPeak': <bluepyopt.parameters.Parameter object at 0x7fddb81cf250>, 'a': <bluepyopt.parameters.Parameter object at 0x7fddb81cf290>, 'b': <bluepyopt.parameters.Parameter object at 0x7fddb81cf2d0>, 'c': <bluepyopt.parameters.Parameter object at 0x7fddb81cf310>, 'd': <bluepyopt.parameters.Parameter object at 0x7fddb81cf350>}\n"
     ]
    },
    {
     "data": {
      "application/vnd.jupyter.widget-view+json": {
       "model_id": "47484e1056df423aadaa233a4c337b24",
       "version_major": 2,
       "version_minor": 0
      },
      "text/plain": [
       "HBox(children=(FloatProgress(value=0.0, max=200.0), HTML(value='')))"
      ]
     },
     "metadata": {},
     "output_type": "display_data"
    },
    {
     "name": "stdout",
     "output_type": "stream",
     "text": [
      "\n"
     ]
    }
   ],
   "source": [
    "\n",
    "\n",
    "\n",
    "\n",
    "\n",
    "\n",
    "def initialise_test(v,rheobase):\n",
    "    v = switch_logic([v])\n",
    "    v = v[0]\n",
    "    k = v.name\n",
    "    if not hasattr(v,'params'):\n",
    "        v.params = {}\n",
    "    if not 'injected_square_current' in v.params.keys():    \n",
    "        v.params['injected_square_current'] = {}\n",
    "    if v.passive == False and v.active == True:\n",
    "        keyed = v.params['injected_square_current']\n",
    "        v.params = active_values(keyed,rheobase)\n",
    "        v.params['injected_square_current']['delay'] = DELAY\n",
    "        v.params['injected_square_current']['duration'] = DURATION\n",
    "    if v.passive == True and v.active == False:\n",
    "\n",
    "        v.params['injected_square_current']['amplitude'] =  -10*pq.pA\n",
    "        v.params['injected_square_current']['delay'] = PASSIVE_DELAY\n",
    "        v.params['injected_square_current']['duration'] = PASSIVE_DURATION\n",
    "\n",
    "    if v.name in str('RestingPotentialTest'):\n",
    "        v.params['injected_square_current']['delay'] = PASSIVE_DELAY\n",
    "        v.params['injected_square_current']['duration'] = PASSIVE_DURATION\n",
    "        v.params['injected_square_current']['amplitude'] = 0.0*pq.pA    \n",
    "        \n",
    "    return v\n",
    "\n",
    "class NUFeature_standard_suite(object):\n",
    "    def __init__(self,test,model):\n",
    "        self.test = test\n",
    "        self.model = model\n",
    "    def calculate_score(self,responses):\n",
    "        model = responses['model'].dtc_to_model()\n",
    "        model.attrs = responses['params']\n",
    "        \n",
    "        ##\n",
    "        # Last 4 lines entered\n",
    "        ##\n",
    "        if responses['rheobase'] is None:\n",
    "            return 100.0\n",
    "        if type(responses['rheobase']) is type(dict()):\n",
    "            if responses['rheobase']['value'] is None:\n",
    "                return 100.0\n",
    "        self.test = initialise_test(self.test,responses['rheobase'])\n",
    "        #if \"RestingPotential\" in str(self.test.name):            \n",
    "        #    print(self.test.observation,self.test.prediction)\n",
    "        if \"Rheobase\" in str(self.test.name):\n",
    "            prediction = {'value':responses['rheobase']}\n",
    "\n",
    "            score_gene = self.test.compute_score(self.test.observation,prediction)\n",
    "            try:\n",
    "\n",
    "                lns = np.abs(score_gene.log_norm_score)\n",
    "            except:\n",
    "                # works 1/2 time that log_norm_score does not work\n",
    "                # more informative than nominal bad score 100\n",
    "                #lns = float(score_gene.raw)\n",
    "\n",
    "                lns = np.abs(float(score_gene.raw))\n",
    "            return lns\n",
    "\n",
    "        else:\n",
    "            try:\n",
    "                score_gene = self.test.judge(model)\n",
    "            except:\n",
    "                return 100.0\n",
    "\n",
    "        if not isinstance(type(score_gene),type(None)):\n",
    "            if not isinstance(score_gene,sciunit.scores.InsufficientDataScore):\n",
    "                if not isinstance(type(score_gene.log_norm_score),type(None)):\n",
    "                    try:\n",
    "\n",
    "                        lns = np.abs(score_gene.log_norm_score)\n",
    "                    except:\n",
    "                        # works 1/2 time that log_norm_score does not work\n",
    "                        # more informative than nominal bad score 100\n",
    "                        lns = np.abs(score_gene.raw)\n",
    "                else:\n",
    "                    # works 1/2 time that log_norm_score does not work\n",
    "                    # more informative than nominal bad score 100\n",
    "\n",
    "                    lns = np.abs(score_gene.raw)\n",
    "            else:\n",
    "                prediction = self.test.generate_prediction(model)\n",
    "                lns = 100\n",
    "        if lns==np.inf:\n",
    "            \n",
    "\n",
    "            lns = float(score_gene.raw)\n",
    "        return lns\n",
    "\n",
    "    \n",
    "objectives = []\n",
    "#for protocol in sweep_protocols:\n",
    "#    stim_start = protocol.stimuli[0].step_delay\n",
    "#    stim_end = stim_start + protocol.stimuli[0].step_duration\n",
    "    \n",
    "for tt in nu_tests:\n",
    "    feature_name = '%s.%s' % (tt.name, tt.name)\n",
    "    ft = NUFeature_standard_suite(tt,model)\n",
    "    objective = ephys.objectives.SingletonObjective(\n",
    "        feature_name,\n",
    "        ft)\n",
    "    objectives.append(objective)\n",
    "\n",
    "score_calc = ephys.objectivescalculators.ObjectivesCalculator(objectives) \n",
    "        \n",
    "        \n",
    "#objectives[0]        \n",
    "\n",
    "\n",
    "\n",
    "# ### Creating the cell evaluator\n",
    "# \n",
    "# We will need an object that can use these objective definitions to calculate the scores from a protocol response. This is called a ScoreCalculator.\n",
    "\n",
    "\n",
    "\n",
    "\n",
    "lop={}\n",
    "from bluepyopt.parameters import Parameter\n",
    "for k,v in MODEL_PARAMS[\"IZHI\"].items():\n",
    "    p = Parameter(name=k,bounds=v,frozen=False)\n",
    "    lop[k] = p\n",
    "\n",
    "print(lop)\n",
    "simple_cell.params = lop\n",
    "\n",
    "nu_tests[0].judge(simple_cell)\n",
    "\n",
    "nu_tests[0].score_type = ZScore\n",
    "\n",
    "\n",
    "# Combining everything together we have a CellEvaluator. The CellEvaluator constructor has a field 'parameter_names' which contains the (ordered) list of names of the parameters that are used as input (and will be fitted later on).\n",
    "sweep_protocols = []\n",
    "for protocol_name, amplitude in [('step1', 0.05)]:\n",
    "\n",
    "    protocol = ephys.protocols.SweepProtocol(protocol_name, [None], [None])\n",
    "    sweep_protocols.append(protocol)\n",
    "twostep_protocol = ephys.protocols.SequenceProtocol('twostep', protocols=sweep_protocols)\n",
    "\n",
    "MODEL_PARAMS[\"IZHI\"]\n",
    "cell_evaluator = ephys.evaluators.CellEvaluator(\n",
    "        cell_model=simple_cell,\n",
    "        param_names=MODEL_PARAMS[\"IZHI\"].keys(),\n",
    "        fitness_protocols={twostep_protocol.name: twostep_protocol},\n",
    "        fitness_calculator=score_calc,\n",
    "        sim='euler')\n",
    "simple_cell.params_by_names(MODEL_PARAMS[\"IZHI\"].keys())\n",
    "simple_cell.params;\n",
    "\n",
    "\n",
    "# ### Evaluating the cell\n",
    "# \n",
    "# The cell can now be evaluate for a certain set of parameter values.\n",
    "\n",
    "# In[ ]:\n",
    "\n",
    "\n",
    "#default_params = MODEL_PARAMS[\"IZHI\"]\n",
    "#print(cell_evaluator.evaluate_with_dicts())\n",
    "\n",
    "\n",
    "# ## Setting up and running an optimisation\n",
    "# \n",
    "# Now that we have a cell template and an evaluator for this cell, we can set up an optimisation.\n",
    "import dask\n",
    "def dask_map_function(eval_,invalid_ind):\n",
    "    results = []\n",
    "    for x in invalid_ind:\n",
    "        y = dask.delayed(eval_)(x)\n",
    "        results.append(y)\n",
    "    fitnesses = dask.compute(*results)\n",
    "    return fitnesses\n",
    "\n",
    "\n",
    "#for mut,cxp in zip(range(0.1,0.1,1),range(0.1,0.1,1)):\n",
    "MU =40\n",
    "optimisation = bpop.optimisations.DEAPOptimisation(\n",
    "        evaluator=cell_evaluator,\n",
    "        offspring_size = MU,\n",
    "        map_function = dask_map_function,\n",
    "        selector_name='IBEA',\n",
    "        mutpb=0.015,\n",
    "        cxpb=0.35)\n",
    "\n",
    "\n",
    "# And this optimisation can be run for a certain number of generations\n",
    "\n",
    "\n",
    "\n",
    "final_pop, hall_of_fame, logs, hist = optimisation.run(max_ngen=200)\n",
    "\n"
   ]
  },
  {
   "cell_type": "code",
   "execution_count": 4,
   "metadata": {
    "lines_to_next_cell": 2
   },
   "outputs": [
    {
     "name": "stdout",
     "output_type": "stream",
     "text": [
      "fit regression line to avg fitness\n",
      "fit regression line to min fitness\n",
      "get the steepest slope\n"
     ]
    },
    {
     "data": {
      "image/png": "[encoded data removed]",
      "text/plain": [
       "<Figure size 432x288 with 1 Axes>"
      ]
     },
     "metadata": {
      "needs_background": "light"
     },
     "output_type": "display_data"
    }
   ],
   "source": [
    "'''\n",
    "for mut,cxp in zip(range(0.1,0.1,1),range(0.1,0.1,1)):\n",
    "    MU =10\n",
    "    optimisation = bpop.optimisations.DEAPOptimisation(\n",
    "            evaluator=cell_evaluator,\n",
    "            offspring_size = MU,\n",
    "            map_function = dask_map_function,\n",
    "            selector_name='IBEA',\n",
    "            mutpb=mut,\n",
    "            cxpb=cxp)\n",
    "'''\n",
    "\n",
    "    # And this optimisation can be run for a certain number of generations\n",
    "\n",
    "\n",
    "\n",
    "#final_pop, hall_of_fame, logs, hist = optimisation.run(max_ngen=10)\n",
    "\n",
    "\n",
    "gen_numbers = logs.select('gen')\n",
    "min_fitness = logs.select('min')\n",
    "max_fitness = logs.select('max')\n",
    "avg_fitness = logs.select('avg')\n",
    "print('fit regression line to avg fitness')\n",
    "print('fit regression line to min fitness')\n",
    "print('get the steepest slope')\n",
    "#np.diff(avg_fitness)\n",
    "#np.diff(min_fitness)\n",
    "#print(mut,cxp)\n",
    "plt.plot(gen_numbers,avg_fitness, label='avg fitness')\n",
    "plt.plot(gen_numbers,max_fitness, label='max fitness')\n",
    "plt.plot(gen_numbers,min_fitness, label='min fitness')\n",
    "plt.semilogy()\n",
    "plt.show()"
   ]
  },
  {
   "cell_type": "code",
   "execution_count": 5,
   "metadata": {},
   "outputs": [
    {
     "data": {
      "text/plain": [
       "RheobaseTest                      0.000215\n",
       "TimeConstantTest                  0.024846\n",
       "RestingPotentialTest              0.000048\n",
       "InputResistanceTest               0.007690\n",
       "CapacitanceTest                   0.031392\n",
       "InjectedCurrentAPWidthTest        0.052563\n",
       "InjectedCurrentAPAmplitudeTest    0.085867\n",
       "InjectedCurrentAPThresholdTest    0.002360\n",
       "dtype: float64"
      ]
     },
     "execution_count": 5,
     "metadata": {},
     "output_type": "execute_result"
    }
   ],
   "source": [
    "best_ind = hall_of_fame[0]\n",
    "best_ind_dict = cell_evaluator.param_dict(best_ind)\n",
    "model = cell_evaluator.cell_model\n",
    "cell_evaluator.param_dict(best_ind)\n",
    "model.attrs = {str(k):float(v) for k,v in cell_evaluator.param_dict(best_ind).items()}\n",
    "opt = model.model_to_dtc()\n",
    "opt.attrs = {str(k):float(v) for k,v in cell_evaluator.param_dict(best_ind).items()}\n",
    "opt.tests = whole_suite\n",
    "obs_preds = opt.make_pretty(whole_suite)\n",
    "opt.SA"
   ]
  },
  {
   "cell_type": "code",
   "execution_count": 6,
   "metadata": {
    "lines_to_next_cell": 2
   },
   "outputs": [
    {
     "data": {
      "image/png": "[encoded data removed]",
      "text/plain": [
       "<Figure size 432x288 with 1 Axes>"
      ]
     },
     "metadata": {
      "needs_background": "light"
     },
     "output_type": "display_data"
    },
    {
     "data": {
      "image/png": "[encoded data removed]",
      "text/plain": [
       "<Figure size 432x288 with 1 Axes>"
      ]
     },
     "metadata": {
      "needs_background": "light"
     },
     "output_type": "display_data"
    },
    {
     "data": {
      "text/plain": [
       "<Figure size 432x288 with 0 Axes>"
      ]
     },
     "metadata": {},
     "output_type": "display_data"
    },
    {
     "data": {
      "image/png": "[encoded data removed]",
      "text/plain": [
       "<Figure size 432x288 with 1 Axes>"
      ]
     },
     "metadata": {
      "needs_background": "light"
     },
     "output_type": "display_data"
    }
   ],
   "source": [
    "check_binary_match(target,opt,snippets=False,plotly=False)\n",
    "inject_and_plot_passive_model(opt,second=target,plotly=False)\n",
    "check_binary_match(target,opt,snippets=True,plotly=False)"
   ]
  },
  {
   "cell_type": "code",
   "execution_count": 7,
   "metadata": {},
   "outputs": [
    {
     "data": {
      "image/png": "[encoded data removed]",
      "text/plain": [
       "<Figure size 432x288 with 1 Axes>"
      ]
     },
     "metadata": {
      "needs_background": "light"
     },
     "output_type": "display_data"
    }
   ],
   "source": [
    "from mpl_toolkits.mplot3d import Axes3D\n",
    "import matplotlib.pyplot as plt\n",
    "\n",
    "\n",
    "\n",
    "def hof_to_euclid(hof,MODEL_PARAMS,target):\n",
    "    lengths = {}\n",
    "    tv = 1\n",
    "    cnt = 0\n",
    "    constellation0 = hof[0]\n",
    "    constellation1 = hof[1]\n",
    "    tg = target.dtc_to_gene()\n",
    "    print(tg)\n",
    "    if len(MODEL_PARAMS)==1:\n",
    "        \n",
    "        ax = plt.subplot()\n",
    "        for k,v in MODEL_PARAMS.items():\n",
    "            lengths[k] = np.abs(np.abs(v[1])-np.abs(v[0]))\n",
    "\n",
    "            x = [h[cnt] for h in hof]\n",
    "            y = [0 for h in hof]\n",
    "            ax.set_xlim(v[0],v[1])\n",
    "            ax.set_xlabel(k)\n",
    "            tgene = tg[cnt]\n",
    "            yg = 0\n",
    "\n",
    "            #if cnt==1:\n",
    "            #    y = [h[cnt] for h in hof]\n",
    "            #    ax.set_ylim(v[0],v[1])\n",
    "            #    ax.set_ylabel(k)\n",
    "            #cnt+=1\n",
    "\n",
    "        ax.scatter(x, y, c='b', marker='o',label='samples')\n",
    "        ax.scatter(tgene, yg, c='r', marker='*',label='target')\n",
    "        ax.legend()\n",
    "\n",
    "        plt.show()\n",
    "    \n",
    "    \n",
    "    if len(MODEL_PARAMS)==2:\n",
    "        \n",
    "        ax = plt.subplot()\n",
    "        for k,v in MODEL_PARAMS.items():\n",
    "            lengths[k] = np.abs(np.abs(v[1])-np.abs(v[0]))\n",
    "                \n",
    "            if cnt==0:\n",
    "                tgenex = tg[cnt]\n",
    "                x = [h[cnt] for h in hof]\n",
    "                ax.set_xlim(v[0],v[1])\n",
    "                ax.set_xlabel(k)\n",
    "            if cnt==1:\n",
    "                tgeney = tg[cnt]\n",
    "\n",
    "                y = [h[cnt] for h in hof]\n",
    "                ax.set_ylim(v[0],v[1])\n",
    "                ax.set_ylabel(k)\n",
    "            cnt+=1\n",
    "\n",
    "        ax.scatter(x, y, c='r', marker='o',label='samples',s=5)\n",
    "        ax.scatter(tgenex, tgeney, c='b', marker='*',label='target',s=11)\n",
    "\n",
    "        ax.legend()\n",
    "\n",
    "        plt.show()\n",
    "    \n",
    "    if len(MODEL_PARAMS)==3:\n",
    "        fig = plt.figure()\n",
    "        ax = fig.add_subplot(111, projection='3d')\n",
    "        for k,v in MODEL_PARAMS.items():\n",
    "            lengths[k] = np.abs(np.abs(v[1])-np.abs(v[0]))\n",
    "\n",
    "            if cnt==0:\n",
    "                x = [h[cnt] for h in hof]\n",
    "                ax.set_xlim(v[0],v[1])\n",
    "                ax.set_xlabel(k)\n",
    "            if cnt==1:\n",
    "                y = [h[cnt] for h in hof]\n",
    "                ax.set_ylim(v[0],v[1])\n",
    "                ax.set_ylabel(k)\n",
    "            if cnt==2:\n",
    "                z = [h[cnt] for h in hof]\n",
    "                ax.set_zlim(v[0],v[1])\n",
    "                ax.set_zlabel(k)\n",
    "\n",
    "            cnt+=1\n",
    "\n",
    "        ax.scatter(x, y, z, c='r', marker='o')\n",
    "        plt.show()\n",
    "        \n",
    "\n",
    "gen_numbers = logs.select('gen')\n",
    "min_fitness = logs.select('min')\n",
    "max_fitness = logs.select('max')\n",
    "avg_fitness = logs.select('avg')\n",
    "\n",
    "plt.clf()\n",
    "plt.plot(gen_numbers, max_fitness, label='max fitness')\n",
    "plt.plot(gen_numbers, avg_fitness, label='avg fitness')\n",
    "plt.plot(gen_numbers, min_fitness, label='min fitness')\n",
    "\n",
    "plt.xlabel('generation #')\n",
    "plt.ylabel('score (# std)')\n",
    "plt.yscale('log')\n",
    "\n",
    "plt.legend()\n",
    "plt.xlim(min(gen_numbers) - 1, max(gen_numbers) + 1) \n",
    "#plt.ylim(0.9*min(min_fitness), 1.1 * max(min_fitness)) \n",
    "plt.show()"
   ]
  },
  {
   "cell_type": "code",
   "execution_count": 8,
   "metadata": {},
   "outputs": [
    {
     "name": "stdout",
     "output_type": "stream",
     "text": [
      "['__class__', '__delattr__', '__dict__', '__dir__', '__doc__', '__eq__', '__format__', '__ge__', '__getattribute__', '__gt__', '__hash__', '__init__', '__init_subclass__', '__le__', '__lt__', '__module__', '__ne__', '__new__', '__reduce__', '__reduce_ex__', '__repr__', '__setattr__', '__sizeof__', '__str__', '__subclasshook__', '__weakref__', 'decorator', 'genealogy_history', 'genealogy_index', 'genealogy_tree', 'getGenealogy', 'update']\n"
     ]
    }
   ],
   "source": [
    "len(MODEL_PARAMS['IZHI'])\n",
    "print(dir(hist))"
   ]
  },
  {
   "cell_type": "code",
   "execution_count": 9,
   "metadata": {},
   "outputs": [
    {
     "name": "stdout",
     "output_type": "stream",
     "text": [
      "Individual('d', [178.22912193069703, 0.01875989201786978, -1.6611484257737807, -53.114373241182044, 143.87291798100995, 1.5793053613880499, 34.720259407244775, -60.596970118218515, -45.276259868932364])\n",
      "Individual('d', [178.22912193069703, 0.01875989201786978, -1.6611484257737807, -53.114373241182044, 143.87291798100995, 1.5793053613880499, 34.720259407244775, -60.596970118218515, -45.276259868932364])\n"
     ]
    }
   ],
   "source": [
    "hof_to_euclid(hall_of_fame,MODEL_PARAMS['IZHI'],target)\n",
    "hof_to_euclid(list(hist.genealogy_history.values()),MODEL_PARAMS['IZHI'],target)"
   ]
  },
  {
   "cell_type": "code",
   "execution_count": 10,
   "metadata": {},
   "outputs": [
    {
     "ename": "NameError",
     "evalue": "name 'dtc' is not defined",
     "output_type": "error",
     "traceback": [
      "\u001b[0;31m---------------------------------------------------------------------------\u001b[0m",
      "\u001b[0;31mNameError\u001b[0m                                 Traceback (most recent call last)",
      "\u001b[0;32m<ipython-input-10-35840bdcbad5>\u001b[0m in \u001b[0;36m<module>\u001b[0;34m\u001b[0m\n\u001b[1;32m      1\u001b[0m \u001b[0mopt\u001b[0m \u001b[0;34m=\u001b[0m \u001b[0mmodel\u001b[0m\u001b[0;34m.\u001b[0m\u001b[0mmodel_to_dtc\u001b[0m\u001b[0;34m(\u001b[0m\u001b[0;34m)\u001b[0m\u001b[0;34m\u001b[0m\u001b[0;34m\u001b[0m\u001b[0m\n\u001b[0;32m----> 2\u001b[0;31m \u001b[0mopt\u001b[0m \u001b[0;34m=\u001b[0m \u001b[0mdtc_to_rheo\u001b[0m\u001b[0;34m(\u001b[0m\u001b[0mdtc\u001b[0m\u001b[0;34m)\u001b[0m\u001b[0;34m\u001b[0m\u001b[0;34m\u001b[0m\u001b[0m\n\u001b[0m",
      "\u001b[0;31mNameError\u001b[0m: name 'dtc' is not defined"
     ]
    }
   ],
   "source": [
    "opt = model.model_to_dtc()\n",
    "opt = dtc_to_rheo(dtc)"
   ]
  },
  {
   "cell_type": "code",
   "execution_count": null,
   "metadata": {
    "lines_to_next_cell": 2
   },
   "outputs": [],
   "source": [
    "\n",
    "def plot_score_history(logbook,weights):\n",
    "    \"\"\"Plot the history of each of the scores over generations.\"\"\"\n",
    "    rows = 2\n",
    "    cols = math.ceil((len(weights) + 1) / 2)\n",
    "    fig, axes = plt.subplots(rows, cols, figsize=(20, 8))\n",
    "    scores = [x[\"best\"][0] for x in logbook]\n",
    "    axes[0, 0].plot(scores)\n",
    "    axes[0, 0].set_title(\"Total\")\n",
    "    for j, (feature, stat, weight) in enumerate(weights):\n",
    "        ax = axes.flat[j + 1]\n",
    "        history = [x[\"best\"][j + 1] for x in logbook]\n",
    "        ax.plot(history)\n",
    "        ax.set_title(feature)\n",
    "    axes[0, 0].set_xlabel(\"Generation\")\n",
    "    plt.tight_layout()\n",
    "\n",
    "\n",
    "# The optimisation has return us 4 objects: final population, hall of fame, statistical logs and history. \n",
    "# \n",
    "# The final population contains a list of tuples, with each tuple representing the two parameters of the model\n",
    "\n",
    "\n",
    "print('Final population: ', final_pop)\n",
    "\n",
    "\n",
    "# The best individual found during the optimisation is the first individual of the hall of fame\n",
    "\n",
    "best_ind = hall_of_fame[0]\n",
    "print('Best individual: ', best_ind)\n",
    "print('Fitness values: ', best_ind.fitness.values)\n",
    "\n",
    "\n",
    "# We can evaluate this individual and make use of a convenience function of the cell evaluator to return us a dict of the parameters\n",
    "\n",
    "\n",
    "best_ind_dict = cell_evaluator.param_dict(best_ind)\n",
    "print(cell_evaluator.evaluate_with_dicts(best_ind_dict))\n",
    "\n",
    "\n",
    "model = cell_evaluator.cell_model\n",
    "cell_evaluator.param_dict(best_ind)\n",
    "model.attrs = {str(k):float(v) for k,v in cell_evaluator.param_dict(best_ind).items()}\n",
    "\n",
    "\n",
    "\n",
    "opt = model.model_to_dtc()\n",
    "opt.attrs = {str(k):float(v) for k,v in cell_evaluator.param_dict(best_ind).items()}\n",
    "\n",
    "check_binary_match(target,opt)\n",
    "inject_and_plot_passive_model(opt,second=target)\n",
    "\n",
    "\n",
    "# As you can see the evaluation returns the same values as the fitness values provided by the optimisation output. \n",
    "# We can have a look at the responses now.\n",
    "\n",
    "# In[ ]:\n",
    "\n",
    "\n",
    "#plot_responses(twostep_protocol.run(cell_model=simple_cell, param_values=best_ind_dict, sim=nrn))\n",
    " \n",
    "\n",
    "\n",
    "# Let's have a look at the optimisation statistics.\n",
    "# We can plot the minimal score (sum of all objective scores) found in every optimisation. \n",
    "# The optimisation algorithm uses negative fitness scores, so we actually have to look at the maximum values log.\n",
    "\n",
    "gen_numbers = logs.select('gen')\n",
    "min_fitness = logs.select('min')\n",
    "max_fitness = logs.select('max')\n",
    "plt.plot(gen_numbers, min_fitness, label='min fitness')\n",
    "plt.xlabel('generation #')\n",
    "plt.ylabel('score (# std)')\n",
    "plt.legend()\n",
    "plt.xlim(min(gen_numbers) - 1, max(gen_numbers) + 1) \n",
    "plt.ylim(0.9*min(min_fitness), 1.1 * max(min_fitness)) "
   ]
  },
  {
   "cell_type": "code",
   "execution_count": null,
   "metadata": {},
   "outputs": [],
   "source": [
    "from numpy import linalg as LA\n",
    "def hof_to_euclid(hof,MODEL_PARAMS):\n",
    "    lengths = {}\n",
    "    tv = 1\n",
    "    for k,v in MODEL_PARAMS.items():\n",
    "        lengths[k] = np.abs(np.abs(v[1])-np.abs(v[0]))\n",
    "        tv = tv*lengths[k]\n",
    "    cnt=0\n",
    "    for k,v in MODEL_PARAMS.items():        \n",
    "        cnt+=1\n",
    "        distance_per_paramater[k] = ((sum(hof[0][cnt]-hof[1][cnt])**2)**0.5)/lengths[k]\n",
    "    \n",
    "    #distance_between_genes = sum((x - y) ** 2 for (x, y) in zip(constellation0, constellation1)) ** 0.5\n",
    "    \n",
    "    return distance_per_paramater[k]\n",
    "distance_between_genes = hof_to_euclid(hall_of_fame,MODEL_PARAMS['IZHI'])\n",
    "distance_between_genes"
   ]
  },
  {
   "cell_type": "code",
   "execution_count": null,
   "metadata": {},
   "outputs": [],
   "source": [
    "from mpl_toolkits.mplot3d import Axes3D\n",
    "import matplotlib.pyplot as plt\n",
    "\n",
    "\n",
    "\n",
    "def hof_to_euclid(hof,MODEL_PARAMS):\n",
    "    lengths = {}\n",
    "    tv = 1\n",
    "    cnt = 0\n",
    "    constellation0 = hof[0]\n",
    "    constellation1 = hof[1]\n",
    "    if len(MODEL_PARAMS)==2:\n",
    "        \n",
    "        ax = plt.subplot()\n",
    "        for k,v in MODEL_PARAMS.items():\n",
    "            lengths[k] = np.abs(np.abs(v[1])-np.abs(v[0]))\n",
    "\n",
    "            if cnt==0:\n",
    "                x = [h[cnt] for h in hof]\n",
    "                ax.set_xlim(v[0],v[1])\n",
    "                ax.set_xlabel(k)\n",
    "            if cnt==1:\n",
    "                y = [h[cnt] for h in hof]\n",
    "                ax.set_ylim(v[0],v[1])\n",
    "                ax.set_ylabel(k)\n",
    "            cnt+=1\n",
    "\n",
    "        ax.scatter(x, y, c='r', marker='o')\n",
    "        plt.show()\n",
    "    \n",
    "    if len(MODEL_PARAMS)==3:\n",
    "        fig = plt.figure()\n",
    "        ax = fig.add_subplot(111, projection='3d')\n",
    "        for k,v in MODEL_PARAMS.items():\n",
    "            lengths[k] = np.abs(np.abs(v[1])-np.abs(v[0]))\n",
    "\n",
    "            if cnt==0:\n",
    "                x = [h[cnt] for h in hof]\n",
    "                ax.set_xlim(v[0],v[1])\n",
    "                ax.set_xlabel(k)\n",
    "            if cnt==1:\n",
    "                y = [h[cnt] for h in hof]\n",
    "                ax.set_ylim(v[0],v[1])\n",
    "                ax.set_ylabel(k)\n",
    "            if cnt==2:\n",
    "                z = [h[cnt] for h in hof]\n",
    "                ax.set_zlim(v[0],v[1])\n",
    "                ax.set_zlabel(k)\n",
    "\n",
    "            cnt+=1\n",
    "\n",
    "        ax.scatter(x, y, z, c='r', marker='o')\n",
    "        plt.show()\n",
    "hof_to_euclid(hall_of_fame,MODEL_PARAMS['IZHI'])"
   ]
  },
  {
   "cell_type": "code",
   "execution_count": null,
   "metadata": {},
   "outputs": [],
   "source": [
    "print(hall_of_fame[0])\n",
    "print(hall_of_fame[1])\n",
    "for h in hall_of_fame:\n",
    "    print(h)"
   ]
  },
  {
   "cell_type": "code",
   "execution_count": null,
   "metadata": {
    "lines_to_next_cell": 2
   },
   "outputs": [],
   "source": [
    "gen_numbers = logs.select('gen')\n",
    "min_fitness = logs.select('min')\n",
    "max_fitness = logs.select('max')\n",
    "avg_fitness = logs.select('avg')\n",
    "\n",
    "plt.clf()\n",
    "plt.plot(gen_numbers, max_fitness, label='max fitness')\n",
    "plt.plot(gen_numbers, avg_fitness, label='avg fitness')\n",
    "plt.plot(gen_numbers, min_fitness, label='min fitness')\n",
    "\n",
    "plt.xlabel('generation #')\n",
    "plt.ylabel('score (# std)')\n",
    "plt.yscale('log')\n",
    "\n",
    "plt.legend()\n",
    "plt.xlim(min(gen_numbers) - 1, max(gen_numbers) + 1) \n",
    "#plt.ylim(0.9*min(min_fitness), 1.1 * max(min_fitness)) \n",
    "plt.show()"
   ]
  },
  {
   "cell_type": "code",
   "execution_count": null,
   "metadata": {},
   "outputs": [],
   "source": [
    "gen_numbers = logs.select('gen')\n",
    "min_fitness = logs.select('min')\n",
    "max_fitness = logs.select('max')\n",
    "avg_fitness = logs.select('avg')\n",
    "\n",
    "plt.clf()\n",
    "fig = plt.figure(figsize=(10,10))\n",
    "#ax = fig.add_subplot(1,1)\n",
    "\n",
    "plt.plot(gen_numbers, min_fitness, label='min fitness')\n",
    "#ax.semilogy()\n",
    "#ax.set_yscale('log')\n",
    "plt.yscale('log')\n",
    "\n",
    "plt.xlabel('generation #')\n",
    "plt.ylabel('score (# std)')\n",
    "plt.legend()\n",
    "plt.xlim(min(gen_numbers) - 1, max(gen_numbers) + 1) \n",
    "#plt.ylim(0.9*min(min_fitness), 1.1 * max(min_fitness)) \n",
    "plt.show()"
   ]
  },
  {
   "cell_type": "code",
   "execution_count": null,
   "metadata": {
    "lines_to_next_cell": 2
   },
   "outputs": [],
   "source": [
    "inject_and_plot_passive_model(opt,second=target,plotly=False)"
   ]
  },
  {
   "cell_type": "code",
   "execution_count": null,
   "metadata": {
    "lines_to_next_cell": 2
   },
   "outputs": [],
   "source": [
    "check_binary_match(opt,target,plotly=False,snippets=False)\n",
    "check_binary_match(opt,target,plotly=False,snippets=True)"
   ]
  },
  {
   "cell_type": "code",
   "execution_count": null,
   "metadata": {},
   "outputs": [],
   "source": [
    "best_ind_dict = cell_evaluator.param_dict(best_ind)\n",
    "objectives = cell_evaluator.evaluate_with_dicts(best_ind_dict)"
   ]
  },
  {
   "cell_type": "code",
   "execution_count": null,
   "metadata": {},
   "outputs": [],
   "source": [
    "objectives"
   ]
  },
  {
   "cell_type": "code",
   "execution_count": null,
   "metadata": {
    "lines_to_next_cell": 2
   },
   "outputs": [],
   "source": [
    "opt = dtc_to_rheo(opt)\n",
    "print(opt.rheobase)"
   ]
  },
  {
   "cell_type": "code",
   "execution_count": null,
   "metadata": {},
   "outputs": [],
   "source": [
    "target.rheobase"
   ]
  },
  {
   "cell_type": "code",
   "execution_count": null,
   "metadata": {},
   "outputs": [],
   "source": [
    "params = {}\n",
    "params['injected_square_current'] = {}\n",
    "#if v.name in str('RestingPotentialTest'):\n",
    "params['injected_square_current']['delay'] = PASSIVE_DELAY\n",
    "params['injected_square_current']['duration'] = PASSIVE_DURATION\n",
    "params['injected_square_current']['amplitude'] = 0.0*pq.pA    "
   ]
  },
  {
   "cell_type": "code",
   "execution_count": null,
   "metadata": {},
   "outputs": [],
   "source": [
    "\n",
    "opt_model = opt.dtc_to_model()\n",
    "opt_model.inject_square_current(params)\n",
    "opt_vm = opt_model.get_membrane_potential()\n",
    "opt_vm[-1]"
   ]
  },
  {
   "cell_type": "code",
   "execution_count": null,
   "metadata": {},
   "outputs": [],
   "source": [
    "target_model = target.dtc_to_model()\n",
    "target_model.inject_square_current(params)\n",
    "target_vm = target_model.get_membrane_potential()\n",
    "target_vm[-1]"
   ]
  },
  {
   "cell_type": "code",
   "execution_count": null,
   "metadata": {
    "lines_to_next_cell": 2
   },
   "outputs": [],
   "source": [
    "best_ind = hall_of_fame[1]\n",
    "print('Best individual: ', best_ind)\n",
    "print('Fitness values: ', best_ind.fitness.values)\n",
    "\n",
    "\n",
    "# We can evaluate this individual and make use of a convenience function of the cell evaluator to return us a dict of the parameters\n",
    "\n",
    "\n",
    "best_ind_dict = cell_evaluator.param_dict(best_ind)\n",
    "print(cell_evaluator.evaluate_with_dicts(best_ind_dict))\n",
    "\n",
    "\n",
    "model = cell_evaluator.cell_model\n",
    "dtc= model.model_to_dtc()\n",
    "opt = dtc_to_rheo(opt)\n",
    "print(opt.rheobase)"
   ]
  },
  {
   "cell_type": "code",
   "execution_count": null,
   "metadata": {},
   "outputs": [],
   "source": [
    "#model.rheobase"
   ]
  },
  {
   "cell_type": "code",
   "execution_count": null,
   "metadata": {
    "lines_to_next_cell": 2
   },
   "outputs": [],
   "source": [
    "len(hist.genealogy_history)/20"
   ]
  },
  {
   "cell_type": "code",
   "execution_count": null,
   "metadata": {},
   "outputs": [],
   "source": [
    "import pandas as pd\n",
    "import seaborn as sns\n",
    "logbook = logs\n",
    "#scores = [ m for m in logs ]\n",
    "'''\n",
    "list_of_dicts = []\n",
    "df1 = pd.DataFrame()\n",
    "genes=[]\n",
    "for _,v in hist.genealogy_history.items():\n",
    "    genes.append(v.fitness.values)\n",
    "for j,i in enumerate(objectives.keys()):\n",
    "    index = i.split('.')[0]\n",
    "    df1[str(index)] = pd.Series(genes).values[j]#, index=df1.index)\n",
    "\n",
    "'''\n",
    "MU =20\n",
    "genes=[]\n",
    "min_per_generations = []\n",
    "for i,v in hist.genealogy_history.items():\n",
    "    if i%25==0:\n",
    "        min_per_gen = sorted([(gene,np.min(gene)) for gene in genes],key=lambda x: x[1])\n",
    "        min_per_generations.append(min_per_gen[0][0])\n",
    "        genes =[]\n",
    "    genes.append(v.fitness.values)\n",
    "df2 = pd.DataFrame()\n",
    "scores = []\n",
    "for j,i in enumerate(objectives.keys()):\n",
    "    index = i.split('.')[0]\n",
    "    if j<len(min_per_generations):\n",
    "        df2[index] = pd.Series(min_per_generations).values[j]#, index=df1.index)\n",
    "        #scores.append(df2[str(i)])\n",
    "df2    \n",
    "\n",
    "#rescored = [np.sum(i) for i in range(0,len(scores)) ]\n",
    "#rescored"
   ]
  },
  {
   "cell_type": "code",
   "execution_count": null,
   "metadata": {},
   "outputs": [],
   "source": [
    "import math\n",
    "import seaborn as sns\n",
    "sns.set(style=\"darkgrid\")\n",
    "\n",
    "fig,axes = plt.subplots(3,3,figsize=(20,20))#math.ceil(len(objectives)/2+1),figsize=(20,20))\n",
    "axes[0,0].plot(gen_numbers, min_fitness, label='min fitness')\n",
    "\n",
    "axes[0,0].set_title('Observation/Prediction Disagreement')\n",
    "for i,c in enumerate(df2.columns):\n",
    "    ax = axes.flat[i+1]\n",
    "    history = df2[c]\n",
    "    #mn = mean[k.name] \n",
    "    #st = std[k.name] \n",
    "    #history = [(j[i]-mn)/st for j in scores ]\n",
    "    #ax.axhline(y=mn , xmin=0.02, xmax=0.99,color='red',label='best candidate sampled')\n",
    "\n",
    "    #ax.axvline(x=min_x , ymin=0.02, ymax=0.99,color='blue',label='best candidate sampled')\n",
    "    ax.plot(history)\n",
    "    ax.set_title(str(c))\n",
    "    #bigger = np.max([np.max(history),mn])\n",
    "    #smaller = np.max([np.min(history),mn])\n",
    "\n",
    "    #ax.set_ylim([np.min(history),np.max(history)])\n",
    "    #ax.set_ylabel(str(front[0].dtc.tests[i].observation['std'].units))\n",
    "axes[0,0].set_xlabel(\"Generation\")\n",
    "axes[0,0].set_ylabel(\"standardized error\")\n",
    "\n",
    "plt.tight_layout()\n",
    "#if figname is not None:\n",
    "#    plt.savefig(figname)\n",
    "#else:\n",
    "plt.show()"
   ]
  },
  {
   "cell_type": "code",
   "execution_count": null,
   "metadata": {},
   "outputs": [],
   "source": [
    "import pandas as pd\n",
    "import seaborn as sns\n",
    "logbook = logs\n",
    "#scores = [ m for m in logs ]\n",
    "list_of_dicts = []\n",
    "df1 = pd.DataFrame()\n",
    "genes=[]\n",
    "for _,v in hist.genealogy_history.items():\n",
    "    genes.append(v.fitness.values)\n",
    "for j,i in enumerate(objectives.keys()):\n",
    "    index = i.split('.')[0]\n",
    "    df1[str(index)] = pd.Series(genes).values[j]#, index=df1.index)\n",
    "\n",
    "df1=(df1-df1.mean())/df1.std()\n",
    "\n",
    "corr = df1.corr()\n",
    "fig =plt.figure(figsize=(10,10))\n",
    "sns.heatmap(corr, \n",
    "        xticklabels=corr.columns,\n",
    "        yticklabels=corr.columns)#, annot=True)\n",
    "plt.show()\n"
   ]
  },
  {
   "cell_type": "code",
   "execution_count": null,
   "metadata": {},
   "outputs": [],
   "source": [
    "print(np.sum(np.sum(corr)))"
   ]
  },
  {
   "cell_type": "code",
   "execution_count": null,
   "metadata": {},
   "outputs": [],
   "source": []
  }
 ],
 "metadata": {
  "jupytext": {
   "formats": "ipynb,py:light,Rmd"
  },
  "kernelspec": {
   "display_name": "Python 3",
   "language": "python",
   "name": "python3"
  },
  "language_info": {
   "codemirror_mode": {
    "name": "ipython",
    "version": 3
   },
   "file_extension": ".py",
   "mimetype": "text/x-python",
   "name": "python",
   "nbconvert_exporter": "python",
   "pygments_lexer": "ipython3",
   "version": "3.7.4"
  }
 },
 "nbformat": 4,
 "nbformat_minor": 2
}
