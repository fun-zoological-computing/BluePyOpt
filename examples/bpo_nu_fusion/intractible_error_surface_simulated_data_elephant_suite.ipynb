{
 "cells": [
  {
   "cell_type": "markdown",
   "metadata": {},
   "source": [
    "Here we remove all but one parameter from the dictionary of free parameters.\n",
    "\n",
    "Parameters \"popped\" from this dictionary are frozen only 'a' is left and free to vary.\n"
   ]
  },
  {
   "cell_type": "code",
   "execution_count": 1,
   "metadata": {},
   "outputs": [
    {
     "name": "stdout",
     "output_type": "stream",
     "text": [
      "OrderedDict([('a', (0.01, 0.1))])\n"
     ]
    }
   ],
   "source": [
    "from neuronunit.optimisation.model_parameters import MODEL_PARAMS\n",
    "MODEL_PARAMS['IZHI'].pop('C')\n",
    "MODEL_PARAMS['IZHI'].pop('k')\n",
    "MODEL_PARAMS['IZHI'].pop('vPeak')\n",
    "MODEL_PARAMS['IZHI'].pop('vr')\n",
    "MODEL_PARAMS['IZHI'].pop('vt')\n",
    "MODEL_PARAMS['IZHI'].pop('c')\n",
    "MODEL_PARAMS['IZHI'].pop('b')\n",
    "MODEL_PARAMS['IZHI'].pop('d')\n",
    "\n",
    "print(MODEL_PARAMS['IZHI'])\n"
   ]
  },
  {
   "cell_type": "markdown",
   "metadata": {},
   "source": [
    "Next we pick a random point between \n",
    "a=0.01 and a=0.03\n",
    "we instance a model at this random location in a. \n",
    "We then find rheobase and take efel measurements at 1.5 and 3.0 rheobase for the Izhikitich model. \n",
    "\n",
    "Then we use GA optimization to find the model that produced the measurements, as a type of inversion.\n",
    "\n",
    "Jump to cells 27 and 28. You can see there that \n",
    "\n",
    "the error surface is highly intractable for some measurements, and for other measurements its a simple well with no ripples."
   ]
  },
  {
   "cell_type": "code",
   "execution_count": 2,
   "metadata": {
    "lines_to_next_cell": 2
   },
   "outputs": [],
   "source": [
    "%%capture\n",
    "import efel\n",
    "import pandas as pd\n",
    "import seaborn as sns\n",
    "list(efel.getFeatureNames());\n",
    "from utils import dask_map_function\n",
    "\n",
    "import bluepyopt as bpop\n",
    "import bluepyopt.ephys as ephys\n",
    "import pickle\n",
    "from sciunit.scores import ZScore\n",
    "from sciunit import TestSuite\n",
    "from sciunit.scores.collections import ScoreArray\n",
    "import sciunit\n",
    "import numpy as np\n",
    "from neuronunit.optimisation.optimization_management import dtc_to_rheo, switch_logic,active_values\n",
    "from neuronunit.tests.base import AMPL, DELAY, DURATION\n",
    "\n",
    "import quantities as pq\n",
    "PASSIVE_DURATION = 500.0*pq.ms\n",
    "PASSIVE_DELAY = 200.0*pq.ms\n",
    "import matplotlib.pyplot as plt\n",
    "from bluepyopt.ephys.models import ReducedCellModel\n",
    "import numpy\n",
    "from neuronunit.optimisation.optimization_management import test_all_objective_test\n",
    "from neuronunit.optimisation.optimization_management import check_binary_match, three_step_protocol,inject_and_plot_passive_model\n",
    "from neuronunit.optimisation.model_parameters import MODEL_PARAMS\n",
    "import copy\n",
    "\n",
    "import numpy as np\n",
    "\n",
    "\n",
    "simple_cell = ephys.models.ReducedCellModel(\n",
    "        name='simple_cell',\n",
    "        params=MODEL_PARAMS[\"IZHI\"],backend=\"IZHI\")  \n",
    "simple_cell.backend = \"IZHI\"\n",
    "\n",
    "\n",
    "# Now we can print out a description of the cell\n",
    "\n",
    "model = simple_cell\n",
    "model.params = {k:np.mean(v) for k,v in model.params.items() }\n",
    "from make_allen_tests import AllenTest\n",
    "\n",
    "from sciunit.scores import ZScore\n",
    "tests = pickle.load(open(\"processed_multicellular_constraints.p\",\"rb\"))\n",
    "nu_tests = tests['Hippocampus CA1 pyramidal cell'].tests\n",
    "nu_tests[0].score_type = ZScore\n",
    "\n",
    "simulated_experiment = True\n",
    "features = None\n",
    "allen = True\n",
    "from collections.abc import Iterable\n",
    "\n",
    "if simulated_experiment:\n",
    "    while features is None:\n",
    "        aug_nu_tests, OM, target = test_all_objective_test(MODEL_PARAMS[\"IZHI\"],\n",
    "                                                           model_type=\"IZHI\",\n",
    "                                                           protocol={'allen':False,\n",
    "                                                                     'elephant':True})\n",
    "        target = three_step_protocol(target)\n",
    "        if hasattr(target,'everything'):\n",
    "            features = copy.copy(target.everything)\n",
    "            \n",
    "            check_list = {key:feat for key,feat in features.items() if not feat is None and type(feat) is not type(Iterable) and feat !=0 and feat !=1 }\n",
    "            check_list.pop('depol_block_1.5x',None)\n",
    "            check_list.pop('is_not_stuck_3.0x',None)\n",
    "            check_list.pop('is_not_stuck_1.5x',None)\n",
    "            scale = 2.0/len(check_list)\n",
    "            '''\n",
    "            if scale > 0.009999:\n",
    "                print('not high enough definition')\n",
    "                features = None\n",
    "                continue\n",
    "            '''\n",
    "            if allen:\n",
    "                simple_cell.allen = None\n",
    "                simple_cell.allen = True\n",
    "\n",
    "                tests = pickle.load(open(\"allen_NU_tests.p\",\"rb\"))\n",
    "                print('allen cell',tests[0].name)\n",
    "                nu_tests = tests[0]\n",
    "                for t in nu_tests:\n",
    "                    to_pop = []\n",
    "                    if t.name in features.keys():\n",
    "                        if features[t.name] is not None:\n",
    "                            t.set_observation(features[t.name])\n",
    "                            if t.observation['mean'] is not None:\n",
    "                                t.observation['std'] = np.abs(np.mean(t.observation['mean']))\n",
    "                        to_pop.append(t.name)\n",
    "                        \n",
    "                    [ features.pop(i,None) for i in to_pop ]\n",
    "\n",
    "sub_MODEL_PARAMS = copy.copy(MODEL_PARAMS['IZHI'])\n",
    "\n",
    "subset = list(sub_MODEL_PARAMS.keys())\n",
    "tg = target.dtc_to_gene(subset_params=subset)\n",
    "assert len(tg)==len(subset)"
   ]
  },
  {
   "cell_type": "code",
   "execution_count": 3,
   "metadata": {},
   "outputs": [],
   "source": [
    "features = target.everything\n",
    "\n",
    "\n",
    "for key,feat in features.items():\n",
    "    if isinstance(feat, int):\n",
    "        print(key,feat)\n",
    "features\n",
    "nu_tests;"
   ]
  },
  {
   "cell_type": "code",
   "execution_count": 4,
   "metadata": {
    "lines_to_next_cell": 2
   },
   "outputs": [],
   "source": [
    "\n",
    "big_list = []\n",
    "for tt in aug_nu_tests.values():\n",
    "    tt.core = None\n",
    "    tt.core = True\n",
    "    big_list.append(tt)\n",
    "big_list.extend(nu_tests)\n",
    "nu_tests = big_list"
   ]
  },
  {
   "cell_type": "code",
   "execution_count": null,
   "metadata": {},
   "outputs": [],
   "source": []
  },
  {
   "cell_type": "code",
   "execution_count": 5,
   "metadata": {
    "lines_to_next_cell": 2
   },
   "outputs": [
    {
     "name": "stdout",
     "output_type": "stream",
     "text": [
      "96 Spikecount_1.5x\n",
      "255 Spikecount_3.0x\n",
      "{'a': <bluepyopt.parameters.Parameter object at 0x7f953aae8490>}\n"
     ]
    }
   ],
   "source": [
    " \n",
    "class NUFeatureAllenMultiSpike(object):\n",
    "    def __init__(self,test,model,cnt,target,check_list,spike_obs,print_stuff=False):\n",
    "        self.test = test\n",
    "        self.model = model\n",
    "        self.check_list = check_list\n",
    "        self.spike_obs = spike_obs\n",
    "        self.cnt = cnt\n",
    "        self.target = target\n",
    "        self.print_stuff = print_stuff\n",
    "    def calculate_score(self,responses):\n",
    "        if not 'features' in responses.keys():# or not 'model' in responses.keys():\n",
    "            return 1000.0\n",
    "        check_list = self.check_list\n",
    "\n",
    "    \n",
    "        features = responses['features']\n",
    "\n",
    "        \n",
    "        feature_name = self.test.name\n",
    "        delta0 = np.abs(features['Spikecount_3.0x']-np.mean(self.spike_obs[0]['mean']))\n",
    "        delta1 = np.abs(features['Spikecount_1.5x']-np.mean(self.spike_obs[1]['mean']))\n",
    "        if feature_name not in features.keys():\n",
    "            return 1000.0+(delta0+delta1)\n",
    "        \n",
    "        if features[feature_name] is None:\n",
    "            return 1000.0+(delta0+delta1)\n",
    "            \n",
    "        if type(features[self.test.name]) is type(Iterable):\n",
    "            features[self.test.name] = np.mean(features[self.test.name])\n",
    "        self.test.observation['std'] = np.abs(np.mean(self.test.observation['mean']))\n",
    "        self.test.observation['mean'] = np.mean(self.test.observation['mean'])            \n",
    "        self.test.set_prediction(np.mean(features[self.test.name]))\n",
    "        \n",
    "        if 'Spikecount_3.0x'==feature_name or 'Spikecount_1.5x'==feature_name:\n",
    "            delta = np.abs(features[self.test.name]-np.mean(self.test.observation['mean']))\n",
    "\n",
    "            \n",
    "            return delta\n",
    "        else:\n",
    "\n",
    "\n",
    "            if feature_name in check_list:\n",
    "                if features[feature_name] is None:\n",
    "                    return 1000.0+(delta0+delta1)\n",
    "                from sciunit.scores import ZScore\n",
    "                self.test.score_type = ZScore\n",
    "                score_gene = self.test.feature_judge()\n",
    "                if score_gene is not None:\n",
    "                    if score_gene.log_norm_score is not None:\n",
    "                        delta = np.abs(float(score_gene.log_norm_score))\n",
    "                    else:\n",
    "                        if score_gene.raw is not None:\n",
    "                            delta = np.abs(float(score_gene.raw))\n",
    "                        else:\n",
    "                            delta = None\n",
    "\n",
    "                else:\n",
    "                    delta = None\n",
    "                        #if delta==np.inf or np.isnan(delta):\n",
    "                        #    if score_gene.raw is not None:\n",
    "                        #        delta =  np.abs(float(score_gene.raw))\n",
    "                if delta is None:\n",
    "                    delta = 1000.0#+(delta0+delta1)\n",
    "                        \n",
    "                if np.nan==delta or delta==np.inf:\n",
    "                    delta = 1000.0#+(delta0+delta1)\n",
    "                    \n",
    "            #print(delta,delta0,delta1)\n",
    "            if (delta0 == 0 and delta1 == 0) and delta>1:\n",
    "                #print(feature_name)\n",
    "                #print(delta)\n",
    "                #print('feature,spike count 1 difference, spike count 2 difference')\n",
    "                #delta = 0.0\n",
    "                pass\n",
    "            ##\n",
    "            # Here was working old line:\n",
    "            # return delta+(delta0+delta1)\n",
    "            ##\n",
    "            return delta\n",
    "                \n",
    "\n",
    "objectives = []\n",
    "spike_obs = []#[None for i in range(0,1) ]\n",
    "for tt in nu_tests:\n",
    "    if 'Spikecount_3.0x' == tt.name:# or 'spike_width2_3.0x' in tt.name or 'AHP_time_from_peak_3.0x' in tt.name:# or 'isi' in tt.name or 'cv' in tt.name:\n",
    "        spike_obs.append(tt.observation)\n",
    "    if 'Spikecount_1.5x' == tt.name:\n",
    "        spike_obs.append(tt.observation)\n",
    "spike_obs = sorted(spike_obs, key=lambda k: k['mean'],reverse=True)\n",
    "\n",
    "for cnt,tt in enumerate(nu_tests):\n",
    "    feature_name = '%s' % (tt.name)\n",
    "    if feature_name in check_list:\n",
    "        if 'Spikecount_3.0x' == tt.name or 'Spikecount_1.5x' == tt.name:# or 'spike_width2_3.0x' in tt.name or 'AHP_time_from_peak_3.0x' in tt.name:# or 'isi' in tt.name or 'cv' in tt.name:\n",
    "            ft = NUFeatureAllenMultiSpike(tt,model,cnt,target,check_list,spike_obs)\n",
    "            objective = ephys.objectives.SingletonObjective(\n",
    "                feature_name,\n",
    "                ft)\n",
    "            print(cnt,feature_name)\n",
    "            objectives.append(objective)\n",
    "\n",
    "\n",
    "        \n",
    "score_calc = ephys.objectivescalculators.ObjectivesCalculator(objectives) \n",
    "        \n",
    "        \n",
    "\n",
    "\n",
    "\n",
    "\n",
    "lop={}\n",
    "from bluepyopt.parameters import Parameter\n",
    "for k,v in MODEL_PARAMS[\"IZHI\"].items():\n",
    "    p = Parameter(name=k,bounds=v,frozen=False)\n",
    "    lop[k] = p\n",
    "\n",
    "print(lop)\n",
    "simple_cell.params = lop\n"
   ]
  },
  {
   "cell_type": "code",
   "execution_count": null,
   "metadata": {},
   "outputs": [],
   "source": []
  },
  {
   "cell_type": "code",
   "execution_count": 6,
   "metadata": {
    "lines_to_next_cell": 2
   },
   "outputs": [],
   "source": [
    "%%capture\n",
    "from utils import dask_map_function\n",
    "\n",
    "# Combining everything together we have a CellEvaluator. The CellEvaluator constructor has a field 'parameter_names' which contains the (ordered) list of names of the parameters that are used as input (and will be fitted later on).\n",
    "sweep_protocols = []\n",
    "for protocol_name, amplitude in [('step1', 0.05)]:\n",
    "\n",
    "    protocol = ephys.protocols.SweepProtocol(protocol_name, [None], [None])\n",
    "    sweep_protocols.append(protocol)\n",
    "twostep_protocol = ephys.protocols.SequenceProtocol('twostep', protocols=sweep_protocols)\n",
    "\n",
    "MODEL_PARAMS[\"IZHI\"]\n",
    "cell_evaluator = ephys.evaluators.CellEvaluator(\n",
    "        cell_model=simple_cell,\n",
    "        param_names=MODEL_PARAMS[\"IZHI\"].keys(),\n",
    "        fitness_protocols={twostep_protocol.name: twostep_protocol},\n",
    "        fitness_calculator=score_calc,\n",
    "        sim='euler')\n",
    "simple_cell.params_by_names(MODEL_PARAMS[\"IZHI\"].keys())\n",
    "simple_cell.params;\n",
    "\n",
    "\n",
    "\n",
    "delete_list = ['AP_duration_half_width_change_3.0x','AHP_depth_1.5x','AP_amplitude_diff_1.5x','AP2_AP1_diff_1.5x','AP_amplitude_change_1.5x','AP_duration_half_width_change_3.0x','time_to_second_spike_1.5x','time_constant_1.5x','max_amp_difference_1.5x','inv_fourth_ISI_1.5x','AP_duration_half_width_1.5x','time_to_first_spike_1.5x']\n",
    "\n",
    "objectives2 = []\n",
    "for cnt,tt in enumerate(nu_tests):\n",
    "    feature_name = '%s' % (tt.name)\n",
    "    if feature_name in check_list:\n",
    "        if feature_name not in delete_list:\n",
    "            ft = NUFeatureAllenMultiSpike(tt,model,cnt,target,check_list,spike_obs,print_stuff=True)\n",
    "            objective = ephys.objectives.SingletonObjective(\n",
    "                feature_name,\n",
    "                ft)\n",
    "            objectives2.append(objective)\n",
    "\n",
    "\n",
    "        \n",
    "score_calc2 = ephys.objectivescalculators.ObjectivesCalculator(objectives2) \n",
    "\n",
    "MODEL_PARAMS[\"IZHI\"]\n",
    "cell_evaluator2 = ephys.evaluators.CellEvaluator(\n",
    "        cell_model=simple_cell,\n",
    "        param_names=list(MODEL_PARAMS[\"IZHI\"].keys()),\n",
    "        fitness_protocols={twostep_protocol.name: twostep_protocol},\n",
    "        fitness_calculator=score_calc2,\n",
    "        sim='euler')\n",
    "simple_cell.params_by_names(MODEL_PARAMS[\"IZHI\"].keys())\n",
    "\n",
    "#del optimisation.evaluator\n",
    "#optimisation.evaluator = cell_evaluator2\n",
    "simple_cell.params;\n",
    "MU = 10\n",
    "\n",
    "optimisation = bpop.optimisations.DEAPOptimisation(\n",
    "        evaluator=cell_evaluator2,\n",
    "        offspring_size = MU,\n",
    "        map_function = dask_map_function,\n",
    "        selector_name='IBEA',mutpb=0.1,cxpb=0.4)\n",
    "        #seeded_pop=[cp['halloffame'],cp['population']])\n",
    "final_pop, hall_of_fame, logs, hist = optimisation.run(max_ngen=100)\n",
    "\n",
    "\n",
    "gen_numbers = logs.select('gen')\n",
    "min_fitness = logs.select('min')\n",
    "max_fitness = logs.select('max')\n",
    "avg_fitness = logs.select('avg')\n",
    "plt.plot(gen_numbers, max_fitness, label='max fitness')\n",
    "plt.plot(gen_numbers, avg_fitness, label='avg fitness')\n",
    "plt.plot(gen_numbers, min_fitness, label='min fitness')\n",
    "\n",
    "plt.plot(gen_numbers, min_fitness, label='min fitness')\n",
    "plt.xlabel('generation #')\n",
    "plt.ylabel('score (# std)')\n",
    "plt.legend()\n",
    "plt.xlim(min(gen_numbers) - 1, max(gen_numbers) + 1) \n",
    "plt.ylim(0.9*min(min_fitness), 1.1 * max(min_fitness)) \n",
    "#9071000.0\n",
    "#4144000.0\n",
    "\n"
   ]
  },
  {
   "cell_type": "code",
   "execution_count": 7,
   "metadata": {},
   "outputs": [],
   "source": [
    "#for i,j in zip(final_pop[-1].fitness.values,objectives2):\n",
    "#    if i>10:\n",
    "#        print(i,j.name)\n"
   ]
  },
  {
   "cell_type": "code",
   "execution_count": 8,
   "metadata": {},
   "outputs": [],
   "source": [
    "#def hof_to_euclid\n",
    "def hof_to_euclid_4(hof,MODEL_PARAMS,target,ranges=True):\n",
    "    lengths = {}\n",
    "    tv = 1\n",
    "    cnt = 0\n",
    "    constellation0 = hof[0]\n",
    "    constellation1 = hof[1]\n",
    "    subset = list(MODEL_PARAMS.keys())\n",
    "    tg = target.dtc_to_gene(subset_params=subset)\n",
    "    if len(MODEL_PARAMS)==1:\n",
    "        \n",
    "        ax = plt.subplot()\n",
    "        for k,v in MODEL_PARAMS.items():\n",
    "            lengths[k] = np.abs(np.abs(v[1])-np.abs(v[0]))\n",
    "\n",
    "            x = sorted([h[cnt] for h in hof])\n",
    "            y = [np.sum(h.fitness.values) for h in hof]\n",
    "            tgene = tg[cnt]\n",
    "            yg = 0\n",
    "        plt.plot(x,y)\n",
    "            \n",
    "\n",
    "        ax.scatter(x, y, c='b', marker='o',label='samples')\n",
    "        ax.scatter(tgene, yg, c='r', marker='*',label='target')\n",
    "        if ranges:\n",
    "            ax.set_xlim(np.min(hof),np.max(hof))\n",
    "            ax.set_xlabel(k)\n",
    "        #ax.plot(x,y)\n",
    "\n",
    "        ax.legend()\n",
    "\n",
    "        plt.show()\n",
    "\n",
    "#def animate(i):\n",
    "\n",
    "def movie(hof,MODEL_PARAMS,target,max_height):\n",
    "    lengths = {}\n",
    "    tv = 1\n",
    "    cnt = 0\n",
    "    subset = list(MODEL_PARAMS.keys())\n",
    "    tg = target.dtc_to_gene(subset_params=subset)\n",
    "    if len(MODEL_PARAMS)==1:\n",
    "        plt.clf()\n",
    "        ax = plt.subplot()\n",
    "\n",
    "        x =  hof[cnt] \n",
    "        y = sum(hof.fitness.values)\n",
    "        tgene = tg[cnt]\n",
    "        yg = 0\n",
    "\n",
    "        ax.scatter(x, y, c='b', marker='o',label='samples')\n",
    "        #ax.plot(x,y)\n",
    "        ax.scatter(tgene, yg, c='r', marker='*',label='target')\n",
    "        ax.set_xlim(np.min(MODEL_PARAMS[subset[0]]),np.max(MODEL_PARAMS[subset[0]]))\n",
    "        ax.set_ylim(0,max_height)\n",
    "\n",
    "        ax.set_xlabel(k)\n",
    "\n",
    "        return ax,plt\n"
   ]
  },
  {
   "cell_type": "code",
   "execution_count": 9,
   "metadata": {},
   "outputs": [],
   "source": [
    "\n",
    "\n",
    "def threshold_detection2(signal, threshold=0.0, sign='above'):\n",
    "    \"\"\"\n",
    "    Returns the times when the analog signal crosses a threshold.\n",
    "    Usually used for extracting spike times from a membrane potential. \n",
    "    Adapted from version in NeuroTools.   \n",
    "\n",
    "    Parameters\n",
    "    ----------\n",
    "    signal : neo AnalogSignal object\n",
    "        'signal' is an analog signal.\n",
    "    threshold : A quantity, e.g. in mV  \n",
    "        'threshold' contains a value that must be reached \n",
    "        for an event to be detected.\n",
    "    sign : 'above' or 'below'\n",
    "        'sign' determines whether to count thresholding crossings\n",
    "        that cross above or below the threshold.  \n",
    "    format : None or 'raw'\n",
    "        Whether to return as SpikeTrain (None) \n",
    "        or as a plain array of times ('raw').\n",
    "\n",
    "    Returns\n",
    "    -------\n",
    "    result_st : neo SpikeTrain object\n",
    "        'result_st' contains the spike times of each of the events (spikes)\n",
    "        extracted from the signal.  \n",
    "    \"\"\"\n",
    "\n",
    "    assert threshold is not None, \"A threshold must be provided\"\n",
    "\n",
    "    if sign is 'above':\n",
    "        cutout = np.where(signal > threshold)[0]\n",
    "    elif sign in 'below':\n",
    "        cutout = np.where(signal < threshold)[0]\n",
    "\n",
    "    if len(cutout) <= 0:\n",
    "        events = np.zeros(0)\n",
    "        return np.array([0])\n",
    "    else:\n",
    "        take = np.where(np.diff(cutout)>1)[0]+1\n",
    "        take = np.append(0,take)\n",
    "        return take\n",
    "        #time = signal.times\n",
    "        #events = time[cutout][take]\n",
    "   # return len(events)"
   ]
  },
  {
   "cell_type": "code",
   "execution_count": 10,
   "metadata": {},
   "outputs": [
    {
     "data": {
      "image/png": "[encoded data removed]",
      "text/plain": [
       "<Figure size 432x288 with 1 Axes>"
      ]
     },
     "metadata": {
      "needs_background": "light"
     },
     "output_type": "display_data"
    },
    {
     "data": {
      "image/png": "[encoded data removed]",
      "text/plain": [
       "<Figure size 432x288 with 1 Axes>"
      ]
     },
     "metadata": {
      "needs_background": "light"
     },
     "output_type": "display_data"
    }
   ],
   "source": [
    "sub_MODEL_PARAMS = copy.copy(MODEL_PARAMS['IZHI'])\n",
    "\n",
    "\n",
    "sub_MODEL_PARAMS\n",
    "hof_to_euclid_4(hall_of_fame,sub_MODEL_PARAMS,target)\n",
    "sub_MODEL_PARAMS\n",
    "hof_to_euclid_4(list(hist.genealogy_history.values()),sub_MODEL_PARAMS,target)#,ranges=small)\n",
    "subset = list(sub_MODEL_PARAMS.keys())\n",
    "tg = target.dtc_to_gene(subset_params=subset)\n",
    "tg\n",
    "MODEL_PARAMS['IZHI']\n",
    "tg\n",
    "\n",
    "\n",
    "# Fitting Polynomial Regression to the dataset\n",
    "from sklearn.preprocessing import PolynomialFeatures\n",
    "\n",
    "import pickle\n",
    "\n",
    "\n",
    "from sklearn.linear_model import Ridge\n",
    "from sklearn.preprocessing import PolynomialFeatures\n",
    "from sklearn.pipeline import make_pipeline\n",
    "untractable=[]\n",
    "tractable=[]\n",
    "def ripple_detection(hof,MODEL_PARAMS,target,objectives2,max_height, show_hard=True):\n",
    "    lengths = {}\n",
    "    tv = 1\n",
    "    cnt = 0\n",
    "    subset = list(MODEL_PARAMS.keys())\n",
    "    tg = target.dtc_to_gene(subset_params=subset)\n",
    "    for i,f in enumerate(hof[0].fitness.values):    \n",
    "        plt.clf()\n",
    "        lengths[k] = np.abs(np.abs(v[1])-np.abs(v[0]))\n",
    "        x_plot = np.linspace(np.abs(v[1]),np.abs(v[0]),200)\n",
    "\n",
    "        X_plot = x_plot[:, np.newaxis]\n",
    "\n",
    "        hof_x = sorted([ h for h in hof ])\n",
    "\n",
    "        y = [ h.fitness.values[i] for h in hof_x ] \n",
    "        tgene = tg[cnt]\n",
    "        yg = 0\n",
    "        model = make_pipeline(PolynomialFeatures(3), Ridge())\n",
    "\n",
    "        model.fit(hof_x, y)\n",
    "        model.predict(X_plot)\n",
    "        y_plot = model.predict(X_plot)\n",
    "        y_thresh = np.mean(y_plot)\n",
    "        n_crosses = threshold_detection2(y, threshold=y_thresh, sign='above')\n",
    "        know_for_future_opt = []\n",
    "        if n_crosses is not None:# is not None:\n",
    "            untractable.append(objectives2[i].name)\n",
    "            if show_hard:\n",
    "                ax = plt.subplot()\n",
    "\n",
    "                plt.title(objectives2[i].name)\n",
    "\n",
    "\n",
    "                plt.plot(hof_x,y)\n",
    "                ax.scatter(hof_x, y, c='b', marker='o',label='samples')\n",
    "                ax.scatter(tgene, yg, c='r', marker='*',label='target')\n",
    "                ax.set_xlim(np.min(hof),np.max(hof))\n",
    "                ax.set_xlabel(k)\n",
    "\n",
    "                plt.plot(X_plot, y_plot)\n",
    "                ax.legend()\n",
    "                plt.show()\n",
    "            if len(n_crosses)>4:\n",
    "                know_for_future_opt.append(objectives2[i].name)\n",
    "                \n",
    "        if n_crosses<5:\n",
    "            tractable.append(tractable)\n",
    "            if not show_hard:\n",
    "                ax = plt.subplot()\n",
    "\n",
    "                plt.title(objectives2[i].name)\n",
    "\n",
    "\n",
    "                plt.plot(hof_x,y)\n",
    "                ax.scatter(hof_x, y, c='b', marker='o',label='samples')\n",
    "                ax.scatter(tgene, yg, c='r', marker='*',label='target')\n",
    "                ax.set_xlim(np.min(hof),np.max(hof))\n",
    "                ax.set_xlabel(k)\n",
    "\n",
    "                plt.plot(X_plot, y_plot)\n",
    "                ax.legend()\n",
    "                plt.show()\n",
    "    if show_hard:\n",
    "        pickle.dump(know_for_future_opt,open('too_rippled.p','wb'))\n",
    "    return \n"
   ]
  },
  {
   "cell_type": "code",
   "execution_count": 11,
   "metadata": {},
   "outputs": [
    {
     "data": {
      "image/png": "[encoded data removed]",
      "text/plain": [
       "<Figure size 432x288 with 1 Axes>"
      ]
     },
     "metadata": {
      "needs_background": "light"
     },
     "output_type": "display_data"
    },
    {
     "ename": "ValueError",
     "evalue": "The truth value of an array with more than one element is ambiguous. Use a.any() or a.all()",
     "output_type": "error",
     "traceback": [
      "\u001b[0;31m---------------------------------------------------------------------------\u001b[0m",
      "\u001b[0;31mValueError\u001b[0m                                Traceback (most recent call last)",
      "\u001b[0;32m<ipython-input-11-5d45ed65e9f4>\u001b[0m in \u001b[0;36m<module>\u001b[0;34m\u001b[0m\n\u001b[1;32m      2\u001b[0m \u001b[0mmax_height\u001b[0m \u001b[0;34m=\u001b[0m \u001b[0mnp\u001b[0m\u001b[0;34m.\u001b[0m\u001b[0mmax\u001b[0m\u001b[0;34m(\u001b[0m\u001b[0;34m[\u001b[0m\u001b[0msum\u001b[0m\u001b[0;34m(\u001b[0m\u001b[0mi\u001b[0m\u001b[0;34m.\u001b[0m\u001b[0mfitness\u001b[0m\u001b[0;34m.\u001b[0m\u001b[0mvalues\u001b[0m\u001b[0;34m)\u001b[0m \u001b[0;32mfor\u001b[0m \u001b[0mi\u001b[0m \u001b[0;32min\u001b[0m \u001b[0mtemp\u001b[0m\u001b[0;34m]\u001b[0m\u001b[0;34m)\u001b[0m\u001b[0;34m\u001b[0m\u001b[0;34m\u001b[0m\u001b[0m\n\u001b[1;32m      3\u001b[0m \u001b[0;34m\u001b[0m\u001b[0m\n\u001b[0;32m----> 4\u001b[0;31m \u001b[0mripple_detection\u001b[0m\u001b[0;34m(\u001b[0m\u001b[0mlist\u001b[0m\u001b[0;34m(\u001b[0m\u001b[0mhist\u001b[0m\u001b[0;34m.\u001b[0m\u001b[0mgenealogy_history\u001b[0m\u001b[0;34m.\u001b[0m\u001b[0mvalues\u001b[0m\u001b[0;34m(\u001b[0m\u001b[0;34m)\u001b[0m\u001b[0;34m)\u001b[0m\u001b[0;34m,\u001b[0m\u001b[0msub_MODEL_PARAMS\u001b[0m\u001b[0;34m,\u001b[0m\u001b[0mtarget\u001b[0m\u001b[0;34m,\u001b[0m\u001b[0mobjectives2\u001b[0m\u001b[0;34m,\u001b[0m\u001b[0mmax_height\u001b[0m\u001b[0;34m)\u001b[0m\u001b[0;31m#,ranges=small)\u001b[0m\u001b[0;34m\u001b[0m\u001b[0;34m\u001b[0m\u001b[0m\n\u001b[0m",
      "\u001b[0;32m<ipython-input-10-c1377606866d>\u001b[0m in \u001b[0;36mripple_detection\u001b[0;34m(hof, MODEL_PARAMS, target, objectives2, max_height, show_hard)\u001b[0m\n\u001b[1;32m     70\u001b[0m                 \u001b[0mknow_for_future_opt\u001b[0m\u001b[0;34m.\u001b[0m\u001b[0mappend\u001b[0m\u001b[0;34m(\u001b[0m\u001b[0mobjectives2\u001b[0m\u001b[0;34m[\u001b[0m\u001b[0mi\u001b[0m\u001b[0;34m]\u001b[0m\u001b[0;34m.\u001b[0m\u001b[0mname\u001b[0m\u001b[0;34m)\u001b[0m\u001b[0;34m\u001b[0m\u001b[0;34m\u001b[0m\u001b[0m\n\u001b[1;32m     71\u001b[0m \u001b[0;34m\u001b[0m\u001b[0m\n\u001b[0;32m---> 72\u001b[0;31m         \u001b[0;32mif\u001b[0m \u001b[0mn_crosses\u001b[0m\u001b[0;34m<\u001b[0m\u001b[0;36m5\u001b[0m\u001b[0;34m:\u001b[0m\u001b[0;34m\u001b[0m\u001b[0;34m\u001b[0m\u001b[0m\n\u001b[0m\u001b[1;32m     73\u001b[0m             \u001b[0mtractable\u001b[0m\u001b[0;34m.\u001b[0m\u001b[0mappend\u001b[0m\u001b[0;34m(\u001b[0m\u001b[0mtractable\u001b[0m\u001b[0;34m)\u001b[0m\u001b[0;34m\u001b[0m\u001b[0;34m\u001b[0m\u001b[0m\n\u001b[1;32m     74\u001b[0m             \u001b[0;32mif\u001b[0m \u001b[0;32mnot\u001b[0m \u001b[0mshow_hard\u001b[0m\u001b[0;34m:\u001b[0m\u001b[0;34m\u001b[0m\u001b[0;34m\u001b[0m\u001b[0m\n",
      "\u001b[0;31mValueError\u001b[0m: The truth value of an array with more than one element is ambiguous. Use a.any() or a.all()"
     ]
    }
   ],
   "source": [
    "temp = list(hist.genealogy_history.values())\n",
    "max_height = np.max([sum(i.fitness.values) for i in temp])\n",
    "\n",
    "ripple_detection(list(hist.genealogy_history.values()),sub_MODEL_PARAMS,target,objectives2,max_height)#,ranges=small)\n"
   ]
  },
  {
   "cell_type": "code",
   "execution_count": 12,
   "metadata": {},
   "outputs": [
    {
     "ename": "ValueError",
     "evalue": "The truth value of an array with more than one element is ambiguous. Use a.any() or a.all()",
     "output_type": "error",
     "traceback": [
      "\u001b[0;31m---------------------------------------------------------------------------\u001b[0m",
      "\u001b[0;31mValueError\u001b[0m                                Traceback (most recent call last)",
      "\u001b[0;32m<ipython-input-12-e5cd4bbcf73f>\u001b[0m in \u001b[0;36m<module>\u001b[0;34m\u001b[0m\n\u001b[1;32m      1\u001b[0m \u001b[0mtemp\u001b[0m \u001b[0;34m=\u001b[0m \u001b[0mlist\u001b[0m\u001b[0;34m(\u001b[0m\u001b[0mhist\u001b[0m\u001b[0;34m.\u001b[0m\u001b[0mgenealogy_history\u001b[0m\u001b[0;34m.\u001b[0m\u001b[0mvalues\u001b[0m\u001b[0;34m(\u001b[0m\u001b[0;34m)\u001b[0m\u001b[0;34m)\u001b[0m\u001b[0;34m\u001b[0m\u001b[0;34m\u001b[0m\u001b[0m\n\u001b[1;32m      2\u001b[0m \u001b[0mmax_height\u001b[0m \u001b[0;34m=\u001b[0m \u001b[0mnp\u001b[0m\u001b[0;34m.\u001b[0m\u001b[0mmax\u001b[0m\u001b[0;34m(\u001b[0m\u001b[0;34m[\u001b[0m\u001b[0msum\u001b[0m\u001b[0;34m(\u001b[0m\u001b[0mi\u001b[0m\u001b[0;34m.\u001b[0m\u001b[0mfitness\u001b[0m\u001b[0;34m.\u001b[0m\u001b[0mvalues\u001b[0m\u001b[0;34m)\u001b[0m \u001b[0;32mfor\u001b[0m \u001b[0mi\u001b[0m \u001b[0;32min\u001b[0m \u001b[0mtemp\u001b[0m\u001b[0;34m]\u001b[0m\u001b[0;34m)\u001b[0m\u001b[0;34m\u001b[0m\u001b[0;34m\u001b[0m\u001b[0m\n\u001b[0;32m----> 3\u001b[0;31m \u001b[0mripple_detection\u001b[0m\u001b[0;34m(\u001b[0m\u001b[0mlist\u001b[0m\u001b[0;34m(\u001b[0m\u001b[0mhist\u001b[0m\u001b[0;34m.\u001b[0m\u001b[0mgenealogy_history\u001b[0m\u001b[0;34m.\u001b[0m\u001b[0mvalues\u001b[0m\u001b[0;34m(\u001b[0m\u001b[0;34m)\u001b[0m\u001b[0;34m)\u001b[0m\u001b[0;34m,\u001b[0m\u001b[0msub_MODEL_PARAMS\u001b[0m\u001b[0;34m,\u001b[0m\u001b[0mtarget\u001b[0m\u001b[0;34m,\u001b[0m\u001b[0mobjectives2\u001b[0m\u001b[0;34m,\u001b[0m\u001b[0mmax_height\u001b[0m\u001b[0;34m,\u001b[0m\u001b[0mshow_hard\u001b[0m\u001b[0;34m=\u001b[0m\u001b[0;32mFalse\u001b[0m\u001b[0;34m)\u001b[0m\u001b[0;34m\u001b[0m\u001b[0;34m\u001b[0m\u001b[0m\n\u001b[0m",
      "\u001b[0;32m<ipython-input-10-c1377606866d>\u001b[0m in \u001b[0;36mripple_detection\u001b[0;34m(hof, MODEL_PARAMS, target, objectives2, max_height, show_hard)\u001b[0m\n\u001b[1;32m     70\u001b[0m                 \u001b[0mknow_for_future_opt\u001b[0m\u001b[0;34m.\u001b[0m\u001b[0mappend\u001b[0m\u001b[0;34m(\u001b[0m\u001b[0mobjectives2\u001b[0m\u001b[0;34m[\u001b[0m\u001b[0mi\u001b[0m\u001b[0;34m]\u001b[0m\u001b[0;34m.\u001b[0m\u001b[0mname\u001b[0m\u001b[0;34m)\u001b[0m\u001b[0;34m\u001b[0m\u001b[0;34m\u001b[0m\u001b[0m\n\u001b[1;32m     71\u001b[0m \u001b[0;34m\u001b[0m\u001b[0m\n\u001b[0;32m---> 72\u001b[0;31m         \u001b[0;32mif\u001b[0m \u001b[0mn_crosses\u001b[0m\u001b[0;34m<\u001b[0m\u001b[0;36m5\u001b[0m\u001b[0;34m:\u001b[0m\u001b[0;34m\u001b[0m\u001b[0;34m\u001b[0m\u001b[0m\n\u001b[0m\u001b[1;32m     73\u001b[0m             \u001b[0mtractable\u001b[0m\u001b[0;34m.\u001b[0m\u001b[0mappend\u001b[0m\u001b[0;34m(\u001b[0m\u001b[0mtractable\u001b[0m\u001b[0;34m)\u001b[0m\u001b[0;34m\u001b[0m\u001b[0;34m\u001b[0m\u001b[0m\n\u001b[1;32m     74\u001b[0m             \u001b[0;32mif\u001b[0m \u001b[0;32mnot\u001b[0m \u001b[0mshow_hard\u001b[0m\u001b[0;34m:\u001b[0m\u001b[0;34m\u001b[0m\u001b[0;34m\u001b[0m\u001b[0m\n",
      "\u001b[0;31mValueError\u001b[0m: The truth value of an array with more than one element is ambiguous. Use a.any() or a.all()"
     ]
    },
    {
     "data": {
      "text/plain": [
       "<Figure size 432x288 with 0 Axes>"
      ]
     },
     "metadata": {},
     "output_type": "display_data"
    }
   ],
   "source": [
    "temp = list(hist.genealogy_history.values())\n",
    "max_height = np.max([sum(i.fitness.values) for i in temp])\n",
    "ripple_detection(list(hist.genealogy_history.values()),sub_MODEL_PARAMS,target,objectives2,max_height,show_hard=False)\n"
   ]
  },
  {
   "cell_type": "code",
   "execution_count": 13,
   "metadata": {},
   "outputs": [],
   "source": [
    "pred_collector = []\n",
    "sum_pred_collector = []\n",
    "\n",
    "\n",
    "best_ind = hall_of_fame[0]\n",
    "best_ind_dict = cell_evaluator.param_dict(best_ind)\n",
    "model = cell_evaluator.cell_model\n",
    "cell_evaluator.param_dict(best_ind)\n",
    "model.attrs = {str(k):float(v) for k,v in cell_evaluator.param_dict(best_ind).items()}\n",
    "opt = model.model_to_dtc()\n",
    "opt.attrs = {str(k):float(v) for k,v in cell_evaluator.param_dict(best_ind).items()}\n",
    "\n",
    "opt.tests = aug_nu_tests\n",
    "\n",
    "plotxvec = np.linspace(MODEL_PARAMS['IZHI']['a'][0],MODEL_PARAMS['IZHI']['a'][1],200)\n",
    "for a in plotxvec:\n",
    "    opt.attrs['a'] = a\n",
    "    opt.self_evaluate()\n",
    "    for t in opt.tests:\n",
    "        try:\n",
    "            t.prediction['value'] = t.prediction['mean']\n",
    "        except:\n",
    "            pass\n",
    "    values = [test.prediction['value'] for test in opt.tests]\n",
    "    pred_collector.append(values)\n",
    "    sum_pred_collector.append(np.sum([values]))\n",
    "#plt.title('sum of errors')\n",
    "#plt.plot(plotxvec,sum_pred_collector)\n",
    "#plt.show()\n"
   ]
  },
  {
   "cell_type": "code",
   "execution_count": 14,
   "metadata": {},
   "outputs": [
    {
     "data": {
      "text/plain": [
       "'\\nbest_ind = hall_of_fame[0]\\nbest_ind_dict = cell_evaluator.param_dict(best_ind)\\nmodel = cell_evaluator.cell_model\\ncell_evaluator.param_dict(best_ind)\\nmodel.attrs = {str(k):float(v) for k,v in cell_evaluator.param_dict(best_ind).items()}\\nopt = model.model_to_dtc()\\nopt.attrs = {str(k):float(v) for k,v in cell_evaluator.param_dict(best_ind).items()}\\nopt = opt.attrs\\n'"
      ]
     },
     "execution_count": 14,
     "metadata": {},
     "output_type": "execute_result"
    }
   ],
   "source": [
    "'''\n",
    "best_ind = hall_of_fame[0]\n",
    "best_ind_dict = cell_evaluator.param_dict(best_ind)\n",
    "model = cell_evaluator.cell_model\n",
    "cell_evaluator.param_dict(best_ind)\n",
    "model.attrs = {str(k):float(v) for k,v in cell_evaluator.param_dict(best_ind).items()}\n",
    "opt = model.model_to_dtc()\n",
    "opt.attrs = {str(k):float(v) for k,v in cell_evaluator.param_dict(best_ind).items()}\n",
    "opt = opt.attrs\n",
    "'''\n",
    "#opt.tests = aug_nu_tests"
   ]
  },
  {
   "cell_type": "markdown",
   "metadata": {},
   "source": [
    "How do measurements\n",
    "from the standard suite vary \n",
    "with changes in 'a'?\n",
    "\n",
    "Note these are not scores or like in the above tests, but simply how do measurements change with changes in 'a'\n",
    "\n",
    "In this we see sometimes 'a' causes ripples in very basic measurements."
   ]
  },
  {
   "cell_type": "code",
   "execution_count": 15,
   "metadata": {},
   "outputs": [
    {
     "data": {
      "image/png": "[encoded data removed]",
      "text/plain": [
       "<Figure size 432x288 with 1 Axes>"
      ]
     },
     "metadata": {
      "needs_background": "light"
     },
     "output_type": "display_data"
    },
    {
     "data": {
      "image/png": "[encoded data removed]",
      "text/plain": [
       "<Figure size 432x288 with 1 Axes>"
      ]
     },
     "metadata": {
      "needs_background": "light"
     },
     "output_type": "display_data"
    },
    {
     "data": {
      "image/png": "[encoded data removed]",
      "text/plain": [
       "<Figure size 432x288 with 1 Axes>"
      ]
     },
     "metadata": {
      "needs_background": "light"
     },
     "output_type": "display_data"
    },
    {
     "data": {
      "image/png": "[encoded data removed]",
      "text/plain": [
       "<Figure size 432x288 with 1 Axes>"
      ]
     },
     "metadata": {
      "needs_background": "light"
     },
     "output_type": "display_data"
    },
    {
     "data": {
      "image/png": "[encoded data removed]",
      "text/plain": [
       "<Figure size 432x288 with 1 Axes>"
      ]
     },
     "metadata": {
      "needs_background": "light"
     },
     "output_type": "display_data"
    },
    {
     "data": {
      "image/png": "[encoded data removed]",
      "text/plain": [
       "<Figure size 432x288 with 1 Axes>"
      ]
     },
     "metadata": {
      "needs_background": "light"
     },
     "output_type": "display_data"
    },
    {
     "data": {
      "image/png": "[encoded data removed]",
      "text/plain": [
       "<Figure size 432x288 with 1 Axes>"
      ]
     },
     "metadata": {
      "needs_background": "light"
     },
     "output_type": "display_data"
    },
    {
     "data": {
      "image/png": "[encoded data removed]",
      "text/plain": [
       "<Figure size 432x288 with 1 Axes>"
      ]
     },
     "metadata": {
      "needs_background": "light"
     },
     "output_type": "display_data"
    }
   ],
   "source": [
    "names = [test.name for test in opt.tests]\n",
    "import matplotlib.pyplot as plt\n",
    "\n",
    "\n",
    "def smoothTriangle(data, degree):\n",
    "    triangle=np.concatenate((np.arange(degree + 1), np.arange(degree)[::-1])) # up then down\n",
    "    smoothed=[]\n",
    "\n",
    "    for i in range(degree, len(data) - degree * 2):\n",
    "        point=data[i:i + len(triangle)] * triangle\n",
    "        smoothed.append(np.sum(point)/np.sum(triangle))\n",
    "    # Handle boundaries\n",
    "    smoothed=[smoothed[0]]*int(degree + degree/2) + smoothed\n",
    "    while len(smoothed) < len(data):\n",
    "        smoothed.append(smoothed[-1])\n",
    "    return smoothed\n",
    "\n",
    "for i in range(0,len(pred_collector[0])):\n",
    "    plt.clf()\n",
    "    plt.title(names[i])\n",
    "    measurement = [val[i] for val in pred_collector]\n",
    "    plt.plot(plotxvec,measurement)\n",
    "    \n",
    "    #from scipy.interpolate import spline\n",
    "    #from scipy.interpolate import interp1d\n",
    "\n",
    "   # xnew = np.linspace(plotxvec[0],plotxvec[1],300) #300 represents number of points to make between T.min and T.max\n",
    "\n",
    "    #measurement_smooth = interp1d(T,measurement,xnew)\n",
    "\n",
    "    \n",
    "    #x = np.linspace(0, 10, num=11, endpoint=True)\n",
    "    #y = np.cos(-x**2/9.0)\n",
    "    #f1 = interp1d(plotxvec, measurement, kind='nearest')\n",
    "    #f2 = interp1d(plotxvec, measurement, kind='zero')\n",
    "    #f3 = interp1d(plotxvec, measurement, kind='quadratic')\n",
    "\n",
    "    \n",
    "    plt.plot(plotxvec,smoothTriangle(measurement,14))\n",
    "    #plt.plot(plotxvec,f2)\n",
    "    #plt.plot(plotxvec,f3)\n",
    "\n",
    "    plt.show()\n"
   ]
  },
  {
   "cell_type": "code",
   "execution_count": null,
   "metadata": {},
   "outputs": [],
   "source": [
    "plt.clf()\n",
    "#measurement = [float(val[0])-155 for val in pred_collector]\n",
    "#plt.plot(plotxvec,measurement)\n",
    "#plt.semilogy()\n",
    "plotxvec = np.linspace(MODEL_PARAMS['IZHI']['a'][0],MODEL_PARAMS['IZHI']['a'][1]*2,200)\n",
    "\n",
    "measurement = [val[-1] for val in pred_collector]\n",
    "plt.plot(plotxvec,measurement)\n",
    "\n",
    "measurement = [float(val[-2])-75 for val in pred_collector]\n",
    "plt.plot(plotxvec,measurement)\n",
    "measurement = [float(val[-3]) for val in pred_collector]\n",
    "plt.plot(plotxvec,measurement)\n",
    "\n",
    "#plt.semilogy()\n",
    "plt.show()"
   ]
  },
  {
   "cell_type": "code",
   "execution_count": null,
   "metadata": {},
   "outputs": [],
   "source": [
    "m = opt.dtc_to_model()\n",
    "plotyvec = []\n",
    "plotxvec = np.linspace(MODEL_PARAMS['IZHI']['a'][0],MODEL_PARAMS['IZHI']['a'][1]*2,100)\n",
    "for a in plotxvec:\n",
    "    m.attrs['a'] = a\n",
    "    #print(opt.tests[-2].params)\n",
    "\n",
    "    plotyvec.append(opt.tests[-2].generate_prediction(m)['value'])\n",
    "plt.plot(plotxvec,plotyvec)\n",
    "plt.show()"
   ]
  },
  {
   "cell_type": "code",
   "execution_count": null,
   "metadata": {},
   "outputs": [],
   "source": [
    "from neuronunit.optimisation.optimization_management import inject_and_plot_model, dtc_to_rheo\n",
    "plotxvec = np.linspace(MODEL_PARAMS['IZHI']['a'][0],MODEL_PARAMS['IZHI']['a'][1],100)\n",
    "for a in plotxvec:\n",
    "    opt.attrs['a'] = a\n",
    "    opt = dtc_to_rheo(opt)\n",
    "    opt.self_evaluate()\n",
    "    try:\n",
    "        out = inject_and_plot_model(opt,plotly=False)\n",
    "        print(out)\n",
    "        #vm.show()\n",
    "\n",
    "    #except:\n",
    "        plt = inject_and_plot_model(opt,plotly=False)\n",
    "        print(opt.rheobase)\n",
    "    #for t in opt.tests:\n",
    "    #    try:\n",
    "    #        t.prediction['value'] = t.prediction['mean']\n",
    "    #    except:\n",
    "    #        pass\n",
    "    #values = [test.prediction['value'] for test in opt.tests]\n",
    "    #pred_collector.append(values)\n",
    "    #sum_pred_collector.append(np.sum([values]))\n",
    "#plt.title('sum of errors')\n",
    "#plt.plot(plotxvec,sum_pred_collector)\n",
    "#plt.show()"
   ]
  },
  {
   "cell_type": "code",
   "execution_count": null,
   "metadata": {},
   "outputs": [],
   "source": [
    "\n",
    "plotxvec = np.linspace(MODEL_PARAMS['IZHI']['a'][0],MODEL_PARAMS['IZHI']['a'][1],100)\n",
    "for a in plotxvec:\n",
    "    opt.attrs['a'] = a\n",
    "    opt = dtc_to_rheo(opt)\n",
    "    opt.self_evaluate()\n",
    "    vm,plt = inject_and_plot_model(opt)\n",
    "    plt.show()\n",
    "    for t in opt.tests:\n",
    "        try:\n",
    "            t.prediction['value'] = t.prediction['mean']\n",
    "        except:\n",
    "            pass\n",
    "    values = [test.prediction['value'] for test in opt.tests]\n",
    "    pred_collector.append(values)\n",
    "    sum_pred_collector.append(np.sum([values]))\n",
    "plt.title('sum of errors')\n",
    "plt.plot(plotxvec,sum_pred_collector)\n",
    "plt.show()"
   ]
  },
  {
   "cell_type": "markdown",
   "metadata": {},
   "source": [
    "# are changes in b just as dramatic?"
   ]
  },
  {
   "cell_type": "code",
   "execution_count": null,
   "metadata": {},
   "outputs": [],
   "source": [
    "#from neuronunit.optimisation.model_parameters import MODEL_PARAMS as mp\n",
    "print(mp['IZHI'])\n",
    "pred_collector = []\n",
    "sum_pred_collector = []\n",
    "\n",
    "plotxvec = np.linspace(-2,15,100)\n",
    "opt.attrs['a'] = np.mean(MODEL_PARAMS['IZHI']['a'])\n",
    "for b in plotxvec:\n",
    "    \n",
    "    opt.attrs['b'] = b\n",
    "    opt.self_evaluate()\n",
    "    for t in opt.tests:\n",
    "        try:\n",
    "            t.prediction['value'] = t.prediction['mean']\n",
    "        except:\n",
    "            pass\n",
    "    values = [test.prediction['value'] for test in opt.tests]\n",
    "    pred_collector.append(values)\n",
    "    sum_pred_collector.append(np.sum([values]))\n"
   ]
  },
  {
   "cell_type": "code",
   "execution_count": null,
   "metadata": {},
   "outputs": [],
   "source": [
    "#plt.title('sum of errors')\n",
    "#plt.plot(plotxvec,sum_pred_collector)\n",
    "#plt.show()\n",
    "\n",
    "names = [test.name for test in opt.tests]\n",
    "\n",
    "for i in range(0,len(pred_collector[0])):\n",
    "    plt.clf()\n",
    "    plt.title(names[i])\n",
    "    plt.plot(plotxvec,[val[i] for val in pred_collector])\n",
    "    plt.show()\n"
   ]
  },
  {
   "cell_type": "markdown",
   "metadata": {},
   "source": [
    "And **c**?"
   ]
  },
  {
   "cell_type": "code",
   "execution_count": null,
   "metadata": {},
   "outputs": [],
   "source": [
    "#from neuronunit.optimisation.model_parameters import MODEL_PARAMS as mp\n",
    "print(mp['IZHI'])\n",
    "pred_collector = []\n",
    "sum_pred_collector = []\n",
    "\n",
    "opt.attrs['a'] = np.mean(MODEL_PARAMS['IZHI']['a'])\n",
    "opt.attrs['b'] = np.mean(plotxvec)\n",
    "plotxvec = np.linspace(-60,-40,100)\n",
    " \n",
    "for c in plotxvec:\n",
    "    \n",
    "    opt.attrs['c'] = c\n",
    "    opt.self_evaluate()\n",
    "    for t in opt.tests:\n",
    "        try:\n",
    "            t.prediction['value'] = t.prediction['mean']\n",
    "        except:\n",
    "            pass\n",
    "    values = [test.prediction['value'] for test in opt.tests if test.prediction['value'] is not None]\n",
    "    pred_collector.append(values)\n",
    "    sum_pred_collector.append(np.sum([values]))\n",
    "\n",
    "names = [test.name for test in opt.tests]\n",
    "\n",
    "for i in range(0,len(pred_collector[0])):\n",
    "    plt.clf()\n",
    "    plt.title(names[i])\n",
    "    plt.plot(plotxvec,[val[i] for val in pred_collector])\n",
    "    plt.show()"
   ]
  },
  {
   "cell_type": "markdown",
   "metadata": {},
   "source": [
    "And **C**?"
   ]
  },
  {
   "cell_type": "code",
   "execution_count": null,
   "metadata": {},
   "outputs": [],
   "source": [
    "from neuronunit.optimisation.model_parameters import MODEL_PARAMS as mp\n",
    "print(mp['IZHI'])\n",
    "pred_collector = []\n",
    "sum_pred_collector = []\n",
    "\n",
    "#opt.attrs['a'] = np.mean(MODEL_PARAMS['IZHI']['a'])\n",
    "#opt.attrs['b'] = np.mean(plotxvec)\n",
    "opt.attrs['c'] = np.mean(plotxvec)\n",
    "\n",
    "plotxvec = np.linspace(50,200,100)\n",
    " \n",
    "for C in plotxvec:\n",
    "    \n",
    "    opt.attrs['C'] = C\n",
    "    opt.self_evaluate()\n",
    "    for t in opt.tests:\n",
    "        try:\n",
    "            t.prediction['value'] = t.prediction['mean']\n",
    "        except:\n",
    "            pass\n",
    "    values = [test.prediction['value'] for test in opt.tests if test.prediction['value'] is not None]\n",
    "    pred_collector.append(values)\n",
    "    sum_pred_collector.append(np.sum([values]))\n",
    "\n",
    "names = [test.name for test in opt.tests]\n",
    "\n",
    "for i in range(0,len(pred_collector[0])):\n",
    "    plt.clf()\n",
    "    plt.title(names[i])\n",
    "    plt.plot(plotxvec,[val[i] for val in pred_collector])\n",
    "    plt.show()"
   ]
  },
  {
   "cell_type": "code",
   "execution_count": null,
   "metadata": {},
   "outputs": [],
   "source": [
    "from neuronunit.optimisation.model_parameters import MODEL_PARAMS as mp\n",
    "print(mp['IZHI'])\n",
    "pred_collector = []\n",
    "sum_pred_collector = []\n",
    "\n",
    "#opt.attrs['a'] = np.mean(MODEL_PARAMS['IZHI']['a'])\n",
    "#opt.attrs['b'] = np.mean(plotxvec)\n",
    "opt.attrs['C'] = np.mean(plotxvec)\n",
    "\n",
    "plotxvec = np.linspace(10,150,100)\n",
    " \n",
    "for d in plotxvec:\n",
    "    \n",
    "    opt.attrs['d'] = d\n",
    "    opt.self_evaluate()\n",
    "    for t in opt.tests:\n",
    "        try:\n",
    "            t.prediction['value'] = t.prediction['mean']\n",
    "        except:\n",
    "            pass\n",
    "    values = [test.prediction['value'] for test in opt.tests if test.prediction['value'] is not None]\n",
    "    pred_collector.append(values)\n",
    "    sum_pred_collector.append(np.sum([values]))\n",
    "\n",
    "names = [test.name for test in opt.tests]\n",
    "\n",
    "for i in range(0,len(pred_collector[0])):\n",
    "    plt.clf()\n",
    "    plt.title(names[i])\n",
    "    plt.plot(plotxvec,[val[i] for val in pred_collector])\n",
    "    plt.show()"
   ]
  },
  {
   "cell_type": "code",
   "execution_count": null,
   "metadata": {},
   "outputs": [],
   "source": [
    "from neuronunit.optimisation.model_parameters import MODEL_PARAMS as mp\n",
    "print(mp['IZHI'])\n",
    "pred_collector = []\n",
    "sum_pred_collector = []\n",
    "\n",
    "#opt.attrs['a'] = np.mean(MODEL_PARAMS['IZHI']['a'])\n",
    "#opt.attrs['b'] = np.mean(plotxvec)\n",
    "opt.attrs['d'] = np.mean(plotxvec)\n",
    "\n",
    "plotxvec = np.linspace(0.7,1.6,100)\n",
    "#print(plotxvec)\n",
    "for k in plotxvec:\n",
    "    \n",
    "    opt.attrs['k'] = k\n",
    "    #print(opt.attrs)\n",
    "    opt.self_evaluate()\n",
    "    for t in opt.tests:\n",
    "        try:\n",
    "            t.prediction['value'] = t.prediction['mean']\n",
    "        except:\n",
    "            pass\n",
    "    values = [test.prediction['value'] for test in opt.tests if test.prediction['value'] is not None]\n",
    "    pred_collector.append(values)\n",
    "    sum_pred_collector.append(np.sum([values]))\n",
    "\n",
    "names = [test.name for test in opt.tests]\n",
    "\n",
    "for i in range(0,len(pred_collector[0])):\n",
    "    plt.clf()\n",
    "    plt.title(names[i])\n",
    "    plt.plot(plotxvec,[val[i] for val in pred_collector])\n",
    "    plt.show()"
   ]
  },
  {
   "cell_type": "code",
   "execution_count": null,
   "metadata": {},
   "outputs": [],
   "source": [
    "\n",
    "from matplotlib import animation, rc\n",
    "from IPython.display import HTML\n",
    "\n",
    "%matplotlib inline\n",
    "import time\n",
    "import pylab as pl\n",
    "from IPython import display\n",
    "#for i in range(10):\n",
    "\n",
    "temp = list(hist.genealogy_history.values())\n",
    "max_height = np.max([sum(i.fitness.values) for i in temp])\n",
    "#movies = True\n",
    "#if movies:\n",
    "for i,current in enumerate(list(hist.genealogy_history.values())):\n",
    "    max_height\n",
    "    ax,pl = movie(current,sub_MODEL_PARAMS,target,max_height)\n",
    "    pl.title('gene number {0}'.format(i))\n",
    "    display.clear_output(wait=True)\n",
    "    display.display(pl.gcf())\n",
    "    time.sleep(0.05)\n",
    "    \n",
    "\n",
    "    \n",
    "    \n",
    "    \n",
    "#anim = animation.FuncAnimation(fig, animate, init_func=init,\n",
    "#                               frames=100, interval=20, blit=True)    \n",
    "    \n",
    "#HTML(anim.to_html5_video())\n"
   ]
  },
  {
   "cell_type": "code",
   "execution_count": null,
   "metadata": {},
   "outputs": [],
   "source": []
  },
  {
   "cell_type": "code",
   "execution_count": null,
   "metadata": {},
   "outputs": [],
   "source": [
    "target.attrs"
   ]
  },
  {
   "cell_type": "code",
   "execution_count": null,
   "metadata": {},
   "outputs": [],
   "source": [
    "hall_of_fame[1]\n",
    "\n",
    "\n",
    "\n"
   ]
  },
  {
   "cell_type": "code",
   "execution_count": null,
   "metadata": {},
   "outputs": [],
   "source": []
  },
  {
   "cell_type": "code",
   "execution_count": null,
   "metadata": {},
   "outputs": [],
   "source": [
    "#cp['population']\n",
    "#for ind in \n",
    "'''\n",
    "import pickle\n",
    "with open('evaluator.p','wb') as f:\n",
    "    pickle.dump(cell_evaluator2,f)\n",
    "\n",
    "with open('evaluator.p','rb') as f:\n",
    "    cell_evaluator2 = pickle.load(f)    \n",
    "'''    "
   ]
  },
  {
   "cell_type": "code",
   "execution_count": null,
   "metadata": {
    "lines_to_next_cell": 0,
    "scrolled": false
   },
   "outputs": [],
   "source": [
    "\n",
    "\n",
    "\n",
    "MU = 50\n",
    "cp = {}\n",
    "cp['halloffame'] = hall_of_fame\n",
    "cp['population'] = final_pop\n",
    "#seed_pop = cp['halloffame']\n",
    "#cp = pickle.load(open('results_100.p', \"rb\"))\n",
    "\n",
    "#seed_pop.extend(cp['pop'])\n",
    "optimisation = bpop.optimisations.DEAPOptimisation(\n",
    "        evaluator=cell_evaluator2,\n",
    "        offspring_size = MU,\n",
    "        map_function = dask_map_function,\n",
    "        selector_name='IBEA',mutpb=0.1,cxpb=0.2),\n",
    "        #seeded_pop=[cp['halloffame'],cp['population']])\n",
    "final_pop, hall_of_fame, logs, hist = optimisation.run(max_ngen=50)\n"
   ]
  },
  {
   "cell_type": "code",
   "execution_count": null,
   "metadata": {
    "lines_to_next_cell": 2
   },
   "outputs": [],
   "source": []
  },
  {
   "cell_type": "code",
   "execution_count": null,
   "metadata": {
    "lines_to_next_cell": 2
   },
   "outputs": [],
   "source": [
    "\n",
    "\n",
    "# The optimisation has return us 4 objects: final population, hall of fame, statistical logs and history. \n",
    "# \n",
    "# The final population contains a list of tuples, with each tuple representing the two parameters of the model\n",
    "\n",
    "\n",
    "#print('Final population: ', final_pop)\n",
    "\n",
    "\n",
    "# The best individual found during the optimisation is the first individual of the hall of fame\n",
    "\n",
    "best_ind = hall_of_fame[0]\n",
    "#print('Best individual: ', best_ind)\n",
    "#print('Fitness values: ', best_ind.fitness.va\n",
    "\n",
    "\n",
    "# We can evaluate this individual and make use of a convenience function of the cell evaluator to return us a dict of the parameters\n",
    "\n",
    "\n",
    "best_ind_dict = cell_evaluator.param_dict(best_ind)\n",
    "#print(cell_evaluator.evaluate_with_dicts(best_ind_dict))\n",
    "\n",
    "\n",
    "model = cell_evaluator.cell_model\n",
    "cell_evaluator.param_dict(best_ind)\n",
    "model.attrs = {str(k):float(v) for k,v in cell_evaluator.param_dict(best_ind).items()}\n",
    "\n",
    "\n",
    "\n",
    "opt = model.model_to_dtc()\n",
    "opt.attrs = {str(k):float(v) for k,v in cell_evaluator.param_dict(best_ind).items()}\n",
    "\n",
    "check_binary_match(target,opt)\n",
    "inject_and_plot_passive_model(opt,second=target,plotly=False)\n",
    "\n",
    "\n",
    "# As you can see the evaluation returns the same values as the fitness values provided by the optimisation output. \n",
    "# We can have a look at the responses now.\n",
    "\n",
    "# In[ ]:\n",
    "\n",
    "\n",
    "#plot_responses(twostep_protocol.run(cell_model=simple_cell, param_values=best_ind_dict, sim=nrn))\n",
    " \n",
    "\n",
    "\n",
    "# Let's have a look at the optimisation statistics.\n",
    "# We can plot the minimal score (sum of all objective scores) found in every optimisation. \n",
    "# The optimisation algorithm uses negative fitness scores, so we actually have to look at the maximum values log.\n",
    "'''\n",
    "gen_numbers = logs.select('gen')\n",
    "min_fitness = logs.select('min')\n",
    "max_fitness = logs.select('max')\n",
    "plt.plot(gen_numbers, min_fitness, label='min fitness')\n",
    "plt.xlabel('generation #')\n",
    "plt.ylabel('score (# std)')\n",
    "plt.legend()\n",
    "plt.xlim(min(gen_numbers) - 1, max(gen_numbers) + 1) \n",
    "plt.ylim(0.9*min(min_fitness), 1.1 * max(min_fitness)) \n",
    "'''"
   ]
  },
  {
   "cell_type": "code",
   "execution_count": null,
   "metadata": {
    "lines_to_next_cell": 2
   },
   "outputs": [],
   "source": [
    "gen_numbers = logs.select('gen')\n",
    "min_fitness = logs.select('min')\n",
    "max_fitness = logs.select('max')\n",
    "avg_fitness = logs.select('avg')\n",
    "\n",
    "plt.clf()\n",
    "plt.plot(gen_numbers, max_fitness, label='max fitness')\n",
    "plt.plot(gen_numbers, avg_fitness, label='avg fitness')\n",
    "plt.plot(gen_numbers, min_fitness, label='min fitness')\n",
    "\n",
    "plt.xlabel('generation #')\n",
    "plt.ylabel('score (# std)')\n",
    "plt.yscale('log')\n",
    "\n",
    "plt.legend()\n",
    "plt.xlim(min(gen_numbers) - 1, max(gen_numbers) + 1) \n",
    "#plt.ylim(0.9*min(min_fitness), 1.1 * max(min_fitness)) \n",
    "plt.show()"
   ]
  },
  {
   "cell_type": "code",
   "execution_count": null,
   "metadata": {},
   "outputs": [],
   "source": [
    "gen_numbers = logs.select('gen')\n",
    "min_fitness = logs.select('min')\n",
    "max_fitness = logs.select('max')\n",
    "avg_fitness = logs.select('avg')\n",
    "\n",
    "plt.clf()\n",
    "fig = plt.figure(figsize=(10,10))\n",
    "#ax = fig.add_subplot(1,1)\n",
    "\n",
    "plt.plot(gen_numbers, min_fitness, label='min fitness')\n",
    "#ax.semilogy()\n",
    "#ax.set_yscale('log')\n",
    "plt.yscale('log')\n",
    "\n",
    "plt.xlabel('generation #')\n",
    "plt.ylabel('score (# std)')\n",
    "plt.legend()\n",
    "plt.xlim(min(gen_numbers) - 1, max(gen_numbers) + 1) \n",
    "#plt.ylim(0.9*min(min_fitness), 1.1 * max(min_fitness)) \n",
    "plt.show()"
   ]
  },
  {
   "cell_type": "code",
   "execution_count": null,
   "metadata": {},
   "outputs": [],
   "source": [
    "inject_and_plot_passive_model(opt,second=target,plotly=False)\n",
    "best_ind_dict = cell_evaluator.param_dict(best_ind)\n",
    "objectives = cell_evaluator.evaluate_with_dicts(best_ind_dict)"
   ]
  },
  {
   "cell_type": "code",
   "execution_count": null,
   "metadata": {
    "lines_to_next_cell": 2
   },
   "outputs": [],
   "source": [
    "best_ind_dict = cell_evaluator.param_dict(best_ind)\n",
    "objectives = cell_evaluator.evaluate_with_dicts(best_ind_dict)\n",
    "\n",
    "model = cell_evaluator.cell_model\n",
    "cell_evaluator.param_dict(best_ind)\n",
    "model.attrs = {str(k):float(v) for k,v in cell_evaluator.param_dict(best_ind).items()}\n",
    "\n",
    "opt = model.model_to_dtc()\n",
    "opt.attrs = {str(k):float(v) for k,v in cell_evaluator.param_dict(best_ind).items()}\n",
    "from neuronunit.optimisation.optimization_management import dtc_to_rheo, inject_and_plot_model30,check_bin_vm30,check_bin_vm15\n",
    "opt = dtc_to_rheo(opt)\n",
    "opt.rheobase\n",
    "opt.attrs;\n",
    "vm301,vm151,_,_,target = inject_and_plot_model30(target)\n",
    "vm302,vm152,_,_,opt = inject_and_plot_model30(opt)"
   ]
  },
  {
   "cell_type": "code",
   "execution_count": null,
   "metadata": {
    "lines_to_next_cell": 2
   },
   "outputs": [],
   "source": [
    "from neuronunit.optimisation.optimization_management import dtc_to_rheo, inject_and_plot_model30,check_bin_vm30,check_bin_vm15\n",
    "check_bin_vm30(target,opt)\n",
    "check_bin_vm15(target,opt)\n",
    "\n",
    "\n",
    "\n"
   ]
  },
  {
   "cell_type": "code",
   "execution_count": null,
   "metadata": {},
   "outputs": [],
   "source": [
    "from mpl_toolkits.mplot3d import Axes3D\n",
    "import matplotlib.pyplot as plt\n",
    "\n",
    "\n",
    "\n",
    "def hof_to_euclid(hof,MODEL_PARAMS,target):\n",
    "    lengths = {}\n",
    "    tv = 1\n",
    "    cnt = 0\n",
    "    constellation0 = hof[0]\n",
    "    constellation1 = hof[1]\n",
    "    subset = list(sub_MODEL_PARAMS.keys())\n",
    "    tg = target.dtc_to_gene(subset_params=subset)\n",
    "    if len(MODEL_PARAMS)==1:\n",
    "        \n",
    "        ax = plt.subplot()\n",
    "        for k,v in MODEL_PARAMS.items():\n",
    "            lengths[k] = np.abs(np.abs(v[1])-np.abs(v[0]))\n",
    "\n",
    "            x = [h[cnt] for h in hof]\n",
    "            y = [0 for h in hof]\n",
    "            ax.set_xlim(v[0],v[1])\n",
    "            ax.set_xlabel(k)\n",
    "            tgene = tg[cnt]\n",
    "            yg = 0\n",
    "\n",
    "        ax.scatter(x, y, c='b', marker='o',label='samples')\n",
    "        ax.scatter(tgene, yg, c='r', marker='*',label='target')\n",
    "        ax.legend()\n",
    "\n",
    "        plt.show()\n",
    "    \n",
    "    \n",
    "    if len(MODEL_PARAMS)==2:\n",
    "        \n",
    "        ax = plt.subplot()\n",
    "        for k,v in MODEL_PARAMS.items():\n",
    "            lengths[k] = np.abs(np.abs(v[1])-np.abs(v[0]))\n",
    "                \n",
    "            if cnt==0:\n",
    "                tgenex = tg[cnt]\n",
    "                x = [h[cnt] for h in hof]\n",
    "                ax.set_xlim(v[0],v[1])\n",
    "                ax.set_xlabel(k)\n",
    "            if cnt==1:\n",
    "                tgeney = tg[cnt]\n",
    "\n",
    "                y = [h[cnt] for h in hof]\n",
    "                ax.set_ylim(v[0],v[1])\n",
    "                ax.set_ylabel(k)\n",
    "            cnt+=1\n",
    "\n",
    "        ax.scatter(x, y, c='r', marker='o',label='samples',s=5)\n",
    "        ax.scatter(tgenex, tgeney, c='b', marker='*',label='target',s=11)\n",
    "\n",
    "        ax.legend()\n",
    "\n",
    "        plt.show()\n",
    "    #print(len(MODEL_PARAMS))\n",
    "    if len(MODEL_PARAMS)==3:\n",
    "        fig = plt.figure()\n",
    "        ax = fig.add_subplot(111, projection='3d')\n",
    "        for k,v in MODEL_PARAMS.items():\n",
    "            lengths[k] = np.abs(np.abs(v[1])-np.abs(v[0]))\n",
    "        \n",
    "            if cnt==0:\n",
    "                tgenex = tg[cnt]\n",
    "\n",
    "                x = [h[cnt] for h in hof]\n",
    "                ax.set_xlim(v[0],v[1])\n",
    "                ax.set_xlabel(k)\n",
    "            if cnt==1:\n",
    "                tgeney = tg[cnt]\n",
    "\n",
    "                y = [h[cnt] for h in hof]\n",
    "                ax.set_ylim(v[0],v[1])\n",
    "                ax.set_ylabel(k)\n",
    "            if cnt==2:\n",
    "                tgenez = tg[cnt]\n",
    "\n",
    "                z = [h[cnt] for h in hof]\n",
    "                ax.set_zlim(v[0],v[1])\n",
    "                ax.set_zlabel(k)\n",
    "\n",
    "            cnt+=1\n",
    "        ax.scatter(x, y, z, c='r', marker='o')\n",
    "        ax.scatter(tgenex, tgeney,tgenez, c='b', marker='*',label='target',s=21)\n",
    "\n",
    "        plt.show()\n",
    "        \n",
    "sub_MODEL_PARAMS = copy.copy(MODEL_PARAMS['IZHI'])\n",
    "\n",
    "\n",
    "sub_MODEL_PARAMS\n",
    "hof_to_euclid(hall_of_fame,sub_MODEL_PARAMS,target)\n",
    "sub_MODEL_PARAMS\n",
    "hof_to_euclid(final_pop,sub_MODEL_PARAMS,target)\n",
    "subset = list(sub_MODEL_PARAMS.keys())\n",
    "tg = target.dtc_to_gene(subset_params=subset)\n",
    "tg\n",
    "MODEL_PARAMS['IZHI']\n",
    "tg"
   ]
  },
  {
   "cell_type": "code",
   "execution_count": null,
   "metadata": {},
   "outputs": [],
   "source": [
    "#for gene in list(hist.genealogy_history.values()):\n",
    "hof_to_euclid(list(hist.genealogy_history.values()),sub_MODEL_PARAMS,target)\n",
    "sub_MODEL_PARAMS"
   ]
  },
  {
   "cell_type": "code",
   "execution_count": null,
   "metadata": {},
   "outputs": [],
   "source": [
    "from utils import basic_expVar"
   ]
  },
  {
   "cell_type": "code",
   "execution_count": null,
   "metadata": {
    "lines_to_next_cell": 2
   },
   "outputs": [],
   "source": [
    "opt = dtc_to_rheo(opt)\n",
    "print(opt.rheobase)\n",
    "print(target.rheobase)"
   ]
  },
  {
   "cell_type": "code",
   "execution_count": null,
   "metadata": {},
   "outputs": [],
   "source": [
    "\n",
    "check_binary_match(opt,target,plotly=False,snippets=False)\n",
    "check_binary_match(opt,target,plotly=False,snippets=True)\n",
    "print(basic_expVar(target.vmrh, opt.vmrh), 'variancce explained ratio at rheobase')\n"
   ]
  },
  {
   "cell_type": "code",
   "execution_count": null,
   "metadata": {},
   "outputs": [],
   "source": [
    "params = {}\n",
    "params['injected_square_current'] = {}\n",
    "#if v.name in str('RestingPotentialTest'):\n",
    "params['injected_square_current']['delay'] = PASSIVE_DELAY\n",
    "params['injected_square_current']['duration'] = PASSIVE_DURATION\n",
    "params['injected_square_current']['amplitude'] = 0.0*pq.pA    "
   ]
  },
  {
   "cell_type": "code",
   "execution_count": null,
   "metadata": {},
   "outputs": [],
   "source": [
    "\n",
    "opt_model = opt.dtc_to_model()\n",
    "opt_model.inject_square_current(params)\n",
    "opt_vm = opt_model.get_membrane_potential()\n",
    "opt_vm[-1]"
   ]
  },
  {
   "cell_type": "code",
   "execution_count": null,
   "metadata": {},
   "outputs": [],
   "source": [
    "target_model = target.dtc_to_model()\n",
    "target_model.inject_square_current(params)\n",
    "target_vm = target_model.get_membrane_potential()\n",
    "target_vm[-1]"
   ]
  },
  {
   "cell_type": "code",
   "execution_count": null,
   "metadata": {},
   "outputs": [],
   "source": [
    "best_ind = hall_of_fame[1]\n",
    "#print('Best individual: ', best_ind)\n",
    "#print('Fitness values: ', best_ind.fitness.values)\n",
    "\n",
    "\n",
    "# We can evaluate this individual and make use of a convenience function of the cell evaluator to return us a dict of the parameters\n",
    "\n",
    "\n",
    "best_ind_dict = cell_evaluator.param_dict(best_ind)\n",
    "#print(cell_evaluator.evaluate_with_dicts(best_ind_dict))\n",
    "\n",
    "\n",
    "model = cell_evaluator.cell_model\n",
    "dtc= model.model_to_dtc()\n",
    "opt = dtc_to_rheo(opt)\n",
    "print(opt.rheobase)\n",
    "print(target.rheobase)"
   ]
  },
  {
   "cell_type": "code",
   "execution_count": null,
   "metadata": {},
   "outputs": [],
   "source": [
    "#model.rheobase\n",
    "objectives"
   ]
  },
  {
   "cell_type": "code",
   "execution_count": null,
   "metadata": {
    "lines_to_next_cell": 2
   },
   "outputs": [],
   "source": [
    "\n",
    "best_ind_dict = cell_evaluator.param_dict(best_ind)\n",
    "objectives = cell_evaluator.evaluate_with_dicts(best_ind_dict)\n",
    "\n",
    "objectives2 = cell_evaluator2.evaluate_with_dicts(best_ind_dict)\n"
   ]
  },
  {
   "cell_type": "code",
   "execution_count": null,
   "metadata": {},
   "outputs": [],
   "source": [
    "import pandas as pd\n",
    "import seaborn as sns\n",
    "logbook = logs\n",
    "#scores = [ m for m in logs ]\n",
    "'''\n",
    "list_of_dicts = []\n",
    "df1 = pd.DataFrame()\n",
    "genes=[]\n",
    "for _,v in hist.genealogy_history.items():\n",
    "    genes.append(v.fitness.values)\n",
    "for j,i in enumerate(objectives.keys()):\n",
    "    index = i.split('.')[0]\n",
    "    df1[str(index)] = pd.Series(genes).values[j]#, index=df1.index)\n",
    "\n",
    "'''\n",
    "#MU =14\n",
    "genes=[]\n",
    "min_per_generations = []\n",
    "for i,v in hist.genealogy_history.items():\n",
    "    if i%MU==0:\n",
    "        min_per_gen = sorted([(gene,np.min(gene)) for gene in genes],key=lambda x: x[1])\n",
    "        min_per_generations.append(min_per_gen[0][0])\n",
    "        genes =[]\n",
    "    genes.append(v.fitness.values)\n",
    "    \n",
    "df2 = pd.DataFrame()\n",
    "scores = []\n",
    "for j,i in enumerate(objectives.keys()):\n",
    "    index = i.split('.')[0]\n",
    "    print([i[j] for i in min_per_generations ])\n",
    "    df2[index] = pd.Series([i[j] for i in min_per_generations ])#, index=df1.index)\n",
    "df2    \n"
   ]
  },
  {
   "cell_type": "code",
   "execution_count": null,
   "metadata": {},
   "outputs": [],
   "source": [
    "number=int(np.sqrt(len(df2.columns)))"
   ]
  },
  {
   "cell_type": "code",
   "execution_count": null,
   "metadata": {},
   "outputs": [],
   "source": [
    "import math\n",
    "box = int(np.sqrt(len(objectives)))\n",
    "fig,axes = plt.subplots(box,box+1,figsize=(20,20))#math.ceil(len(objectives)/2+1),figsize=(20,20))\n",
    "#axes[0,0].plot(scores)\n",
    "#axes[0,0].plot(gen_numbers, min_fitness, label='min fitness')\n",
    "\n",
    "axes[0,0].set_title('Observation/Prediction Disagreement')\n",
    "for i,c in enumerate(df2.columns):\n",
    "    ax = axes.flat[i+1]\n",
    "    history = df2[c]\n",
    "    #mn = mean[k.name] \n",
    "    #st = std[k.name] \n",
    "    #history = [(j[i]-mn)/st for j in scores ]\n",
    "    #ax.axhline(y=mn , xmin=0.02, xmax=0.99,color='red',label='best candidate sampled')\n",
    "\n",
    "    #ax.axvline(x=min_x , ymin=0.02, ymax=0.99,color='blue',label='best candidate sampled')\n",
    "    ax.plot(history)\n",
    "    ax.set_title(str(c))\n",
    "    #bigger = np.max([np.max(history),mn])\n",
    "    #smaller = np.max([np.min(history),mn])\n",
    "\n",
    "    #ax.set_ylim([np.min(history),np.max(history)])\n",
    "    #ax.set_ylabel(str(front[0].dtc.tests[i].observation['std'].units))\n",
    "axes[0,0].set_xlabel(\"Generation\")\n",
    "axes[0,0].set_ylabel(\"standardized error\")\n",
    "\n",
    "plt.tight_layout()\n",
    "#if figname is not None:\n",
    "#    plt.savefig(figname)\n",
    "#else:\n",
    "plt.show()"
   ]
  },
  {
   "cell_type": "code",
   "execution_count": null,
   "metadata": {},
   "outputs": [],
   "source": [
    "\n",
    "logbook = logs\n",
    "#scores = [ m for m in logs ]\n",
    "list_of_dicts = []\n",
    "df1 = pd.DataFrame()\n",
    "genes=[]\n",
    "for _,v in hist.genealogy_history.items():\n",
    "    genes.append(v.fitness.values)\n",
    "for j,i in enumerate(objectives2.keys()):\n",
    "    index = i.split('.')[0]\n",
    "    df1[str(index)] = pd.Series(genes).values[j]#, index=df1.index)\n",
    "\n",
    "\n",
    "    \n",
    "#if normalize:\n",
    "#    a = (a - mean(a)) / (std(a) * len(a))\n",
    "#    v = (v - mean(v)) /  std(v)\n",
    "\n",
    "df1=(df1-df1.mean())/df1.std()\n",
    "\n",
    "corr = df1.corr()#.normalize()\n",
    "fig =plt.figure(figsize=(10,10))\n",
    "sns.heatmap(corr, \n",
    "        xticklabels=corr.columns,\n",
    "        yticklabels=corr.columns)#, annot=True)\n",
    "plt.show()\n",
    "print(np.sum(np.sum(corr)))"
   ]
  },
  {
   "cell_type": "code",
   "execution_count": null,
   "metadata": {},
   "outputs": [],
   "source": [
    "\n",
    "    \n",
    "logbook = logs\n",
    "#scores = [ m for m in logs ]\n",
    "list_of_dicts = []\n",
    "df1 = pd.DataFrame()\n",
    "genes=[]\n",
    "for _,v in hist.genealogy_history.items():\n",
    "    genes.append(v.fitness.values)\n",
    "for j,i in enumerate(objectives2.keys()):\n",
    "    index = i.split('.')[0]\n",
    "    df1[str(index)] = pd.Series(genes).values[j]#, index=df1.index)\n",
    "\n",
    "\n",
    "    \n",
    "#if normalize:\n",
    "#    a = (a - mean(a)) / (std(a) * len(a))\n",
    "#    v = (v - mean(v)) /  std(v)\n",
    "\n",
    "df1=(df1-df1.mean())/df1.std()\n",
    "\n",
    "corr = df1.corr()#.normalize()\n",
    "fig =plt.figure(figsize=(10,10))\n",
    "sns.heatmap(corr, \n",
    "        xticklabels=corr.columns,\n",
    "        yticklabels=corr.columns)#, annot=True)\n",
    "plt.show()\n",
    "print(np.sum(np.sum(corr)))"
   ]
  },
  {
   "cell_type": "code",
   "execution_count": null,
   "metadata": {},
   "outputs": [],
   "source": [
    "hist.genealogy_history.keys();"
   ]
  },
  {
   "cell_type": "code",
   "execution_count": null,
   "metadata": {},
   "outputs": [],
   "source": []
  },
  {
   "cell_type": "code",
   "execution_count": null,
   "metadata": {},
   "outputs": [],
   "source": [
    "hist.genealogy_tree.keys();"
   ]
  },
  {
   "cell_type": "code",
   "execution_count": null,
   "metadata": {},
   "outputs": [],
   "source": [
    "import networkx\n",
    "graph = networkx.DiGraph(hist.genealogy_tree)\n",
    "graph = graph.reverse()     # Make the graph top-down\n",
    "per_generation = [(gen,hist.genealogy_history[gen].fitness.values) for gen in graph]"
   ]
  },
  {
   "cell_type": "code",
   "execution_count": null,
   "metadata": {},
   "outputs": [],
   "source": [
    "per_generation"
   ]
  },
  {
   "cell_type": "code",
   "execution_count": null,
   "metadata": {},
   "outputs": [],
   "source": [
    "graph.nodes"
   ]
  },
  {
   "cell_type": "code",
   "execution_count": null,
   "metadata": {},
   "outputs": [],
   "source": [
    "cp['halloffame'][-1].fitness.values"
   ]
  },
  {
   "cell_type": "code",
   "execution_count": null,
   "metadata": {},
   "outputs": [],
   "source": [
    "cp['halloffame'][0].fitness.values"
   ]
  },
  {
   "cell_type": "code",
   "execution_count": null,
   "metadata": {},
   "outputs": [],
   "source": [
    "cp['population'][-1].fitness.values"
   ]
  },
  {
   "cell_type": "code",
   "execution_count": null,
   "metadata": {},
   "outputs": [],
   "source": [
    "final_pop \n",
    "hall_of_fame[-1].fitness.values"
   ]
  },
  {
   "cell_type": "code",
   "execution_count": null,
   "metadata": {},
   "outputs": [],
   "source": [
    "len(hall_of_fame)"
   ]
  },
  {
   "cell_type": "code",
   "execution_count": null,
   "metadata": {},
   "outputs": [],
   "source": [
    "plt.plot([i for i in range(len(hall_of_fame),0,-1)],[np.sum(i.fitness.values) for i in hall_of_fame])"
   ]
  },
  {
   "cell_type": "code",
   "execution_count": null,
   "metadata": {},
   "outputs": [],
   "source": [
    "plt.plot([i for i in range(0,len(hall_of_fame))],[np.sum(hall_of_fame[i].fitness.values) for i in range(len(hall_of_fame)-1,-1,-1)])"
   ]
  },
  {
   "cell_type": "code",
   "execution_count": null,
   "metadata": {
    "lines_to_next_cell": 2
   },
   "outputs": [],
   "source": [
    "genes=[]\n",
    "\n",
    "for v in hall_of_fame:\n",
    "    #v = hall_of_fame[j]\n",
    "    genes.append(v.fitness.values)\n",
    "\n",
    "#for i in \n",
    "#    plt.plot([i for i in range(0,len(hall_of_fame))],[hall_of_fame[i].fitness.values[j] for i in range(len(hall_of_fame)-1,-1,-1)])\n",
    "#    plt.show()\n",
    "df1 = pd.DataFrame()"
   ]
  },
  {
   "cell_type": "code",
   "execution_count": null,
   "metadata": {},
   "outputs": [],
   "source": [
    "for j,i in enumerate(objectives.keys()):\n",
    "    index = i.split('.')[0]\n",
    "    df1[str(index)] = pd.Series(genes).values[j]#, index=df1.index)\n",
    "\n",
    "df1=(df1-df1.mean())/df1.std()\n",
    "\n",
    "corr = df1.corr()\n",
    "fig =plt.figure(figsize=(10,10))\n",
    "sns.heatmap(corr, \n",
    "        xticklabels=corr.columns,\n",
    "        yticklabels=corr.columns)#, annot=True)\n",
    "plt.show()"
   ]
  },
  {
   "cell_type": "code",
   "execution_count": null,
   "metadata": {
    "lines_to_next_cell": 0
   },
   "outputs": [],
   "source": [
    "for j,i in enumerate(objectives2.keys()):\n",
    "    index = i.split('.')[0]\n",
    "    df1[str(index)] = pd.Series(genes).values[j]#, index=df1.index)\n",
    "\n",
    "df1=(df1-df1.mean())/df1.std()\n",
    "\n",
    "corr = df1.corr()\n",
    "fig =plt.figure(figsize=(10,10))\n",
    "sns.heatmap(corr, \n",
    "        xticklabels=corr.columns,\n",
    "        yticklabels=corr.columns)#, annot=True)\n",
    "plt.show()"
   ]
  },
  {
   "cell_type": "code",
   "execution_count": null,
   "metadata": {},
   "outputs": [],
   "source": []
  },
  {
   "cell_type": "code",
   "execution_count": null,
   "metadata": {
    "lines_to_next_cell": 2
   },
   "outputs": [],
   "source": []
  },
  {
   "cell_type": "markdown",
   "metadata": {},
   "source": [
    "\n",
    "\n",
    "\n",
    "\n",
    "\n",
    "\n",
    "\n",
    "\n",
    "\n",
    "\n",
    "\n",
    "\n",
    "\n",
    "\n",
    "\n",
    "\n",
    "\n",
    "\n",
    "\n",
    "\n",
    "\n",
    "\n",
    "\n",
    "\n"
   ]
  },
  {
   "cell_type": "code",
   "execution_count": null,
   "metadata": {},
   "outputs": [],
   "source": []
  }
 ],
 "metadata": {
  "jupytext": {
   "formats": "ipynb,Rmd,py:light"
  },
  "kernelspec": {
   "display_name": "Python 3",
   "language": "python",
   "name": "python3"
  },
  "language_info": {
   "codemirror_mode": {
    "name": "ipython",
    "version": 3
   },
   "file_extension": ".py",
   "mimetype": "text/x-python",
   "name": "python",
   "nbconvert_exporter": "python",
   "pygments_lexer": "ipython3",
   "version": "3.7.4"
  },
  "widgets": {
   "application/vnd.jupyter.widget-state+json": {
    "state": {
     "0a7c192c0b3f4970961a62f852a0f0d7": {
      "model_module": "@jupyter-widgets/base",
      "model_module_version": "1.2.0",
      "model_name": "LayoutModel",
      "state": {}
     },
     "131df462cdcf49a283732a5e65fde7d8": {
      "model_module": "@jupyter-widgets/base",
      "model_module_version": "1.2.0",
      "model_name": "LayoutModel",
      "state": {}
     },
     "188947e99433493f86277514d537642c": {
      "model_module": "@jupyter-widgets/controls",
      "model_module_version": "1.5.0",
      "model_name": "HBoxModel",
      "state": {
       "children": [
        "IPY_MODEL_2feae04b870d4271b367a3cfe08d448b",
        "IPY_MODEL_275d17ff05bb493aa2f357a52179cdd4"
       ],
       "layout": "IPY_MODEL_0a7c192c0b3f4970961a62f852a0f0d7"
      }
     },
     "275d17ff05bb493aa2f357a52179cdd4": {
      "model_module": "@jupyter-widgets/controls",
      "model_module_version": "1.5.0",
      "model_name": "HTMLModel",
      "state": {
       "layout": "IPY_MODEL_7fe050341feb471ea01b0a6ce50b32c0",
       "style": "IPY_MODEL_9b145f7655e649f092b94e847b8d8665",
       "value": " 100/100 [09:31&lt;00:00,  5.71s/it]"
      }
     },
     "2feae04b870d4271b367a3cfe08d448b": {
      "model_module": "@jupyter-widgets/controls",
      "model_module_version": "1.5.0",
      "model_name": "FloatProgressModel",
      "state": {
       "bar_style": "success",
       "description": "100%",
       "layout": "IPY_MODEL_131df462cdcf49a283732a5e65fde7d8",
       "style": "IPY_MODEL_ac77f4ea25c14ca3b85e0b37a3104e37",
       "value": 100
      }
     },
     "7fe050341feb471ea01b0a6ce50b32c0": {
      "model_module": "@jupyter-widgets/base",
      "model_module_version": "1.2.0",
      "model_name": "LayoutModel",
      "state": {}
     },
     "9b145f7655e649f092b94e847b8d8665": {
      "model_module": "@jupyter-widgets/controls",
      "model_module_version": "1.5.0",
      "model_name": "DescriptionStyleModel",
      "state": {
       "description_width": ""
      }
     },
     "ac77f4ea25c14ca3b85e0b37a3104e37": {
      "model_module": "@jupyter-widgets/controls",
      "model_module_version": "1.5.0",
      "model_name": "ProgressStyleModel",
      "state": {
       "description_width": "initial"
      }
     }
    },
    "version_major": 2,
    "version_minor": 0
   }
  }
 },
 "nbformat": 4,
 "nbformat_minor": 2
}
