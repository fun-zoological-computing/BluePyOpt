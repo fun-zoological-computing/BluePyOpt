{
 "cells": [
  {
   "cell_type": "markdown",
   "metadata": {},
   "source": [
    "# In this notebook \n",
    "We will optimize Adaptive Exponential Integrate and Fire Model and Izhikevich Model \n",
    "allen data against some Allen Experimental data.\n"
   ]
  },
  {
   "cell_type": "markdown",
   "metadata": {},
   "source": [
    "# TODO make a nested Genetic Algorithm where the outer loop explores different preferred currents.\n",
    "\n",
    "This will get rid of the oscillations."
   ]
  },
  {
   "cell_type": "code",
   "execution_count": 1,
   "metadata": {
    "scrolled": true
   },
   "outputs": [
    {
     "name": "stderr",
     "output_type": "stream",
     "text": [
      "/home/user/anaconda3/lib/python3.7/site-packages/cerberus/validator.py:1609: UserWarning: No validation schema is defined for the arguments of rule 'not_zero_obs_zscore'\n",
      "  \"'%s'\" % method_name.split('_', 2)[-1]\n",
      "/home/user/anaconda3/lib/python3.7/site-packages/airspeed/__init__.py:505: FutureWarning: Possible nested set at position 8\n",
      "  KEYVALSEP = re.compile(r'[ \\t]*:[[ \\t]*(.*)$', re.S)\n",
      "test\n"
     ]
    }
   ],
   "source": [
    "from neuronunit.allenapi.allen_data_driven import opt_setup, opt_setup_two, opt_exec, opt_to_model\n",
    "from neuronunit.optimization.optimization_management import check_bin_vm15\n",
    "from neuronunit.optimization.model_parameters import MODEL_PARAMS, BPO_PARAMS, to_bpo_param\n",
    "from neuronunit.optimization.optimization_management import dtc_to_rheo,inject_and_plot_model\n",
    "from bluepyopt.allenapi.allen_data_driven import opt_to_model\n",
    "from utils import dask_map_function\n",
    "import matplotlib.pyplot as plt\n",
    "import numpy as np\n",
    "from neuronunit.optimization.data_transport_container import DataTC\n",
    "import efel\n",
    "from jithub.models import model_classes\n",
    "\n",
    "import quantities as qt\n",
    "\n",
    "\n",
    "ids = [ 324257146,\n",
    "        325479788,\n",
    "        476053392,\n",
    "        623893177,\n",
    "        623960880,\n",
    "        482493761,\n",
    "        471819401\n",
    "       ]\n",
    "\n",
    "specimen_id = ids[1]\n",
    "efel.__file__\n",
    "efel_list = list(efel.getFeatureNames());\n",
    "cellmodel = \"IZHI\""
   ]
  },
  {
   "cell_type": "code",
   "execution_count": 2,
   "metadata": {},
   "outputs": [],
   "source": [
    "\n",
    "#cellmodel = \"ADEXP\";\n",
    "if cellmodel == \"IZHI\":\n",
    "    model = model_classes.IzhiModel()\n",
    "if cellmodel == \"MAT\":\n",
    "    model = model_classes.MATModel()\n",
    "if cellmodel == \"ADEXP\":\n",
    "    model = model_classes.ADEXPModel()\n",
    "\n"
   ]
  },
  {
   "cell_type": "markdown",
   "metadata": {},
   "source": [
    "specimen id 623960880 \\\\\n",
    "{\\small  \n",
    "\\url{http://celltypes.brain-map.org/mouse/experiment/electrophysiology/623960880}\n",
    "specimen id 623893177 \\\\\n",
    "\\url{http://celltypes.brain-map.org/mouse/experiment/electrophysiology/623893177}\n",
    "specimen id 482493761 \\\\\n",
    "\\url{http://celltypes.brain-map.org/mouse/experiment/electrophysiology/482493761}\n",
    "specimen id 471819401 \\\\\n",
    "\\url{http://celltypes.brain-map.org/mouse/experiment/electrophysiology/471819401}\n"
   ]
  },
  {
   "cell_type": "code",
   "execution_count": 3,
   "metadata": {},
   "outputs": [],
   "source": [
    "#'sag_ratio2_1.5x',\n",
    "#'ohmic_input_resistance_1.5x',\n",
    "#'sag_ratio2_1.5x',\n",
    "\n",
    "    "
   ]
  },
  {
   "cell_type": "code",
   "execution_count": 4,
   "metadata": {},
   "outputs": [],
   "source": [
    "specific_filter_list = ['ISI_log_slope_1.5x',\n",
    "                        'mean_frequency_1.5x',\n",
    "                        'adaptation_index2_1.5x',\n",
    "                        'first_isi_1.5x',\n",
    "                        'ISI_CV_1.5x',\n",
    "                        'median_isi_1.5x',\n",
    "                        'Spikecount_1.5x',\n",
    "                        'all_ISI_values',\n",
    "                        'ISI_values',\n",
    "                        'time_to_first_spike',\n",
    "                        'time_to_last_spike',\n",
    "                        'time_to_second_spike',\n",
    "                        'spike_times',\n",
    "                        'AHP_depth_abs_1.5x',\n",
    "                        'peak_voltage_1.5x',\n",
    "                        'voltage_base_1.5x',\n",
    "                        'voltage']\n",
    "simple_yes_list = specific_filter_list\n",
    "target_num_spikes = 8\n"
   ]
  },
  {
   "cell_type": "code",
   "execution_count": 5,
   "metadata": {},
   "outputs": [
    {
     "data": {
      "text/plain": [
       "{'C': 89.7960714285714,\n",
       " 'a': 0.01,\n",
       " 'b': 15,\n",
       " 'c': -60,\n",
       " 'd': 10,\n",
       " 'k': 1.6,\n",
       " 'vPeak': 21.138338933982595,\n",
       " 'vr': -65.2261863636364,\n",
       " 'vt': -50,\n",
       " 'celltype': 3}"
      ]
     },
     "execution_count": 5,
     "metadata": {},
     "output_type": "execute_result"
    }
   ],
   "source": [
    "dtc = DataTC()\n",
    "dtc.backend = cellmodel\n",
    "dtc._backend = model._backend\n",
    "\n",
    "dtc.attrs = model.attrs\n",
    "dtc.params = {k:np.mean(v) for k,v in MODEL_PARAMS[cellmodel].items()}\n",
    "dtc.attrs"
   ]
  },
  {
   "cell_type": "code",
   "execution_count": 6,
   "metadata": {},
   "outputs": [
    {
     "name": "stdout",
     "output_type": "stream",
     "text": [
      "JIT_IZHIBackend\n"
     ]
    }
   ],
   "source": [
    "model = dtc.dtc_to_model()\n",
    "model.attrs\n",
    "\n",
    "\n",
    "\n",
    "dir(model)\n",
    "#vm = model._backend.get_membrane_potential()\n",
    "#vm = model.get_membrane_potential()#\n",
    "print(model.backend)"
   ]
  },
  {
   "cell_type": "code",
   "execution_count": 7,
   "metadata": {},
   "outputs": [
    {
     "data": {
      "text/plain": [
       "{'C': <bluepyopt.parameters.Parameter at 0x7f5373fd9790>,\n",
       " 'a': <bluepyopt.parameters.Parameter at 0x7f5373fd97d0>,\n",
       " 'b': <bluepyopt.parameters.Parameter at 0x7f5373fd9610>,\n",
       " 'c': <bluepyopt.parameters.Parameter at 0x7f5373fd96d0>,\n",
       " 'd': <bluepyopt.parameters.Parameter at 0x7f5373fd9650>,\n",
       " 'k': <bluepyopt.parameters.Parameter at 0x7f5373fd9690>,\n",
       " 'vPeak': <bluepyopt.parameters.Parameter at 0x7f5373fd95d0>,\n",
       " 'vr': <bluepyopt.parameters.Parameter at 0x7f5373fd9550>,\n",
       " 'vt': <bluepyopt.parameters.Parameter at 0x7f5373fd9510>,\n",
       " 'celltype': <bluepyopt.parameters.Parameter at 0x7f5373fd99d0>}"
      ]
     },
     "execution_count": 7,
     "metadata": {},
     "output_type": "execute_result"
    }
   ],
   "source": [
    "model.params"
   ]
  },
  {
   "cell_type": "code",
   "execution_count": 8,
   "metadata": {},
   "outputs": [
    {
     "name": "stdout",
     "output_type": "stream",
     "text": [
      "122.5711024730117 pA\n",
      "IZHI\n"
     ]
    }
   ],
   "source": [
    "\n",
    "\n",
    "dtc = dtc_to_rheo(dtc)\n",
    "print(dtc.rheobase)\n",
    "print(dtc.backend)\n",
    "\n",
    "\n",
    "#dtc_to_rheo()"
   ]
  },
  {
   "cell_type": "code",
   "execution_count": 9,
   "metadata": {},
   "outputs": [
    {
     "data": {
      "text/plain": [
       "<Figure size 432x288 with 0 Axes>"
      ]
     },
     "metadata": {},
     "output_type": "display_data"
    },
    {
     "data": {
      "image/png": "[encoded data removed]",
      "text/plain": [
       "<Figure size 432x288 with 1 Axes>"
      ]
     },
     "metadata": {
      "needs_background": "light"
     },
     "output_type": "display_data"
    },
    {
     "name": "stdout",
     "output_type": "stream",
     "text": [
      "122.5711024730117 pA\n"
     ]
    }
   ],
   "source": [
    "vm,plt,dtc = inject_and_plot_model(dtc,plotly=False)\n",
    "plt.show()\n",
    "print(dtc.rheobase)\n"
   ]
  },
  {
   "cell_type": "code",
   "execution_count": 10,
   "metadata": {},
   "outputs": [
    {
     "data": {
      "text/plain": [
       "{'C': <bluepyopt.parameters.Parameter at 0x7f5373fd9790>,\n",
       " 'a': <bluepyopt.parameters.Parameter at 0x7f5373fd97d0>,\n",
       " 'b': <bluepyopt.parameters.Parameter at 0x7f5373fd9610>,\n",
       " 'c': <bluepyopt.parameters.Parameter at 0x7f5373fd96d0>,\n",
       " 'd': <bluepyopt.parameters.Parameter at 0x7f5373fd9650>,\n",
       " 'k': <bluepyopt.parameters.Parameter at 0x7f5373fd9690>,\n",
       " 'vPeak': <bluepyopt.parameters.Parameter at 0x7f5373fd95d0>,\n",
       " 'vr': <bluepyopt.parameters.Parameter at 0x7f5373fd9550>,\n",
       " 'vt': <bluepyopt.parameters.Parameter at 0x7f5373fd9510>,\n",
       " 'celltype': <bluepyopt.parameters.Parameter at 0x7f5373fd99d0>}"
      ]
     },
     "execution_count": 10,
     "metadata": {},
     "output_type": "execute_result"
    }
   ],
   "source": [
    "fixed_current = 122 *qt.pA\n",
    "model.params"
   ]
  },
  {
   "cell_type": "code",
   "execution_count": 11,
   "metadata": {},
   "outputs": [
    {
     "data": {
      "image/png": "[encoded data removed]",
      "text/plain": [
       "<Figure size 432x288 with 1 Axes>"
      ]
     },
     "metadata": {
      "needs_background": "light"
     },
     "output_type": "display_data"
    }
   ],
   "source": [
    "model.params\n",
    "model.backend\n",
    "model, suite, nu_tests, target_current, spk_count = opt_setup(specimen_id,\n",
    "                                                              cellmodel,\n",
    "                                                              target_num_spikes,provided_model=model,fixed_current=False)\n"
   ]
  },
  {
   "cell_type": "code",
   "execution_count": 12,
   "metadata": {},
   "outputs": [
    {
     "data": {
      "text/plain": [
       "{'mean': 1.891995, 'std': 1.891995}"
      ]
     },
     "execution_count": 12,
     "metadata": {},
     "output_type": "execute_result"
    }
   ],
   "source": [
    "suite.tests[-1].observation"
   ]
  },
  {
   "cell_type": "code",
   "execution_count": 13,
   "metadata": {},
   "outputs": [
    {
     "data": {
      "text/plain": [
       "{'value': array(209.17493939) * pA}"
      ]
     },
     "execution_count": 13,
     "metadata": {},
     "output_type": "execute_result"
    }
   ],
   "source": [
    "target_current\n"
   ]
  },
  {
   "cell_type": "code",
   "execution_count": null,
   "metadata": {},
   "outputs": [
    {
     "name": "stdout",
     "output_type": "stream",
     "text": [
      "IzhiModel <jithub.models.backends.izhikevich.JIT_IZHIBackend object at 0x7f53735ad390>\n",
      "IzhiModel <jithub.models.backends.izhikevich.JIT_IZHIBackend object at 0x7f53735ad390>\n"
     ]
    },
    {
     "name": "stderr",
     "output_type": "stream",
     "text": [
      "gen\tnevals\tavg    \tstd    \tmin    \tmax  \n",
      "1  \t20    \t3114.12\t7293.74\t12.8708\t22000\n"
     ]
    },
    {
     "data": {
      "application/vnd.jupyter.widget-view+json": {
       "model_id": "1bebb0729c8a4505ab89a08ef6e43693",
       "version_major": 2,
       "version_minor": 0
      },
      "text/plain": [
       "HBox(children=(FloatProgress(value=0.0, max=350.0), HTML(value='')))"
      ]
     },
     "metadata": {},
     "output_type": "display_data"
    },
    {
     "name": "stderr",
     "output_type": "stream",
     "text": [
      "2  \t17    \t2295.39\t6178.74\t12.8708\t22000\n",
      "3  \t15    \t1815.32\t5833.12\t12.8708\t22000\n",
      "4  \t10    \t13.9364\t1.50726\t11.8612\t16.4778\n",
      "5  \t15    \t3318.45\t7486.87\t11.8612\t22000  \n",
      "6  \t12    \t49.0718\t126.128\t11.8612\t485.987\n",
      "7  \t16    \t13.1156\t0.584058\t11.8612\t14.5317\n",
      "8  \t13    \t32.0078\t96.3053 \t11.8612\t513.529\n"
     ]
    }
   ],
   "source": [
    "model.seeded_current = target_current['value']\n",
    "model.allen = True\n",
    "model.seeded_current\n",
    "model.NU = True\n",
    "cell_evaluator,simple_cell = opt_setup_two(model,cellmodel, suite, nu_tests, target_current, spk_count,provided_model=model)\n",
    "NGEN = 350\n",
    "MU = 20\n",
    "\n",
    "mapping_funct = dask_map_function\n",
    "final_pop, hall_of_fame, logs, hist = opt_exec(MU,NGEN,mapping_funct,cell_evaluator)"
   ]
  },
  {
   "cell_type": "code",
   "execution_count": null,
   "metadata": {},
   "outputs": [],
   "source": [
    "target_current"
   ]
  },
  {
   "cell_type": "code",
   "execution_count": null,
   "metadata": {},
   "outputs": [],
   "source": [
    "\n",
    "opt,target = opt_to_model(hall_of_fame,cell_evaluator,suite, target_current, spk_count)"
   ]
  },
  {
   "cell_type": "code",
   "execution_count": null,
   "metadata": {},
   "outputs": [],
   "source": [
    "best_ind = hall_of_fame[0]\n",
    "fitnesses = cell_evaluator.evaluate_with_lists(best_ind)\n",
    "fitnesses;"
   ]
  },
  {
   "cell_type": "code",
   "execution_count": null,
   "metadata": {},
   "outputs": [],
   "source": [
    "best_ind"
   ]
  },
  {
   "cell_type": "code",
   "execution_count": null,
   "metadata": {},
   "outputs": [],
   "source": [
    "obnames = [obj.name for obj in cell_evaluator.objectives]\n",
    "\n",
    "for i,j in zip(fitnesses,obnames):\n",
    "    print(i,j)"
   ]
  },
  {
   "cell_type": "code",
   "execution_count": null,
   "metadata": {},
   "outputs": [],
   "source": [
    "#for obj in cell_evaluator2.objectives:\n",
    "#    print(obj.name)\n",
    "\n",
    "gen_numbers = logs.select('gen')\n",
    "min_fitness = logs.select('min')\n",
    "max_fitness = logs.select('max')\n",
    "avg_fitness = logs.select('avg')\n",
    "plt.plot(gen_numbers, max_fitness, label='max fitness')\n",
    "plt.plot(gen_numbers, avg_fitness, label='avg fitness')\n",
    "plt.plot(gen_numbers, min_fitness, label='min fitness')\n",
    "\n",
    "plt.plot(gen_numbers, min_fitness, label='min fitness')\n",
    "plt.semilogy()\n",
    "plt.xlabel('generation #')\n",
    "plt.ylabel('score (# std)')\n",
    "plt.legend()\n",
    "plt.xlim(min(gen_numbers) - 1, max(gen_numbers) + 1)\n",
    "plt.show()"
   ]
  },
  {
   "cell_type": "code",
   "execution_count": null,
   "metadata": {},
   "outputs": [],
   "source": [
    "plt.plot(gen_numbers, max_fitness, label='max fitness')\n",
    "plt.show()"
   ]
  },
  {
   "cell_type": "code",
   "execution_count": null,
   "metadata": {},
   "outputs": [],
   "source": [
    "opt.attrs\n",
    "#opt.attrs['a'] = 0.0\n",
    "#opt.attrs['b'] = 0.0\n",
    "\n",
    "#opt.attrs['v_rest'] = -60\n",
    "#opt.attrs['tau_w'] = 0.05\n",
    "#opt.attrs['cm'] = 1\n",
    "\n",
    "opt.vm15 = None\n",
    "from neuronunit.optimization.optimization_management import inject_model30\n",
    "#vm15,_,_,opt = inject_model30(opt)\n",
    "vm15,_,_,opt=inject_model30(opt,solve_for_current=target_current)\n",
    "\n",
    "model = opt.dtc_to_model()\n",
    "\n",
    "plt.plot(opt.vm15.times,opt.vm15)\n",
    "opt.vm15\n",
    "model.attrs\n",
    "model.backend"
   ]
  },
  {
   "cell_type": "code",
   "execution_count": null,
   "metadata": {},
   "outputs": [],
   "source": [
    "\n",
    "import matplotlib.pyplot as plt\n",
    "\n",
    "plt.plot(opt.vm15.times,opt.vm15)\n",
    "plt.show()\n",
    "\n",
    "\n",
    "opt.attrs\n"
   ]
  },
  {
   "cell_type": "code",
   "execution_count": null,
   "metadata": {},
   "outputs": [],
   "source": [
    "opt.vm15.units\n",
    "\n",
    "#opt.vm15 = opt.vm15.rescale('mV').magnitude\n"
   ]
  },
  {
   "cell_type": "code",
   "execution_count": null,
   "metadata": {},
   "outputs": [],
   "source": [
    "target_current"
   ]
  },
  {
   "cell_type": "code",
   "execution_count": null,
   "metadata": {},
   "outputs": [],
   "source": [
    "target.vm15 = suite.traces['vm15']\n",
    "\n",
    "plt.plot(target.vm15.times,target.vm15)\n",
    "plt.show()\n"
   ]
  },
  {
   "cell_type": "code",
   "execution_count": null,
   "metadata": {},
   "outputs": [],
   "source": [
    "target.vm15 = suite.traces['vm15']\n",
    "#opt.attrs['a'] = 0.0\n",
    "#opt.attrs['vr'] = -80\n",
    "check_bin_vm15(target,opt)\n",
    "opt.attrs\n",
    "\n"
   ]
  },
  {
   "cell_type": "code",
   "execution_count": null,
   "metadata": {},
   "outputs": [],
   "source": [
    "'''\n",
    "import bluepyopt as bpop\n",
    "from utils import dask_map_function\n",
    "optimisation = bpop.optimisations.DEAPOptimisation(\n",
    "        evaluator=cell_evaluator2,\n",
    "        offspring_size = MU,\n",
    "        map_function = dask_map_function,\n",
    "        selector_name='IBEA',mutpb=0.1,cxpb=0.35,seeded_pop=[cp['final_pop'],cp['hall_of_fame']])#,seeded_current=target_current)\n",
    "final_pop, hall_of_fame, logs, hist = optimisation.run(max_ngen=50)\n",
    "'''"
   ]
  },
  {
   "cell_type": "code",
   "execution_count": null,
   "metadata": {},
   "outputs": [],
   "source": [
    "gen_numbers = logs.select('gen')\n",
    "min_fitness = logs.select('min')\n",
    "max_fitness = logs.select('max')\n",
    "avg_fitness = logs.select('avg')\n",
    "plt.plot(gen_numbers, max_fitness, label='max fitness')\n",
    "plt.plot(gen_numbers, avg_fitness, label='avg fitness')\n",
    "plt.plot(gen_numbers, min_fitness, label='min fitness')\n",
    "\n",
    "plt.plot(gen_numbers, min_fitness, label='min fitness')\n",
    "#plt.semilogy()\n",
    "plt.xlabel('generation #')\n",
    "plt.ylabel('score (# std)')\n",
    "plt.legend()\n",
    "plt.xlim(min(gen_numbers) - 1, max(gen_numbers) + 1)\n",
    "plt.show()\n"
   ]
  }
 ],
 "metadata": {
  "kernelspec": {
   "display_name": "Python 3",
   "language": "python",
   "name": "python3"
  },
  "language_info": {
   "codemirror_mode": {
    "name": "ipython",
    "version": 3
   },
   "file_extension": ".py",
   "mimetype": "text/x-python",
   "name": "python",
   "nbconvert_exporter": "python",
   "pygments_lexer": "ipython3",
   "version": "3.7.4"
  }
 },
 "nbformat": 4,
 "nbformat_minor": 2
}
