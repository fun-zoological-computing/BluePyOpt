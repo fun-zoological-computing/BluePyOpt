{
 "cells": [
  {
   "cell_type": "markdown",
   "metadata": {},
   "source": [
    "# In this notebook \n",
    "We will optimize Adaptive Exponential Integrate and Fire Model and Izhikevich Model \n",
    "allen data against some Allen Experimental data.\n"
   ]
  },
  {
   "cell_type": "code",
   "execution_count": 1,
   "metadata": {
    "scrolled": true
   },
   "outputs": [
    {
     "name": "stderr",
     "output_type": "stream",
     "text": [
      "/home/user/anaconda3/lib/python3.7/site-packages/cerberus/validator.py:1609: UserWarning: No validation schema is defined for the arguments of rule 'not_zero_obs_zscore'\n",
      "  \"'%s'\" % method_name.split('_', 2)[-1]\n"
     ]
    },
    {
     "ename": "ModuleNotFoundError",
     "evalue": "No module named 'neuronunit.allenapi.allen_data_efel_features_opt'",
     "output_type": "error",
     "traceback": [
      "\u001b[0;31m---------------------------------------------------------------------------\u001b[0m",
      "\u001b[0;31mModuleNotFoundError\u001b[0m                       Traceback (most recent call last)",
      "\u001b[0;32m<ipython-input-1-6a4515f77a56>\u001b[0m in \u001b[0;36m<module>\u001b[0;34m\u001b[0m\n\u001b[0;32m----> 1\u001b[0;31m \u001b[0;32mfrom\u001b[0m \u001b[0mneuronunit\u001b[0m\u001b[0;34m.\u001b[0m\u001b[0mallenapi\u001b[0m\u001b[0;34m.\u001b[0m\u001b[0mallen_data_efel_features_opt\u001b[0m \u001b[0;32mimport\u001b[0m \u001b[0mopt_setup\u001b[0m\u001b[0;34m,\u001b[0m \u001b[0mopt_setup_two\u001b[0m\u001b[0;34m,\u001b[0m \u001b[0mopt_exec\u001b[0m\u001b[0;34m,\u001b[0m \u001b[0mopt_to_model\u001b[0m\u001b[0;34m\u001b[0m\u001b[0;34m\u001b[0m\u001b[0m\n\u001b[0m\u001b[1;32m      2\u001b[0m \u001b[0;32mfrom\u001b[0m \u001b[0mneuronunit\u001b[0m\u001b[0;34m.\u001b[0m\u001b[0moptimization\u001b[0m\u001b[0;34m.\u001b[0m\u001b[0moptimization_management\u001b[0m \u001b[0;32mimport\u001b[0m \u001b[0mcheck_bin_vm15\u001b[0m\u001b[0;34m\u001b[0m\u001b[0;34m\u001b[0m\u001b[0m\n\u001b[1;32m      3\u001b[0m \u001b[0;32mfrom\u001b[0m \u001b[0mneuronunit\u001b[0m\u001b[0;34m.\u001b[0m\u001b[0moptimization\u001b[0m\u001b[0;34m.\u001b[0m\u001b[0mmodel_parameters\u001b[0m \u001b[0;32mimport\u001b[0m \u001b[0mMODEL_PARAMS\u001b[0m\u001b[0;34m,\u001b[0m \u001b[0mBPO_PARAMS\u001b[0m\u001b[0;34m,\u001b[0m \u001b[0mto_bpo_param\u001b[0m\u001b[0;34m\u001b[0m\u001b[0;34m\u001b[0m\u001b[0m\n\u001b[1;32m      4\u001b[0m \u001b[0;32mfrom\u001b[0m \u001b[0mneuronunit\u001b[0m\u001b[0;34m.\u001b[0m\u001b[0moptimization\u001b[0m\u001b[0;34m.\u001b[0m\u001b[0moptimization_management\u001b[0m \u001b[0;32mimport\u001b[0m \u001b[0mdtc_to_rheo\u001b[0m\u001b[0;34m,\u001b[0m\u001b[0minject_and_plot_model\u001b[0m\u001b[0;34m\u001b[0m\u001b[0;34m\u001b[0m\u001b[0m\n\u001b[1;32m      5\u001b[0m \u001b[0;32mfrom\u001b[0m \u001b[0mbluepyopt\u001b[0m\u001b[0;34m.\u001b[0m\u001b[0mallenapi\u001b[0m\u001b[0;34m.\u001b[0m\u001b[0mallen_data_driven\u001b[0m \u001b[0;32mimport\u001b[0m \u001b[0mopt_to_model\u001b[0m\u001b[0;34m\u001b[0m\u001b[0;34m\u001b[0m\u001b[0m\n",
      "\u001b[0;31mModuleNotFoundError\u001b[0m: No module named 'neuronunit.allenapi.allen_data_efel_features_opt'"
     ]
    }
   ],
   "source": [
    "from neuronunit.allenapi.allen_data_efel_features_opt import opt_setup, opt_setup_two, opt_exec, opt_to_model\n",
    "from neuronunit.optimization.optimization_management import check_bin_vm15\n",
    "from neuronunit.optimization.model_parameters import MODEL_PARAMS, BPO_PARAMS, to_bpo_param\n",
    "from neuronunit.optimization.optimization_management import dtc_to_rheo,inject_and_plot_model\n",
    "from bluepyopt.allenapi.allen_data_driven import opt_to_model\n",
    "from utils import dask_map_function\n",
    "import matplotlib.pyplot as plt\n",
    "import numpy as np\n",
    "from neuronunit.optimization.data_transport_container import DataTC\n",
    "import efel\n",
    "from jithub.models import model_classes\n",
    "import matplotlib.pyplot as plt\n",
    "import quantities as qt\n",
    "from neuronunit.optimization.optimization_management import inject_model30 # TODO rename, elicit spikes.\n",
    "\n",
    "\n",
    "\n",
    "ids = [ 324257146,\n",
    "        325479788,\n",
    "        476053392,\n",
    "        623893177,\n",
    "        623960880,\n",
    "        482493761,\n",
    "        471819401\n",
    "       ]\n",
    "\n",
    "specimen_id = ids[1]\n",
    "efel.__file__\n",
    "efel_list = list(efel.getFeatureNames());\n",
    "cellmodel = \"ADEXP\""
   ]
  },
  {
   "cell_type": "code",
   "execution_count": null,
   "metadata": {},
   "outputs": [],
   "source": [
    "\n",
    "#cellmodel = \"ADEXP\";\n",
    "if cellmodel == \"IZHI\":\n",
    "    model = model_classes.IzhiModel()\n",
    "if cellmodel == \"MAT\":\n",
    "    model = model_classes.MATModel()\n",
    "if cellmodel == \"ADEXP\":\n",
    "    model = model_classes.ADEXPModel()\n",
    "\n"
   ]
  },
  {
   "cell_type": "markdown",
   "metadata": {},
   "source": [
    "specimen id 623960880 \\\\\n",
    "{\\small  \n",
    "\\url{http://celltypes.brain-map.org/mouse/experiment/electrophysiology/623960880}\n",
    "specimen id 623893177 \\\\\n",
    "\\url{http://celltypes.brain-map.org/mouse/experiment/electrophysiology/623893177}\n",
    "specimen id 482493761 \\\\\n",
    "\\url{http://celltypes.brain-map.org/mouse/experiment/electrophysiology/482493761}\n",
    "specimen id 471819401 \\\\\n",
    "\\url{http://celltypes.brain-map.org/mouse/experiment/electrophysiology/471819401}\n"
   ]
  },
  {
   "cell_type": "code",
   "execution_count": null,
   "metadata": {},
   "outputs": [],
   "source": [
    "specific_filter_list = ['ISI_log_slope_1.5x',\n",
    "                        'mean_frequency_1.5x',\n",
    "                        'adaptation_index2_1.5x',\n",
    "                        'first_isi_1.5x',\n",
    "                        'ISI_CV_1.5x',\n",
    "                        'median_isi_1.5x',\n",
    "                        'Spikecount_1.5x',\n",
    "                        'all_ISI_values',\n",
    "                        'ISI_values',\n",
    "                        'time_to_first_spike',\n",
    "                        'time_to_last_spike',\n",
    "                        'time_to_second_spike',\n",
    "                        'spike_times',\n",
    "                        'AHP_depth_abs_1.5x',\n",
    "                        'peak_voltage_1.5x',\n",
    "                        'voltage_base_1.5x',\n",
    "                        'voltage']\n",
    "simple_yes_list = specific_filter_list\n",
    "target_num_spikes = 8\n"
   ]
  },
  {
   "cell_type": "code",
   "execution_count": null,
   "metadata": {},
   "outputs": [],
   "source": [
    "\n",
    "def ranged_select_model(model_type):\n",
    "    dtc = DataTC()\n",
    "    dtc.backend = model_type\n",
    "    model = dtc.dtc_to_model()\n",
    "    dtc.attrs = model._backend.default_attrs\n",
    "    dtc.params = {k:np.mean(v) for k,v in MODEL_PARAMS[cellmodel].items()}\n",
    "    model = dtc.dtc_to_model()\n",
    "    return model\n"
   ]
  },
  {
   "cell_type": "code",
   "execution_count": null,
   "metadata": {},
   "outputs": [],
   "source": [
    "def check_out_model(model):\n",
    "    dtc = model.model_to_dtc()\n",
    "    dtc = dtc_to_rheo(dtc)\n",
    "    vm,plt,dtc = inject_and_plot_model(dtc,plotly=False)\n",
    "    plt.show()\n",
    "    print(dtc.attrs)\n",
    "    print(dtc.rheobase)\n"
   ]
  },
  {
   "cell_type": "markdown",
   "metadata": {},
   "source": [
    "Notice the Izhikevich model Needs a lot of computational\n",
    "resources to optimize. Later we will see that a good fit is possible with a fraction of the resources in the Adexp model, the problem is that the Izhikevich model has a larger number of sensative parameters."
   ]
  },
  {
   "cell_type": "code",
   "execution_count": null,
   "metadata": {},
   "outputs": [],
   "source": [
    "from sciunit.scores import ZScore\n",
    "model = ranged_select_model(cellmodel)\n",
    "model.params\n",
    "model.backend\n",
    "suite, target_current, spk_count, cell_evaluator, simple_cell = opt_setup(specimen_id,\n",
    "                                                              cellmodel,\n",
    "                                                              target_num_spikes,\n",
    "                                                              provided_model=model,\n",
    "                                                              fixed_current=False)\n",
    "\n",
    "#cell_evaluator,simple_cell = opt_setup_two(model,cellmodel, suite, nu_tests, target_current, spk_count,provided_model=model,score_type=ZScore)\n",
    "NGEN = 100\n",
    "MU = 20\n",
    "\n",
    "mapping_funct = dask_map_function\n",
    "final_pop, hall_of_fame, logs, hist = opt_exec(MU,NGEN,mapping_funct,cell_evaluator)"
   ]
  },
  {
   "cell_type": "markdown",
   "metadata": {},
   "source": [
    "# 100 generations miniumum fitness 0.71"
   ]
  },
  {
   "cell_type": "code",
   "execution_count": null,
   "metadata": {},
   "outputs": [],
   "source": [
    "\n",
    "opt,target = opt_to_model(hall_of_fame,cell_evaluator,suite, target_current, spk_count)"
   ]
  },
  {
   "cell_type": "code",
   "execution_count": null,
   "metadata": {},
   "outputs": [],
   "source": [
    "best_ind = hall_of_fame[0]\n",
    "fitnesses = cell_evaluator.evaluate_with_lists(best_ind)\n",
    "fitnesses;"
   ]
  },
  {
   "cell_type": "code",
   "execution_count": null,
   "metadata": {},
   "outputs": [],
   "source": [
    "best_ind"
   ]
  },
  {
   "cell_type": "code",
   "execution_count": null,
   "metadata": {},
   "outputs": [],
   "source": [
    "obnames = [obj.name for obj in cell_evaluator.objectives]\n",
    "\n",
    "for i,j in zip(fitnesses,obnames):\n",
    "    print(i,j)"
   ]
  },
  {
   "cell_type": "code",
   "execution_count": null,
   "metadata": {},
   "outputs": [],
   "source": [
    "\n",
    "\n",
    "gen_numbers = logs.select('gen')\n",
    "min_fitness = logs.select('min')\n",
    "max_fitness = logs.select('max')\n",
    "avg_fitness = logs.select('avg')\n",
    "plt.plot(gen_numbers, max_fitness, label='max fitness')\n",
    "plt.plot(gen_numbers, avg_fitness, label='avg fitness')\n",
    "plt.plot(gen_numbers, min_fitness, label='min fitness')\n",
    "\n",
    "plt.plot(gen_numbers, min_fitness, label='min fitness')\n",
    "plt.semilogy()\n",
    "plt.xlabel('generation #')\n",
    "plt.ylabel('score (# std)')\n",
    "plt.legend()\n",
    "plt.xlim(min(gen_numbers) - 1, max(gen_numbers) + 1)\n",
    "plt.show()"
   ]
  },
  {
   "cell_type": "code",
   "execution_count": null,
   "metadata": {},
   "outputs": [],
   "source": [
    "plt.plot(gen_numbers, max_fitness, label='max fitness')\n",
    "plt.show()"
   ]
  },
  {
   "cell_type": "code",
   "execution_count": null,
   "metadata": {},
   "outputs": [],
   "source": [
    "\n",
    "\n",
    "opt.vm15 = None\n",
    "vm15,_,_,opt=inject_model30(opt,solve_for_current=target_current)\n",
    "model = opt.dtc_to_model()\n",
    "plt.plot(opt.vm15.times,opt.vm15)\n",
    "opt.vm15\n",
    "model.attrs\n",
    "model.backend"
   ]
  },
  {
   "cell_type": "code",
   "execution_count": null,
   "metadata": {},
   "outputs": [],
   "source": [
    "target_current"
   ]
  },
  {
   "cell_type": "code",
   "execution_count": null,
   "metadata": {},
   "outputs": [],
   "source": [
    "target.vm15 = suite.traces['vm15']\n",
    "\n",
    "plt.plot(target.vm15.times,target.vm15)\n",
    "plt.show()\n"
   ]
  },
  {
   "cell_type": "code",
   "execution_count": null,
   "metadata": {},
   "outputs": [],
   "source": [
    "target.vm15 = suite.traces['vm15']\n",
    "check_bin_vm15(target,opt)\n",
    "opt.attrs"
   ]
  },
  {
   "cell_type": "code",
   "execution_count": null,
   "metadata": {},
   "outputs": [],
   "source": [
    "cellmodel = \"IZHI\"\n",
    "\n",
    "model = ranged_select_model(cellmodel)\n",
    "\n",
    "model.params\n",
    "model.backend\n",
    "suite, target_current, spk_count, cell_evaluator, simple_cell = opt_setup(specimen_id,\n",
    "                                                              cellmodel,\n",
    "                                                              target_num_spikes,\n",
    "                                                              provided_model=model,\n",
    "                                                              fixed_current=False)\n",
    "\n",
    "NGEN = 100\n",
    "MU = 100\n",
    "\n",
    "mapping_funct = dask_map_function\n",
    "final_pop, hall_of_fame, logs, hist = opt_exec(MU,NGEN,mapping_funct,cell_evaluator)"
   ]
  },
  {
   "cell_type": "code",
   "execution_count": null,
   "metadata": {},
   "outputs": [],
   "source": [
    "opt,target = opt_to_model(hall_of_fame,cell_evaluator,suite, target_current, spk_count)\n",
    "target.vm15 = suite.traces['vm15']\n",
    "check_bin_vm15(target,opt)\n",
    "opt.attrs"
   ]
  },
  {
   "cell_type": "markdown",
   "metadata": {},
   "source": [
    "# TODO make a nested Genetic Algorithm where the outer loop explores different preferred currents.\n",
    "\n",
    "This will get rid of the oscillations."
   ]
  },
  {
   "cell_type": "code",
   "execution_count": null,
   "metadata": {},
   "outputs": [],
   "source": []
  }
 ],
 "metadata": {
  "kernelspec": {
   "display_name": "Python 3",
   "language": "python",
   "name": "python3"
  },
  "language_info": {
   "codemirror_mode": {
    "name": "ipython",
    "version": 3
   },
   "file_extension": ".py",
   "mimetype": "text/x-python",
   "name": "python",
   "nbconvert_exporter": "python",
   "pygments_lexer": "ipython3",
   "version": "3.7.4"
  }
 },
 "nbformat": 4,
 "nbformat_minor": 2
}
