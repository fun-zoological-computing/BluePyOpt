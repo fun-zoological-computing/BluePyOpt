{
 "cells": [
  {
   "cell_type": "markdown",
   "metadata": {},
   "source": [
    "To make optimization of reduced models tractable, it was important to evaluate the feasibility of optimizing with established model implementations. Feasability was not universally established and it was easier to re-implement several models. Examples are given below."
   ]
  },
  {
   "cell_type": "code",
   "execution_count": 1,
   "metadata": {},
   "outputs": [
    {
     "name": "stderr",
     "output_type": "stream",
     "text": [
      "/home/user/anaconda3/lib/python3.7/site-packages/airspeed/__init__.py:505: FutureWarning: Possible nested set at position 8\n",
      "  KEYVALSEP = re.compile(r'[ \\t]*:[[ \\t]*(.*)$', re.S)\n"
     ]
    }
   ],
   "source": [
    "import bluepyopt as bpop\n",
    "import bluepyopt.ephys as ephys\n",
    "import pickle\n",
    "#!nrnivmodl\n",
    "import sciunit\n",
    "import numpy as np\n",
    "\n",
    "import matplotlib.pyplot as plt\n",
    "from bluepyopt.ephys.models import ReducedCellModel\n",
    "import numpy\n",
    "from neuronunit.optimisation.model_parameters import MODEL_PARAMS\n",
    "from neuronunit.optimisation.optimization_management import test_all_objective_test,inject_and_plot_model\n",
    "from neuronunit.optimisation.optimization_management import check_binary_match, three_step_protocol,inject_and_plot_passive_model\n",
    "from neuronunit.optimisation.optimization_management import inject_and_plot_passive_model\n",
    "from neuronunit.optimisation.optimization_management import inject_and_plot_model\n",
    "from neuronunit.optimisation.optimization_management import test_all_objective_test,inject_and_plot_model\n",
    "import plotnine\n",
    "from utils import NUFeature\n",
    "from sciunit.scores import ZScore\n",
    "from utils import dask_map_function\n",
    "from neuronunit.tests.fi import RheobaseTestP\n",
    "\n",
    "#'bhh_dynamics.BHHBackend'\n",
    "#'jNeuroML.jNeuroMLBackend',\n",
    "#'neuron.NEURONBackend',\n",
    "\n",
    "\n",
    "#vm,plt,dtc = inject_and_plot_model(dtc,plotly=False)\n",
    "\n",
    "tests = pickle.load(open(\"processed_multicellular_constraints.p\",\"rb\"))\n",
    "nu_tests = tests['Hippocampus CA1 pyramidal cell'].tests\n",
    "\n",
    "#rp = RheobaseTestP(observation = nu_tests[0].observation)\n",
    "##rheobase = rp.generate_prediction(simple_cell)\n",
    "#print(dtc.rheobase)"
   ]
  },
  {
   "cell_type": "markdown",
   "metadata": {},
   "source": [
    "Below I have implemented a python integrator for the Adaptive Exponential Integrate and fire model. This solver lead to faster evaluations of current injection experiments. The integrator I developed had a ```>0mV``` spiked when evaluated at default parameter values.\n",
    "\n",
    "This is in contrast to the brian2/neuraldynamics AdExp model, which took between 2 or 3 times longer to find a rheobase current injection value [2*total,3*total].\n",
    "\n",
    "\n",
    "Before JIT compilation: Time taken to find Rheobase 7.0 seconds.\n",
    "After JIT compilation: 4.0\n",
    "\n",
    "\n",
    "Brian2 Time taken to find Rheobase: 4.40\n",
    "Brian2 Time taken to find Rheobase (parallel): 3.976\n",
    "\n",
    "\n",
    "The evaluation times between Brian2 JIT and the custom written integrator are similar. Both have average runs of 4 seconds, however the spike shapes coming from the custom written code look more realistic under default parameters"
   ]
  },
  {
   "cell_type": "code",
   "execution_count": 23,
   "metadata": {},
   "outputs": [
    {
     "name": "stdout",
     "output_type": "stream",
     "text": [
      "time taken on block 4.080894947052002 \n",
      "time taken on block 4.725911855697632 \n"
     ]
    },
    {
     "data": {
      "text/plain": [
       "<Figure size 432x288 with 0 Axes>"
      ]
     },
     "metadata": {},
     "output_type": "display_data"
    },
    {
     "data": {
      "image/png": "[encoded data removed]",
      "text/plain": [
       "<Figure size 432x288 with 1 Axes>"
      ]
     },
     "metadata": {
      "needs_background": "light"
     },
     "output_type": "display_data"
    },
    {
     "name": "stdout",
     "output_type": "stream",
     "text": [
      "time taken on block 3.8262627124786377 \n",
      "{'value': array(559.05349794) * pA} 558.43505859375 pA\n"
     ]
    }
   ],
   "source": [
    "simple_cell = ephys.models.ReducedCellModel(\n",
    "        name='simple_cell',\n",
    "        params=MODEL_PARAMS[\"ADEXP\"],backend=\"ADEXP\")  \n",
    "simple_cell.backend = \"ADEXP\"\n",
    "model = simple_cell\n",
    "\n",
    "model.attrs = {k:np.mean(v) for k,v in model.params.items() }\n",
    "\n",
    "tests = pickle.load(open(\"processed_multicellular_constraints.p\",\"rb\"))\n",
    "nu_tests = tests['Hippocampus CA1 pyramidal cell'].tests\n",
    "\n",
    "dtc = model.model_to_dtc()\n",
    "dtc.attrs = model.attrs\n",
    "dtc.attrs = model._backend.default_attrs\n",
    "#print(dtc.attrs)\n",
    "\n",
    "dtc.attrs['a']=4.0\n",
    "dtc.attrs['b']=1.0805 \n",
    "dtc.attrs['e_rev_E']=-60.0  \n",
    "dtc.attrs['C']=60.0  \n",
    "\n",
    "#print(MODEL_PARAMS[\"ADEXP\"])\n",
    "\n",
    "vm,plt,dtc = inject_and_plot_model(dtc,plotly=False)\n",
    "\n",
    "plt.show()\n",
    "\n",
    "rp = RheobaseTestP(observation = nu_tests[0].observation)\n",
    "rheobase = rp.generate_prediction(model)\n",
    "print(rheobase,dtc.rheobase)"
   ]
  },
  {
   "cell_type": "markdown",
   "metadata": {},
   "source": [
    "Below is the Brian2/NeuralDynamics AdExp model.\n",
    "Inorder to make the spike height greater than 0mV it was easier to do post simulation modifications to the orginal waveform, as it is a Neo Wave form object that is effectively boosted, or shifted above 0mV, it takes about 3 seconds in adition to complete the algorithm of determining rheobase and displaying results.\n",
    "\n",
    "time taken on block 3.923464775085449 \n",
    "time taken on block 6.7528088092803955"
   ]
  },
  {
   "cell_type": "code",
   "execution_count": 3,
   "metadata": {},
   "outputs": [
    {
     "name": "stdout",
     "output_type": "stream",
     "text": [
      "(-75, -56)\n",
      "{'ADAPTATION_TIME_CONSTANT_tau_w': 100.0, 'ADAPTATION_VOLTAGE_COUPLING_a': 0.5, 'FIRING_THRESHOLD_v_spike': -30.0, 'MEMBRANE_RESISTANCE_R': 0.140625, 'MEMBRANE_TIME_SCALE_tau_m': 4.0625, 'RHEOBASE_THRESHOLD_v_rh': -40.625, 'SHARPNESS_delta_T': 1.0, 'SPIKE_TRIGGERED_ADAPTATION_INCREMENT_b': 7.0, 'V_RESET': -57.375, 'V_REST': -105.0, 'b': 0.09, 'C': 1.0, 'peak_v': 0.034999999999999996}\n",
      "time taken on block 4.437911033630371 \n",
      "time taken on block 4.9163596630096436 \n"
     ]
    },
    {
     "data": {
      "text/plain": [
       "<Figure size 432x288 with 0 Axes>"
      ]
     },
     "metadata": {},
     "output_type": "display_data"
    },
    {
     "data": {
      "image/png": "[encoded data removed]",
      "text/plain": [
       "<Figure size 432x288 with 1 Axes>"
      ]
     },
     "metadata": {
      "needs_background": "light"
     },
     "output_type": "display_data"
    },
    {
     "data": {
      "text/plain": [
       "array(0.3675) * mV"
      ]
     },
     "execution_count": 3,
     "metadata": {},
     "output_type": "execute_result"
    }
   ],
   "source": [
    "\n",
    "from neuronunit.optimisation.brian_glif_model_parameters import MODEL_PARAMS as MODEL_PARAMS_depreciated\n",
    "simple_cell = ephys.models.ReducedCellModel(\n",
    "        name='simple_cell',\n",
    "        params=MODEL_PARAMS_depreciated[\"ADEXP\"],backend=\"BADEXP\")  \n",
    "simple_cell.backend = \"BADEXP\"\n",
    "\n",
    "model = simple_cell\n",
    "model.attrs = {k:np.mean(v) for k,v in model.params.items() }\n",
    "#print(model.attrs['C'])\n",
    "#model.attrs['C'] = 1\n",
    "\n",
    "#model.attrs['C'] = 0.5\n",
    "\n",
    "dtc = model.model_to_dtc()\n",
    "print(dtc.attrs)\n",
    "vm,plt,dtc = inject_and_plot_model(dtc,plotly=False)\n",
    "plt.show()\n",
    "\n",
    "np.max(vm)"
   ]
  },
  {
   "cell_type": "markdown",
   "metadata": {},
   "source": [
    "The next model to be evaluated is the NEURON Izhi model. The NEURON Izhi model has various draw backs. \n",
    "1. It depends on an external file which must be recompiled each time this project is recreated.\n",
    "2. The build environment of NEURON is non-trivial, and only a super dedicated NEURON modeller would install it on their system. The installation time investment does not exceed the advantages of using NEURON.\n",
    "3. The model implementation code is less generalizable than than the Izhi model itself\n",
    "* This is likely due to a name space conflict between Capacitance.\n",
    "\n",
    "The NEURON Izhi model took 78 seconds to reach Rheobase."
   ]
  },
  {
   "cell_type": "markdown",
   "metadata": {},
   "source": []
  },
  {
   "cell_type": "code",
   "execution_count": 5,
   "metadata": {},
   "outputs": [
    {
     "name": "stdout",
     "output_type": "stream",
     "text": [
      "time taken on block 73.06057906150818 \n",
      "time taken on block 78.1226634979248 \n"
     ]
    },
    {
     "data": {
      "text/plain": [
       "<Figure size 432x288 with 0 Axes>"
      ]
     },
     "metadata": {},
     "output_type": "display_data"
    },
    {
     "data": {
      "image/png": "[encoded data removed]",
      "text/plain": [
       "<Figure size 432x288 with 1 Axes>"
      ]
     },
     "metadata": {
      "needs_background": "light"
     },
     "output_type": "display_data"
    },
    {
     "data": {
      "text/plain": [
       "array(51.79367065) * pA"
      ]
     },
     "execution_count": 5,
     "metadata": {},
     "output_type": "execute_result"
    }
   ],
   "source": [
    "\n",
    "from neuronunit.optimisation.brian_glif_model_parameters import MODEL_PARAMS as MODEL_PARAMS_depreciated\n",
    "simple_cell = ephys.models.ReducedCellModel(\n",
    "        name='simple_cell',\n",
    "        params=MODEL_PARAMS_depreciated[\"NEURON\"],backend=\"NEURON\")  \n",
    "simple_cell.backend = \"NEURON\"\n",
    "\n",
    "model = simple_cell\n",
    "model.attrs = {k:np.mean(v) for k,v in model.params.items() }\n",
    "#print(model.attrs['C'])\n",
    "dtc = model.model_to_dtc()\n",
    "\n",
    "vm,plt,pre_model = inject_and_plot_model(dtc,plotly=False)\n",
    "plt.show()\n",
    "pre_model.rheobase"
   ]
  },
  {
   "cell_type": "markdown",
   "metadata": {},
   "source": [
    "# Parallel Rheobase \n",
    "Algorithm was able to speed up this slow NEURON unit code. 73/19 represents a substantial speed up. of about 3.8. This is consistent with previous work"
   ]
  },
  {
   "cell_type": "code",
   "execution_count": 6,
   "metadata": {},
   "outputs": [
    {
     "name": "stdout",
     "output_type": "stream",
     "text": [
      "time taken on block 19.902973651885986 \n"
     ]
    }
   ],
   "source": [
    "\n",
    "tests = pickle.load(open(\"../metaparameters/processed_multicellular_constraints.p\",\"rb\"))\n",
    "nu_tests = tests['Hippocampus CA1 pyramidal cell'].tests\n",
    "nu_tests[0].score_type = ZScore \n",
    "rp = RheobaseTestP(observation = nu_tests[0].observation)\n",
    "rheobase = rp.generate_prediction(model)\n"
   ]
  },
  {
   "cell_type": "code",
   "execution_count": 7,
   "metadata": {},
   "outputs": [
    {
     "data": {
      "text/plain": [
       "{'value': array(51.79317142) * pA}"
      ]
     },
     "execution_count": 7,
     "metadata": {},
     "output_type": "execute_result"
    }
   ],
   "source": [
    "rheobase"
   ]
  },
  {
   "cell_type": "markdown",
   "metadata": {},
   "source": [
    "Forward Euler python IZhi model is very fast. Less than a second to find rheobase, and whats more this model is just as generalizable as the original izhikitich model"
   ]
  },
  {
   "cell_type": "code",
   "execution_count": 9,
   "metadata": {},
   "outputs": [
    {
     "name": "stdout",
     "output_type": "stream",
     "text": [
      "125.0\n",
      "time taken on block 0.3479008674621582 \n",
      "time taken on block 0.7229776382446289 \n"
     ]
    },
    {
     "data": {
      "text/plain": [
       "<Figure size 432x288 with 0 Axes>"
      ]
     },
     "metadata": {},
     "output_type": "display_data"
    },
    {
     "data": {
      "image/png": "[encoded data removed]",
      "text/plain": [
       "<Figure size 432x288 with 1 Axes>"
      ]
     },
     "metadata": {
      "needs_background": "light"
     },
     "output_type": "display_data"
    }
   ],
   "source": [
    "\n",
    "from neuronunit.optimisation.brian_glif_model_parameters import MODEL_PARAMS as MODEL_PARAMS_depreciated\n",
    "simple_cell = ephys.models.ReducedCellModel(\n",
    "        name='simple_cell',\n",
    "        params=MODEL_PARAMS[\"IZHI\"],backend=\"IZHI\")  \n",
    "simple_cell.backend = \"IZHI\"\n",
    "\n",
    "model = simple_cell\n",
    "model.attrs = {k:np.mean(v) for k,v in model.params.items() }\n",
    "print(model.attrs['C'])\n",
    "dtc = model.model_to_dtc()\n",
    "\n",
    "\n",
    "vm,plt,pre_model = inject_and_plot_model(dtc,plotly=False)\n",
    "plt.show()"
   ]
  },
  {
   "cell_type": "code",
   "execution_count": 10,
   "metadata": {},
   "outputs": [],
   "source": [
    "# 'jNeuroML.jNeuroMLBackend',\n",
    "#                 'neuron.NEURONBackend',"
   ]
  },
  {
   "cell_type": "code",
   "execution_count": 11,
   "metadata": {},
   "outputs": [
    {
     "name": "stdout",
     "output_type": "stream",
     "text": [
      "time taken on block 11.903739213943481 \n",
      "time taken on block 12.13547658920288 \n"
     ]
    },
    {
     "data": {
      "text/plain": [
       "<Figure size 432x288 with 0 Axes>"
      ]
     },
     "metadata": {},
     "output_type": "display_data"
    },
    {
     "data": {
      "image/png": "[encoded data removed]",
      "text/plain": [
       "<Figure size 432x288 with 1 Axes>"
      ]
     },
     "metadata": {
      "needs_background": "light"
     },
     "output_type": "display_data"
    }
   ],
   "source": [
    "from neuronunit.optimisation.brian_glif_model_parameters import HH_attrs\n",
    "\n",
    "simple_cell = ephys.models.ReducedCellModel(\n",
    "        name='simple_cell',\n",
    "        params=HH_attrs,backend=\"HH\")  \n",
    "simple_cell.backend = \"HH\"\n",
    "model = simple_cell\n",
    "\n",
    "model.attrs = {k:np.mean(v) for k,v in model.params.items() }\n",
    "model.attrs['cm'] = 100.0\n",
    "dtc = model.model_to_dtc()\n",
    "dtc.attrs['cm'] = 100.0\n",
    "dtc = model.model_to_dtc()\n",
    "\n",
    "dtc.attrs = model.attrs \n",
    "vm,plt,pre_model = inject_and_plot_model(dtc,plotly=False)\n",
    "plt.show()"
   ]
  },
  {
   "cell_type": "code",
   "execution_count": 12,
   "metadata": {},
   "outputs": [
    {
     "data": {
      "text/plain": [
       "array(1.40762329) * pA"
      ]
     },
     "execution_count": 12,
     "metadata": {},
     "output_type": "execute_result"
    }
   ],
   "source": [
    "dtc.backend\n",
    "dtc.rheobase"
   ]
  },
  {
   "cell_type": "code",
   "execution_count": 13,
   "metadata": {},
   "outputs": [],
   "source": [
    "MODEL_PARAMS[\"NEURONHH\"]\n",
    "model.attrs = {k:np.mean(v) for k,v in model.params.items() }\n",
    "#model.attrs"
   ]
  },
  {
   "cell_type": "code",
   "execution_count": 14,
   "metadata": {},
   "outputs": [
    {
     "name": "stdout",
     "output_type": "stream",
     "text": [
      "time taken on block 11.757906198501587 \n",
      "time taken on block 12.154404878616333 \n"
     ]
    },
    {
     "data": {
      "text/plain": [
       "<Figure size 432x288 with 0 Axes>"
      ]
     },
     "metadata": {},
     "output_type": "display_data"
    },
    {
     "data": {
      "image/png": "[encoded data removed]",
      "text/plain": [
       "<Figure size 432x288 with 1 Axes>"
      ]
     },
     "metadata": {
      "needs_background": "light"
     },
     "output_type": "display_data"
    }
   ],
   "source": [
    "simple_cell = ephys.models.ReducedCellModel(\n",
    "        name='simple_cell',\n",
    "        params=HH_attrs,backend=\"NEURONHH\")  \n",
    "simple_cell.backend = \"NEURONHH\"\n",
    "\n",
    "dtc = model.model_to_dtc()\n",
    "dtc.attrs = model.attrs \n",
    "model.attrs = {k:np.mean(v) for k,v in model.params.items() }\n",
    "\n",
    "vm,plt,pre_model = inject_and_plot_model(dtc,plotly=False)\n",
    "plt.show()"
   ]
  },
  {
   "cell_type": "code",
   "execution_count": 15,
   "metadata": {},
   "outputs": [
    {
     "name": "stdout",
     "output_type": "stream",
     "text": [
      "1.407623291015625 pA\n",
      "time taken on block 10.095983266830444 \n",
      "{'value': array(1.40645904) * pA}\n"
     ]
    }
   ],
   "source": [
    "print(dtc.rheobase)\n",
    "rp = RheobaseTestP(observation = nu_tests[0].observation)\n",
    "rheobase = rp.generate_prediction(model)\n",
    "print(rheobase)"
   ]
  },
  {
   "cell_type": "code",
   "execution_count": 16,
   "metadata": {},
   "outputs": [
    {
     "name": "stderr",
     "output_type": "stream",
     "text": [
      "INFO:root:time step 0 / 43\n",
      "INFO:root:time step 0 / 43\n",
      "INFO:root:time step 0 / 43\n",
      "INFO:root:time step 0 / 43\n",
      "INFO:root:time step 0 / 43\n",
      "INFO:root:time step 0 / 43\n"
     ]
    },
    {
     "name": "stdout",
     "output_type": "stream",
     "text": [
      "time taken on block 0.03528022766113281 \n",
      "time taken on block 0.29433465003967285 \n"
     ]
    },
    {
     "data": {
      "text/plain": [
       "<Figure size 432x288 with 0 Axes>"
      ]
     },
     "metadata": {},
     "output_type": "display_data"
    },
    {
     "data": {
      "image/png": "[encoded data removed]",
      "text/plain": [
       "<Figure size 432x288 with 1 Axes>"
      ]
     },
     "metadata": {
      "needs_background": "light"
     },
     "output_type": "display_data"
    }
   ],
   "source": [
    "from neuronunit.optimisation import brian_glif_model_parameters\n",
    "GLIF_RANGE = brian_glif_model_parameters.GLIF_RANGE\n",
    "simple_cell = ephys.models.ReducedCellModel(\n",
    "        name='simple_cell',\n",
    "        params=GLIF_RANGE,backend=\"GLIF\")  \n",
    "simple_cell.backend = \"GLIF\"\n",
    "model = simple_cell\n",
    "\n",
    "model.attrs = {k:np.mean(v) for k,v in model.params.items() }\n",
    "\n",
    "dtc = model.model_to_dtc()\n",
    "dtc.attrs = model.attrs \n",
    "vm,plt,pre_model = inject_and_plot_model(dtc,plotly=False)\n",
    "plt.show()\n"
   ]
  },
  {
   "cell_type": "code",
   "execution_count": 17,
   "metadata": {},
   "outputs": [
    {
     "name": "stdout",
     "output_type": "stream",
     "text": [
      "112.5 pA\n"
     ]
    },
    {
     "name": "stderr",
     "output_type": "stream",
     "text": [
      "INFO:root:time step 0 / 43\n",
      "INFO:root:time step 0 / 43\n",
      "INFO:root:time step 0 / 43\n",
      "INFO:root:time step 0 / 43\n"
     ]
    },
    {
     "name": "stdout",
     "output_type": "stream",
     "text": [
      "time taken on block 0.2160320281982422 \n",
      "{'value': array(183.33333333) * pA}\n"
     ]
    }
   ],
   "source": [
    "print(dtc.rheobase)\n",
    "rp = RheobaseTestP(observation = nu_tests[0].observation)\n",
    "rheobase = rp.generate_prediction(model)\n",
    "print(rheobase)"
   ]
  },
  {
   "cell_type": "code",
   "execution_count": 18,
   "metadata": {},
   "outputs": [
    {
     "data": {
      "text/plain": [
       "array(112.5) * pA"
      ]
     },
     "execution_count": 18,
     "metadata": {},
     "output_type": "execute_result"
    }
   ],
   "source": [
    "dtc.rheobase"
   ]
  },
  {
   "cell_type": "code",
   "execution_count": 19,
   "metadata": {},
   "outputs": [
    {
     "data": {
      "text/plain": [
       "'\\nfrom neuronunit.optimisation.brian_glif_model_parameters import HH_attrs\\nsimple_cell = ephys.models.ReducedCellModel(\\n        name=\\'simple_cell\\',\\n        params=HH_attrs,backend=\"GLIF\")  \\nsimple_cell.backend = \"GLIF\"\\nmodel = simple_cell\\n\\nmodel.attrs = {k:np.mean(v) for k,v in model.params.items() }\\n\\ndtc = model.model_to_dtc()\\ndtc.attrs = model.attrs \\n\\nvm,plt,pre_model = inject_and_plot_model(dtc,plotly=False)\\nplt.show()\\n'"
      ]
     },
     "execution_count": 19,
     "metadata": {},
     "output_type": "execute_result"
    }
   ],
   "source": [
    "'''\n",
    "from neuronunit.optimisation.brian_glif_model_parameters import HH_attrs\n",
    "simple_cell = ephys.models.ReducedCellModel(\n",
    "        name='simple_cell',\n",
    "        params=HH_attrs,backend=\"GLIF\")  \n",
    "simple_cell.backend = \"GLIF\"\n",
    "model = simple_cell\n",
    "\n",
    "model.attrs = {k:np.mean(v) for k,v in model.params.items() }\n",
    "\n",
    "dtc = model.model_to_dtc()\n",
    "dtc.attrs = model.attrs \n",
    "\n",
    "vm,plt,pre_model = inject_and_plot_model(dtc,plotly=False)\n",
    "plt.show()\n",
    "'''"
   ]
  },
  {
   "cell_type": "code",
   "execution_count": 20,
   "metadata": {},
   "outputs": [
    {
     "name": "stderr",
     "output_type": "stream",
     "text": [
      "INFO:root:time step 0 / 26\n",
      "INFO:root:time step 0 / 26\n"
     ]
    },
    {
     "name": "stdout",
     "output_type": "stream",
     "text": [
      "[0.] mV [0.] mV\n"
     ]
    },
    {
     "data": {
      "image/png": "[encoded data removed]",
      "text/plain": [
       "<Figure size 432x288 with 1 Axes>"
      ]
     },
     "metadata": {
      "needs_background": "light"
     },
     "output_type": "display_data"
    }
   ],
   "source": [
    "vm,plt = inject_and_plot_passive_model(dtc,dtc,plotly=False)\n",
    "#plt.show()"
   ]
  },
  {
   "cell_type": "code",
   "execution_count": null,
   "metadata": {},
   "outputs": [],
   "source": [
    "\n"
   ]
  },
  {
   "cell_type": "code",
   "execution_count": null,
   "metadata": {},
   "outputs": [],
   "source": []
  }
 ],
 "metadata": {
  "kernelspec": {
   "display_name": "Python 3",
   "language": "python",
   "name": "python3"
  },
  "language_info": {
   "codemirror_mode": {
    "name": "ipython",
    "version": 3
   },
   "file_extension": ".py",
   "mimetype": "text/x-python",
   "name": "python",
   "nbconvert_exporter": "python",
   "pygments_lexer": "ipython3",
   "version": "3.7.4"
  }
 },
 "nbformat": 4,
 "nbformat_minor": 2
}
