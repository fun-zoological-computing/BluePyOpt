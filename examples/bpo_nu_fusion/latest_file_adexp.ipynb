{
 "cells": [
  {
   "cell_type": "code",
   "execution_count": 1,
   "metadata": {
    "scrolled": true
   },
   "outputs": [
    {
     "name": "stderr",
     "output_type": "stream",
     "text": [
      "/home/user/anaconda3/lib/python3.7/site-packages/cerberus/validator.py:1609: UserWarning: No validation schema is defined for the arguments of rule 'not_zero_obs_zscore'\n",
      "  \"'%s'\" % method_name.split('_', 2)[-1]\n",
      "test\n"
     ]
    }
   ],
   "source": [
    "from bluepyopt.allenapi.allen_data_driven import opt_setup, opt_setup_two, opt_exec, opt_to_model\n",
    "from neuronunit.optimization.optimization_management import check_bin_vm15\n",
    "from neuronunit.optimization.model_parameters import MODEL_PARAMS, BPO_PARAMS, to_bpo_param\n",
    "from neuronunit.optimization.optimization_management import dtc_to_rheo,inject_and_plot_model\n",
    "from bluepyopt.allenapi.allen_data_driven import opt_to_model\n",
    "from utils import dask_map_function\n",
    "import matplotlib.pyplot as plt\n",
    "import numpy as np\n",
    "from neuronunit.optimization.data_transport_container import DataTC\n",
    "import efel\n",
    "from jithub.models import model_classes\n",
    "\n",
    "import quantities as qt\n",
    "\n",
    "\n",
    "#import builtins\n",
    "#from inspect import getframeinfo, stack\n",
    "#original_print = print\n",
    "\n",
    "#def print_wrap(*args, **kwargs):\n",
    "#    caller = getframeinfo(stack()[1][0])\n",
    "#    original_print(\"FN:\",caller.filename,\"Line:\", caller.lineno,\"Func:\", caller.function,\":::\", *args, **kwargs)\n",
    "\n",
    "#builtins.print = print_wrap\n",
    "\n",
    "ids = [ 324257146,\n",
    "        325479788,\n",
    "        476053392,\n",
    "        623893177,\n",
    "        623960880,\n",
    "        482493761,\n",
    "        471819401\n",
    "       ]\n",
    "\n",
    "specimen_id = ids[1]\n",
    "efel.__file__\n",
    "efel_list = list(efel.getFeatureNames());\n",
    "cellmodel = \"IZHI\""
   ]
  },
  {
   "cell_type": "code",
   "execution_count": 2,
   "metadata": {},
   "outputs": [
    {
     "data": {
      "text/plain": [
       "array([0.0000000e+00, 2.0000000e+00, 4.0000000e+00, ..., 1.9999994e+07,\n",
       "       1.9999996e+07, 1.9999998e+07], dtype=float32)"
      ]
     },
     "execution_count": 2,
     "metadata": {},
     "output_type": "execute_result"
    }
   ],
   "source": [
    "from numba import vectorize\n",
    "import numpy as np\n",
    "@vectorize(['float32(float32, float32)',\n",
    "            'float64(float64, float64)'],target='cpu')\n",
    "def summ(a, b):\n",
    "    return a + b\n",
    "\n",
    "npoints = int(1e7)\n",
    "a = np.arange(npoints,dtype=np.float32)\n",
    "\n",
    "result = summ(a,a)\n",
    "result\n"
   ]
  },
  {
   "cell_type": "markdown",
   "metadata": {},
   "source": [
    "# TODO make a nested Genetic Algorithm where the outer loop explores different preferred currents.\n",
    "\n",
    "This will get rid of the oscillations."
   ]
  },
  {
   "cell_type": "code",
   "execution_count": 3,
   "metadata": {},
   "outputs": [],
   "source": [
    "\n",
    "#cellmodel = \"ADEXP\";\n",
    "if cellmodel == \"IZHI\":\n",
    "    model = model_classes.IzhiModel()\n",
    "if cellmodel == \"MAT\":\n",
    "    model = model_classes.MATModel()\n",
    "if cellmodel == \"ADEXP\":\n",
    "    model = model_classes.ADEXPModel()\n",
    "\n"
   ]
  },
  {
   "cell_type": "markdown",
   "metadata": {},
   "source": [
    "specimen id 623960880 \\\\\n",
    "{\\small  \n",
    "\\url{http://celltypes.brain-map.org/mouse/experiment/electrophysiology/623960880}\n",
    "specimen id 623893177 \\\\\n",
    "\\url{http://celltypes.brain-map.org/mouse/experiment/electrophysiology/623893177}\n",
    "specimen id 482493761 \\\\\n",
    "\\url{http://celltypes.brain-map.org/mouse/experiment/electrophysiology/482493761}\n",
    "specimen id 471819401 \\\\\n",
    "\\url{http://celltypes.brain-map.org/mouse/experiment/electrophysiology/471819401}\n"
   ]
  },
  {
   "cell_type": "code",
   "execution_count": 4,
   "metadata": {},
   "outputs": [],
   "source": [
    "#'sag_ratio2_1.5x',\n",
    "#'ohmic_input_resistance_1.5x',\n",
    "#'sag_ratio2_1.5x',\n",
    "\n",
    "    "
   ]
  },
  {
   "cell_type": "code",
   "execution_count": 5,
   "metadata": {},
   "outputs": [],
   "source": [
    "specific_filter_list = ['ISI_log_slope_1.5x',\n",
    "                        'mean_frequency_1.5x',\n",
    "                        'adaptation_index2_1.5x',\n",
    "                        'first_isi_1.5x',\n",
    "                        'ISI_CV_1.5x',\n",
    "                        'median_isi_1.5x',\n",
    "                        'Spikecount_1.5x',\n",
    "                        'all_ISI_values',\n",
    "                        'ISI_values',\n",
    "                        'time_to_first_spike',\n",
    "                        'time_to_last_spike',\n",
    "                        'time_to_second_spike',\n",
    "                        'spike_times',\n",
    "                        'AHP_depth_abs_1.5x',\n",
    "                        'peak_voltage_1.5x',\n",
    "                        'voltage_base_1.5x',\n",
    "                        'voltage']\n",
    "simple_yes_list = specific_filter_list\n",
    "target_num_spikes = 8\n"
   ]
  },
  {
   "cell_type": "code",
   "execution_count": 6,
   "metadata": {},
   "outputs": [
    {
     "data": {
      "text/plain": [
       "{'C': 89.7960714285714,\n",
       " 'a': 0.01,\n",
       " 'b': 15,\n",
       " 'c': -60,\n",
       " 'd': 10,\n",
       " 'k': 1.6,\n",
       " 'vPeak': 21.138338933982595,\n",
       " 'vr': -65.2261863636364,\n",
       " 'vt': -50,\n",
       " 'celltype': 3}"
      ]
     },
     "execution_count": 6,
     "metadata": {},
     "output_type": "execute_result"
    }
   ],
   "source": [
    "dtc = DataTC()\n",
    "dtc.backend = cellmodel\n",
    "dtc._backend = model._backend\n",
    "\n",
    "dtc.attrs = model.attrs\n",
    "dtc.params = {k:np.mean(v) for k,v in MODEL_PARAMS[cellmodel].items()}\n",
    "dtc.attrs"
   ]
  },
  {
   "cell_type": "code",
   "execution_count": 7,
   "metadata": {},
   "outputs": [
    {
     "name": "stdout",
     "output_type": "stream",
     "text": [
      "JIT_IZHIBackend\n"
     ]
    }
   ],
   "source": [
    "model = dtc.dtc_to_model()\n",
    "model.attrs\n",
    "\n",
    "\n",
    "\n",
    "dir(model)\n",
    "#vm = model._backend.get_membrane_potential()\n",
    "#vm = model.get_membrane_potential()#\n",
    "print(model.backend)"
   ]
  },
  {
   "cell_type": "code",
   "execution_count": 8,
   "metadata": {},
   "outputs": [
    {
     "data": {
      "text/plain": [
       "{'C': <bluepyopt.parameters.Parameter at 0x7f24bc1492d0>,\n",
       " 'a': <bluepyopt.parameters.Parameter at 0x7f24bc149350>,\n",
       " 'b': <bluepyopt.parameters.Parameter at 0x7f24bc144b50>,\n",
       " 'c': <bluepyopt.parameters.Parameter at 0x7f24bc144350>,\n",
       " 'd': <bluepyopt.parameters.Parameter at 0x7f24bc144890>,\n",
       " 'k': <bluepyopt.parameters.Parameter at 0x7f24bc1449d0>,\n",
       " 'vPeak': <bluepyopt.parameters.Parameter at 0x7f24bc144250>,\n",
       " 'vr': <bluepyopt.parameters.Parameter at 0x7f24bc144a50>,\n",
       " 'vt': <bluepyopt.parameters.Parameter at 0x7f24bc144110>,\n",
       " 'celltype': <bluepyopt.parameters.Parameter at 0x7f24bc1440d0>}"
      ]
     },
     "execution_count": 8,
     "metadata": {},
     "output_type": "execute_result"
    }
   ],
   "source": [
    "model.params"
   ]
  },
  {
   "cell_type": "code",
   "execution_count": 9,
   "metadata": {},
   "outputs": [
    {
     "name": "stdout",
     "output_type": "stream",
     "text": [
      "122.5711024730117 pA\n",
      "IZHI\n"
     ]
    }
   ],
   "source": [
    "\n",
    "\n",
    "dtc = dtc_to_rheo(dtc)\n",
    "print(dtc.rheobase)\n",
    "print(dtc.backend)\n",
    "\n",
    "\n",
    "#dtc_to_rheo()"
   ]
  },
  {
   "cell_type": "code",
   "execution_count": 10,
   "metadata": {},
   "outputs": [
    {
     "data": {
      "text/plain": [
       "<Figure size 432x288 with 0 Axes>"
      ]
     },
     "metadata": {},
     "output_type": "display_data"
    },
    {
     "data": {
      "image/png": "[encoded data removed]",
      "text/plain": [
       "<Figure size 432x288 with 1 Axes>"
      ]
     },
     "metadata": {
      "needs_background": "light"
     },
     "output_type": "display_data"
    },
    {
     "name": "stdout",
     "output_type": "stream",
     "text": [
      "122.5711024730117 pA\n"
     ]
    }
   ],
   "source": [
    "vm,plt,dtc = inject_and_plot_model(dtc,plotly=False)\n",
    "plt.show()\n",
    "print(dtc.rheobase)\n"
   ]
  },
  {
   "cell_type": "code",
   "execution_count": 11,
   "metadata": {},
   "outputs": [
    {
     "data": {
      "text/plain": [
       "{'C': <bluepyopt.parameters.Parameter at 0x7f24bc1492d0>,\n",
       " 'a': <bluepyopt.parameters.Parameter at 0x7f24bc149350>,\n",
       " 'b': <bluepyopt.parameters.Parameter at 0x7f24bc144b50>,\n",
       " 'c': <bluepyopt.parameters.Parameter at 0x7f24bc144350>,\n",
       " 'd': <bluepyopt.parameters.Parameter at 0x7f24bc144890>,\n",
       " 'k': <bluepyopt.parameters.Parameter at 0x7f24bc1449d0>,\n",
       " 'vPeak': <bluepyopt.parameters.Parameter at 0x7f24bc144250>,\n",
       " 'vr': <bluepyopt.parameters.Parameter at 0x7f24bc144a50>,\n",
       " 'vt': <bluepyopt.parameters.Parameter at 0x7f24bc144110>,\n",
       " 'celltype': <bluepyopt.parameters.Parameter at 0x7f24bc1440d0>}"
      ]
     },
     "execution_count": 11,
     "metadata": {},
     "output_type": "execute_result"
    }
   ],
   "source": [
    "fixed_current = 122 *qt.pA\n",
    "model.params"
   ]
  },
  {
   "cell_type": "code",
   "execution_count": 12,
   "metadata": {},
   "outputs": [
    {
     "data": {
      "image/png": "[encoded data removed]",
      "text/plain": [
       "<Figure size 432x288 with 1 Axes>"
      ]
     },
     "metadata": {
      "needs_background": "light"
     },
     "output_type": "display_data"
    }
   ],
   "source": [
    "model.params\n",
    "model.backend\n",
    "model, suite, nu_tests, target_current, spk_count = opt_setup(specimen_id,\n",
    "                                                              cellmodel,\n",
    "                                                              target_num_spikes,provided_model=model,fixed_current=False)\n"
   ]
  },
  {
   "cell_type": "code",
   "execution_count": 13,
   "metadata": {},
   "outputs": [
    {
     "data": {
      "text/plain": [
       "{'mean': 1.891995, 'std': 1.891995}"
      ]
     },
     "execution_count": 13,
     "metadata": {},
     "output_type": "execute_result"
    }
   ],
   "source": [
    "suite.tests[-1].observation"
   ]
  },
  {
   "cell_type": "code",
   "execution_count": 14,
   "metadata": {},
   "outputs": [
    {
     "data": {
      "text/plain": [
       "{'value': array(209.17493939) * pA}"
      ]
     },
     "execution_count": 14,
     "metadata": {},
     "output_type": "execute_result"
    }
   ],
   "source": [
    "target_current\n"
   ]
  },
  {
   "cell_type": "code",
   "execution_count": 15,
   "metadata": {},
   "outputs": [
    {
     "name": "stdout",
     "output_type": "stream",
     "text": [
      "IzhiModel <jithub.models.backends.izhikevich.JIT_IZHIBackend object at 0x7f24b2c3f810>\n",
      "IzhiModel <jithub.models.backends.izhikevich.JIT_IZHIBackend object at 0x7f24b2c3f810>\n"
     ]
    },
    {
     "name": "stderr",
     "output_type": "stream",
     "text": [
      "gen\tnevals\tavg    \tstd    \tmin    \tmax  \n",
      "1  \t20    \t4158.41\t4577.12\t1369.23\t22000\n"
     ]
    },
    {
     "data": {
      "application/vnd.jupyter.widget-view+json": {
       "model_id": "89b9c8aee4d14ddd87dda3768c293171",
       "version_major": 2,
       "version_minor": 0
      },
      "text/plain": [
       "HBox(children=(FloatProgress(value=0.0, max=250.0), HTML(value='')))"
      ]
     },
     "metadata": {},
     "output_type": "display_data"
    },
    {
     "name": "stderr",
     "output_type": "stream",
     "text": [
      "2  \t17    \t3642.06\t3519.48\t1369.23\t22000\n",
      "3  \t11    \t2863.85\t3530.21\t994.822\t17991.4\n",
      "4  \t10    \t1729.13\t1389.97\t994.822\t8074.05\n",
      "5  \t9     \t1257.86\t800.723\t994.822\t5084.41\n",
      "6  \t13    \t2979.01\t1916.35\t994.822\t5579.25\n",
      "7  \t12    \t3432.95\t1715.89\t994.822\t5330.9 \n",
      "8  \t14    \t2275.54\t1438.09\t968.913\t5014.66\n",
      "9  \t18    \t1676.07\t924.625\t968.913\t5314.85\n",
      "10 \t14    \t2206.43\t1553.67\t922.896\t5314.85\n",
      "11 \t14    \t1413.66\t238.552\t922.896\t1809.07\n",
      "12 \t13    \t1581.22\t462.715\t922.896\t2942.68\n",
      "13 \t13    \t1672.73\t687.724\t922.896\t4888.6 \n",
      "14 \t12    \t1422.7 \t875.617\t922.896\t5314.85\n",
      "15 \t10    \t1417.27\t484.22 \t922.896\t2942.53\n",
      "16 \t14    \t1753.5 \t1192.19\t922.896\t6943.65\n",
      "17 \t14    \t1725.63\t784.4  \t922.896\t3330.69\n",
      "18 \t16    \t2491.48\t3087.32\t922.896\t12661.4\n",
      "19 \t16    \t1892.82\t642.715\t922.896\t2937.16\n",
      "20 \t15    \t1341.09\t270.747\t922.896\t1886.44\n",
      "21 \t10    \t1779.1 \t1410.93\t922.896\t8721.91\n",
      "22 \t11    \t1276.48\t457.162\t922.896\t2937.16\n",
      "23 \t8     \t1438.96\t936.921\t922.896\t5028.17\n",
      "24 \t13    \t2023.39\t1184.54\t922.896\t5028.17\n",
      "25 \t10    \t2060.19\t1610.39\t922.896\t5013.62\n",
      "26 \t12    \t3523.36\t1807.61\t922.896\t4975.29\n",
      "27 \t14    \t1492.3 \t1143.68\t922.896\t5325.81\n",
      "28 \t13    \t1438.64\t933.937\t922.896\t5313.19\n",
      "29 \t14    \t2106.4 \t1584.24\t922.896\t5314.7 \n",
      "30 \t15    \t1368.22\t483.334\t922.896\t2937.16\n",
      "31 \t14    \t1442.6 \t802.087\t922.896\t5309.62\n",
      "32 \t13    \t1331.66\t405.852\t922.896\t2937.16\n",
      "33 \t12    \t1967.39\t781.23 \t922.896\t2937.16\n",
      "34 \t15    \t1632.12\t1124.28\t922.896\t5323.48\n",
      "35 \t13    \t1154.42\t429.052\t922.896\t2937.16\n",
      "36 \t16    \t1824.43\t951.356\t922.896\t5277.13\n",
      "37 \t13    \t2043.96\t1446.31\t922.896\t5300.69\n",
      "38 \t15    \t2480.21\t1811.2 \t922.896\t5313.19\n",
      "39 \t14    \t1512.64\t856.012\t922.896\t5309.09\n",
      "40 \t11    \t1288.69\t416.178\t922.896\t2937.16\n",
      "41 \t12    \t1663.19\t1106.45\t922.896\t5303.04\n",
      "42 \t11    \t2263.42\t1749.34\t922.896\t5421.95\n",
      "43 \t16    \t1380.44\t215.276\t922.896\t1858.21\n",
      "44 \t14    \t1476.48\t633.992\t922.896\t2937.16\n",
      "45 \t11    \t2373.01\t1062.51\t922.896\t5124.09\n",
      "46 \t11    \t1592.18\t409.835\t922.896\t2937.16\n",
      "47 \t8     \t1545.29\t355.312\t922.896\t2762.63\n",
      "48 \t11    \t1448.89\t386.779\t922.896\t2940.8 \n",
      "49 \t16    \t1688.3 \t739.16 \t922.896\t2940.8 \n",
      "50 \t11    \t1672.67\t680.973\t922.896\t3481.11\n",
      "51 \t13    \t2487.4 \t1122.96\t922.896\t5254.45\n",
      "52 \t16    \t2915.93\t1702.01\t922.896\t5332.39\n",
      "53 \t16    \t1811.29\t411.22 \t922.896\t2820.79\n",
      "54 \t12    \t1778.24\t588.656\t922.896\t3488.14\n",
      "55 \t11    \t1657.93\t690.528\t904.003\t3264.77\n",
      "56 \t12    \t2235.25\t1669.96\t904.003\t8300.57\n",
      "57 \t14    \t2073.38\t1163   \t904.003\t5295.88\n",
      "58 \t11    \t2474   \t1127.89\t904.003\t4338.02\n",
      "59 \t14    \t2861.35\t2302.47\t904.003\t10007.7\n",
      "60 \t10    \t2411.12\t1310   \t904.003\t4773.68\n",
      "61 \t12    \t2113.78\t2581.03\t904.003\t9710.24\n",
      "62 \t12    \t1415.91\t431.721\t904.003\t2855.16\n",
      "63 \t12    \t3287.6 \t3462.27\t904.003\t9710.24\n",
      "64 \t17    \t3124.96\t2694.4 \t904.003\t8416.49\n",
      "65 \t11    \t1452.85\t385.181\t904.003\t2690.31\n",
      "66 \t10    \t2744.45\t2392.9 \t904.003\t7867.78\n",
      "67 \t10    \t1980.63\t1315.38\t904.003\t5430.13\n",
      "68 \t12    \t1554.67\t773.72 \t904.003\t5279.98\n",
      "69 \t14    \t1534.2 \t379.863\t904.003\t3081.75\n",
      "70 \t12    \t2242.92\t2380.39\t904.003\t11807.2\n",
      "71 \t9     \t2145.49\t545.23 \t904.003\t3085.14\n",
      "72 \t13    \t2612.55\t1107.28\t904.003\t5415.71\n",
      "73 \t15    \t2314.48\t933.878\t904.003\t5149.47\n",
      "74 \t16    \t1813.18\t585.267\t904.003\t3732.66\n",
      "75 \t14    \t1651.28\t335.098\t904.003\t2120.12\n",
      "76 \t13    \t3247.76\t2740.69\t904.003\t9196.78\n",
      "77 \t14    \t2329.67\t2160.68\t904.003\t10006.6\n",
      "78 \t11    \t2926.73\t2526.59\t904.003\t12456.7\n",
      "79 \t17    \t1868.37\t779.333\t904.003\t4047.07\n",
      "80 \t11    \t1455.44\t461.875\t904.003\t3085.14\n",
      "81 \t16    \t1444.19\t815.69 \t904.003\t5162.7 \n",
      "82 \t12    \t1557.31\t226.244\t904.003\t1940.92\n",
      "83 \t15    \t1605.93\t451.936\t904.003\t2944.85\n",
      "84 \t11    \t1456.09\t354.762\t904.003\t2545.3 \n",
      "85 \t17    \t1399.07\t352.31 \t904.003\t2341.09\n",
      "86 \t16    \t1581.94\t828.032\t904.003\t5135.14\n",
      "87 \t14    \t1559.46\t999.077\t904.003\t5135.14\n",
      "88 \t14    \t2177.78\t1283.76\t904.003\t5151.15\n",
      "89 \t8     \t1958.07\t1234.39\t904.003\t5172.04\n",
      "90 \t12    \t1768.44\t1008.03\t904.003\t5265.11\n",
      "91 \t13    \t1697.74\t529.579\t904.003\t2940.48\n",
      "92 \t11    \t1546.19\t319.127\t904.003\t2937.16\n",
      "93 \t11    \t1647.75\t686.762\t904.003\t2937.16\n",
      "94 \t12    \t1492.1 \t432.214\t904.003\t2937.16\n",
      "95 \t12    \t1584.26\t740.064\t904.003\t5188.95\n",
      "96 \t11    \t2165.17\t1488.72\t904.003\t5230.45\n",
      "97 \t13    \t1431.5 \t460.314\t904.003\t3059.97\n",
      "98 \t12    \t1556.05\t274.328\t904.003\t2536.21\n",
      "99 \t9     \t1467.37\t137.543\t904.003\t1685.37\n",
      "100\t13    \t1463.87\t263.213\t904.003\t1917.24\n",
      "101\t11    \t1430.81\t432.557\t904.003\t2713.54\n",
      "102\t11    \t1682.46\t937.971\t904.003\t5181.18\n",
      "103\t11    \t2323.59\t1472.3 \t904.003\t5258.98\n",
      "104\t11    \t1693.4 \t1092.43\t904.003\t5416.02\n",
      "105\t13    \t1527.26\t628.286\t904.003\t4474.77\n",
      "106\t13    \t1369.73\t449.709\t904.003\t2712.85\n",
      "107\t15    \t1409.06\t348.332\t904.003\t2625.73\n",
      "108\t13    \t1462.87\t558.617\t904.003\t2936.88\n",
      "109\t18    \t1563.57\t407.09 \t904.003\t2712.85\n",
      "110\t15    \t1427.06\t362.855\t904.003\t2626.44\n",
      "111\t12    \t1256.58\t374.768\t904.003\t2712.99\n",
      "112\t11    \t1456.8 \t673.555\t904.003\t2712.99\n",
      "113\t11    \t1614.69\t568.202\t904.003\t2712.99\n",
      "114\t10    \t1393.87\t402.549\t904.003\t2626.59\n",
      "115\t13    \t1572.11\t856.726\t904.003\t5304.76\n",
      "116\t12    \t2179.92\t1765.64\t904.003\t5306.22\n",
      "117\t15    \t2907.79\t1931.74\t904.003\t5370.46\n",
      "118\t13    \t2230.66\t1556.69\t904.003\t5370.46\n",
      "119\t12    \t1989.66\t1433.2 \t904.003\t5328.86\n",
      "120\t13    \t1473.14\t381.524\t904.003\t3084.98\n",
      "121\t12    \t1463.32\t225.616\t904.003\t1838.75\n",
      "122\t14    \t1213.36\t450.699\t904.003\t2937.16\n",
      "123\t16    \t1866.43\t1149.69\t904.003\t5397.6 \n",
      "124\t6     \t2291.62\t1988.68\t902.98 \t5397.6 \n",
      "125\t16    \t3083.75\t1976.74\t902.98 \t5351.93\n",
      "126\t15    \t1600.74\t841.604\t902.98 \t4976.01\n",
      "127\t13    \t1965.13\t1244.47\t902.98 \t5044.98\n",
      "128\t16    \t1399.5 \t422.493\t902.98 \t3085.14\n",
      "129\t12    \t1895.86\t814.789\t902.98 \t3085.14\n",
      "130\t10    \t1341.93\t325.23 \t902.98 \t1859.81\n",
      "131\t14    \t1667.75\t849.502\t902.98 \t5323.6 \n",
      "132\t12    \t2326.13\t1549.58\t902.98 \t5406.86\n",
      "133\t15    \t1888.4 \t954.306\t902.98 \t5175.19\n",
      "134\t10    \t2162.58\t1018.64\t902.98 \t5216.57\n",
      "135\t12    \t1829.54\t1000.22\t902.98 \t5263.29\n",
      "136\t13    \t1653.56\t629.067\t902.98 \t3084.9 \n",
      "137\t15    \t1530.58\t600.099\t902.98 \t3991.29\n",
      "138\t15    \t1441.95\t501.933\t902.98 \t2940.99\n",
      "139\t12    \t1838.42\t1121.53\t902.98 \t5396.69\n",
      "140\t15    \t1314.17\t237.106\t902.98 \t2152.73\n",
      "141\t11    \t1264.55\t268.256\t902.98 \t1943.06\n",
      "142\t16    \t1589.18\t911.395\t873.753\t5324.16\n",
      "143\t12    \t1451.46\t458.76 \t873.753\t2940.8 \n",
      "144\t13    \t1334.75\t535.255\t873.753\t2940.8 \n",
      "145\t12    \t3453.99\t2135.72\t873.753\t6146.57\n",
      "146\t17    \t3488.93\t1675.02\t873.753\t5300.03\n",
      "147\t13    \t2293.22\t1554.86\t873.753\t5101.99\n",
      "148\t13    \t1653.15\t632.956\t873.753\t2942.36\n",
      "149\t13    \t1381.09\t396.834\t873.753\t2820.83\n",
      "150\t14    \t1307.51\t771.095\t873.753\t5037.35\n",
      "151\t13    \t2500.52\t1760.18\t873.753\t5351.13\n",
      "152\t15    \t1528.52\t881.158\t873.753\t5311.83\n",
      "153\t15    \t1983.63\t1066.91\t873.753\t5311.83\n",
      "154\t12    \t1375.56\t831.475\t873.753\t5271.18\n",
      "155\t11    \t1692.23\t1111.37\t873.753\t5315.96\n",
      "156\t14    \t2727.35\t1692.37\t873.753\t5321.97\n",
      "157\t16    \t1621.4 \t529.474\t873.753\t2940.35\n",
      "158\t12    \t1304.13\t228.691\t873.753\t1778.7 \n",
      "159\t14    \t1406.87\t475.287\t873.753\t2937.16\n",
      "160\t13    \t1405.05\t797.745\t873.753\t5303.41\n",
      "161\t10    \t2431.57\t1758.97\t873.753\t5311.98\n",
      "162\t13    \t1722.48\t831.153\t873.753\t5314.13\n",
      "163\t14    \t1245.22\t476.069\t873.753\t2940.67\n",
      "164\t13    \t2260.05\t715.148\t873.753\t2940.67\n",
      "165\t14    \t1415.43\t387.8  \t873.753\t2819.37\n",
      "166\t13    \t1643.98\t749.992\t873.753\t2819.37\n",
      "167\t14    \t1500.73\t393.609\t873.753\t2940.16\n",
      "168\t12    \t1668.42\t678.588\t873.753\t2940.16\n",
      "169\t13    \t1550.66\t477.951\t873.753\t2940.04\n",
      "170\t13    \t1428.19\t232.829\t873.753\t1819.6 \n",
      "171\t12    \t1634.18\t434.286\t873.753\t2821.46\n",
      "172\t12    \t1551.43\t578.772\t873.753\t2940.86\n",
      "173\t11    \t1741.86\t639.915\t873.753\t2936.88\n",
      "174\t15    \t1545.25\t784.91 \t873.753\t4368.28\n",
      "175\t16    \t1624.45\t1143.94\t873.753\t5293.06\n",
      "176\t12    \t1548.26\t442.458\t873.753\t2348.74\n",
      "177\t9     \t1348.31\t361.489\t873.753\t2936.88\n",
      "178\t16    \t1583.31\t495.349\t873.753\t2936.88\n",
      "179\t9     \t1298.79\t200.059\t873.753\t1927.72\n",
      "180\t11    \t1338.13\t384.34 \t873.753\t2819.46\n",
      "181\t13    \t1495.31\t515.688\t873.753\t2819.46\n",
      "182\t12    \t1366.92\t873.06 \t873.753\t5202.1 \n",
      "183\t15    \t2361.16\t1648.69\t873.753\t5394.18\n",
      "184\t9     \t1518.42\t551.61 \t873.753\t3266.83\n",
      "185\t6     \t1363.4 \t174.127\t873.753\t1663.63\n",
      "186\t15    \t1721.31\t962.499\t873.753\t5355.69\n",
      "187\t13    \t2050.49\t1513.51\t818.101\t5360.21\n",
      "188\t16    \t1511.46\t691.952\t818.101\t3264.79\n",
      "189\t9     \t1333.92\t397.363\t818.101\t2818.92\n",
      "190\t11    \t1412.02\t901.771\t818.101\t5309.07\n",
      "191\t12    \t1141.79\t271.594\t818.101\t1878.1 \n",
      "192\t17    \t1536.55\t394.245\t818.101\t2940.04\n"
     ]
    },
    {
     "name": "stderr",
     "output_type": "stream",
     "text": [
      "193\t15    \t1478.6 \t858.374\t818.101\t4076.6 \n",
      "194\t15    \t1388.6 \t556.006\t818.101\t3264.77\n",
      "195\t10    \t1591.59\t1008.64\t818.101\t5108.01\n",
      "196\t15    \t1695.29\t743.222\t818.101\t3264.79\n",
      "197\t13    \t1507.58\t1027.91\t776.865\t5429.85\n",
      "198\t14    \t1581.6 \t1006.8 \t776.865\t5122.76\n",
      "199\t9     \t2668.49\t1732.41\t776.865\t5578.41\n",
      "200\t12    \t3418.44\t1541.2 \t776.865\t5148.97\n",
      "201\t10    \t1996.67\t1576.34\t776.865\t5576.24\n",
      "202\t16    \t1757.98\t1749.69\t776.865\t5372.63\n",
      "203\t9     \t2797.47\t1807.1 \t776.865\t5120.76\n",
      "204\t13    \t1573.86\t816.291\t776.865\t5305.37\n",
      "205\t16    \t1604.97\t830.691\t776.865\t4992.92\n",
      "206\t11    \t1343.98\t800.482\t776.865\t5097.62\n",
      "207\t14    \t1846.02\t1309.47\t776.865\t5117.95\n",
      "208\t10    \t1551.33\t986.193\t776.865\t5004.85\n",
      "209\t13    \t1847.94\t1045.94\t776.865\t4816.85\n",
      "210\t7     \t1902.01\t1440.55\t776.865\t5032.34\n",
      "211\t11    \t2624.65\t1545.63\t776.865\t4826.67\n",
      "212\t15    \t1480.62\t227.351\t776.865\t1864.98\n",
      "213\t13    \t1379.34\t393.33 \t776.865\t2821.13\n",
      "214\t11    \t1332.22\t540.895\t776.865\t3089.88\n",
      "215\t15    \t1741.23\t673.142\t776.865\t3089.88\n",
      "216\t14    \t1670.45\t884.011\t776.865\t4985.05\n",
      "217\t13    \t1652.8 \t1015.67\t776.865\t5425.25\n",
      "218\t14    \t2066.47\t1461.6 \t776.865\t4922.52\n",
      "219\t19    \t1249.87\t533.1  \t776.865\t3264.77\n",
      "220\t12    \t1600.48\t530.365\t776.865\t3264.77\n",
      "221\t16    \t2120.13\t1222.64\t776.865\t5056.5 \n",
      "222\t14    \t1929.68\t1372.06\t776.865\t4960.57\n",
      "223\t13    \t1378.86\t364.974\t776.865\t2819.5 \n",
      "224\t12    \t2157.54\t967.916\t776.865\t5317.47\n",
      "225\t15    \t1500.29\t189.901\t776.865\t1778.67\n",
      "226\t17    \t1463.11\t424.019\t776.865\t3092.06\n",
      "227\t13    \t1882.51\t1026.61\t776.865\t5272.85\n",
      "228\t10    \t1520.47\t844.901\t776.865\t5033.33\n",
      "229\t15    \t1710.66\t433.483\t776.865\t3267.1 \n",
      "230\t12    \t1500.76\t558.515\t776.865\t2937.16\n",
      "231\t9     \t1718.01\t677.002\t776.865\t3264.77\n",
      "232\t15    \t1694.52\t754.394\t776.865\t3264.77\n",
      "233\t14    \t2057.4 \t1071.84\t776.865\t5232.31\n",
      "234\t16    \t1672.91\t897.115\t776.865\t5396.1 \n",
      "235\t14    \t1665.48\t1191.07\t776.865\t5413.72\n",
      "236\t13    \t1662.28\t976.197\t776.865\t3264.77\n",
      "237\t13    \t1744.74\t945.258\t776.865\t5163.23\n",
      "238\t12    \t2426.67\t1591.51\t776.865\t5173.96\n",
      "239\t13    \t1426.21\t162.852\t776.865\t1599.25\n",
      "240\t10    \t1446.51\t448.346\t776.865\t3264.77\n",
      "241\t14    \t1896.27\t885.382\t776.865\t3609.66\n",
      "242\t9     \t2206.61\t1067.54\t776.865\t5195.63\n",
      "243\t9     \t1727.73\t683.882\t776.865\t3488.14\n",
      "244\t17    \t1485.94\t582.578\t776.865\t3089.36\n",
      "245\t10    \t1314.2 \t327.205\t776.865\t2211.77\n",
      "246\t13    \t1564.16\t880.356\t776.865\t4910.69\n",
      "247\t14    \t1649.2 \t654.95 \t776.865\t3062.02\n",
      "248\t14    \t1389.81\t489.421\t776.865\t2937.16\n",
      "249\t11    \t1504.47\t580.688\t776.865\t2937.16\n",
      "250\t13    \t1360.86\t510.11 \t776.865\t3264.77\n",
      "Run stopped because of stopping criteria: Max ngen\n"
     ]
    },
    {
     "name": "stdout",
     "output_type": "stream",
     "text": [
      "\n"
     ]
    }
   ],
   "source": [
    "model.seeded_current = target_current['value']\n",
    "model.allen = True\n",
    "model.seeded_current\n",
    "model.NU = True\n",
    "cell_evaluator,simple_cell = opt_setup_two(model,cellmodel, suite, nu_tests, target_current, spk_count,provided_model=model)\n",
    "NGEN = 250\n",
    "MU = 20\n",
    "\n",
    "# TODO use pebble instead.\n",
    "#builtins.print = print_wrap\n",
    "\n",
    "mapping_funct = dask_map_function\n",
    "final_pop, hall_of_fame, logs, hist = opt_exec(MU,NGEN,mapping_funct,cell_evaluator)"
   ]
  },
  {
   "cell_type": "code",
   "execution_count": 16,
   "metadata": {},
   "outputs": [
    {
     "data": {
      "text/plain": [
       "{'value': array(209.17493939) * pA}"
      ]
     },
     "execution_count": 16,
     "metadata": {},
     "output_type": "execute_result"
    }
   ],
   "source": [
    "target_current"
   ]
  },
  {
   "cell_type": "code",
   "execution_count": 17,
   "metadata": {},
   "outputs": [],
   "source": [
    "\n",
    "opt,target = opt_to_model(hall_of_fame,cell_evaluator,suite, target_current, spk_count)"
   ]
  },
  {
   "cell_type": "code",
   "execution_count": 18,
   "metadata": {},
   "outputs": [],
   "source": [
    "best_ind = hall_of_fame[0]\n",
    "fitnesses = cell_evaluator.evaluate_with_lists(best_ind)\n",
    "fitnesses;"
   ]
  },
  {
   "cell_type": "code",
   "execution_count": 19,
   "metadata": {},
   "outputs": [
    {
     "data": {
      "text/plain": [
       "[20.13999007141571,\n",
       " 1.1004618155915795,\n",
       " -55.96330826869714,\n",
       " -46.1880900857649,\n",
       " 11.674446252943268,\n",
       " 0.010555388012489862,\n",
       " -1.2265515728009946,\n",
       " -48.53486326875858,\n",
       " -31.566133590941387,\n",
       " 4.811855358492737]"
      ]
     },
     "execution_count": 19,
     "metadata": {},
     "output_type": "execute_result"
    }
   ],
   "source": [
    "best_ind"
   ]
  },
  {
   "cell_type": "code",
   "execution_count": 20,
   "metadata": {},
   "outputs": [
    {
     "name": "stdout",
     "output_type": "stream",
     "text": [
      "43.4384678156068 burst_mean_freq_1.5x\n",
      "1.0 burst_number_1.5x\n",
      "0.5195919331239606 single_burst_ratio_1.5x\n",
      "0.002977383802611644 ISI_log_slope_1.5x\n",
      "2.5118114369934954 mean_frequency_1.5x\n",
      "0.0499261049220706 adaptation_index2_1.5x\n",
      "1.8766923902597783 ISI_CV_1.5x\n",
      "0.0 Spikecount_1.5x\n",
      "8.812499999991985 all_ISI_values_1.5x\n",
      "16.771428571413324 ISI_values_1.5x\n",
      "225.399999999795 time_to_first_spike_1.5x\n",
      "295.8999999997309 time_to_last_spike_1.5x\n",
      "178.49999999983766 time_to_second_spike_1.5x\n",
      "0.22561500000000012 spike_0_1.5x\n",
      "0.17872 spike_1_1.5x\n",
      "0.12167000000000017 spike_2_1.5x\n",
      "0.06532999999999989 spike_3_1.5x\n",
      "0.007000000000000117 spike_4_1.5x\n",
      "0.06784499999999993 spike_5_1.5x\n",
      "0.6237600000000001 spike_6_1.5x\n",
      "0.4951049999999999 spike_7_1.5x\n",
      "0.29625499999999994 spike_8_1.5x\n"
     ]
    }
   ],
   "source": [
    "obnames = [obj.name for obj in cell_evaluator.objectives]\n",
    "\n",
    "for i,j in zip(fitnesses,obnames):\n",
    "    print(i,j)"
   ]
  },
  {
   "cell_type": "code",
   "execution_count": 21,
   "metadata": {},
   "outputs": [
    {
     "data": {
      "image/png": "[encoded data removed]",
      "text/plain": [
       "<Figure size 432x288 with 1 Axes>"
      ]
     },
     "metadata": {
      "needs_background": "light"
     },
     "output_type": "display_data"
    }
   ],
   "source": [
    "#for obj in cell_evaluator2.objectives:\n",
    "#    print(obj.name)\n",
    "\n",
    "gen_numbers = logs.select('gen')\n",
    "min_fitness = logs.select('min')\n",
    "max_fitness = logs.select('max')\n",
    "avg_fitness = logs.select('avg')\n",
    "plt.plot(gen_numbers, max_fitness, label='max fitness')\n",
    "plt.plot(gen_numbers, avg_fitness, label='avg fitness')\n",
    "plt.plot(gen_numbers, min_fitness, label='min fitness')\n",
    "\n",
    "plt.plot(gen_numbers, min_fitness, label='min fitness')\n",
    "plt.semilogy()\n",
    "plt.xlabel('generation #')\n",
    "plt.ylabel('score (# std)')\n",
    "plt.legend()\n",
    "plt.xlim(min(gen_numbers) - 1, max(gen_numbers) + 1)\n",
    "plt.show()"
   ]
  },
  {
   "cell_type": "code",
   "execution_count": 22,
   "metadata": {},
   "outputs": [
    {
     "data": {
      "image/png": "[encoded data removed]",
      "text/plain": [
       "<Figure size 432x288 with 1 Axes>"
      ]
     },
     "metadata": {
      "needs_background": "light"
     },
     "output_type": "display_data"
    }
   ],
   "source": [
    "plt.plot(gen_numbers, max_fitness, label='max fitness')\n",
    "plt.show()"
   ]
  },
  {
   "cell_type": "code",
   "execution_count": 23,
   "metadata": {},
   "outputs": [
    {
     "data": {
      "text/plain": [
       "'JIT_IZHIBackend'"
      ]
     },
     "execution_count": 23,
     "metadata": {},
     "output_type": "execute_result"
    },
    {
     "data": {
      "image/png": "[encoded data removed]",
      "text/plain": [
       "<Figure size 432x288 with 1 Axes>"
      ]
     },
     "metadata": {
      "needs_background": "light"
     },
     "output_type": "display_data"
    }
   ],
   "source": [
    "opt.attrs\n",
    "#opt.attrs['a'] = 0.0\n",
    "#opt.attrs['b'] = 0.0\n",
    "\n",
    "#opt.attrs['v_rest'] = -60\n",
    "#opt.attrs['tau_w'] = 0.05\n",
    "#opt.attrs['cm'] = 1\n",
    "\n",
    "opt.vm15 = None\n",
    "from neuronunit.optimization.optimization_management import inject_model30\n",
    "#vm15,_,_,opt = inject_model30(opt)\n",
    "vm15,_,_,opt=inject_model30(opt,solve_for_current=target_current)\n",
    "\n",
    "model = opt.dtc_to_model()\n",
    "\n",
    "plt.plot(opt.vm15.times,opt.vm15)\n",
    "opt.vm15\n",
    "model.attrs\n",
    "model.backend"
   ]
  },
  {
   "cell_type": "code",
   "execution_count": 24,
   "metadata": {},
   "outputs": [
    {
     "data": {
      "image/png": "[encoded data removed]",
      "text/plain": [
       "<Figure size 432x288 with 1 Axes>"
      ]
     },
     "metadata": {
      "needs_background": "light"
     },
     "output_type": "display_data"
    },
    {
     "data": {
      "text/plain": [
       "{'C': 20.13999007141571,\n",
       " 'k': 1.1004618155915795,\n",
       " 'vr': -55.96330826869714,\n",
       " 'vt': -46.1880900857649,\n",
       " 'vPeak': 11.674446252943268,\n",
       " 'a': 0.010555388012489862,\n",
       " 'b': -1.2265515728009946,\n",
       " 'c': -48.53486326875858,\n",
       " 'd': -31.566133590941387,\n",
       " 'celltype': 5}"
      ]
     },
     "execution_count": 24,
     "metadata": {},
     "output_type": "execute_result"
    }
   ],
   "source": [
    "\n",
    "import matplotlib.pyplot as plt\n",
    "\n",
    "plt.plot(opt.vm15.times,opt.vm15)\n",
    "plt.show()\n",
    "\n",
    "\n",
    "opt.attrs\n"
   ]
  },
  {
   "cell_type": "code",
   "execution_count": 25,
   "metadata": {},
   "outputs": [
    {
     "data": {
      "text/plain": [
       "array(1.) * mV"
      ]
     },
     "execution_count": 25,
     "metadata": {},
     "output_type": "execute_result"
    }
   ],
   "source": [
    "opt.vm15.units\n",
    "\n",
    "#opt.vm15 = opt.vm15.rescale('mV').magnitude\n"
   ]
  },
  {
   "cell_type": "code",
   "execution_count": 26,
   "metadata": {},
   "outputs": [
    {
     "data": {
      "text/plain": [
       "{'value': array(209.17493939) * pA}"
      ]
     },
     "execution_count": 26,
     "metadata": {},
     "output_type": "execute_result"
    }
   ],
   "source": [
    "target_current"
   ]
  },
  {
   "cell_type": "code",
   "execution_count": 27,
   "metadata": {},
   "outputs": [
    {
     "data": {
      "image/png": "[encoded data removed]",
      "text/plain": [
       "<Figure size 432x288 with 1 Axes>"
      ]
     },
     "metadata": {
      "needs_background": "light"
     },
     "output_type": "display_data"
    }
   ],
   "source": [
    "target.vm15 = suite.traces['vm15']\n",
    "\n",
    "plt.plot(target.vm15.times,target.vm15)\n",
    "plt.show()\n"
   ]
  },
  {
   "cell_type": "code",
   "execution_count": 28,
   "metadata": {},
   "outputs": [
    {
     "data": {
      "image/png": "[encoded data removed]",
      "text/plain": [
       "<Figure size 432x288 with 1 Axes>"
      ]
     },
     "metadata": {
      "needs_background": "light"
     },
     "output_type": "display_data"
    },
    {
     "data": {
      "text/plain": [
       "{'C': 20.13999007141571,\n",
       " 'k': 1.1004618155915795,\n",
       " 'vr': -55.96330826869714,\n",
       " 'vt': -46.1880900857649,\n",
       " 'vPeak': 11.674446252943268,\n",
       " 'a': 0.010555388012489862,\n",
       " 'b': -1.2265515728009946,\n",
       " 'c': -48.53486326875858,\n",
       " 'd': -31.566133590941387,\n",
       " 'celltype': 5}"
      ]
     },
     "execution_count": 28,
     "metadata": {},
     "output_type": "execute_result"
    }
   ],
   "source": [
    "target.vm15 = suite.traces['vm15']\n",
    "#opt.attrs['a'] = 0.0\n",
    "#opt.attrs['vr'] = -80\n",
    "check_bin_vm15(target,opt)\n",
    "opt.attrs\n",
    "\n"
   ]
  },
  {
   "cell_type": "code",
   "execution_count": 29,
   "metadata": {},
   "outputs": [
    {
     "data": {
      "text/plain": [
       "\"\\nimport bluepyopt as bpop\\nfrom utils import dask_map_function\\noptimisation = bpop.optimisations.DEAPOptimisation(\\n        evaluator=cell_evaluator2,\\n        offspring_size = MU,\\n        map_function = dask_map_function,\\n        selector_name='IBEA',mutpb=0.1,cxpb=0.35,seeded_pop=[cp['final_pop'],cp['hall_of_fame']])#,seeded_current=target_current)\\nfinal_pop, hall_of_fame, logs, hist = optimisation.run(max_ngen=50)\\n\""
      ]
     },
     "execution_count": 29,
     "metadata": {},
     "output_type": "execute_result"
    }
   ],
   "source": [
    "'''\n",
    "import bluepyopt as bpop\n",
    "from utils import dask_map_function\n",
    "optimisation = bpop.optimisations.DEAPOptimisation(\n",
    "        evaluator=cell_evaluator2,\n",
    "        offspring_size = MU,\n",
    "        map_function = dask_map_function,\n",
    "        selector_name='IBEA',mutpb=0.1,cxpb=0.35,seeded_pop=[cp['final_pop'],cp['hall_of_fame']])#,seeded_current=target_current)\n",
    "final_pop, hall_of_fame, logs, hist = optimisation.run(max_ngen=50)\n",
    "'''"
   ]
  },
  {
   "cell_type": "code",
   "execution_count": 30,
   "metadata": {},
   "outputs": [
    {
     "data": {
      "image/png": "[encoded data removed]",
      "text/plain": [
       "<Figure size 432x288 with 1 Axes>"
      ]
     },
     "metadata": {
      "needs_background": "light"
     },
     "output_type": "display_data"
    }
   ],
   "source": [
    "gen_numbers = logs.select('gen')\n",
    "min_fitness = logs.select('min')\n",
    "max_fitness = logs.select('max')\n",
    "avg_fitness = logs.select('avg')\n",
    "plt.plot(gen_numbers, max_fitness, label='max fitness')\n",
    "plt.plot(gen_numbers, avg_fitness, label='avg fitness')\n",
    "plt.plot(gen_numbers, min_fitness, label='min fitness')\n",
    "\n",
    "plt.plot(gen_numbers, min_fitness, label='min fitness')\n",
    "#plt.semilogy()\n",
    "plt.xlabel('generation #')\n",
    "plt.ylabel('score (# std)')\n",
    "plt.legend()\n",
    "plt.xlim(min(gen_numbers) - 1, max(gen_numbers) + 1)\n",
    "plt.show()\n"
   ]
  },
  {
   "cell_type": "code",
   "execution_count": 31,
   "metadata": {},
   "outputs": [
    {
     "name": "stdout",
     "output_type": "stream",
     "text": [
      "burst_mean_freq_1.5x\n",
      "burst_number_1.5x\n",
      "single_burst_ratio_1.5x\n",
      "ISI_log_slope_1.5x\n",
      "mean_frequency_1.5x\n",
      "adaptation_index2_1.5x\n",
      "ISI_CV_1.5x\n",
      "Spikecount_1.5x\n",
      "all_ISI_values_1.5x\n",
      "ISI_values_1.5x\n",
      "time_to_first_spike_1.5x\n",
      "time_to_last_spike_1.5x\n",
      "time_to_second_spike_1.5x\n",
      "spike_0_1.5x\n",
      "spike_1_1.5x\n",
      "spike_2_1.5x\n",
      "spike_3_1.5x\n",
      "spike_4_1.5x\n",
      "spike_5_1.5x\n",
      "spike_6_1.5x\n",
      "spike_7_1.5x\n",
      "spike_8_1.5x\n"
     ]
    }
   ],
   "source": [
    "for obj in cell_evaluator.objectives:\n",
    "    print(obj.name)\n"
   ]
  },
  {
   "cell_type": "code",
   "execution_count": 32,
   "metadata": {},
   "outputs": [
    {
     "data": {
      "text/plain": [
       "['AHP1_depth_from_peak',\n",
       " 'AHP2_depth_from_peak',\n",
       " 'AHP_depth',\n",
       " 'AHP_depth_abs',\n",
       " 'AHP_depth_abs_slow',\n",
       " 'AHP_depth_diff',\n",
       " 'AHP_depth_from_peak',\n",
       " 'AHP_slow_time',\n",
       " 'AHP_time_from_peak',\n",
       " 'AP1_amp',\n",
       " 'AP1_begin_voltage',\n",
       " 'AP1_begin_width',\n",
       " 'AP1_peak',\n",
       " 'AP1_width',\n",
       " 'AP2_AP1_begin_width_diff',\n",
       " 'AP2_AP1_diff',\n",
       " 'AP2_AP1_peak_diff',\n",
       " 'AP2_amp',\n",
       " 'AP2_begin_voltage',\n",
       " 'AP2_begin_width',\n",
       " 'AP2_peak',\n",
       " 'AP2_width',\n",
       " 'AP_amplitude',\n",
       " 'AP_amplitude_change',\n",
       " 'AP_amplitude_diff',\n",
       " 'AP_amplitude_from_voltagebase',\n",
       " 'AP_begin_indices',\n",
       " 'AP_begin_time',\n",
       " 'AP_begin_voltage',\n",
       " 'AP_begin_width',\n",
       " 'AP_duration',\n",
       " 'AP_duration_change',\n",
       " 'AP_duration_half_width',\n",
       " 'AP_duration_half_width_change',\n",
       " 'AP_end_indices',\n",
       " 'AP_fall_indices',\n",
       " 'AP_fall_rate',\n",
       " 'AP_fall_rate_change',\n",
       " 'AP_fall_time',\n",
       " 'AP_height',\n",
       " 'AP_phaseslope',\n",
       " 'AP_phaseslope_AIS',\n",
       " 'AP_rise_indices',\n",
       " 'AP_rise_rate',\n",
       " 'AP_rise_rate_change',\n",
       " 'AP_rise_time',\n",
       " 'AP_width',\n",
       " 'APlast_amp',\n",
       " 'APlast_width',\n",
       " 'BAC_maximum_voltage',\n",
       " 'BAC_width',\n",
       " 'BPAPAmplitudeLoc1',\n",
       " 'BPAPAmplitudeLoc2',\n",
       " 'BPAPHeightLoc1',\n",
       " 'BPAPHeightLoc2',\n",
       " 'BPAPatt2',\n",
       " 'BPAPatt3',\n",
       " 'E10',\n",
       " 'E11',\n",
       " 'E12',\n",
       " 'E13',\n",
       " 'E14',\n",
       " 'E15',\n",
       " 'E16',\n",
       " 'E17',\n",
       " 'E18',\n",
       " 'E19',\n",
       " 'E2',\n",
       " 'E20',\n",
       " 'E21',\n",
       " 'E22',\n",
       " 'E23',\n",
       " 'E24',\n",
       " 'E25',\n",
       " 'E26',\n",
       " 'E27',\n",
       " 'E3',\n",
       " 'E39',\n",
       " 'E39_cod',\n",
       " 'E4',\n",
       " 'E40',\n",
       " 'E5',\n",
       " 'E6',\n",
       " 'E7',\n",
       " 'E8',\n",
       " 'E9',\n",
       " 'ISI_CV',\n",
       " 'ISI_log_slope',\n",
       " 'ISI_log_slope_skip',\n",
       " 'ISI_semilog_slope',\n",
       " 'ISI_values',\n",
       " 'Spikecount',\n",
       " 'Spikecount_stimint',\n",
       " 'adaptation_index',\n",
       " 'adaptation_index2',\n",
       " 'all_ISI_values',\n",
       " 'amp_drop_first_last',\n",
       " 'amp_drop_first_second',\n",
       " 'amp_drop_second_last',\n",
       " 'burst_ISI_indices',\n",
       " 'burst_mean_freq',\n",
       " 'burst_number',\n",
       " 'check_AISInitiation',\n",
       " 'current',\n",
       " 'current_base',\n",
       " 'decay_time_constant_after_stim',\n",
       " 'depolarized_base',\n",
       " 'doublet_ISI',\n",
       " 'fast_AHP',\n",
       " 'fast_AHP_change',\n",
       " 'interburst_voltage',\n",
       " 'inv_fifth_ISI',\n",
       " 'inv_first_ISI',\n",
       " 'inv_fourth_ISI',\n",
       " 'inv_last_ISI',\n",
       " 'inv_second_ISI',\n",
       " 'inv_third_ISI',\n",
       " 'inv_time_to_first_spike',\n",
       " 'irregularity_index',\n",
       " 'is_not_stuck',\n",
       " 'max_amp_difference',\n",
       " 'maximum_voltage',\n",
       " 'maximum_voltage_from_voltagebase',\n",
       " 'mean_AP_amplitude',\n",
       " 'mean_frequency',\n",
       " 'min_AHP_indices',\n",
       " 'min_AHP_values',\n",
       " 'min_voltage_between_spikes',\n",
       " 'minimum_voltage',\n",
       " 'number_initial_spikes',\n",
       " 'ohmic_input_resistance',\n",
       " 'ohmic_input_resistance_vb_ssse',\n",
       " 'peak_indices',\n",
       " 'peak_time',\n",
       " 'peak_voltage',\n",
       " 'sag_amplitude',\n",
       " 'sag_ratio1',\n",
       " 'sag_ratio2',\n",
       " 'single_burst_ratio',\n",
       " 'spike_half_width',\n",
       " 'spike_width2',\n",
       " 'steady_state_hyper',\n",
       " 'steady_state_voltage',\n",
       " 'steady_state_voltage_stimend',\n",
       " 'time',\n",
       " 'time_constant',\n",
       " 'time_to_first_spike',\n",
       " 'time_to_last_spike',\n",
       " 'time_to_second_spike',\n",
       " 'trace_check',\n",
       " 'voltage',\n",
       " 'voltage_after_stim',\n",
       " 'voltage_base',\n",
       " 'voltage_deflection',\n",
       " 'voltage_deflection_begin',\n",
       " 'voltage_deflection_vb_ssse',\n",
       " 'voltage',\n",
       " 'time',\n",
       " 'current',\n",
       " 'ISIs',\n",
       " 'initburst_sahp',\n",
       " 'initburst_sahp_vb',\n",
       " 'initburst_sahp_ssse',\n",
       " 'depol_block',\n",
       " 'spike_times',\n",
       " 'per_each_spike_time',\n",
       " 'tau',\n",
       " 'v_baseline',\n",
       " 'input_resistance',\n",
       " 'vm_for_sag',\n",
       " 'fi_fit_slope',\n",
       " 'sag',\n",
       " 'rheobase_i']"
      ]
     },
     "execution_count": 32,
     "metadata": {},
     "output_type": "execute_result"
    }
   ],
   "source": [
    "import efel\n",
    "simple_yes_list = list(efel.getFeatureNames())\n",
    "simple_yes_list"
   ]
  },
  {
   "cell_type": "markdown",
   "metadata": {},
   "source": [
    "'trace_check'"
   ]
  },
  {
   "cell_type": "raw",
   "metadata": {},
   "source": []
  }
 ],
 "metadata": {
  "kernelspec": {
   "display_name": "Python 3",
   "language": "python",
   "name": "python3"
  },
  "language_info": {
   "codemirror_mode": {
    "name": "ipython",
    "version": 3
   },
   "file_extension": ".py",
   "mimetype": "text/x-python",
   "name": "python",
   "nbconvert_exporter": "python",
   "pygments_lexer": "ipython3",
   "version": "3.7.4"
  }
 },
 "nbformat": 4,
 "nbformat_minor": 2
}
