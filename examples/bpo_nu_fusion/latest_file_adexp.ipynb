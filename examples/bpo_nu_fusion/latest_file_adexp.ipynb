{
 "cells": [
  {
   "cell_type": "code",
   "execution_count": 1,
   "metadata": {
    "scrolled": true
   },
   "outputs": [
    {
     "name": "stderr",
     "output_type": "stream",
     "text": [
      "test\n"
     ]
    }
   ],
   "source": [
    "from allen_data_driven import opt_setup, opt_setup_two, opt_exec, opt_to_model\n",
    "from neuronunit.optimisation.optimization_management import check_bin_vm15\n",
    "from neuronunit.optimisation.model_parameters import MODEL_PARAMS, BPO_PARAMS, to_bpo_param\n",
    "from neuronunit.optimisation.optimization_management import dtc_to_rheo,inject_and_plot_model\n",
    "from allen_data_driven import opt_to_model\n",
    "from utils import dask_map_function\n",
    "import matplotlib.pyplot as plt\n",
    "import numpy as np\n",
    "from neuronunit.optimisation.data_transport_container import DataTC\n",
    "import efel\n",
    "from jithub.models import model_classes\n",
    "\n",
    "import quantities as qt\n",
    "\n",
    "\n",
    "ids = [ 324257146,\n",
    "        325479788,\n",
    "        476053392,\n",
    "        623893177,\n",
    "        623960880,\n",
    "        482493761,\n",
    "        471819401\n",
    "       ]\n",
    "\n",
    "specimen_id = ids[1]\n",
    "efel.__file__\n",
    "efel_list = list(efel.getFeatureNames());\n",
    "cellmodel = \"ADEXP\""
   ]
  },
  {
   "cell_type": "markdown",
   "metadata": {},
   "source": [
    "# TODO make a nested Genetic Algorithm where the outer loop explores different preferred currents.\n",
    "\n",
    "This will get rid of the oscillations."
   ]
  },
  {
   "cell_type": "code",
   "execution_count": 2,
   "metadata": {},
   "outputs": [],
   "source": [
    "\n",
    "#cellmodel = \"ADEXP\";\n",
    "if cellmodel == \"IZHI\":\n",
    "    model = model_classes.IzhiModel()\n",
    "if cellmodel == \"MAT\":\n",
    "    model = model_classes.MATModel()\n",
    "if cellmodel == \"ADEXP\":\n",
    "    model = model_classes.ADEXPModel()\n",
    "\n"
   ]
  },
  {
   "cell_type": "markdown",
   "metadata": {},
   "source": [
    "specimen id 623960880 \\\\\n",
    "{\\small  \n",
    "\\url{http://celltypes.brain-map.org/mouse/experiment/electrophysiology/623960880}\n",
    "specimen id 623893177 \\\\\n",
    "\\url{http://celltypes.brain-map.org/mouse/experiment/electrophysiology/623893177}\n",
    "specimen id 482493761 \\\\\n",
    "\\url{http://celltypes.brain-map.org/mouse/experiment/electrophysiology/482493761}\n",
    "specimen id 471819401 \\\\\n",
    "\\url{http://celltypes.brain-map.org/mouse/experiment/electrophysiology/471819401}\n"
   ]
  },
  {
   "cell_type": "code",
   "execution_count": 3,
   "metadata": {},
   "outputs": [
    {
     "data": {
      "text/plain": [
       "('voltage',)"
      ]
     },
     "execution_count": 3,
     "metadata": {},
     "output_type": "execute_result"
    }
   ],
   "source": [
    "    'AHP_depth_abs_1.5x',\n",
    "    'sag_ratio2_1.5x',\n",
    "    'ohmic_input_resistance_1.5x',\n",
    "    'sag_ratio2_1.5x',\n",
    "    'peak_voltage_1.5x',\n",
    "    'voltage_base_1.5x',\n",
    "    'voltage',\n"
   ]
  },
  {
   "cell_type": "code",
   "execution_count": 4,
   "metadata": {},
   "outputs": [],
   "source": [
    "specific_filter_list = ['ISI_log_slope_1.5x',\n",
    "                        'mean_frequency_1.5x',\n",
    "                        'adaptation_index2_1.5x',\n",
    "                        'first_isi_1.5x',\n",
    "                        'ISI_CV_1.5x',\n",
    "                        'median_isi_1.5x',\n",
    "                        'Spikecount_1.5x',\n",
    "                        'all_ISI_values',\n",
    "                        'ISI_values',\n",
    "                        'time_to_first_spike',\n",
    "                        'time_to_last_spike',\n",
    "                        'time_to_second_spike',\n",
    "                        'spike_times']\n",
    "simple_yes_list = specific_filter_list\n",
    "target_num_spikes = 8\n"
   ]
  },
  {
   "cell_type": "code",
   "execution_count": 5,
   "metadata": {},
   "outputs": [
    {
     "data": {
      "text/plain": [
       "{'cm': 0.281,\n",
       " 'v_spike': -40.0,\n",
       " 'v_reset': -70.6,\n",
       " 'v_rest': -70.6,\n",
       " 'tau_m': 9.3667,\n",
       " 'a': 4.0,\n",
       " 'b': 0.0805,\n",
       " 'delta_T': 2.0,\n",
       " 'tau_w': 144.0,\n",
       " 'v_thresh': -50.4,\n",
       " 'spike_delta': 30}"
      ]
     },
     "execution_count": 5,
     "metadata": {},
     "output_type": "execute_result"
    }
   ],
   "source": [
    "dtc = DataTC()\n",
    "dtc.backend = cellmodel\n",
    "dtc._backend = model._backend\n",
    "\n",
    "dtc.attrs = model.attrs\n",
    "dtc.params = {k:np.mean(v) for k,v in MODEL_PARAMS[cellmodel].items()}\n",
    "dtc.attrs"
   ]
  },
  {
   "cell_type": "code",
   "execution_count": 6,
   "metadata": {},
   "outputs": [
    {
     "data": {
      "text/plain": [
       "{'cm': 0.281,\n",
       " 'v_spike': -40.0,\n",
       " 'v_reset': -70.6,\n",
       " 'v_rest': -70.6,\n",
       " 'tau_m': 9.3667,\n",
       " 'a': 4.0,\n",
       " 'b': 0.0805,\n",
       " 'delta_T': 2.0,\n",
       " 'tau_w': 144.0,\n",
       " 'v_thresh': -50.4,\n",
       " 'spike_delta': 30}"
      ]
     },
     "execution_count": 6,
     "metadata": {},
     "output_type": "execute_result"
    }
   ],
   "source": [
    "model = dtc.dtc_to_model()\n",
    "model.attrs\n",
    "\n",
    "#dir(model)\n",
    "#vm = model._backend.get_membrane_potential()\n",
    "#vm = model.get_membrane_potential()#"
   ]
  },
  {
   "cell_type": "code",
   "execution_count": 7,
   "metadata": {},
   "outputs": [
    {
     "data": {
      "text/plain": [
       "{'cm': <bluepyopt.parameters.Parameter at 0x7f58e8f15710>,\n",
       " 'v_spike': <bluepyopt.parameters.Parameter at 0x7f58ec3ac650>,\n",
       " 'v_reset': <bluepyopt.parameters.Parameter at 0x7f58e8f15410>,\n",
       " 'v_rest': <bluepyopt.parameters.Parameter at 0x7f58e8f15a10>,\n",
       " 'tau_m': <bluepyopt.parameters.Parameter at 0x7f58e8f15a50>,\n",
       " 'a': <bluepyopt.parameters.Parameter at 0x7f58e8f15a90>,\n",
       " 'b': <bluepyopt.parameters.Parameter at 0x7f58e8f15b50>,\n",
       " 'delta_T': <bluepyopt.parameters.Parameter at 0x7f58e8f15b90>,\n",
       " 'tau_w': <bluepyopt.parameters.Parameter at 0x7f58e8f15bd0>,\n",
       " 'v_thresh': <bluepyopt.parameters.Parameter at 0x7f58e8f15890>,\n",
       " 'spike_delta': <bluepyopt.parameters.Parameter at 0x7f58e8f15ad0>}"
      ]
     },
     "execution_count": 7,
     "metadata": {},
     "output_type": "execute_result"
    }
   ],
   "source": [
    "model.params"
   ]
  },
  {
   "cell_type": "code",
   "execution_count": 8,
   "metadata": {},
   "outputs": [
    {
     "ename": "AttributeError",
     "evalue": "'dict' object has no attribute 'magnitude'",
     "output_type": "error",
     "traceback": [
      "\u001b[0;31m---------------------------------------------------------------------------\u001b[0m",
      "\u001b[0;31mAttributeError\u001b[0m                            Traceback (most recent call last)",
      "\u001b[0;32m<ipython-input-8-95ca1d60c309>\u001b[0m in \u001b[0;36m<module>\u001b[0;34m\u001b[0m\n\u001b[0;32m----> 1\u001b[0;31m \u001b[0mdtc\u001b[0m \u001b[0;34m=\u001b[0m \u001b[0mdtc_to_rheo\u001b[0m\u001b[0;34m(\u001b[0m\u001b[0mdtc\u001b[0m\u001b[0;34m)\u001b[0m\u001b[0;34m\u001b[0m\u001b[0;34m\u001b[0m\u001b[0m\n\u001b[0m\u001b[1;32m      2\u001b[0m \u001b[0mprint\u001b[0m\u001b[0;34m(\u001b[0m\u001b[0mdtc\u001b[0m\u001b[0;34m.\u001b[0m\u001b[0mrheobase\u001b[0m\u001b[0;34m)\u001b[0m\u001b[0;34m\u001b[0m\u001b[0;34m\u001b[0m\u001b[0m\n\u001b[1;32m      3\u001b[0m \u001b[0mprint\u001b[0m\u001b[0;34m(\u001b[0m\u001b[0mdtc\u001b[0m\u001b[0;34m.\u001b[0m\u001b[0mbackend\u001b[0m\u001b[0;34m)\u001b[0m\u001b[0;34m\u001b[0m\u001b[0;34m\u001b[0m\u001b[0m\n\u001b[1;32m      4\u001b[0m \u001b[0;34m\u001b[0m\u001b[0m\n\u001b[1;32m      5\u001b[0m \u001b[0;34m\u001b[0m\u001b[0m\n",
      "\u001b[0;32m~/safe2/neuronunit/neuronunit/optimisation/optimization_management.py\u001b[0m in \u001b[0;36mdtc_to_rheo\u001b[0;34m(dtc)\u001b[0m\n\u001b[1;32m    868\u001b[0m         \u001b[0;32mif\u001b[0m \u001b[0misinstance\u001b[0m\u001b[0;34m(\u001b[0m\u001b[0mrtest\u001b[0m\u001b[0;34m,\u001b[0m\u001b[0mIterable\u001b[0m\u001b[0;34m)\u001b[0m\u001b[0;34m:\u001b[0m\u001b[0;34m\u001b[0m\u001b[0;34m\u001b[0m\u001b[0m\n\u001b[1;32m    869\u001b[0m             \u001b[0mrtest\u001b[0m \u001b[0;34m=\u001b[0m \u001b[0mrtest\u001b[0m\u001b[0;34m[\u001b[0m\u001b[0;36m0\u001b[0m\u001b[0;34m]\u001b[0m\u001b[0;34m\u001b[0m\u001b[0;34m\u001b[0m\u001b[0m\n\u001b[0;32m--> 870\u001b[0;31m         \u001b[0mdtc\u001b[0m\u001b[0;34m.\u001b[0m\u001b[0mrheobase\u001b[0m \u001b[0;34m=\u001b[0m \u001b[0mrtest\u001b[0m\u001b[0;34m.\u001b[0m\u001b[0mgenerate_prediction\u001b[0m\u001b[0;34m(\u001b[0m\u001b[0mmodel\u001b[0m\u001b[0;34m)\u001b[0m\u001b[0;34m[\u001b[0m\u001b[0;34m'value'\u001b[0m\u001b[0;34m]\u001b[0m\u001b[0;34m\u001b[0m\u001b[0;34m\u001b[0m\u001b[0m\n\u001b[0m\u001b[1;32m    871\u001b[0m         \u001b[0;31m#print(dtc.rheobase)\u001b[0m\u001b[0;34m\u001b[0m\u001b[0;34m\u001b[0m\u001b[0;34m\u001b[0m\u001b[0m\n\u001b[1;32m    872\u001b[0m         \u001b[0mtemp_vm\u001b[0m \u001b[0;34m=\u001b[0m \u001b[0mmodel\u001b[0m\u001b[0;34m.\u001b[0m\u001b[0mget_membrane_potential\u001b[0m\u001b[0;34m(\u001b[0m\u001b[0;34m)\u001b[0m\u001b[0;34m\u001b[0m\u001b[0;34m\u001b[0m\u001b[0m\n",
      "\u001b[0;32m~/safe2/neuronunit/neuronunit/tests/fi.py\u001b[0m in \u001b[0;36mgenerate_prediction\u001b[0;34m(self, model)\u001b[0m\n\u001b[1;32m    145\u001b[0m \u001b[0;34m\u001b[0m\u001b[0m\n\u001b[1;32m    146\u001b[0m         \u001b[0mbegin_rh\u001b[0m \u001b[0;34m=\u001b[0m \u001b[0mtime\u001b[0m\u001b[0;34m.\u001b[0m\u001b[0mtime\u001b[0m\u001b[0;34m(\u001b[0m\u001b[0;34m)\u001b[0m\u001b[0;34m\u001b[0m\u001b[0;34m\u001b[0m\u001b[0m\n\u001b[0;32m--> 147\u001b[0;31m         \u001b[0mlookup\u001b[0m \u001b[0;34m=\u001b[0m \u001b[0mself\u001b[0m\u001b[0;34m.\u001b[0m\u001b[0mthreshold_FI\u001b[0m\u001b[0;34m(\u001b[0m\u001b[0mmodel\u001b[0m\u001b[0;34m,\u001b[0m \u001b[0munits\u001b[0m\u001b[0;34m)\u001b[0m\u001b[0;34m\u001b[0m\u001b[0;34m\u001b[0m\u001b[0m\n\u001b[0m\u001b[1;32m    148\u001b[0m         \u001b[0;31m##\u001b[0m\u001b[0;34m\u001b[0m\u001b[0;34m\u001b[0m\u001b[0;34m\u001b[0m\u001b[0m\n\u001b[1;32m    149\u001b[0m         \u001b[0;31m# New code\u001b[0m\u001b[0;34m\u001b[0m\u001b[0;34m\u001b[0m\u001b[0;34m\u001b[0m\u001b[0m\n",
      "\u001b[0;32m~/safe2/neuronunit/neuronunit/tests/fi.py\u001b[0m in \u001b[0;36mthreshold_FI\u001b[0;34m(self, model, units, guess)\u001b[0m\n\u001b[1;32m    250\u001b[0m         \u001b[0msmall\u001b[0m \u001b[0;34m=\u001b[0m \u001b[0mself\u001b[0m\u001b[0;34m.\u001b[0m\u001b[0msmall\u001b[0m\u001b[0;34m\u001b[0m\u001b[0;34m\u001b[0m\u001b[0m\n\u001b[1;32m    251\u001b[0m \u001b[0;34m\u001b[0m\u001b[0m\n\u001b[0;32m--> 252\u001b[0;31m         \u001b[0mf\u001b[0m\u001b[0;34m(\u001b[0m\u001b[0mhigh\u001b[0m\u001b[0;34m)\u001b[0m\u001b[0;34m\u001b[0m\u001b[0;34m\u001b[0m\u001b[0m\n\u001b[0m\u001b[1;32m    253\u001b[0m         \u001b[0mi\u001b[0m \u001b[0;34m=\u001b[0m \u001b[0;36m0\u001b[0m\u001b[0;34m\u001b[0m\u001b[0;34m\u001b[0m\u001b[0m\n\u001b[1;32m    254\u001b[0m \u001b[0;34m\u001b[0m\u001b[0m\n",
      "\u001b[0;32m~/safe2/neuronunit/neuronunit/tests/fi.py\u001b[0m in \u001b[0;36mf\u001b[0;34m(ampl)\u001b[0m\n\u001b[1;32m    220\u001b[0m                     \u001b[0;31m#import pdb\u001b[0m\u001b[0;34m\u001b[0m\u001b[0;34m\u001b[0m\u001b[0;34m\u001b[0m\u001b[0m\n\u001b[1;32m    221\u001b[0m                     \u001b[0;31m#pdb.set_trace()\u001b[0m\u001b[0;34m\u001b[0m\u001b[0;34m\u001b[0m\u001b[0;34m\u001b[0m\u001b[0m\n\u001b[0;32m--> 222\u001b[0;31m                     \u001b[0mvm\u001b[0m \u001b[0;34m=\u001b[0m \u001b[0mmodel\u001b[0m\u001b[0;34m.\u001b[0m\u001b[0m_backend\u001b[0m\u001b[0;34m.\u001b[0m\u001b[0minject_square_current\u001b[0m\u001b[0;34m(\u001b[0m\u001b[0mcurrent\u001b[0m\u001b[0;34m)\u001b[0m\u001b[0;34m\u001b[0m\u001b[0;34m\u001b[0m\u001b[0m\n\u001b[0m\u001b[1;32m    223\u001b[0m                     \u001b[0;31m#print(vm)\u001b[0m\u001b[0;34m\u001b[0m\u001b[0;34m\u001b[0m\u001b[0;34m\u001b[0m\u001b[0m\n\u001b[1;32m    224\u001b[0m                     \u001b[0;31m#n_spikes = model._backend.get_spike_count()\u001b[0m\u001b[0;34m\u001b[0m\u001b[0;34m\u001b[0m\u001b[0;34m\u001b[0m\u001b[0m\n",
      "\u001b[0;32m~/git/numba_reduced_neuronal_models/jithub/backends/adexp.py\u001b[0m in \u001b[0;36minject_square_current\u001b[0;34m(self, amplitude, delay, duration)\u001b[0m\n\u001b[1;32m    198\u001b[0m                         \u001b[0mc\u001b[0m \u001b[0;34m=\u001b[0m \u001b[0mcurrent\u001b[0m\u001b[0;34m\u001b[0m\u001b[0;34m\u001b[0m\u001b[0m\n\u001b[1;32m    199\u001b[0m \t\t'''\n\u001b[0;32m--> 200\u001b[0;31m                 \u001b[0mamplitude\u001b[0m \u001b[0;34m=\u001b[0m \u001b[0mfloat\u001b[0m\u001b[0;34m(\u001b[0m\u001b[0mamplitude\u001b[0m\u001b[0;34m.\u001b[0m\u001b[0mmagnitude\u001b[0m\u001b[0;34m)\u001b[0m\u001b[0;34m\u001b[0m\u001b[0;34m\u001b[0m\u001b[0m\n\u001b[0m\u001b[1;32m    201\u001b[0m                 \u001b[0;31m#print(amplitude,'amp')\u001b[0m\u001b[0;34m\u001b[0m\u001b[0;34m\u001b[0m\u001b[0;34m\u001b[0m\u001b[0m\n\u001b[1;32m    202\u001b[0m                 \u001b[0mduration\u001b[0m \u001b[0;34m=\u001b[0m \u001b[0mfloat\u001b[0m\u001b[0;34m(\u001b[0m\u001b[0mduration\u001b[0m\u001b[0;34m)\u001b[0m\u001b[0;34m\u001b[0m\u001b[0;34m\u001b[0m\u001b[0m\n",
      "\u001b[0;31mAttributeError\u001b[0m: 'dict' object has no attribute 'magnitude'"
     ]
    }
   ],
   "source": [
    "\n",
    "\n",
    "dtc = dtc_to_rheo(dtc)\n",
    "print(dtc.rheobase)\n",
    "print(dtc.backend)\n",
    "\n",
    "\n",
    "#dtc_to_rheo()"
   ]
  },
  {
   "cell_type": "code",
   "execution_count": null,
   "metadata": {},
   "outputs": [],
   "source": [
    "vm,plt,dtc = inject_and_plot_model(dtc,plotly=False)\n",
    "plt.show()\n",
    "print(dtc.rheobase)\n"
   ]
  },
  {
   "cell_type": "code",
   "execution_count": null,
   "metadata": {},
   "outputs": [],
   "source": [
    "fixed_current = 122 *qt.pA\n",
    "model.params"
   ]
  },
  {
   "cell_type": "code",
   "execution_count": null,
   "metadata": {},
   "outputs": [],
   "source": [
    "model.params\n",
    "model.backend\n",
    "model, suite, nu_tests, target_current, spk_count = opt_setup(specimen_id,\n",
    "                                                              cellmodel,\n",
    "                                                              target_num_spikes,provided_model=model,fixed_current=False)\n"
   ]
  },
  {
   "cell_type": "code",
   "execution_count": null,
   "metadata": {},
   "outputs": [],
   "source": [
    "suite.tests[-1].observation"
   ]
  },
  {
   "cell_type": "code",
   "execution_count": null,
   "metadata": {},
   "outputs": [],
   "source": [
    "target_current\n",
    "spk_count"
   ]
  },
  {
   "cell_type": "code",
   "execution_count": null,
   "metadata": {},
   "outputs": [],
   "source": [
    "model.seeded_current = target_current['value']\n",
    "model.allen = True\n",
    "model.seeded_current\n",
    "model.NU = True\n",
    "cell_evaluator,simple_cell = opt_setup_two(model,cellmodel, suite, nu_tests, target_current, spk_count,provided_model=model)\n",
    "#mat.NU = True\n",
    "NGEN = 250\n",
    "MU = 20\n",
    "\n",
    "# TODO use pebble instead.\n",
    "#builtins.print = print_wrap\n",
    "\n",
    "mapping_funct = dask_map_function\n",
    "final_pop, hall_of_fame, logs, hist = opt_exec(MU,NGEN,mapping_funct,cell_evaluator)"
   ]
  },
  {
   "cell_type": "code",
   "execution_count": null,
   "metadata": {},
   "outputs": [],
   "source": [
    "target_current"
   ]
  },
  {
   "cell_type": "code",
   "execution_count": null,
   "metadata": {},
   "outputs": [],
   "source": [
    "\n"
   ]
  },
  {
   "cell_type": "code",
   "execution_count": null,
   "metadata": {},
   "outputs": [],
   "source": []
  },
  {
   "cell_type": "code",
   "execution_count": null,
   "metadata": {},
   "outputs": [],
   "source": []
  },
  {
   "cell_type": "code",
   "execution_count": null,
   "metadata": {},
   "outputs": [],
   "source": [
    "\n"
   ]
  },
  {
   "cell_type": "code",
   "execution_count": null,
   "metadata": {},
   "outputs": [],
   "source": [
    "\n",
    "opt,target = opt_to_model(hall_of_fame,cell_evaluator,suite, target_current, spk_count)"
   ]
  },
  {
   "cell_type": "code",
   "execution_count": null,
   "metadata": {},
   "outputs": [],
   "source": [
    "\n",
    "#dir(cell_evaluator2)"
   ]
  },
  {
   "cell_type": "code",
   "execution_count": null,
   "metadata": {},
   "outputs": [],
   "source": [
    "best_ind = hall_of_fame[0]\n",
    "fitnesses = cell_evaluator.evaluate_with_lists(best_ind)\n",
    "fitnesses;"
   ]
  },
  {
   "cell_type": "code",
   "execution_count": null,
   "metadata": {},
   "outputs": [],
   "source": [
    "best_ind"
   ]
  },
  {
   "cell_type": "code",
   "execution_count": null,
   "metadata": {},
   "outputs": [],
   "source": [
    "obnames = [obj.name for obj in cell_evaluator.objectives]\n",
    "\n",
    "for i,j in zip(fitnesses,obnames):\n",
    "    print(i,j)"
   ]
  },
  {
   "cell_type": "code",
   "execution_count": null,
   "metadata": {},
   "outputs": [],
   "source": [
    "#for obj in cell_evaluator2.objectives:\n",
    "#    print(obj.name)\n",
    "\n",
    "gen_numbers = logs.select('gen')\n",
    "min_fitness = logs.select('min')\n",
    "max_fitness = logs.select('max')\n",
    "avg_fitness = logs.select('avg')\n",
    "plt.plot(gen_numbers, max_fitness, label='max fitness')\n",
    "plt.plot(gen_numbers, avg_fitness, label='avg fitness')\n",
    "plt.plot(gen_numbers, min_fitness, label='min fitness')\n",
    "\n",
    "plt.plot(gen_numbers, min_fitness, label='min fitness')\n",
    "plt.semilogy()\n",
    "plt.xlabel('generation #')\n",
    "plt.ylabel('score (# std)')\n",
    "plt.legend()\n",
    "plt.xlim(min(gen_numbers) - 1, max(gen_numbers) + 1)\n",
    "plt.show()"
   ]
  },
  {
   "cell_type": "code",
   "execution_count": null,
   "metadata": {},
   "outputs": [],
   "source": [
    "opt.attrs\n",
    "\n",
    "model = opt.dtc_to_model()\n",
    "plt.plot(opt.vm15.times,opt.vm15)\n",
    "opt.vm15\n",
    "opt.attrs\n"
   ]
  },
  {
   "cell_type": "code",
   "execution_count": null,
   "metadata": {},
   "outputs": [],
   "source": [
    "#check_bin_vm15(opt,opt)\n",
    "\n",
    "import matplotlib.pyplot as plt\n",
    "\n",
    "plt.plot(opt.vm15.times,opt.vm15)\n",
    "plt.show()\n",
    "\n",
    "\n",
    "#check_bin_vm30(target,target)\n",
    "\n",
    "opt.attrs\n"
   ]
  },
  {
   "cell_type": "code",
   "execution_count": null,
   "metadata": {},
   "outputs": [],
   "source": [
    "opt.vm15.units\n",
    "\n",
    "#opt.vm15 = opt.vm15.rescale('mV').magnitude\n"
   ]
  },
  {
   "cell_type": "code",
   "execution_count": null,
   "metadata": {},
   "outputs": [],
   "source": [
    "target_current"
   ]
  },
  {
   "cell_type": "code",
   "execution_count": null,
   "metadata": {},
   "outputs": [],
   "source": [
    "#target.vm15\n",
    "target.vm15 = suite.traces['vm15']\n",
    "\n",
    "plt.plot(target.vm15.times,target.vm15)\n",
    "plt.show()\n"
   ]
  },
  {
   "cell_type": "code",
   "execution_count": null,
   "metadata": {},
   "outputs": [],
   "source": [
    "target.vm15 = suite.traces['vm15']\n",
    "\n",
    "check_bin_vm15(target,opt)\n",
    "opt.attrs\n",
    "\n"
   ]
  },
  {
   "cell_type": "code",
   "execution_count": null,
   "metadata": {},
   "outputs": [],
   "source": [
    "'''\n",
    "import bluepyopt as bpop\n",
    "from utils import dask_map_function\n",
    "optimisation = bpop.optimisations.DEAPOptimisation(\n",
    "        evaluator=cell_evaluator2,\n",
    "        offspring_size = MU,\n",
    "        map_function = dask_map_function,\n",
    "        selector_name='IBEA',mutpb=0.1,cxpb=0.35,seeded_pop=[cp['final_pop'],cp['hall_of_fame']])#,seeded_current=target_current)\n",
    "final_pop, hall_of_fame, logs, hist = optimisation.run(max_ngen=50)\n",
    "'''"
   ]
  },
  {
   "cell_type": "code",
   "execution_count": null,
   "metadata": {},
   "outputs": [],
   "source": [
    "gen_numbers = logs.select('gen')\n",
    "min_fitness = logs.select('min')\n",
    "max_fitness = logs.select('max')\n",
    "avg_fitness = logs.select('avg')\n",
    "plt.plot(gen_numbers, max_fitness, label='max fitness')\n",
    "plt.plot(gen_numbers, avg_fitness, label='avg fitness')\n",
    "plt.plot(gen_numbers, min_fitness, label='min fitness')\n",
    "\n",
    "plt.plot(gen_numbers, min_fitness, label='min fitness')\n",
    "#plt.semilogy()\n",
    "plt.xlabel('generation #')\n",
    "plt.ylabel('score (# std)')\n",
    "plt.legend()\n",
    "plt.xlim(min(gen_numbers) - 1, max(gen_numbers) + 1)\n",
    "plt.show()\n"
   ]
  },
  {
   "cell_type": "code",
   "execution_count": null,
   "metadata": {},
   "outputs": [],
   "source": [
    "for obj in cell_evaluator2.objectives:\n",
    "    print(obj.name)\n"
   ]
  },
  {
   "cell_type": "code",
   "execution_count": null,
   "metadata": {},
   "outputs": [],
   "source": [
    "import efel\n",
    "simple_yes_list = list(efel.getFeatureNames())\n",
    "simple_yes_list"
   ]
  },
  {
   "cell_type": "markdown",
   "metadata": {},
   "source": [
    "'trace_check'"
   ]
  },
  {
   "cell_type": "raw",
   "metadata": {},
   "source": []
  }
 ],
 "metadata": {
  "kernelspec": {
   "display_name": "Python 3",
   "language": "python",
   "name": "python3"
  },
  "language_info": {
   "codemirror_mode": {
    "name": "ipython",
    "version": 3
   },
   "file_extension": ".py",
   "mimetype": "text/x-python",
   "name": "python",
   "nbconvert_exporter": "python",
   "pygments_lexer": "ipython3",
   "version": "3.7.4"
  }
 },
 "nbformat": 4,
 "nbformat_minor": 2
}
