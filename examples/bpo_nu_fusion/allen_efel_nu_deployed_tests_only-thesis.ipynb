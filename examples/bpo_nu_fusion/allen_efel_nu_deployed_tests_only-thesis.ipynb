{
 "cells": [
  {
   "cell_type": "code",
   "execution_count": 1,
   "metadata": {},
   "outputs": [],
   "source": [
    "import efel\n",
    "\n",
    "import pickle\n",
    "import make_allen_tests_from_id# import *\n",
    "\n",
    "from make_allen_tests_from_id import *\n",
    "from neuronunit.optimisation.optimization_management import dtc_to_rheo, inject_and_plot_model30,check_bin_vm30,check_bin_vm15\n",
    "\n",
    "\n",
    "import efel\n",
    "import pandas as pd\n",
    "import seaborn as sns\n",
    "\n",
    "from utils import dask_map_function\n",
    "\n",
    "import bluepyopt as bpop\n",
    "import bluepyopt.ephys as ephys\n",
    "import pickle\n",
    "from sciunit import TestSuite\n",
    "from sciunit.scores.collections import ScoreArray\n",
    "import sciunit\n",
    "import numpy as np\n",
    "from neuronunit.optimisation.optimization_management import dtc_to_rheo, switch_logic,active_values\n",
    "from neuronunit.tests.base import AMPL, DELAY, DURATION\n",
    "\n",
    "import quantities as pq\n",
    "PASSIVE_DURATION = 500.0*pq.ms\n",
    "PASSIVE_DELAY = 200.0*pq.ms\n",
    "import matplotlib.pyplot as plt\n",
    "from bluepyopt.ephys.models import ReducedCellModel\n",
    "import numpy\n",
    "from neuronunit.optimisation.optimization_management import test_all_objective_test\n",
    "from neuronunit.optimisation.optimization_management import check_binary_match, three_step_protocol,inject_and_plot_passive_model\n",
    "from neuronunit.optimisation.model_parameters import MODEL_PARAMS\n",
    "import copy\n",
    "\n",
    "import numpy as np\n",
    "from make_allen_tests import AllenTest\n",
    "\n",
    "from bluepyopt.parameters import Parameter\n",
    "from utils import dask_map_function\n",
    "from make_allen_tests_from_id import get_model_parts_sweep_from_number,make_suite_known_sweep_from_static_models\n"
   ]
  },
  {
   "cell_type": "code",
   "execution_count": 2,
   "metadata": {},
   "outputs": [],
   "source": [
    "\n",
    "\n",
    "surrogate_tests_with_cell_name_lookup = pickle.load(open('allen_NU_tests.p','rb'))\n",
    "specimen_id = surrogate_tests_with_cell_name_lookup[4].name\n",
    "sweep_numbers,data_set,sweeps = make_allen_tests_from_id.allen_id_to_sweeps(specimen_id)\n"
   ]
  },
  {
   "cell_type": "code",
   "execution_count": 3,
   "metadata": {},
   "outputs": [],
   "source": [
    "%%capture \n",
    "vmm = None\n",
    "cnt = 5\n",
    "from features_file import specific_filter_list, simple_yes_list, NUFeatureAllenMultiSpike\n",
    "\n",
    "while vmm is None:\n",
    "    vmm,stimulus,sn,spike_times=get_model_parts_sweep_from_spk_cnt(cnt,data_set,sweep_numbers,specimen_id,simple_yes_list)\n",
    "    cnt+=1\n",
    "suite,specimen_id = make_suite_known_sweep_from_static_models(\n",
    "                            vmm,stimulus,specimen_id,simple_yes_list)\n",
    "\n"
   ]
  },
  {
   "cell_type": "code",
   "execution_count": 4,
   "metadata": {},
   "outputs": [
    {
     "data": {
      "image/png": "[encoded data removed]",
      "text/plain": [
       "<Figure size 432x288 with 1 Axes>"
      ]
     },
     "metadata": {
      "needs_background": "light"
     },
     "output_type": "display_data"
    },
    {
     "name": "stdout",
     "output_type": "stream",
     "text": [
      "AHP_depth_1.5x\n",
      "AHP_depth_abs_1.5x\n",
      "ISI_values_1.5x\n",
      "Spikecount_1.5x\n",
      "adaptation_index_1.5x\n",
      "adaptation_index2_1.5x\n",
      "all_ISI_values_1.5x\n",
      "mean_AP_amplitude_1.5x\n",
      "min_voltage_between_spikes_1.5x\n",
      "minimum_voltage_1.5x\n",
      "peak_voltage_1.5x\n",
      "spike_half_width_1.5x\n",
      "time_to_first_spike_1.5x\n",
      "time_to_last_spike_1.5x\n",
      "voltage_base_1.5x\n"
     ]
    },
    {
     "data": {
      "text/plain": [
       "[<neuronunit.make_allen_tests.AllenTest at 0x7f34f42fee50>,\n",
       " <neuronunit.make_allen_tests.AllenTest at 0x7f34f430e090>,\n",
       " <neuronunit.make_allen_tests.AllenTest at 0x7f34f429d710>,\n",
       " <neuronunit.make_allen_tests.AllenTest at 0x7f34f3e8cf10>,\n",
       " <neuronunit.make_allen_tests.AllenTest at 0x7f34f3e8cd90>,\n",
       " <neuronunit.make_allen_tests.AllenTest at 0x7f34f378c9d0>,\n",
       " <neuronunit.make_allen_tests.AllenTest at 0x7f34f378c610>,\n",
       " <neuronunit.make_allen_tests.AllenTest at 0x7f34f429ded0>,\n",
       " <neuronunit.make_allen_tests.AllenTest at 0x7f34f3e8cfd0>,\n",
       " <neuronunit.make_allen_tests.AllenTest at 0x7f34f378c790>,\n",
       " <neuronunit.make_allen_tests.AllenTest at 0x7f34f424d590>,\n",
       " <neuronunit.make_allen_tests.AllenTest at 0x7f34f3e8cb10>,\n",
       " <neuronunit.make_allen_tests.AllenTest at 0x7f34f378c190>,\n",
       " <neuronunit.make_allen_tests.AllenTest at 0x7f34f3e8c990>,\n",
       " <neuronunit.make_allen_tests.AllenTest at 0x7f34f378cfd0>]"
      ]
     },
     "execution_count": 4,
     "metadata": {},
     "output_type": "execute_result"
    }
   ],
   "source": [
    "target = StaticModel(vm=suite.traces['vm15']) #DataTC(backend=\"model_type\")\n",
    "target.vm15 = suite.traces['vm15'] \n",
    "\n",
    "plt.plot(vmm.times,vmm)\n",
    "plt.show()\n",
    "nu_tests = suite.tests\n",
    "    \n",
    "clean_nu_tests = []\n",
    "for t in nu_tests:\n",
    "    if t.observation is not None:\n",
    "        clean_nu_tests.append(t)\n",
    "        print(t.name)\n",
    "\n",
    "nu_tests = clean_nu_tests\n",
    "nu_tests"
   ]
  },
  {
   "cell_type": "markdown",
   "metadata": {},
   "source": [
    "# parameters that make a similar cell.\n",
    "cm\tv_spike\tv_reset\tv_rest\ttau_m\ta\tb\tdelta_T\ttau_w\tv_thresh\tspike_delta\n",
    "0\t129.873809\t-140.0\t-27.514162\t-42.419064\t31.51851\t10.894431\t-0.048309\t14.218536\t80.749994\t-22.420621\t24.13769"
   ]
  },
  {
   "cell_type": "code",
   "execution_count": 5,
   "metadata": {},
   "outputs": [
    {
     "data": {
      "image/png": "[encoded data removed]",
      "text/plain": [
       "<Figure size 432x288 with 1 Axes>"
      ]
     },
     "metadata": {
      "needs_background": "light"
     },
     "output_type": "display_data"
    }
   ],
   "source": [
    "check_bin_vm15(target,target)"
   ]
  }
 ],
 "metadata": {
  "kernelspec": {
   "display_name": "Python 3",
   "language": "python",
   "name": "python3"
  },
  "language_info": {
   "codemirror_mode": {
    "name": "ipython",
    "version": 3
   },
   "file_extension": ".py",
   "mimetype": "text/x-python",
   "name": "python",
   "nbconvert_exporter": "python",
   "pygments_lexer": "ipython3",
   "version": "3.7.4"
  }
 },
 "nbformat": 4,
 "nbformat_minor": 2
}
