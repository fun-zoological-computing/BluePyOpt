{
 "cells": [
  {
   "cell_type": "code",
   "execution_count": 1,
   "metadata": {
    "scrolled": true
   },
   "outputs": [
    {
     "name": "stderr",
     "output_type": "stream",
     "text": [
      "test\n"
     ]
    }
   ],
   "source": [
    "from allen_data_driven import opt_setup, opt_setup_two, opt_exec, opt_to_model\n",
    "from neuronunit.optimisation.optimization_management import check_bin_vm15\n",
    "from neuronunit.optimisation.model_parameters import MODEL_PARAMS, BPO_PARAMS, to_bpo_param\n",
    "from neuronunit.optimisation.optimization_management import dtc_to_rheo,inject_and_plot_model\n",
    "from allen_data_driven import opt_to_model\n",
    "from utils import dask_map_function\n",
    "import matplotlib.pyplot as plt\n",
    "import numpy as np\n",
    "from neuronunit.optimisation.data_transport_container import DataTC\n",
    "import efel\n",
    "from jithub.models import model_classes\n",
    "\n",
    "import quantities as qt\n",
    "\n",
    "\n",
    "ids = [ 324257146,\n",
    "        325479788,\n",
    "        476053392,\n",
    "        623893177,\n",
    "        623960880,\n",
    "        482493761,\n",
    "        471819401\n",
    "       ]\n",
    "\n",
    "specimen_id = ids[2]\n",
    "efel.__file__\n",
    "efel_list = list(efel.getFeatureNames());\n",
    "cellmodel = \"IZHI\""
   ]
  },
  {
   "cell_type": "markdown",
   "metadata": {},
   "source": [
    "# TODO make a nested Genetic Algorithm where the outer loop explores different preferred currents.\n",
    "\n",
    "This will get rid of the oscillations."
   ]
  },
  {
   "cell_type": "code",
   "execution_count": 2,
   "metadata": {},
   "outputs": [],
   "source": [
    "\n",
    "#cellmodel = \"ADEXP\";\n",
    "if cellmodel == \"IZHI\":\n",
    "    model = model_classes.IzhiModel()\n",
    "if cellmodel == \"MAT\":\n",
    "    model = model_classes.MATModel()\n",
    "if cellmodel == \"ADEXP\":\n",
    "    model = model_classes.ADEXPModel()\n",
    "\n"
   ]
  },
  {
   "cell_type": "markdown",
   "metadata": {},
   "source": [
    "specimen id 623960880 \\\\\n",
    "{\\small  \n",
    "\\url{http://celltypes.brain-map.org/mouse/experiment/electrophysiology/623960880}\n",
    "specimen id 623893177 \\\\\n",
    "\\url{http://celltypes.brain-map.org/mouse/experiment/electrophysiology/623893177}\n",
    "specimen id 482493761 \\\\\n",
    "\\url{http://celltypes.brain-map.org/mouse/experiment/electrophysiology/482493761}\n",
    "specimen id 471819401 \\\\\n",
    "\\url{http://celltypes.brain-map.org/mouse/experiment/electrophysiology/471819401}\n"
   ]
  },
  {
   "cell_type": "code",
   "execution_count": null,
   "metadata": {},
   "outputs": [],
   "source": []
  },
  {
   "cell_type": "code",
   "execution_count": 11,
   "metadata": {},
   "outputs": [],
   "source": [
    "specific_filter_list = ['ISI_log_slope_1.5x',\n",
    "                        'mean_frequency_1.5x',\n",
    "                        'adaptation_index2_1.5x',\n",
    "                        'first_isi_1.5x',\n",
    "                        'ISI_CV_1.5x',\n",
    "                        'median_isi_1.5x',\n",
    "                        'AHP_depth_abs_1.5x',\n",
    "                        'sag_ratio2_1.5x',\n",
    "                        'ohmic_input_resistance_1.5x',\n",
    "                        'sag_ratio2_1.5x',\n",
    "                        'peak_voltage_1.5x',\n",
    "                        'voltage_base_1.5x',\n",
    "                        'Spikecount_1.5x',\n",
    "                        'all_ISI_values',\n",
    "                        'ISI_values',\n",
    "                        'time_to_first_spike',\n",
    "                        'time_to_last_spike',\n",
    "                        'time_to_second_spike',\n",
    "                        'voltage',\n",
    "                        'spike_times']\n",
    "simple_yes_list = specific_filter_list\n",
    "target_num_spikes = 8\n"
   ]
  },
  {
   "cell_type": "code",
   "execution_count": 12,
   "metadata": {},
   "outputs": [
    {
     "data": {
      "text/plain": [
       "{'C': 89.7960714285714,\n",
       " 'a': 0.01,\n",
       " 'b': 15,\n",
       " 'c': -60,\n",
       " 'd': 10,\n",
       " 'k': 1.6,\n",
       " 'vPeak': 21.138338933982595,\n",
       " 'vr': -65.2261863636364,\n",
       " 'vt': -50,\n",
       " 'celltype': 3}"
      ]
     },
     "execution_count": 12,
     "metadata": {},
     "output_type": "execute_result"
    }
   ],
   "source": [
    "dtc = DataTC()\n",
    "dtc.backend = cellmodel\n",
    "dtc._backend = model._backend\n",
    "\n",
    "dtc.attrs = model.attrs\n",
    "dtc.params = {k:np.mean(v) for k,v in MODEL_PARAMS[cellmodel].items()}\n",
    "dtc.attrs"
   ]
  },
  {
   "cell_type": "code",
   "execution_count": 13,
   "metadata": {},
   "outputs": [
    {
     "data": {
      "text/plain": [
       "{'C': 89.7960714285714,\n",
       " 'a': 0.01,\n",
       " 'b': 15,\n",
       " 'c': -60,\n",
       " 'd': 10,\n",
       " 'k': 1.6,\n",
       " 'vPeak': 21.138338933982595,\n",
       " 'vr': -65.2261863636364,\n",
       " 'vt': -50,\n",
       " 'celltype': 3}"
      ]
     },
     "execution_count": 13,
     "metadata": {},
     "output_type": "execute_result"
    }
   ],
   "source": [
    "model = dtc.dtc_to_model()\n",
    "model.attrs\n",
    "\n",
    "#dir(model)\n",
    "#vm = model._backend.get_membrane_potential()\n",
    "#vm = model.get_membrane_potential()#"
   ]
  },
  {
   "cell_type": "code",
   "execution_count": 14,
   "metadata": {},
   "outputs": [
    {
     "data": {
      "text/plain": [
       "{'C': <bluepyopt.parameters.Parameter at 0x7f30bc11bed0>,\n",
       " 'a': <bluepyopt.parameters.Parameter at 0x7f30bc11b890>,\n",
       " 'b': <bluepyopt.parameters.Parameter at 0x7f30bc4d2d50>,\n",
       " 'c': <bluepyopt.parameters.Parameter at 0x7f30bc4d2dd0>,\n",
       " 'd': <bluepyopt.parameters.Parameter at 0x7f30bc4d2d90>,\n",
       " 'k': <bluepyopt.parameters.Parameter at 0x7f30bc4d2850>,\n",
       " 'vPeak': <bluepyopt.parameters.Parameter at 0x7f30bc8c1110>,\n",
       " 'vr': <bluepyopt.parameters.Parameter at 0x7f30bc8c1250>,\n",
       " 'vt': <bluepyopt.parameters.Parameter at 0x7f30c03e9150>,\n",
       " 'celltype': <bluepyopt.parameters.Parameter at 0x7f30bc1009d0>}"
      ]
     },
     "execution_count": 14,
     "metadata": {},
     "output_type": "execute_result"
    }
   ],
   "source": [
    "model.params"
   ]
  },
  {
   "cell_type": "code",
   "execution_count": 15,
   "metadata": {},
   "outputs": [
    {
     "name": "stdout",
     "output_type": "stream",
     "text": [
      "122.5711024730117 pA\n",
      "IZHI\n"
     ]
    }
   ],
   "source": [
    "\n",
    "\n",
    "dtc = dtc_to_rheo(dtc)\n",
    "print(dtc.rheobase)\n",
    "print(dtc.backend)\n",
    "\n",
    "\n",
    "#dtc_to_rheo()"
   ]
  },
  {
   "cell_type": "code",
   "execution_count": 16,
   "metadata": {},
   "outputs": [
    {
     "name": "stdout",
     "output_type": "stream",
     "text": [
      "[-61.56837364] mV [ True]\n"
     ]
    },
    {
     "data": {
      "text/plain": [
       "<Figure size 432x288 with 0 Axes>"
      ]
     },
     "metadata": {},
     "output_type": "display_data"
    },
    {
     "data": {
      "image/png": "[encoded data removed]",
      "text/plain": [
       "<Figure size 432x288 with 1 Axes>"
      ]
     },
     "metadata": {
      "needs_background": "light"
     },
     "output_type": "display_data"
    },
    {
     "name": "stdout",
     "output_type": "stream",
     "text": [
      "122.5711024730117 pA\n"
     ]
    }
   ],
   "source": [
    "vm,plt,dtc = inject_and_plot_model(dtc,plotly=False)\n",
    "plt.show()\n",
    "print(dtc.rheobase)\n"
   ]
  },
  {
   "cell_type": "code",
   "execution_count": 17,
   "metadata": {},
   "outputs": [
    {
     "data": {
      "text/plain": [
       "{'C': <bluepyopt.parameters.Parameter at 0x7f30bc11bed0>,\n",
       " 'a': <bluepyopt.parameters.Parameter at 0x7f30bc11b890>,\n",
       " 'b': <bluepyopt.parameters.Parameter at 0x7f30bc4d2d50>,\n",
       " 'c': <bluepyopt.parameters.Parameter at 0x7f30bc4d2dd0>,\n",
       " 'd': <bluepyopt.parameters.Parameter at 0x7f30bc4d2d90>,\n",
       " 'k': <bluepyopt.parameters.Parameter at 0x7f30bc4d2850>,\n",
       " 'vPeak': <bluepyopt.parameters.Parameter at 0x7f30bc8c1110>,\n",
       " 'vr': <bluepyopt.parameters.Parameter at 0x7f30bc8c1250>,\n",
       " 'vt': <bluepyopt.parameters.Parameter at 0x7f30c03e9150>,\n",
       " 'celltype': <bluepyopt.parameters.Parameter at 0x7f30bc1009d0>}"
      ]
     },
     "execution_count": 17,
     "metadata": {},
     "output_type": "execute_result"
    }
   ],
   "source": [
    "fixed_current = 122 *qt.pA\n",
    "model.params"
   ]
  },
  {
   "cell_type": "code",
   "execution_count": 18,
   "metadata": {},
   "outputs": [
    {
     "name": "stdout",
     "output_type": "stream",
     "text": [
      "0 8\n",
      "1 8\n",
      "1 8\n",
      "1 8\n",
      "1 8\n",
      "9 8\n",
      "yes hit\n"
     ]
    },
    {
     "data": {
      "image/png": "[encoded data removed]",
      "text/plain": [
       "<Figure size 432x288 with 1 Axes>"
      ]
     },
     "metadata": {
      "needs_background": "light"
     },
     "output_type": "display_data"
    }
   ],
   "source": [
    "model.params\n",
    "model.backend\n",
    "model, suite, nu_tests, target_current, spk_count = opt_setup(specimen_id,\n",
    "                                                              cellmodel,\n",
    "                                                              target_num_spikes,provided_model=model,fixed_current=False)\n"
   ]
  },
  {
   "cell_type": "code",
   "execution_count": 19,
   "metadata": {},
   "outputs": [
    {
     "data": {
      "text/plain": [
       "{'mean': 2.946335, 'std': 2.946335}"
      ]
     },
     "execution_count": 19,
     "metadata": {},
     "output_type": "execute_result"
    }
   ],
   "source": [
    "suite.tests[-1].observation"
   ]
  },
  {
   "cell_type": "code",
   "execution_count": 20,
   "metadata": {},
   "outputs": [
    {
     "data": {
      "text/plain": [
       "9.0"
      ]
     },
     "execution_count": 20,
     "metadata": {},
     "output_type": "execute_result"
    }
   ],
   "source": [
    "target_current\n",
    "spk_count"
   ]
  },
  {
   "cell_type": "code",
   "execution_count": 21,
   "metadata": {},
   "outputs": [
    {
     "data": {
      "application/vnd.jupyter.widget-view+json": {
       "model_id": "c1939fd3b5cf4ac9a883873864af12be",
       "version_major": 2,
       "version_minor": 0
      },
      "text/plain": [
       "HBox(children=(FloatProgress(value=0.0, max=250.0), HTML(value='')))"
      ]
     },
     "metadata": {},
     "output_type": "display_data"
    },
    {
     "name": "stdout",
     "output_type": "stream",
     "text": [
      "\n"
     ]
    }
   ],
   "source": [
    "model.seeded_current = target_current['value']\n",
    "model.allen = True\n",
    "model.seeded_current\n",
    "model.NU = True\n",
    "cell_evaluator,simple_cell = opt_setup_two(model,cellmodel, suite, nu_tests, target_current, spk_count,provided_model=model)\n",
    "#mat.NU = True\n",
    "NGEN = 250\n",
    "MU = 20\n",
    "\n",
    "# TODO use pebble instead.\n",
    "#builtins.print = print_wrap\n",
    "\n",
    "mapping_funct = dask_map_function\n",
    "final_pop, hall_of_fame, logs, hist = opt_exec(MU,NGEN,mapping_funct,cell_evaluator)"
   ]
  },
  {
   "cell_type": "code",
   "execution_count": 22,
   "metadata": {},
   "outputs": [
    {
     "data": {
      "text/plain": [
       "{'value': array(209.17493939) * pA}"
      ]
     },
     "execution_count": 22,
     "metadata": {},
     "output_type": "execute_result"
    }
   ],
   "source": [
    "target_current"
   ]
  },
  {
   "cell_type": "code",
   "execution_count": null,
   "metadata": {},
   "outputs": [],
   "source": [
    "\n"
   ]
  },
  {
   "cell_type": "code",
   "execution_count": null,
   "metadata": {},
   "outputs": [],
   "source": []
  },
  {
   "cell_type": "code",
   "execution_count": null,
   "metadata": {},
   "outputs": [],
   "source": []
  },
  {
   "cell_type": "code",
   "execution_count": null,
   "metadata": {},
   "outputs": [],
   "source": [
    "\n"
   ]
  },
  {
   "cell_type": "code",
   "execution_count": 23,
   "metadata": {},
   "outputs": [],
   "source": [
    "\n",
    "opt,target = opt_to_model(hall_of_fame,cell_evaluator,suite, target_current, spk_count)"
   ]
  },
  {
   "cell_type": "code",
   "execution_count": 24,
   "metadata": {},
   "outputs": [],
   "source": [
    "\n",
    "#dir(cell_evaluator2)"
   ]
  },
  {
   "cell_type": "code",
   "execution_count": 25,
   "metadata": {},
   "outputs": [],
   "source": [
    "best_ind = hall_of_fame[0]\n",
    "fitnesses = cell_evaluator.evaluate_with_lists(best_ind)\n",
    "fitnesses;"
   ]
  },
  {
   "cell_type": "code",
   "execution_count": 26,
   "metadata": {},
   "outputs": [
    {
     "data": {
      "text/plain": [
       "[24.877385939753886,\n",
       " 0.701736729600587,\n",
       " -72.5569387714641,\n",
       " -48.24807640755385,\n",
       " 8.204029310331334,\n",
       " 0.1439912015070738,\n",
       " 9.798265835033085,\n",
       " -56.032507017662,\n",
       " -8.171044393184602,\n",
       " 6.892393097162996]"
      ]
     },
     "execution_count": 26,
     "metadata": {},
     "output_type": "execute_result"
    }
   ],
   "source": [
    "best_ind"
   ]
  },
  {
   "cell_type": "code",
   "execution_count": 27,
   "metadata": {},
   "outputs": [
    {
     "name": "stdout",
     "output_type": "stream",
     "text": [
      "0.09251 burst_mean_freq_1.5x\n",
      "0.0 burst_number_1.5x\n",
      "0.1405 single_burst_ratio_1.5x\n",
      "0.4232 ISI_log_slope_1.5x\n",
      "0.08627 mean_frequency_1.5x\n",
      "0.4339 adaptation_index2_1.5x\n",
      "0.4696 ISI_CV_1.5x\n",
      "0.0 Spikecount_1.5x\n",
      "0.08468 all_ISI_values_1.5x\n",
      "0.07821 ISI_values_1.5x\n",
      "0.12 time_to_first_spike_1.5x\n",
      "0.07942 time_to_last_spike_1.5x\n",
      "0.1059 time_to_second_spike_1.5x\n",
      "0.005959 spike_0_1.5x\n",
      "0.008121 spike_1_1.5x\n",
      "0.005901 spike_2_1.5x\n",
      "0.02381 spike_3_1.5x\n",
      "0.04561 spike_4_1.5x\n",
      "0.06827 spike_5_1.5x\n",
      "0.2802 spike_6_1.5x\n",
      "0.5538 spike_7_1.5x\n",
      "0.05238 spike_8_1.5x\n"
     ]
    }
   ],
   "source": [
    "obnames = [obj.name for obj in cell_evaluator.objectives]\n",
    "\n",
    "for i,j in zip(fitnesses,obnames):\n",
    "    print(i,j)"
   ]
  },
  {
   "cell_type": "code",
   "execution_count": 28,
   "metadata": {},
   "outputs": [
    {
     "data": {
      "image/png": "[encoded data removed]",
      "text/plain": [
       "<Figure size 432x288 with 1 Axes>"
      ]
     },
     "metadata": {
      "needs_background": "light"
     },
     "output_type": "display_data"
    }
   ],
   "source": [
    "#for obj in cell_evaluator2.objectives:\n",
    "#    print(obj.name)\n",
    "\n",
    "gen_numbers = logs.select('gen')\n",
    "min_fitness = logs.select('min')\n",
    "max_fitness = logs.select('max')\n",
    "avg_fitness = logs.select('avg')\n",
    "plt.plot(gen_numbers, max_fitness, label='max fitness')\n",
    "plt.plot(gen_numbers, avg_fitness, label='avg fitness')\n",
    "plt.plot(gen_numbers, min_fitness, label='min fitness')\n",
    "\n",
    "plt.plot(gen_numbers, min_fitness, label='min fitness')\n",
    "plt.semilogy()\n",
    "plt.xlabel('generation #')\n",
    "plt.ylabel('score (# std)')\n",
    "plt.legend()\n",
    "plt.xlim(min(gen_numbers) - 1, max(gen_numbers) + 1)\n",
    "plt.show()"
   ]
  },
  {
   "cell_type": "code",
   "execution_count": 29,
   "metadata": {},
   "outputs": [
    {
     "data": {
      "text/plain": [
       "{'C': 24.877385939753886,\n",
       " 'k': 0.701736729600587,\n",
       " 'vr': -72.5569387714641,\n",
       " 'vt': -48.24807640755385,\n",
       " 'vPeak': 8.204029310331334,\n",
       " 'a': 0.1439912015070738,\n",
       " 'b': 9.798265835033085,\n",
       " 'c': -56.032507017662,\n",
       " 'd': -8.171044393184602,\n",
       " 'celltype': 7}"
      ]
     },
     "execution_count": 29,
     "metadata": {},
     "output_type": "execute_result"
    },
    {
     "data": {
      "image/png": "[encoded data removed]",
      "text/plain": [
       "<Figure size 432x288 with 1 Axes>"
      ]
     },
     "metadata": {
      "needs_background": "light"
     },
     "output_type": "display_data"
    }
   ],
   "source": [
    "opt.attrs\n",
    "\n",
    "model = opt.dtc_to_model()\n",
    "plt.plot(opt.vm15.times,opt.vm15)\n",
    "opt.vm15\n",
    "opt.attrs\n"
   ]
  },
  {
   "cell_type": "code",
   "execution_count": 30,
   "metadata": {},
   "outputs": [
    {
     "data": {
      "image/png": "[encoded data removed]",
      "text/plain": [
       "<Figure size 432x288 with 1 Axes>"
      ]
     },
     "metadata": {
      "needs_background": "light"
     },
     "output_type": "display_data"
    },
    {
     "data": {
      "text/plain": [
       "{'C': 24.877385939753886,\n",
       " 'k': 0.701736729600587,\n",
       " 'vr': -72.5569387714641,\n",
       " 'vt': -48.24807640755385,\n",
       " 'vPeak': 8.204029310331334,\n",
       " 'a': 0.1439912015070738,\n",
       " 'b': 9.798265835033085,\n",
       " 'c': -56.032507017662,\n",
       " 'd': -8.171044393184602,\n",
       " 'celltype': 7}"
      ]
     },
     "execution_count": 30,
     "metadata": {},
     "output_type": "execute_result"
    }
   ],
   "source": [
    "#check_bin_vm15(opt,opt)\n",
    "\n",
    "import matplotlib.pyplot as plt\n",
    "\n",
    "plt.plot(opt.vm15.times,opt.vm15)\n",
    "plt.show()\n",
    "\n",
    "\n",
    "#check_bin_vm30(target,target)\n",
    "\n",
    "opt.attrs\n"
   ]
  },
  {
   "cell_type": "code",
   "execution_count": 31,
   "metadata": {},
   "outputs": [
    {
     "data": {
      "text/plain": [
       "array(1.) * mV"
      ]
     },
     "execution_count": 31,
     "metadata": {},
     "output_type": "execute_result"
    }
   ],
   "source": [
    "opt.vm15.units\n",
    "\n",
    "#opt.vm15 = opt.vm15.rescale('mV').magnitude\n"
   ]
  },
  {
   "cell_type": "code",
   "execution_count": 32,
   "metadata": {},
   "outputs": [
    {
     "data": {
      "text/plain": [
       "{'value': array(209.17493939) * pA}"
      ]
     },
     "execution_count": 32,
     "metadata": {},
     "output_type": "execute_result"
    }
   ],
   "source": [
    "target_current"
   ]
  },
  {
   "cell_type": "code",
   "execution_count": 33,
   "metadata": {},
   "outputs": [
    {
     "data": {
      "image/png": "[encoded data removed]",
      "text/plain": [
       "<Figure size 432x288 with 1 Axes>"
      ]
     },
     "metadata": {
      "needs_background": "light"
     },
     "output_type": "display_data"
    }
   ],
   "source": [
    "#target.vm15\n",
    "target.vm15 = suite.traces['vm15']\n",
    "\n",
    "plt.plot(target.vm15.times,target.vm15)\n",
    "plt.show()\n"
   ]
  },
  {
   "cell_type": "code",
   "execution_count": 34,
   "metadata": {},
   "outputs": [
    {
     "data": {
      "image/png": "[encoded data removed]",
      "text/plain": [
       "<Figure size 432x288 with 1 Axes>"
      ]
     },
     "metadata": {
      "needs_background": "light"
     },
     "output_type": "display_data"
    },
    {
     "data": {
      "text/plain": [
       "{'C': 24.877385939753886,\n",
       " 'k': 0.701736729600587,\n",
       " 'vr': -72.5569387714641,\n",
       " 'vt': -48.24807640755385,\n",
       " 'vPeak': 8.204029310331334,\n",
       " 'a': 0.1439912015070738,\n",
       " 'b': 9.798265835033085,\n",
       " 'c': -56.032507017662,\n",
       " 'd': -8.171044393184602,\n",
       " 'celltype': 7}"
      ]
     },
     "execution_count": 34,
     "metadata": {},
     "output_type": "execute_result"
    }
   ],
   "source": [
    "target.vm15 = suite.traces['vm15']\n",
    "\n",
    "check_bin_vm15(target,opt)\n",
    "opt.attrs\n",
    "\n"
   ]
  },
  {
   "cell_type": "code",
   "execution_count": 35,
   "metadata": {},
   "outputs": [
    {
     "data": {
      "text/plain": [
       "\"\\nimport bluepyopt as bpop\\nfrom utils import dask_map_function\\noptimisation = bpop.optimisations.DEAPOptimisation(\\n        evaluator=cell_evaluator2,\\n        offspring_size = MU,\\n        map_function = dask_map_function,\\n        selector_name='IBEA',mutpb=0.1,cxpb=0.35,seeded_pop=[cp['final_pop'],cp['hall_of_fame']])#,seeded_current=target_current)\\nfinal_pop, hall_of_fame, logs, hist = optimisation.run(max_ngen=50)\\n\""
      ]
     },
     "execution_count": 35,
     "metadata": {},
     "output_type": "execute_result"
    }
   ],
   "source": [
    "'''\n",
    "import bluepyopt as bpop\n",
    "from utils import dask_map_function\n",
    "optimisation = bpop.optimisations.DEAPOptimisation(\n",
    "        evaluator=cell_evaluator2,\n",
    "        offspring_size = MU,\n",
    "        map_function = dask_map_function,\n",
    "        selector_name='IBEA',mutpb=0.1,cxpb=0.35,seeded_pop=[cp['final_pop'],cp['hall_of_fame']])#,seeded_current=target_current)\n",
    "final_pop, hall_of_fame, logs, hist = optimisation.run(max_ngen=50)\n",
    "'''"
   ]
  },
  {
   "cell_type": "code",
   "execution_count": null,
   "metadata": {},
   "outputs": [],
   "source": [
    "gen_numbers = logs.select('gen')\n",
    "min_fitness = logs.select('min')\n",
    "max_fitness = logs.select('max')\n",
    "avg_fitness = logs.select('avg')\n",
    "plt.plot(gen_numbers, max_fitness, label='max fitness')\n",
    "plt.plot(gen_numbers, avg_fitness, label='avg fitness')\n",
    "plt.plot(gen_numbers, min_fitness, label='min fitness')\n",
    "\n",
    "plt.plot(gen_numbers, min_fitness, label='min fitness')\n",
    "#plt.semilogy()\n",
    "plt.xlabel('generation #')\n",
    "plt.ylabel('score (# std)')\n",
    "plt.legend()\n",
    "plt.xlim(min(gen_numbers) - 1, max(gen_numbers) + 1)\n",
    "plt.show()\n"
   ]
  },
  {
   "cell_type": "code",
   "execution_count": null,
   "metadata": {},
   "outputs": [],
   "source": [
    "for obj in cell_evaluator2.objectives:\n",
    "    print(obj.name)\n"
   ]
  },
  {
   "cell_type": "code",
   "execution_count": null,
   "metadata": {},
   "outputs": [],
   "source": [
    "import efel\n",
    "simple_yes_list = list(efel.getFeatureNames())\n",
    "simple_yes_list"
   ]
  },
  {
   "cell_type": "markdown",
   "metadata": {},
   "source": [
    "'trace_check'"
   ]
  },
  {
   "cell_type": "raw",
   "metadata": {},
   "source": []
  }
 ],
 "metadata": {
  "kernelspec": {
   "display_name": "Python 3",
   "language": "python",
   "name": "python3"
  },
  "language_info": {
   "codemirror_mode": {
    "name": "ipython",
    "version": 3
   },
   "file_extension": ".py",
   "mimetype": "text/x-python",
   "name": "python",
   "nbconvert_exporter": "python",
   "pygments_lexer": "ipython3",
   "version": "3.7.4"
  }
 },
 "nbformat": 4,
 "nbformat_minor": 2
}
